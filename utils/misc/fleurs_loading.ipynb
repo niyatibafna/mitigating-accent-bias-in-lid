{
 "cells": [
  {
   "cell_type": "code",
   "execution_count": 1,
   "metadata": {},
   "outputs": [
    {
     "name": "stderr",
     "output_type": "stream",
     "text": [
      "/home/hltcoe/nbafna/.conda/envs/accent_bias/lib/python3.12/site-packages/datasets/load.py:1486: FutureWarning: The repository for google/fleurs contains custom code which must be executed to correctly load the dataset. You can inspect the repository content at https://hf.co/datasets/google/fleurs\n",
      "You can avoid this message in future by passing the argument `trust_remote_code=True`.\n",
      "Passing `trust_remote_code=True` will be mandatory to load this dataset from the next major release of `datasets`.\n",
      "  warnings.warn(\n"
     ]
    },
    {
     "data": {
      "application/vnd.jupyter.widget-view+json": {
       "model_id": "28babb87b6724aeca30aeaacc348189e",
       "version_major": 2,
       "version_minor": 0
      },
      "text/plain": [
       "Downloading builder script:   0%|          | 0.00/12.5k [00:00<?, ?B/s]"
      ]
     },
     "metadata": {},
     "output_type": "display_data"
    },
    {
     "data": {
      "application/vnd.jupyter.widget-view+json": {
       "model_id": "bf661898bcfe464f9fdf87421f5e81fd",
       "version_major": 2,
       "version_minor": 0
      },
      "text/plain": [
       "Downloading readme:   0%|          | 0.00/13.3k [00:00<?, ?B/s]"
      ]
     },
     "metadata": {},
     "output_type": "display_data"
    },
    {
     "name": "stderr",
     "output_type": "stream",
     "text": [
      "Repo card metadata block was not found. Setting CardData to empty.\n"
     ]
    },
    {
     "data": {
      "application/vnd.jupyter.widget-view+json": {
       "model_id": "7cbe8cc311604630b0853d58c478bb8c",
       "version_major": 2,
       "version_minor": 0
      },
      "text/plain": [
       "Downloading data:   0%|          | 0/102 [00:00<?, ?files/s]"
      ]
     },
     "metadata": {},
     "output_type": "display_data"
    },
    {
     "ename": "OSError",
     "evalue": "[Errno 28] No space left on device",
     "output_type": "error",
     "traceback": [
      "\u001b[0;31m---------------------------------------------------------------------------\u001b[0m",
      "\u001b[0;31mOSError\u001b[0m                                   Traceback (most recent call last)",
      "File \u001b[0;32m~/.conda/envs/accent_bias/lib/python3.12/site-packages/datasets/utils/file_utils.py:659\u001b[0m, in \u001b[0;36mget_from_cache.<locals>.temp_file_manager\u001b[0;34m(mode)\u001b[0m\n\u001b[1;32m    658\u001b[0m \u001b[38;5;28;01mwith\u001b[39;00m \u001b[38;5;28mopen\u001b[39m(incomplete_path, mode) \u001b[38;5;28;01mas\u001b[39;00m f:\n\u001b[0;32m--> 659\u001b[0m     \u001b[38;5;28;01myield\u001b[39;00m f\n",
      "File \u001b[0;32m~/.conda/envs/accent_bias/lib/python3.12/site-packages/datasets/utils/file_utils.py:680\u001b[0m, in \u001b[0;36mget_from_cache\u001b[0;34m(url, cache_dir, force_download, proxies, etag_timeout, resume_download, user_agent, local_files_only, use_etag, max_retries, token, use_auth_token, ignore_url_params, storage_options, download_desc, disable_tqdm)\u001b[0m\n\u001b[1;32m    679\u001b[0m     \u001b[38;5;28;01melse\u001b[39;00m:\n\u001b[0;32m--> 680\u001b[0m         \u001b[43mhttp_get\u001b[49m\u001b[43m(\u001b[49m\n\u001b[1;32m    681\u001b[0m \u001b[43m            \u001b[49m\u001b[43murl\u001b[49m\u001b[43m,\u001b[49m\n\u001b[1;32m    682\u001b[0m \u001b[43m            \u001b[49m\u001b[43mtemp_file\u001b[49m\u001b[38;5;241;43m=\u001b[39;49m\u001b[43mtemp_file\u001b[49m\u001b[43m,\u001b[49m\n\u001b[1;32m    683\u001b[0m \u001b[43m            \u001b[49m\u001b[43mproxies\u001b[49m\u001b[38;5;241;43m=\u001b[39;49m\u001b[43mproxies\u001b[49m\u001b[43m,\u001b[49m\n\u001b[1;32m    684\u001b[0m \u001b[43m            \u001b[49m\u001b[43mresume_size\u001b[49m\u001b[38;5;241;43m=\u001b[39;49m\u001b[43mresume_size\u001b[49m\u001b[43m,\u001b[49m\n\u001b[1;32m    685\u001b[0m \u001b[43m            \u001b[49m\u001b[43mheaders\u001b[49m\u001b[38;5;241;43m=\u001b[39;49m\u001b[43mheaders\u001b[49m\u001b[43m,\u001b[49m\n\u001b[1;32m    686\u001b[0m \u001b[43m            \u001b[49m\u001b[43mcookies\u001b[49m\u001b[38;5;241;43m=\u001b[39;49m\u001b[43mcookies\u001b[49m\u001b[43m,\u001b[49m\n\u001b[1;32m    687\u001b[0m \u001b[43m            \u001b[49m\u001b[43mmax_retries\u001b[49m\u001b[38;5;241;43m=\u001b[39;49m\u001b[43mmax_retries\u001b[49m\u001b[43m,\u001b[49m\n\u001b[1;32m    688\u001b[0m \u001b[43m            \u001b[49m\u001b[43mdesc\u001b[49m\u001b[38;5;241;43m=\u001b[39;49m\u001b[43mdownload_desc\u001b[49m\u001b[43m,\u001b[49m\n\u001b[1;32m    689\u001b[0m \u001b[43m            \u001b[49m\u001b[43mdisable_tqdm\u001b[49m\u001b[38;5;241;43m=\u001b[39;49m\u001b[43mdisable_tqdm\u001b[49m\u001b[43m,\u001b[49m\n\u001b[1;32m    690\u001b[0m \u001b[43m        \u001b[49m\u001b[43m)\u001b[49m\n\u001b[1;32m    692\u001b[0m logger\u001b[38;5;241m.\u001b[39minfo(\u001b[38;5;124mf\u001b[39m\u001b[38;5;124m\"\u001b[39m\u001b[38;5;124mstoring \u001b[39m\u001b[38;5;132;01m{\u001b[39;00murl\u001b[38;5;132;01m}\u001b[39;00m\u001b[38;5;124m in cache at \u001b[39m\u001b[38;5;132;01m{\u001b[39;00mcache_path\u001b[38;5;132;01m}\u001b[39;00m\u001b[38;5;124m\"\u001b[39m)\n",
      "File \u001b[0;32m~/.conda/envs/accent_bias/lib/python3.12/site-packages/datasets/utils/file_utils.py:454\u001b[0m, in \u001b[0;36mhttp_get\u001b[0;34m(url, temp_file, proxies, resume_size, headers, cookies, timeout, max_retries, desc, disable_tqdm)\u001b[0m\n\u001b[1;32m    453\u001b[0m progress\u001b[38;5;241m.\u001b[39mupdate(\u001b[38;5;28mlen\u001b[39m(chunk))\n\u001b[0;32m--> 454\u001b[0m \u001b[43mtemp_file\u001b[49m\u001b[38;5;241;43m.\u001b[39;49m\u001b[43mwrite\u001b[49m\u001b[43m(\u001b[49m\u001b[43mchunk\u001b[49m\u001b[43m)\u001b[49m\n",
      "\u001b[0;31mOSError\u001b[0m: [Errno 28] No space left on device",
      "\nDuring handling of the above exception, another exception occurred:\n",
      "\u001b[0;31mOSError\u001b[0m                                   Traceback (most recent call last)",
      "Cell \u001b[0;32mIn[1], line 3\u001b[0m\n\u001b[1;32m      1\u001b[0m \u001b[38;5;28;01mfrom\u001b[39;00m\u001b[38;5;250m \u001b[39m\u001b[38;5;21;01mdatasets\u001b[39;00m\u001b[38;5;250m \u001b[39m\u001b[38;5;28;01mimport\u001b[39;00m load_dataset\n\u001b[0;32m----> 3\u001b[0m fleurs_langID \u001b[38;5;241m=\u001b[39m \u001b[43mload_dataset\u001b[49m\u001b[43m(\u001b[49m\u001b[38;5;124;43m\"\u001b[39;49m\u001b[38;5;124;43mgoogle/fleurs\u001b[39;49m\u001b[38;5;124;43m\"\u001b[39;49m\u001b[43m,\u001b[49m\u001b[43m \u001b[49m\u001b[38;5;124;43m\"\u001b[39;49m\u001b[38;5;124;43mall\u001b[39;49m\u001b[38;5;124;43m\"\u001b[39;49m\u001b[43m)\u001b[49m \u001b[38;5;66;03m# to download all data\u001b[39;00m\n\u001b[1;32m      5\u001b[0m \u001b[38;5;66;03m# see structure\u001b[39;00m\n\u001b[1;32m      6\u001b[0m \u001b[38;5;28mprint\u001b[39m(fleurs_langID)\n",
      "File \u001b[0;32m~/.conda/envs/accent_bias/lib/python3.12/site-packages/datasets/load.py:2609\u001b[0m, in \u001b[0;36mload_dataset\u001b[0;34m(path, name, data_dir, data_files, split, cache_dir, features, download_config, download_mode, verification_mode, ignore_verifications, keep_in_memory, save_infos, revision, token, use_auth_token, task, streaming, num_proc, storage_options, trust_remote_code, **config_kwargs)\u001b[0m\n\u001b[1;32m   2606\u001b[0m     \u001b[38;5;28;01mreturn\u001b[39;00m builder_instance\u001b[38;5;241m.\u001b[39mas_streaming_dataset(split\u001b[38;5;241m=\u001b[39msplit)\n\u001b[1;32m   2608\u001b[0m \u001b[38;5;66;03m# Download and prepare data\u001b[39;00m\n\u001b[0;32m-> 2609\u001b[0m \u001b[43mbuilder_instance\u001b[49m\u001b[38;5;241;43m.\u001b[39;49m\u001b[43mdownload_and_prepare\u001b[49m\u001b[43m(\u001b[49m\n\u001b[1;32m   2610\u001b[0m \u001b[43m    \u001b[49m\u001b[43mdownload_config\u001b[49m\u001b[38;5;241;43m=\u001b[39;49m\u001b[43mdownload_config\u001b[49m\u001b[43m,\u001b[49m\n\u001b[1;32m   2611\u001b[0m \u001b[43m    \u001b[49m\u001b[43mdownload_mode\u001b[49m\u001b[38;5;241;43m=\u001b[39;49m\u001b[43mdownload_mode\u001b[49m\u001b[43m,\u001b[49m\n\u001b[1;32m   2612\u001b[0m \u001b[43m    \u001b[49m\u001b[43mverification_mode\u001b[49m\u001b[38;5;241;43m=\u001b[39;49m\u001b[43mverification_mode\u001b[49m\u001b[43m,\u001b[49m\n\u001b[1;32m   2613\u001b[0m \u001b[43m    \u001b[49m\u001b[43mnum_proc\u001b[49m\u001b[38;5;241;43m=\u001b[39;49m\u001b[43mnum_proc\u001b[49m\u001b[43m,\u001b[49m\n\u001b[1;32m   2614\u001b[0m \u001b[43m    \u001b[49m\u001b[43mstorage_options\u001b[49m\u001b[38;5;241;43m=\u001b[39;49m\u001b[43mstorage_options\u001b[49m\u001b[43m,\u001b[49m\n\u001b[1;32m   2615\u001b[0m \u001b[43m\u001b[49m\u001b[43m)\u001b[49m\n\u001b[1;32m   2617\u001b[0m \u001b[38;5;66;03m# Build dataset for splits\u001b[39;00m\n\u001b[1;32m   2618\u001b[0m keep_in_memory \u001b[38;5;241m=\u001b[39m (\n\u001b[1;32m   2619\u001b[0m     keep_in_memory \u001b[38;5;28;01mif\u001b[39;00m keep_in_memory \u001b[38;5;129;01mis\u001b[39;00m \u001b[38;5;129;01mnot\u001b[39;00m \u001b[38;5;28;01mNone\u001b[39;00m \u001b[38;5;28;01melse\u001b[39;00m is_small_dataset(builder_instance\u001b[38;5;241m.\u001b[39minfo\u001b[38;5;241m.\u001b[39mdataset_size)\n\u001b[1;32m   2620\u001b[0m )\n",
      "File \u001b[0;32m~/.conda/envs/accent_bias/lib/python3.12/site-packages/datasets/builder.py:1027\u001b[0m, in \u001b[0;36mDatasetBuilder.download_and_prepare\u001b[0;34m(self, output_dir, download_config, download_mode, verification_mode, ignore_verifications, try_from_hf_gcs, dl_manager, base_path, use_auth_token, file_format, max_shard_size, num_proc, storage_options, **download_and_prepare_kwargs)\u001b[0m\n\u001b[1;32m   1025\u001b[0m     \u001b[38;5;28;01mif\u001b[39;00m num_proc \u001b[38;5;129;01mis\u001b[39;00m \u001b[38;5;129;01mnot\u001b[39;00m \u001b[38;5;28;01mNone\u001b[39;00m:\n\u001b[1;32m   1026\u001b[0m         prepare_split_kwargs[\u001b[38;5;124m\"\u001b[39m\u001b[38;5;124mnum_proc\u001b[39m\u001b[38;5;124m\"\u001b[39m] \u001b[38;5;241m=\u001b[39m num_proc\n\u001b[0;32m-> 1027\u001b[0m     \u001b[38;5;28;43mself\u001b[39;49m\u001b[38;5;241;43m.\u001b[39;49m\u001b[43m_download_and_prepare\u001b[49m\u001b[43m(\u001b[49m\n\u001b[1;32m   1028\u001b[0m \u001b[43m        \u001b[49m\u001b[43mdl_manager\u001b[49m\u001b[38;5;241;43m=\u001b[39;49m\u001b[43mdl_manager\u001b[49m\u001b[43m,\u001b[49m\n\u001b[1;32m   1029\u001b[0m \u001b[43m        \u001b[49m\u001b[43mverification_mode\u001b[49m\u001b[38;5;241;43m=\u001b[39;49m\u001b[43mverification_mode\u001b[49m\u001b[43m,\u001b[49m\n\u001b[1;32m   1030\u001b[0m \u001b[43m        \u001b[49m\u001b[38;5;241;43m*\u001b[39;49m\u001b[38;5;241;43m*\u001b[39;49m\u001b[43mprepare_split_kwargs\u001b[49m\u001b[43m,\u001b[49m\n\u001b[1;32m   1031\u001b[0m \u001b[43m        \u001b[49m\u001b[38;5;241;43m*\u001b[39;49m\u001b[38;5;241;43m*\u001b[39;49m\u001b[43mdownload_and_prepare_kwargs\u001b[49m\u001b[43m,\u001b[49m\n\u001b[1;32m   1032\u001b[0m \u001b[43m    \u001b[49m\u001b[43m)\u001b[49m\n\u001b[1;32m   1033\u001b[0m \u001b[38;5;66;03m# Sync info\u001b[39;00m\n\u001b[1;32m   1034\u001b[0m \u001b[38;5;28mself\u001b[39m\u001b[38;5;241m.\u001b[39minfo\u001b[38;5;241m.\u001b[39mdataset_size \u001b[38;5;241m=\u001b[39m \u001b[38;5;28msum\u001b[39m(split\u001b[38;5;241m.\u001b[39mnum_bytes \u001b[38;5;28;01mfor\u001b[39;00m split \u001b[38;5;129;01min\u001b[39;00m \u001b[38;5;28mself\u001b[39m\u001b[38;5;241m.\u001b[39minfo\u001b[38;5;241m.\u001b[39msplits\u001b[38;5;241m.\u001b[39mvalues())\n",
      "File \u001b[0;32m~/.conda/envs/accent_bias/lib/python3.12/site-packages/datasets/builder.py:1789\u001b[0m, in \u001b[0;36mGeneratorBasedBuilder._download_and_prepare\u001b[0;34m(self, dl_manager, verification_mode, **prepare_splits_kwargs)\u001b[0m\n\u001b[1;32m   1788\u001b[0m \u001b[38;5;28;01mdef\u001b[39;00m\u001b[38;5;250m \u001b[39m\u001b[38;5;21m_download_and_prepare\u001b[39m(\u001b[38;5;28mself\u001b[39m, dl_manager, verification_mode, \u001b[38;5;241m*\u001b[39m\u001b[38;5;241m*\u001b[39mprepare_splits_kwargs):\n\u001b[0;32m-> 1789\u001b[0m     \u001b[38;5;28;43msuper\u001b[39;49m\u001b[43m(\u001b[49m\u001b[43m)\u001b[49m\u001b[38;5;241;43m.\u001b[39;49m\u001b[43m_download_and_prepare\u001b[49m\u001b[43m(\u001b[49m\n\u001b[1;32m   1790\u001b[0m \u001b[43m        \u001b[49m\u001b[43mdl_manager\u001b[49m\u001b[43m,\u001b[49m\n\u001b[1;32m   1791\u001b[0m \u001b[43m        \u001b[49m\u001b[43mverification_mode\u001b[49m\u001b[43m,\u001b[49m\n\u001b[1;32m   1792\u001b[0m \u001b[43m        \u001b[49m\u001b[43mcheck_duplicate_keys\u001b[49m\u001b[38;5;241;43m=\u001b[39;49m\u001b[43mverification_mode\u001b[49m\u001b[43m \u001b[49m\u001b[38;5;241;43m==\u001b[39;49m\u001b[43m \u001b[49m\u001b[43mVerificationMode\u001b[49m\u001b[38;5;241;43m.\u001b[39;49m\u001b[43mBASIC_CHECKS\u001b[49m\n\u001b[1;32m   1793\u001b[0m \u001b[43m        \u001b[49m\u001b[38;5;129;43;01mor\u001b[39;49;00m\u001b[43m \u001b[49m\u001b[43mverification_mode\u001b[49m\u001b[43m \u001b[49m\u001b[38;5;241;43m==\u001b[39;49m\u001b[43m \u001b[49m\u001b[43mVerificationMode\u001b[49m\u001b[38;5;241;43m.\u001b[39;49m\u001b[43mALL_CHECKS\u001b[49m\u001b[43m,\u001b[49m\n\u001b[1;32m   1794\u001b[0m \u001b[43m        \u001b[49m\u001b[38;5;241;43m*\u001b[39;49m\u001b[38;5;241;43m*\u001b[39;49m\u001b[43mprepare_splits_kwargs\u001b[49m\u001b[43m,\u001b[49m\n\u001b[1;32m   1795\u001b[0m \u001b[43m    \u001b[49m\u001b[43m)\u001b[49m\n",
      "File \u001b[0;32m~/.conda/envs/accent_bias/lib/python3.12/site-packages/datasets/builder.py:1100\u001b[0m, in \u001b[0;36mDatasetBuilder._download_and_prepare\u001b[0;34m(self, dl_manager, verification_mode, **prepare_split_kwargs)\u001b[0m\n\u001b[1;32m   1098\u001b[0m split_dict \u001b[38;5;241m=\u001b[39m SplitDict(dataset_name\u001b[38;5;241m=\u001b[39m\u001b[38;5;28mself\u001b[39m\u001b[38;5;241m.\u001b[39mdataset_name)\n\u001b[1;32m   1099\u001b[0m split_generators_kwargs \u001b[38;5;241m=\u001b[39m \u001b[38;5;28mself\u001b[39m\u001b[38;5;241m.\u001b[39m_make_split_generators_kwargs(prepare_split_kwargs)\n\u001b[0;32m-> 1100\u001b[0m split_generators \u001b[38;5;241m=\u001b[39m \u001b[38;5;28;43mself\u001b[39;49m\u001b[38;5;241;43m.\u001b[39;49m\u001b[43m_split_generators\u001b[49m\u001b[43m(\u001b[49m\u001b[43mdl_manager\u001b[49m\u001b[43m,\u001b[49m\u001b[43m \u001b[49m\u001b[38;5;241;43m*\u001b[39;49m\u001b[38;5;241;43m*\u001b[39;49m\u001b[43msplit_generators_kwargs\u001b[49m\u001b[43m)\u001b[49m\n\u001b[1;32m   1102\u001b[0m \u001b[38;5;66;03m# Checksums verification\u001b[39;00m\n\u001b[1;32m   1103\u001b[0m \u001b[38;5;28;01mif\u001b[39;00m verification_mode \u001b[38;5;241m==\u001b[39m VerificationMode\u001b[38;5;241m.\u001b[39mALL_CHECKS \u001b[38;5;129;01mand\u001b[39;00m dl_manager\u001b[38;5;241m.\u001b[39mrecord_checksums:\n",
      "File \u001b[0;32m/exp/nbafna/.cache/huggingface/modules/datasets_modules/datasets/google--fleurs/80cb68d1b4d319aefbd8ea302274d3950d95f6242f0742c1452d1545c80a2d5f/fleurs.py:135\u001b[0m, in \u001b[0;36mFleurs._split_generators\u001b[0;34m(self, dl_manager)\u001b[0m\n\u001b[1;32m    132\u001b[0m     data_urls \u001b[38;5;241m=\u001b[39m {split: [_DATA_URL\u001b[38;5;241m.\u001b[39mformat(langs\u001b[38;5;241m=\u001b[39m\u001b[38;5;28mself\u001b[39m\u001b[38;5;241m.\u001b[39mconfig\u001b[38;5;241m.\u001b[39mname, split\u001b[38;5;241m=\u001b[39msplit)] \u001b[38;5;28;01mfor\u001b[39;00m split \u001b[38;5;129;01min\u001b[39;00m splits}\n\u001b[1;32m    133\u001b[0m     meta_urls \u001b[38;5;241m=\u001b[39m {split: [_META_URL\u001b[38;5;241m.\u001b[39mformat(langs\u001b[38;5;241m=\u001b[39m\u001b[38;5;28mself\u001b[39m\u001b[38;5;241m.\u001b[39mconfig\u001b[38;5;241m.\u001b[39mname, split\u001b[38;5;241m=\u001b[39msplit)] \u001b[38;5;28;01mfor\u001b[39;00m split \u001b[38;5;129;01min\u001b[39;00m splits}\n\u001b[0;32m--> 135\u001b[0m archive_paths \u001b[38;5;241m=\u001b[39m \u001b[43mdl_manager\u001b[49m\u001b[38;5;241;43m.\u001b[39;49m\u001b[43mdownload\u001b[49m\u001b[43m(\u001b[49m\u001b[43mdata_urls\u001b[49m\u001b[43m)\u001b[49m\n\u001b[1;32m    136\u001b[0m local_extracted_archives \u001b[38;5;241m=\u001b[39m dl_manager\u001b[38;5;241m.\u001b[39mextract(archive_paths) \u001b[38;5;28;01mif\u001b[39;00m \u001b[38;5;129;01mnot\u001b[39;00m dl_manager\u001b[38;5;241m.\u001b[39mis_streaming \u001b[38;5;28;01melse\u001b[39;00m {}\n\u001b[1;32m    137\u001b[0m archive_iters \u001b[38;5;241m=\u001b[39m {split: [dl_manager\u001b[38;5;241m.\u001b[39miter_archive(path) \u001b[38;5;28;01mfor\u001b[39;00m path \u001b[38;5;129;01min\u001b[39;00m paths] \u001b[38;5;28;01mfor\u001b[39;00m split, paths \u001b[38;5;129;01min\u001b[39;00m archive_paths\u001b[38;5;241m.\u001b[39mitems()}\n",
      "File \u001b[0;32m~/.conda/envs/accent_bias/lib/python3.12/site-packages/datasets/download/download_manager.py:257\u001b[0m, in \u001b[0;36mDownloadManager.download\u001b[0;34m(self, url_or_urls)\u001b[0m\n\u001b[1;32m    255\u001b[0m start_time \u001b[38;5;241m=\u001b[39m datetime\u001b[38;5;241m.\u001b[39mnow()\n\u001b[1;32m    256\u001b[0m \u001b[38;5;28;01mwith\u001b[39;00m stack_multiprocessing_download_progress_bars():\n\u001b[0;32m--> 257\u001b[0m     downloaded_path_or_paths \u001b[38;5;241m=\u001b[39m \u001b[43mmap_nested\u001b[49m\u001b[43m(\u001b[49m\n\u001b[1;32m    258\u001b[0m \u001b[43m        \u001b[49m\u001b[43mdownload_func\u001b[49m\u001b[43m,\u001b[49m\n\u001b[1;32m    259\u001b[0m \u001b[43m        \u001b[49m\u001b[43murl_or_urls\u001b[49m\u001b[43m,\u001b[49m\n\u001b[1;32m    260\u001b[0m \u001b[43m        \u001b[49m\u001b[43mmap_tuple\u001b[49m\u001b[38;5;241;43m=\u001b[39;49m\u001b[38;5;28;43;01mTrue\u001b[39;49;00m\u001b[43m,\u001b[49m\n\u001b[1;32m    261\u001b[0m \u001b[43m        \u001b[49m\u001b[43mnum_proc\u001b[49m\u001b[38;5;241;43m=\u001b[39;49m\u001b[43mdownload_config\u001b[49m\u001b[38;5;241;43m.\u001b[39;49m\u001b[43mnum_proc\u001b[49m\u001b[43m,\u001b[49m\n\u001b[1;32m    262\u001b[0m \u001b[43m        \u001b[49m\u001b[43mdesc\u001b[49m\u001b[38;5;241;43m=\u001b[39;49m\u001b[38;5;124;43m\"\u001b[39;49m\u001b[38;5;124;43mDownloading data files\u001b[39;49m\u001b[38;5;124;43m\"\u001b[39;49m\u001b[43m,\u001b[49m\n\u001b[1;32m    263\u001b[0m \u001b[43m        \u001b[49m\u001b[43mbatched\u001b[49m\u001b[38;5;241;43m=\u001b[39;49m\u001b[38;5;28;43;01mTrue\u001b[39;49;00m\u001b[43m,\u001b[49m\n\u001b[1;32m    264\u001b[0m \u001b[43m        \u001b[49m\u001b[43mbatch_size\u001b[49m\u001b[38;5;241;43m=\u001b[39;49m\u001b[38;5;241;43m-\u001b[39;49m\u001b[38;5;241;43m1\u001b[39;49m\u001b[43m,\u001b[49m\n\u001b[1;32m    265\u001b[0m \u001b[43m    \u001b[49m\u001b[43m)\u001b[49m\n\u001b[1;32m    266\u001b[0m duration \u001b[38;5;241m=\u001b[39m datetime\u001b[38;5;241m.\u001b[39mnow() \u001b[38;5;241m-\u001b[39m start_time\n\u001b[1;32m    267\u001b[0m logger\u001b[38;5;241m.\u001b[39minfo(\u001b[38;5;124mf\u001b[39m\u001b[38;5;124m\"\u001b[39m\u001b[38;5;124mDownloading took \u001b[39m\u001b[38;5;132;01m{\u001b[39;00mduration\u001b[38;5;241m.\u001b[39mtotal_seconds()\u001b[38;5;250m \u001b[39m\u001b[38;5;241m/\u001b[39m\u001b[38;5;241m/\u001b[39m\u001b[38;5;250m \u001b[39m\u001b[38;5;241m60\u001b[39m\u001b[38;5;132;01m}\u001b[39;00m\u001b[38;5;124m min\u001b[39m\u001b[38;5;124m\"\u001b[39m)\n",
      "File \u001b[0;32m~/.conda/envs/accent_bias/lib/python3.12/site-packages/datasets/utils/py_utils.py:495\u001b[0m, in \u001b[0;36mmap_nested\u001b[0;34m(function, data_struct, dict_only, map_list, map_tuple, map_numpy, num_proc, parallel_min_length, batched, batch_size, types, disable_tqdm, desc)\u001b[0m\n\u001b[1;32m    492\u001b[0m     num_proc \u001b[38;5;241m=\u001b[39m \u001b[38;5;241m1\u001b[39m\n\u001b[1;32m    493\u001b[0m \u001b[38;5;28;01mif\u001b[39;00m \u001b[38;5;28many\u001b[39m(\u001b[38;5;28misinstance\u001b[39m(v, types) \u001b[38;5;129;01mand\u001b[39;00m \u001b[38;5;28mlen\u001b[39m(v) \u001b[38;5;241m>\u001b[39m \u001b[38;5;28mlen\u001b[39m(iterable) \u001b[38;5;28;01mfor\u001b[39;00m v \u001b[38;5;129;01min\u001b[39;00m iterable):\n\u001b[1;32m    494\u001b[0m     mapped \u001b[38;5;241m=\u001b[39m [\n\u001b[0;32m--> 495\u001b[0m         \u001b[43mmap_nested\u001b[49m\u001b[43m(\u001b[49m\n\u001b[1;32m    496\u001b[0m \u001b[43m            \u001b[49m\u001b[43mfunction\u001b[49m\u001b[38;5;241;43m=\u001b[39;49m\u001b[43mfunction\u001b[49m\u001b[43m,\u001b[49m\n\u001b[1;32m    497\u001b[0m \u001b[43m            \u001b[49m\u001b[43mdata_struct\u001b[49m\u001b[38;5;241;43m=\u001b[39;49m\u001b[43mobj\u001b[49m\u001b[43m,\u001b[49m\n\u001b[1;32m    498\u001b[0m \u001b[43m            \u001b[49m\u001b[43mnum_proc\u001b[49m\u001b[38;5;241;43m=\u001b[39;49m\u001b[43mnum_proc\u001b[49m\u001b[43m,\u001b[49m\n\u001b[1;32m    499\u001b[0m \u001b[43m            \u001b[49m\u001b[43mparallel_min_length\u001b[49m\u001b[38;5;241;43m=\u001b[39;49m\u001b[43mparallel_min_length\u001b[49m\u001b[43m,\u001b[49m\n\u001b[1;32m    500\u001b[0m \u001b[43m            \u001b[49m\u001b[43mbatched\u001b[49m\u001b[38;5;241;43m=\u001b[39;49m\u001b[43mbatched\u001b[49m\u001b[43m,\u001b[49m\n\u001b[1;32m    501\u001b[0m \u001b[43m            \u001b[49m\u001b[43mbatch_size\u001b[49m\u001b[38;5;241;43m=\u001b[39;49m\u001b[43mbatch_size\u001b[49m\u001b[43m,\u001b[49m\n\u001b[1;32m    502\u001b[0m \u001b[43m            \u001b[49m\u001b[43mtypes\u001b[49m\u001b[38;5;241;43m=\u001b[39;49m\u001b[43mtypes\u001b[49m\u001b[43m,\u001b[49m\n\u001b[1;32m    503\u001b[0m \u001b[43m        \u001b[49m\u001b[43m)\u001b[49m\n\u001b[1;32m    504\u001b[0m         \u001b[38;5;28;01mfor\u001b[39;00m obj \u001b[38;5;129;01min\u001b[39;00m iterable\n\u001b[1;32m    505\u001b[0m     ]\n\u001b[1;32m    506\u001b[0m \u001b[38;5;28;01melif\u001b[39;00m num_proc \u001b[38;5;241m!=\u001b[39m \u001b[38;5;241m-\u001b[39m\u001b[38;5;241m1\u001b[39m \u001b[38;5;129;01mand\u001b[39;00m num_proc \u001b[38;5;241m<\u001b[39m\u001b[38;5;241m=\u001b[39m \u001b[38;5;241m1\u001b[39m \u001b[38;5;129;01mor\u001b[39;00m \u001b[38;5;28mlen\u001b[39m(iterable) \u001b[38;5;241m<\u001b[39m parallel_min_length:\n\u001b[1;32m    507\u001b[0m     \u001b[38;5;28;01mif\u001b[39;00m batched:\n",
      "File \u001b[0;32m~/.conda/envs/accent_bias/lib/python3.12/site-packages/datasets/utils/py_utils.py:512\u001b[0m, in \u001b[0;36mmap_nested\u001b[0;34m(function, data_struct, dict_only, map_list, map_tuple, map_numpy, num_proc, parallel_min_length, batched, batch_size, types, disable_tqdm, desc)\u001b[0m\n\u001b[1;32m    509\u001b[0m         batch_size \u001b[38;5;241m=\u001b[39m \u001b[38;5;28mmax\u001b[39m(\u001b[38;5;28mlen\u001b[39m(iterable) \u001b[38;5;241m/\u001b[39m\u001b[38;5;241m/\u001b[39m num_proc \u001b[38;5;241m+\u001b[39m \u001b[38;5;28mint\u001b[39m(\u001b[38;5;28mlen\u001b[39m(iterable) \u001b[38;5;241m%\u001b[39m num_proc \u001b[38;5;241m>\u001b[39m \u001b[38;5;241m0\u001b[39m), \u001b[38;5;241m1\u001b[39m)\n\u001b[1;32m    510\u001b[0m     iterable \u001b[38;5;241m=\u001b[39m \u001b[38;5;28mlist\u001b[39m(iter_batched(iterable, batch_size))\n\u001b[1;32m    511\u001b[0m mapped \u001b[38;5;241m=\u001b[39m [\n\u001b[0;32m--> 512\u001b[0m     \u001b[43m_single_map_nested\u001b[49m\u001b[43m(\u001b[49m\u001b[43m(\u001b[49m\u001b[43mfunction\u001b[49m\u001b[43m,\u001b[49m\u001b[43m \u001b[49m\u001b[43mobj\u001b[49m\u001b[43m,\u001b[49m\u001b[43m \u001b[49m\u001b[43mbatched\u001b[49m\u001b[43m,\u001b[49m\u001b[43m \u001b[49m\u001b[43mbatch_size\u001b[49m\u001b[43m,\u001b[49m\u001b[43m \u001b[49m\u001b[43mtypes\u001b[49m\u001b[43m,\u001b[49m\u001b[43m \u001b[49m\u001b[38;5;28;43;01mNone\u001b[39;49;00m\u001b[43m,\u001b[49m\u001b[43m \u001b[49m\u001b[38;5;28;43;01mTrue\u001b[39;49;00m\u001b[43m,\u001b[49m\u001b[43m \u001b[49m\u001b[38;5;28;43;01mNone\u001b[39;49;00m\u001b[43m)\u001b[49m\u001b[43m)\u001b[49m\n\u001b[1;32m    513\u001b[0m     \u001b[38;5;28;01mfor\u001b[39;00m obj \u001b[38;5;129;01min\u001b[39;00m hf_tqdm(iterable, disable\u001b[38;5;241m=\u001b[39mdisable_tqdm, desc\u001b[38;5;241m=\u001b[39mdesc)\n\u001b[1;32m    514\u001b[0m ]\n\u001b[1;32m    515\u001b[0m \u001b[38;5;28;01mif\u001b[39;00m batched:\n\u001b[1;32m    516\u001b[0m     mapped \u001b[38;5;241m=\u001b[39m [mapped_item \u001b[38;5;28;01mfor\u001b[39;00m mapped_batch \u001b[38;5;129;01min\u001b[39;00m mapped \u001b[38;5;28;01mfor\u001b[39;00m mapped_item \u001b[38;5;129;01min\u001b[39;00m mapped_batch]\n",
      "File \u001b[0;32m~/.conda/envs/accent_bias/lib/python3.12/site-packages/datasets/utils/py_utils.py:380\u001b[0m, in \u001b[0;36m_single_map_nested\u001b[0;34m(args)\u001b[0m\n\u001b[1;32m    373\u001b[0m         \u001b[38;5;28;01mreturn\u001b[39;00m function(data_struct)\n\u001b[1;32m    374\u001b[0m \u001b[38;5;28;01mif\u001b[39;00m (\n\u001b[1;32m    375\u001b[0m     batched\n\u001b[1;32m    376\u001b[0m     \u001b[38;5;129;01mand\u001b[39;00m \u001b[38;5;129;01mnot\u001b[39;00m \u001b[38;5;28misinstance\u001b[39m(data_struct, \u001b[38;5;28mdict\u001b[39m)\n\u001b[1;32m    377\u001b[0m     \u001b[38;5;129;01mand\u001b[39;00m \u001b[38;5;28misinstance\u001b[39m(data_struct, types)\n\u001b[1;32m    378\u001b[0m     \u001b[38;5;129;01mand\u001b[39;00m \u001b[38;5;28mall\u001b[39m(\u001b[38;5;129;01mnot\u001b[39;00m \u001b[38;5;28misinstance\u001b[39m(v, (\u001b[38;5;28mdict\u001b[39m, types)) \u001b[38;5;28;01mfor\u001b[39;00m v \u001b[38;5;129;01min\u001b[39;00m data_struct)\n\u001b[1;32m    379\u001b[0m ):\n\u001b[0;32m--> 380\u001b[0m     \u001b[38;5;28;01mreturn\u001b[39;00m [mapped_item \u001b[38;5;28;01mfor\u001b[39;00m batch \u001b[38;5;129;01min\u001b[39;00m iter_batched(data_struct, batch_size) \u001b[38;5;28;01mfor\u001b[39;00m mapped_item \u001b[38;5;129;01min\u001b[39;00m \u001b[43mfunction\u001b[49m\u001b[43m(\u001b[49m\u001b[43mbatch\u001b[49m\u001b[43m)\u001b[49m]\n\u001b[1;32m    382\u001b[0m \u001b[38;5;66;03m# Reduce logging to keep things readable in multiprocessing with tqdm\u001b[39;00m\n\u001b[1;32m    383\u001b[0m \u001b[38;5;28;01mif\u001b[39;00m rank \u001b[38;5;129;01mis\u001b[39;00m \u001b[38;5;129;01mnot\u001b[39;00m \u001b[38;5;28;01mNone\u001b[39;00m \u001b[38;5;129;01mand\u001b[39;00m logging\u001b[38;5;241m.\u001b[39mget_verbosity() \u001b[38;5;241m<\u001b[39m logging\u001b[38;5;241m.\u001b[39mWARNING:\n",
      "File \u001b[0;32m~/.conda/envs/accent_bias/lib/python3.12/site-packages/datasets/download/download_manager.py:300\u001b[0m, in \u001b[0;36mDownloadManager._download_batched\u001b[0;34m(self, url_or_filenames, download_config)\u001b[0m\n\u001b[1;32m    295\u001b[0m         \u001b[38;5;28;01mpass\u001b[39;00m\n\u001b[1;32m    296\u001b[0m     max_workers \u001b[38;5;241m=\u001b[39m (\n\u001b[1;32m    297\u001b[0m         config\u001b[38;5;241m.\u001b[39mHF_DATASETS_MULTITHREADING_MAX_WORKERS \u001b[38;5;28;01mif\u001b[39;00m size \u001b[38;5;241m<\u001b[39m (\u001b[38;5;241m20\u001b[39m \u001b[38;5;241m<<\u001b[39m \u001b[38;5;241m20\u001b[39m) \u001b[38;5;28;01melse\u001b[39;00m \u001b[38;5;241m1\u001b[39m\n\u001b[1;32m    298\u001b[0m     )  \u001b[38;5;66;03m# enable multithreading if files are small\u001b[39;00m\n\u001b[0;32m--> 300\u001b[0m     \u001b[38;5;28;01mreturn\u001b[39;00m \u001b[43mthread_map\u001b[49m\u001b[43m(\u001b[49m\n\u001b[1;32m    301\u001b[0m \u001b[43m        \u001b[49m\u001b[43mdownload_func\u001b[49m\u001b[43m,\u001b[49m\n\u001b[1;32m    302\u001b[0m \u001b[43m        \u001b[49m\u001b[43murl_or_filenames\u001b[49m\u001b[43m,\u001b[49m\n\u001b[1;32m    303\u001b[0m \u001b[43m        \u001b[49m\u001b[43mdesc\u001b[49m\u001b[38;5;241;43m=\u001b[39;49m\u001b[43mdownload_config\u001b[49m\u001b[38;5;241;43m.\u001b[39;49m\u001b[43mdownload_desc\u001b[49m\u001b[43m \u001b[49m\u001b[38;5;129;43;01mor\u001b[39;49;00m\u001b[43m \u001b[49m\u001b[38;5;124;43m\"\u001b[39;49m\u001b[38;5;124;43mDownloading\u001b[39;49m\u001b[38;5;124;43m\"\u001b[39;49m\u001b[43m,\u001b[49m\n\u001b[1;32m    304\u001b[0m \u001b[43m        \u001b[49m\u001b[43munit\u001b[49m\u001b[38;5;241;43m=\u001b[39;49m\u001b[38;5;124;43m\"\u001b[39;49m\u001b[38;5;124;43mfiles\u001b[39;49m\u001b[38;5;124;43m\"\u001b[39;49m\u001b[43m,\u001b[49m\n\u001b[1;32m    305\u001b[0m \u001b[43m        \u001b[49m\u001b[43mposition\u001b[49m\u001b[38;5;241;43m=\u001b[39;49m\u001b[43mmultiprocessing\u001b[49m\u001b[38;5;241;43m.\u001b[39;49m\u001b[43mcurrent_process\u001b[49m\u001b[43m(\u001b[49m\u001b[43m)\u001b[49m\u001b[38;5;241;43m.\u001b[39;49m\u001b[43m_identity\u001b[49m\u001b[43m[\u001b[49m\u001b[38;5;241;43m-\u001b[39;49m\u001b[38;5;241;43m1\u001b[39;49m\u001b[43m]\u001b[49m\u001b[43m  \u001b[49m\u001b[38;5;66;43;03m# contains the ranks of subprocesses\u001b[39;49;00m\n\u001b[1;32m    306\u001b[0m \u001b[43m        \u001b[49m\u001b[38;5;28;43;01mif\u001b[39;49;00m\u001b[43m \u001b[49m\u001b[43mos\u001b[49m\u001b[38;5;241;43m.\u001b[39;49m\u001b[43menviron\u001b[49m\u001b[38;5;241;43m.\u001b[39;49m\u001b[43mget\u001b[49m\u001b[43m(\u001b[49m\u001b[38;5;124;43m\"\u001b[39;49m\u001b[38;5;124;43mHF_DATASETS_STACK_MULTIPROCESSING_DOWNLOAD_PROGRESS_BARS\u001b[39;49m\u001b[38;5;124;43m\"\u001b[39;49m\u001b[43m)\u001b[49m\u001b[43m \u001b[49m\u001b[38;5;241;43m==\u001b[39;49m\u001b[43m \u001b[49m\u001b[38;5;124;43m\"\u001b[39;49m\u001b[38;5;124;43m1\u001b[39;49m\u001b[38;5;124;43m\"\u001b[39;49m\n\u001b[1;32m    307\u001b[0m \u001b[43m        \u001b[49m\u001b[38;5;129;43;01mand\u001b[39;49;00m\u001b[43m \u001b[49m\u001b[43mmultiprocessing\u001b[49m\u001b[38;5;241;43m.\u001b[39;49m\u001b[43mcurrent_process\u001b[49m\u001b[43m(\u001b[49m\u001b[43m)\u001b[49m\u001b[38;5;241;43m.\u001b[39;49m\u001b[43m_identity\u001b[49m\n\u001b[1;32m    308\u001b[0m \u001b[43m        \u001b[49m\u001b[38;5;28;43;01melse\u001b[39;49;00m\u001b[43m \u001b[49m\u001b[38;5;28;43;01mNone\u001b[39;49;00m\u001b[43m,\u001b[49m\n\u001b[1;32m    309\u001b[0m \u001b[43m        \u001b[49m\u001b[43mmax_workers\u001b[49m\u001b[38;5;241;43m=\u001b[39;49m\u001b[43mmax_workers\u001b[49m\u001b[43m,\u001b[49m\n\u001b[1;32m    310\u001b[0m \u001b[43m        \u001b[49m\u001b[43mtqdm_class\u001b[49m\u001b[38;5;241;43m=\u001b[39;49m\u001b[43mtqdm\u001b[49m\u001b[43m,\u001b[49m\n\u001b[1;32m    311\u001b[0m \u001b[43m    \u001b[49m\u001b[43m)\u001b[49m\n\u001b[1;32m    312\u001b[0m \u001b[38;5;28;01melse\u001b[39;00m:\n\u001b[1;32m    313\u001b[0m     \u001b[38;5;28;01mreturn\u001b[39;00m [\n\u001b[1;32m    314\u001b[0m         \u001b[38;5;28mself\u001b[39m\u001b[38;5;241m.\u001b[39m_download_single(url_or_filename, download_config\u001b[38;5;241m=\u001b[39mdownload_config)\n\u001b[1;32m    315\u001b[0m         \u001b[38;5;28;01mfor\u001b[39;00m url_or_filename \u001b[38;5;129;01min\u001b[39;00m url_or_filenames\n\u001b[1;32m    316\u001b[0m     ]\n",
      "File \u001b[0;32m~/.conda/envs/accent_bias/lib/python3.12/site-packages/tqdm/contrib/concurrent.py:69\u001b[0m, in \u001b[0;36mthread_map\u001b[0;34m(fn, *iterables, **tqdm_kwargs)\u001b[0m\n\u001b[1;32m     55\u001b[0m \u001b[38;5;250m\u001b[39m\u001b[38;5;124;03m\"\"\"\u001b[39;00m\n\u001b[1;32m     56\u001b[0m \u001b[38;5;124;03mEquivalent of `list(map(fn, *iterables))`\u001b[39;00m\n\u001b[1;32m     57\u001b[0m \u001b[38;5;124;03mdriven by `concurrent.futures.ThreadPoolExecutor`.\u001b[39;00m\n\u001b[0;32m   (...)\u001b[0m\n\u001b[1;32m     66\u001b[0m \u001b[38;5;124;03m    [default: max(32, cpu_count() + 4)].\u001b[39;00m\n\u001b[1;32m     67\u001b[0m \u001b[38;5;124;03m\"\"\"\u001b[39;00m\n\u001b[1;32m     68\u001b[0m \u001b[38;5;28;01mfrom\u001b[39;00m\u001b[38;5;250m \u001b[39m\u001b[38;5;21;01mconcurrent\u001b[39;00m\u001b[38;5;21;01m.\u001b[39;00m\u001b[38;5;21;01mfutures\u001b[39;00m\u001b[38;5;250m \u001b[39m\u001b[38;5;28;01mimport\u001b[39;00m ThreadPoolExecutor\n\u001b[0;32m---> 69\u001b[0m \u001b[38;5;28;01mreturn\u001b[39;00m \u001b[43m_executor_map\u001b[49m\u001b[43m(\u001b[49m\u001b[43mThreadPoolExecutor\u001b[49m\u001b[43m,\u001b[49m\u001b[43m \u001b[49m\u001b[43mfn\u001b[49m\u001b[43m,\u001b[49m\u001b[43m \u001b[49m\u001b[38;5;241;43m*\u001b[39;49m\u001b[43miterables\u001b[49m\u001b[43m,\u001b[49m\u001b[43m \u001b[49m\u001b[38;5;241;43m*\u001b[39;49m\u001b[38;5;241;43m*\u001b[39;49m\u001b[43mtqdm_kwargs\u001b[49m\u001b[43m)\u001b[49m\n",
      "File \u001b[0;32m~/.conda/envs/accent_bias/lib/python3.12/site-packages/tqdm/contrib/concurrent.py:51\u001b[0m, in \u001b[0;36m_executor_map\u001b[0;34m(PoolExecutor, fn, *iterables, **tqdm_kwargs)\u001b[0m\n\u001b[1;32m     47\u001b[0m \u001b[38;5;28;01mwith\u001b[39;00m ensure_lock(tqdm_class, lock_name\u001b[38;5;241m=\u001b[39mlock_name) \u001b[38;5;28;01mas\u001b[39;00m lk:\n\u001b[1;32m     48\u001b[0m     \u001b[38;5;66;03m# share lock in case workers are already using `tqdm`\u001b[39;00m\n\u001b[1;32m     49\u001b[0m     \u001b[38;5;28;01mwith\u001b[39;00m PoolExecutor(max_workers\u001b[38;5;241m=\u001b[39mmax_workers, initializer\u001b[38;5;241m=\u001b[39mtqdm_class\u001b[38;5;241m.\u001b[39mset_lock,\n\u001b[1;32m     50\u001b[0m                       initargs\u001b[38;5;241m=\u001b[39m(lk,)) \u001b[38;5;28;01mas\u001b[39;00m ex:\n\u001b[0;32m---> 51\u001b[0m         \u001b[38;5;28;01mreturn\u001b[39;00m \u001b[38;5;28;43mlist\u001b[39;49m\u001b[43m(\u001b[49m\u001b[43mtqdm_class\u001b[49m\u001b[43m(\u001b[49m\u001b[43mex\u001b[49m\u001b[38;5;241;43m.\u001b[39;49m\u001b[43mmap\u001b[49m\u001b[43m(\u001b[49m\u001b[43mfn\u001b[49m\u001b[43m,\u001b[49m\u001b[43m \u001b[49m\u001b[38;5;241;43m*\u001b[39;49m\u001b[43miterables\u001b[49m\u001b[43m,\u001b[49m\u001b[43m \u001b[49m\u001b[43mchunksize\u001b[49m\u001b[38;5;241;43m=\u001b[39;49m\u001b[43mchunksize\u001b[49m\u001b[43m)\u001b[49m\u001b[43m,\u001b[49m\u001b[43m \u001b[49m\u001b[38;5;241;43m*\u001b[39;49m\u001b[38;5;241;43m*\u001b[39;49m\u001b[43mkwargs\u001b[49m\u001b[43m)\u001b[49m\u001b[43m)\u001b[49m\n",
      "File \u001b[0;32m~/.conda/envs/accent_bias/lib/python3.12/site-packages/tqdm/notebook.py:250\u001b[0m, in \u001b[0;36mtqdm_notebook.__iter__\u001b[0;34m(self)\u001b[0m\n\u001b[1;32m    248\u001b[0m \u001b[38;5;28;01mtry\u001b[39;00m:\n\u001b[1;32m    249\u001b[0m     it \u001b[38;5;241m=\u001b[39m \u001b[38;5;28msuper\u001b[39m()\u001b[38;5;241m.\u001b[39m\u001b[38;5;21m__iter__\u001b[39m()\n\u001b[0;32m--> 250\u001b[0m \u001b[43m    \u001b[49m\u001b[38;5;28;43;01mfor\u001b[39;49;00m\u001b[43m \u001b[49m\u001b[43mobj\u001b[49m\u001b[43m \u001b[49m\u001b[38;5;129;43;01min\u001b[39;49;00m\u001b[43m \u001b[49m\u001b[43mit\u001b[49m\u001b[43m:\u001b[49m\n\u001b[1;32m    251\u001b[0m \u001b[43m        \u001b[49m\u001b[38;5;66;43;03m# return super(tqdm...) will not catch exception\u001b[39;49;00m\n\u001b[1;32m    252\u001b[0m \u001b[43m        \u001b[49m\u001b[38;5;28;43;01myield\u001b[39;49;00m\u001b[43m \u001b[49m\u001b[43mobj\u001b[49m\n\u001b[1;32m    253\u001b[0m \u001b[38;5;66;03m# NB: except ... [ as ...] breaks IPython async KeyboardInterrupt\u001b[39;00m\n",
      "File \u001b[0;32m~/.conda/envs/accent_bias/lib/python3.12/site-packages/tqdm/std.py:1181\u001b[0m, in \u001b[0;36mtqdm.__iter__\u001b[0;34m(self)\u001b[0m\n\u001b[1;32m   1178\u001b[0m time \u001b[38;5;241m=\u001b[39m \u001b[38;5;28mself\u001b[39m\u001b[38;5;241m.\u001b[39m_time\n\u001b[1;32m   1180\u001b[0m \u001b[38;5;28;01mtry\u001b[39;00m:\n\u001b[0;32m-> 1181\u001b[0m \u001b[43m    \u001b[49m\u001b[38;5;28;43;01mfor\u001b[39;49;00m\u001b[43m \u001b[49m\u001b[43mobj\u001b[49m\u001b[43m \u001b[49m\u001b[38;5;129;43;01min\u001b[39;49;00m\u001b[43m \u001b[49m\u001b[43miterable\u001b[49m\u001b[43m:\u001b[49m\n\u001b[1;32m   1182\u001b[0m \u001b[43m        \u001b[49m\u001b[38;5;28;43;01myield\u001b[39;49;00m\u001b[43m \u001b[49m\u001b[43mobj\u001b[49m\n\u001b[1;32m   1183\u001b[0m \u001b[43m        \u001b[49m\u001b[38;5;66;43;03m# Update and possibly print the progressbar.\u001b[39;49;00m\n\u001b[1;32m   1184\u001b[0m \u001b[43m        \u001b[49m\u001b[38;5;66;43;03m# Note: does not call self.update(1) for speed optimisation.\u001b[39;49;00m\n",
      "File \u001b[0;32m~/.conda/envs/accent_bias/lib/python3.12/concurrent/futures/_base.py:619\u001b[0m, in \u001b[0;36mExecutor.map.<locals>.result_iterator\u001b[0;34m()\u001b[0m\n\u001b[1;32m    616\u001b[0m \u001b[38;5;28;01mwhile\u001b[39;00m fs:\n\u001b[1;32m    617\u001b[0m     \u001b[38;5;66;03m# Careful not to keep a reference to the popped future\u001b[39;00m\n\u001b[1;32m    618\u001b[0m     \u001b[38;5;28;01mif\u001b[39;00m timeout \u001b[38;5;129;01mis\u001b[39;00m \u001b[38;5;28;01mNone\u001b[39;00m:\n\u001b[0;32m--> 619\u001b[0m         \u001b[38;5;28;01myield\u001b[39;00m \u001b[43m_result_or_cancel\u001b[49m\u001b[43m(\u001b[49m\u001b[43mfs\u001b[49m\u001b[38;5;241;43m.\u001b[39;49m\u001b[43mpop\u001b[49m\u001b[43m(\u001b[49m\u001b[43m)\u001b[49m\u001b[43m)\u001b[49m\n\u001b[1;32m    620\u001b[0m     \u001b[38;5;28;01melse\u001b[39;00m:\n\u001b[1;32m    621\u001b[0m         \u001b[38;5;28;01myield\u001b[39;00m _result_or_cancel(fs\u001b[38;5;241m.\u001b[39mpop(), end_time \u001b[38;5;241m-\u001b[39m time\u001b[38;5;241m.\u001b[39mmonotonic())\n",
      "File \u001b[0;32m~/.conda/envs/accent_bias/lib/python3.12/concurrent/futures/_base.py:317\u001b[0m, in \u001b[0;36m_result_or_cancel\u001b[0;34m(***failed resolving arguments***)\u001b[0m\n\u001b[1;32m    315\u001b[0m \u001b[38;5;28;01mtry\u001b[39;00m:\n\u001b[1;32m    316\u001b[0m     \u001b[38;5;28;01mtry\u001b[39;00m:\n\u001b[0;32m--> 317\u001b[0m         \u001b[38;5;28;01mreturn\u001b[39;00m \u001b[43mfut\u001b[49m\u001b[38;5;241;43m.\u001b[39;49m\u001b[43mresult\u001b[49m\u001b[43m(\u001b[49m\u001b[43mtimeout\u001b[49m\u001b[43m)\u001b[49m\n\u001b[1;32m    318\u001b[0m     \u001b[38;5;28;01mfinally\u001b[39;00m:\n\u001b[1;32m    319\u001b[0m         fut\u001b[38;5;241m.\u001b[39mcancel()\n",
      "File \u001b[0;32m~/.conda/envs/accent_bias/lib/python3.12/concurrent/futures/_base.py:456\u001b[0m, in \u001b[0;36mFuture.result\u001b[0;34m(self, timeout)\u001b[0m\n\u001b[1;32m    454\u001b[0m     \u001b[38;5;28;01mraise\u001b[39;00m CancelledError()\n\u001b[1;32m    455\u001b[0m \u001b[38;5;28;01melif\u001b[39;00m \u001b[38;5;28mself\u001b[39m\u001b[38;5;241m.\u001b[39m_state \u001b[38;5;241m==\u001b[39m FINISHED:\n\u001b[0;32m--> 456\u001b[0m     \u001b[38;5;28;01mreturn\u001b[39;00m \u001b[38;5;28;43mself\u001b[39;49m\u001b[38;5;241;43m.\u001b[39;49m\u001b[43m__get_result\u001b[49m\u001b[43m(\u001b[49m\u001b[43m)\u001b[49m\n\u001b[1;32m    457\u001b[0m \u001b[38;5;28;01melse\u001b[39;00m:\n\u001b[1;32m    458\u001b[0m     \u001b[38;5;28;01mraise\u001b[39;00m \u001b[38;5;167;01mTimeoutError\u001b[39;00m()\n",
      "File \u001b[0;32m~/.conda/envs/accent_bias/lib/python3.12/concurrent/futures/_base.py:401\u001b[0m, in \u001b[0;36mFuture.__get_result\u001b[0;34m(self)\u001b[0m\n\u001b[1;32m    399\u001b[0m \u001b[38;5;28;01mif\u001b[39;00m \u001b[38;5;28mself\u001b[39m\u001b[38;5;241m.\u001b[39m_exception:\n\u001b[1;32m    400\u001b[0m     \u001b[38;5;28;01mtry\u001b[39;00m:\n\u001b[0;32m--> 401\u001b[0m         \u001b[38;5;28;01mraise\u001b[39;00m \u001b[38;5;28mself\u001b[39m\u001b[38;5;241m.\u001b[39m_exception\n\u001b[1;32m    402\u001b[0m     \u001b[38;5;28;01mfinally\u001b[39;00m:\n\u001b[1;32m    403\u001b[0m         \u001b[38;5;66;03m# Break a reference cycle with the exception in self._exception\u001b[39;00m\n\u001b[1;32m    404\u001b[0m         \u001b[38;5;28mself\u001b[39m \u001b[38;5;241m=\u001b[39m \u001b[38;5;28;01mNone\u001b[39;00m\n",
      "File \u001b[0;32m~/.conda/envs/accent_bias/lib/python3.12/concurrent/futures/thread.py:58\u001b[0m, in \u001b[0;36m_WorkItem.run\u001b[0;34m(self)\u001b[0m\n\u001b[1;32m     55\u001b[0m     \u001b[38;5;28;01mreturn\u001b[39;00m\n\u001b[1;32m     57\u001b[0m \u001b[38;5;28;01mtry\u001b[39;00m:\n\u001b[0;32m---> 58\u001b[0m     result \u001b[38;5;241m=\u001b[39m \u001b[38;5;28;43mself\u001b[39;49m\u001b[38;5;241;43m.\u001b[39;49m\u001b[43mfn\u001b[49m\u001b[43m(\u001b[49m\u001b[38;5;241;43m*\u001b[39;49m\u001b[38;5;28;43mself\u001b[39;49m\u001b[38;5;241;43m.\u001b[39;49m\u001b[43margs\u001b[49m\u001b[43m,\u001b[49m\u001b[43m \u001b[49m\u001b[38;5;241;43m*\u001b[39;49m\u001b[38;5;241;43m*\u001b[39;49m\u001b[38;5;28;43mself\u001b[39;49m\u001b[38;5;241;43m.\u001b[39;49m\u001b[43mkwargs\u001b[49m\u001b[43m)\u001b[49m\n\u001b[1;32m     59\u001b[0m \u001b[38;5;28;01mexcept\u001b[39;00m \u001b[38;5;167;01mBaseException\u001b[39;00m \u001b[38;5;28;01mas\u001b[39;00m exc:\n\u001b[1;32m     60\u001b[0m     \u001b[38;5;28mself\u001b[39m\u001b[38;5;241m.\u001b[39mfuture\u001b[38;5;241m.\u001b[39mset_exception(exc)\n",
      "File \u001b[0;32m~/.conda/envs/accent_bias/lib/python3.12/site-packages/datasets/download/download_manager.py:323\u001b[0m, in \u001b[0;36mDownloadManager._download_single\u001b[0;34m(self, url_or_filename, download_config)\u001b[0m\n\u001b[1;32m    320\u001b[0m \u001b[38;5;28;01mif\u001b[39;00m is_relative_path(url_or_filename):\n\u001b[1;32m    321\u001b[0m     \u001b[38;5;66;03m# append the relative path to the base_path\u001b[39;00m\n\u001b[1;32m    322\u001b[0m     url_or_filename \u001b[38;5;241m=\u001b[39m url_or_path_join(\u001b[38;5;28mself\u001b[39m\u001b[38;5;241m.\u001b[39m_base_path, url_or_filename)\n\u001b[0;32m--> 323\u001b[0m out \u001b[38;5;241m=\u001b[39m \u001b[43mcached_path\u001b[49m\u001b[43m(\u001b[49m\u001b[43murl_or_filename\u001b[49m\u001b[43m,\u001b[49m\u001b[43m \u001b[49m\u001b[43mdownload_config\u001b[49m\u001b[38;5;241;43m=\u001b[39;49m\u001b[43mdownload_config\u001b[49m\u001b[43m)\u001b[49m\n\u001b[1;32m    324\u001b[0m out \u001b[38;5;241m=\u001b[39m tracked_str(out)\n\u001b[1;32m    325\u001b[0m out\u001b[38;5;241m.\u001b[39mset_origin(url_or_filename)\n",
      "File \u001b[0;32m~/.conda/envs/accent_bias/lib/python3.12/site-packages/datasets/utils/file_utils.py:201\u001b[0m, in \u001b[0;36mcached_path\u001b[0;34m(url_or_filename, download_config, **download_kwargs)\u001b[0m\n\u001b[1;32m    197\u001b[0m     url_or_filename \u001b[38;5;241m=\u001b[39m strip_protocol(url_or_filename)\n\u001b[1;32m    199\u001b[0m \u001b[38;5;28;01mif\u001b[39;00m is_remote_url(url_or_filename):\n\u001b[1;32m    200\u001b[0m     \u001b[38;5;66;03m# URL, so get it from the cache (downloading if necessary)\u001b[39;00m\n\u001b[0;32m--> 201\u001b[0m     output_path \u001b[38;5;241m=\u001b[39m \u001b[43mget_from_cache\u001b[49m\u001b[43m(\u001b[49m\n\u001b[1;32m    202\u001b[0m \u001b[43m        \u001b[49m\u001b[43murl_or_filename\u001b[49m\u001b[43m,\u001b[49m\n\u001b[1;32m    203\u001b[0m \u001b[43m        \u001b[49m\u001b[43mcache_dir\u001b[49m\u001b[38;5;241;43m=\u001b[39;49m\u001b[43mcache_dir\u001b[49m\u001b[43m,\u001b[49m\n\u001b[1;32m    204\u001b[0m \u001b[43m        \u001b[49m\u001b[43mforce_download\u001b[49m\u001b[38;5;241;43m=\u001b[39;49m\u001b[43mdownload_config\u001b[49m\u001b[38;5;241;43m.\u001b[39;49m\u001b[43mforce_download\u001b[49m\u001b[43m,\u001b[49m\n\u001b[1;32m    205\u001b[0m \u001b[43m        \u001b[49m\u001b[43mproxies\u001b[49m\u001b[38;5;241;43m=\u001b[39;49m\u001b[43mdownload_config\u001b[49m\u001b[38;5;241;43m.\u001b[39;49m\u001b[43mproxies\u001b[49m\u001b[43m,\u001b[49m\n\u001b[1;32m    206\u001b[0m \u001b[43m        \u001b[49m\u001b[43mresume_download\u001b[49m\u001b[38;5;241;43m=\u001b[39;49m\u001b[43mdownload_config\u001b[49m\u001b[38;5;241;43m.\u001b[39;49m\u001b[43mresume_download\u001b[49m\u001b[43m,\u001b[49m\n\u001b[1;32m    207\u001b[0m \u001b[43m        \u001b[49m\u001b[43muser_agent\u001b[49m\u001b[38;5;241;43m=\u001b[39;49m\u001b[43mdownload_config\u001b[49m\u001b[38;5;241;43m.\u001b[39;49m\u001b[43muser_agent\u001b[49m\u001b[43m,\u001b[49m\n\u001b[1;32m    208\u001b[0m \u001b[43m        \u001b[49m\u001b[43mlocal_files_only\u001b[49m\u001b[38;5;241;43m=\u001b[39;49m\u001b[43mdownload_config\u001b[49m\u001b[38;5;241;43m.\u001b[39;49m\u001b[43mlocal_files_only\u001b[49m\u001b[43m,\u001b[49m\n\u001b[1;32m    209\u001b[0m \u001b[43m        \u001b[49m\u001b[43muse_etag\u001b[49m\u001b[38;5;241;43m=\u001b[39;49m\u001b[43mdownload_config\u001b[49m\u001b[38;5;241;43m.\u001b[39;49m\u001b[43muse_etag\u001b[49m\u001b[43m,\u001b[49m\n\u001b[1;32m    210\u001b[0m \u001b[43m        \u001b[49m\u001b[43mmax_retries\u001b[49m\u001b[38;5;241;43m=\u001b[39;49m\u001b[43mdownload_config\u001b[49m\u001b[38;5;241;43m.\u001b[39;49m\u001b[43mmax_retries\u001b[49m\u001b[43m,\u001b[49m\n\u001b[1;32m    211\u001b[0m \u001b[43m        \u001b[49m\u001b[43mtoken\u001b[49m\u001b[38;5;241;43m=\u001b[39;49m\u001b[43mdownload_config\u001b[49m\u001b[38;5;241;43m.\u001b[39;49m\u001b[43mtoken\u001b[49m\u001b[43m,\u001b[49m\n\u001b[1;32m    212\u001b[0m \u001b[43m        \u001b[49m\u001b[43mignore_url_params\u001b[49m\u001b[38;5;241;43m=\u001b[39;49m\u001b[43mdownload_config\u001b[49m\u001b[38;5;241;43m.\u001b[39;49m\u001b[43mignore_url_params\u001b[49m\u001b[43m,\u001b[49m\n\u001b[1;32m    213\u001b[0m \u001b[43m        \u001b[49m\u001b[43mstorage_options\u001b[49m\u001b[38;5;241;43m=\u001b[39;49m\u001b[43mdownload_config\u001b[49m\u001b[38;5;241;43m.\u001b[39;49m\u001b[43mstorage_options\u001b[49m\u001b[43m,\u001b[49m\n\u001b[1;32m    214\u001b[0m \u001b[43m        \u001b[49m\u001b[43mdownload_desc\u001b[49m\u001b[38;5;241;43m=\u001b[39;49m\u001b[43mdownload_config\u001b[49m\u001b[38;5;241;43m.\u001b[39;49m\u001b[43mdownload_desc\u001b[49m\u001b[43m,\u001b[49m\n\u001b[1;32m    215\u001b[0m \u001b[43m        \u001b[49m\u001b[43mdisable_tqdm\u001b[49m\u001b[38;5;241;43m=\u001b[39;49m\u001b[43mdownload_config\u001b[49m\u001b[38;5;241;43m.\u001b[39;49m\u001b[43mdisable_tqdm\u001b[49m\u001b[43m,\u001b[49m\n\u001b[1;32m    216\u001b[0m \u001b[43m    \u001b[49m\u001b[43m)\u001b[49m\n\u001b[1;32m    217\u001b[0m \u001b[38;5;28;01melif\u001b[39;00m os\u001b[38;5;241m.\u001b[39mpath\u001b[38;5;241m.\u001b[39mexists(url_or_filename):\n\u001b[1;32m    218\u001b[0m     \u001b[38;5;66;03m# File, and it exists.\u001b[39;00m\n\u001b[1;32m    219\u001b[0m     output_path \u001b[38;5;241m=\u001b[39m url_or_filename\n",
      "File \u001b[0;32m~/.conda/envs/accent_bias/lib/python3.12/site-packages/datasets/utils/file_utils.py:669\u001b[0m, in \u001b[0;36mget_from_cache\u001b[0;34m(url, cache_dir, force_download, proxies, etag_timeout, resume_download, user_agent, local_files_only, use_etag, max_retries, token, use_auth_token, ignore_url_params, storage_options, download_desc, disable_tqdm)\u001b[0m\n\u001b[1;32m    665\u001b[0m         resume_size \u001b[38;5;241m=\u001b[39m os\u001b[38;5;241m.\u001b[39mstat(incomplete_path)\u001b[38;5;241m.\u001b[39mst_size\n\u001b[1;32m    667\u001b[0m \u001b[38;5;66;03m# Download to temporary file, then copy to cache path once finished.\u001b[39;00m\n\u001b[1;32m    668\u001b[0m \u001b[38;5;66;03m# Otherwise, you get corrupt cache entries if the download gets interrupted.\u001b[39;00m\n\u001b[0;32m--> 669\u001b[0m \u001b[43m\u001b[49m\u001b[38;5;28;43;01mwith\u001b[39;49;00m\u001b[43m \u001b[49m\u001b[43mtemp_file_manager\u001b[49m\u001b[43m(\u001b[49m\u001b[43m)\u001b[49m\u001b[43m \u001b[49m\u001b[38;5;28;43;01mas\u001b[39;49;00m\u001b[43m \u001b[49m\u001b[43mtemp_file\u001b[49m\u001b[43m:\u001b[49m\n\u001b[1;32m    670\u001b[0m \u001b[43m    \u001b[49m\u001b[43mlogger\u001b[49m\u001b[38;5;241;43m.\u001b[39;49m\u001b[43minfo\u001b[49m\u001b[43m(\u001b[49m\u001b[38;5;124;43mf\u001b[39;49m\u001b[38;5;124;43m\"\u001b[39;49m\u001b[38;5;132;43;01m{\u001b[39;49;00m\u001b[43murl\u001b[49m\u001b[38;5;132;43;01m}\u001b[39;49;00m\u001b[38;5;124;43m not found in cache or force_download set to True, downloading to \u001b[39;49m\u001b[38;5;132;43;01m{\u001b[39;49;00m\u001b[43mtemp_file\u001b[49m\u001b[38;5;241;43m.\u001b[39;49m\u001b[43mname\u001b[49m\u001b[38;5;132;43;01m}\u001b[39;49;00m\u001b[38;5;124;43m\"\u001b[39;49m\u001b[43m)\u001b[49m\n\u001b[1;32m    672\u001b[0m \u001b[43m    \u001b[49m\u001b[38;5;66;43;03m# GET file object\u001b[39;49;00m\n",
      "File \u001b[0;32m~/.conda/envs/accent_bias/lib/python3.12/contextlib.py:158\u001b[0m, in \u001b[0;36m_GeneratorContextManager.__exit__\u001b[0;34m(self, typ, value, traceback)\u001b[0m\n\u001b[1;32m    156\u001b[0m     value \u001b[38;5;241m=\u001b[39m typ()\n\u001b[1;32m    157\u001b[0m \u001b[38;5;28;01mtry\u001b[39;00m:\n\u001b[0;32m--> 158\u001b[0m     \u001b[38;5;28;43mself\u001b[39;49m\u001b[38;5;241;43m.\u001b[39;49m\u001b[43mgen\u001b[49m\u001b[38;5;241;43m.\u001b[39;49m\u001b[43mthrow\u001b[49m\u001b[43m(\u001b[49m\u001b[43mvalue\u001b[49m\u001b[43m)\u001b[49m\n\u001b[1;32m    159\u001b[0m \u001b[38;5;28;01mexcept\u001b[39;00m \u001b[38;5;167;01mStopIteration\u001b[39;00m \u001b[38;5;28;01mas\u001b[39;00m exc:\n\u001b[1;32m    160\u001b[0m     \u001b[38;5;66;03m# Suppress StopIteration *unless* it's the same exception that\u001b[39;00m\n\u001b[1;32m    161\u001b[0m     \u001b[38;5;66;03m# was passed to throw().  This prevents a StopIteration\u001b[39;00m\n\u001b[1;32m    162\u001b[0m     \u001b[38;5;66;03m# raised inside the \"with\" statement from being suppressed.\u001b[39;00m\n\u001b[1;32m    163\u001b[0m     \u001b[38;5;28;01mreturn\u001b[39;00m exc \u001b[38;5;129;01mis\u001b[39;00m \u001b[38;5;129;01mnot\u001b[39;00m value\n",
      "File \u001b[0;32m~/.conda/envs/accent_bias/lib/python3.12/site-packages/datasets/utils/file_utils.py:658\u001b[0m, in \u001b[0;36mget_from_cache.<locals>.temp_file_manager\u001b[0;34m(mode)\u001b[0m\n\u001b[1;32m    656\u001b[0m \u001b[38;5;129m@contextmanager\u001b[39m\n\u001b[1;32m    657\u001b[0m \u001b[38;5;28;01mdef\u001b[39;00m\u001b[38;5;250m \u001b[39m\u001b[38;5;21mtemp_file_manager\u001b[39m(mode\u001b[38;5;241m=\u001b[39m\u001b[38;5;124m\"\u001b[39m\u001b[38;5;124mw+b\u001b[39m\u001b[38;5;124m\"\u001b[39m):\n\u001b[0;32m--> 658\u001b[0m \u001b[43m    \u001b[49m\u001b[38;5;28;43;01mwith\u001b[39;49;00m\u001b[43m \u001b[49m\u001b[38;5;28;43mopen\u001b[39;49m\u001b[43m(\u001b[49m\u001b[43mincomplete_path\u001b[49m\u001b[43m,\u001b[49m\u001b[43m \u001b[49m\u001b[43mmode\u001b[49m\u001b[43m)\u001b[49m\u001b[43m \u001b[49m\u001b[38;5;28;43;01mas\u001b[39;49;00m\u001b[43m \u001b[49m\u001b[43mf\u001b[49m\u001b[43m:\u001b[49m\n\u001b[1;32m    659\u001b[0m \u001b[43m        \u001b[49m\u001b[38;5;28;43;01myield\u001b[39;49;00m\u001b[43m \u001b[49m\u001b[43mf\u001b[49m\n",
      "\u001b[0;31mOSError\u001b[0m: [Errno 28] No space left on device"
     ]
    }
   ],
   "source": [
    "from datasets import load_dataset\n",
    "\n",
    "fleurs_langID = load_dataset(\"google/fleurs\", \"all\") # to download all data\n",
    "\n",
    "# see structure\n",
    "print(fleurs_langID)\n",
    "\n",
    "# load audio sample on the fly\n",
    "audio_input = fleurs_langID[\"train\"][0][\"audio\"]  # first decoded audio sample\n",
    "language_class = fleurs_langID[\"train\"][0][\"lang_id\"]  # first id class\n",
    "language = fleurs_langID[\"train\"].features[\"lang_id\"].names[language_class]\n"
   ]
  },
  {
   "cell_type": "code",
   "execution_count": 4,
   "metadata": {},
   "outputs": [
    {
     "data": {
      "application/vnd.jupyter.widget-view+json": {
       "model_id": "483031ed8da7418c9a6d172571b7eab4",
       "version_major": 2,
       "version_minor": 0
      },
      "text/plain": [
       "pytorch_model.bin:   0%|          | 0.00/1.27G [00:00<?, ?B/s]"
      ]
     },
     "metadata": {},
     "output_type": "display_data"
    },
    {
     "name": "stderr",
     "output_type": "stream",
     "text": [
      "Some weights of the model checkpoint at facebook/wav2vec2-large-xlsr-53 were not used when initializing Wav2Vec2ForPreTraining: ['wav2vec2.encoder.pos_conv_embed.conv.weight_g', 'wav2vec2.encoder.pos_conv_embed.conv.weight_v']\n",
      "- This IS expected if you are initializing Wav2Vec2ForPreTraining from the checkpoint of a model trained on another task or with another architecture (e.g. initializing a BertForSequenceClassification model from a BertForPreTraining model).\n",
      "- This IS NOT expected if you are initializing Wav2Vec2ForPreTraining from the checkpoint of a model that you expect to be exactly identical (initializing a BertForSequenceClassification model from a BertForSequenceClassification model).\n",
      "Some weights of Wav2Vec2ForPreTraining were not initialized from the model checkpoint at facebook/wav2vec2-large-xlsr-53 and are newly initialized: ['wav2vec2.encoder.pos_conv_embed.conv.parametrizations.weight.original0', 'wav2vec2.encoder.pos_conv_embed.conv.parametrizations.weight.original1']\n",
      "You should probably TRAIN this model on a down-stream task to be able to use it for predictions and inference.\n"
     ]
    }
   ],
   "source": [
    "# Load model directly\n",
    "from transformers import AutoProcessor, AutoModelForPreTraining, AutoFeatureExtractor\n",
    "model_name=\"facebook/wav2vec2-large-xlsr-53\"\n",
    "processor = AutoFeatureExtractor.from_pretrained(model_name)\n",
    "model = AutoModelForPreTraining.from_pretrained(\"facebook/wav2vec2-large-xlsr-53\")"
   ]
  },
  {
   "cell_type": "code",
   "execution_count": 1,
   "metadata": {},
   "outputs": [
    {
     "ename": "RuntimeError",
     "evalue": "No CUDA GPUs are available",
     "output_type": "error",
     "traceback": [
      "\u001b[0;31m---------------------------------------------------------------------------\u001b[0m",
      "\u001b[0;31mRuntimeError\u001b[0m                              Traceback (most recent call last)",
      "Cell \u001b[0;32mIn[1], line 3\u001b[0m\n\u001b[1;32m      1\u001b[0m \u001b[38;5;28;01mimport\u001b[39;00m\u001b[38;5;250m \u001b[39m\u001b[38;5;21;01mos\u001b[39;00m\u001b[38;5;241m,\u001b[39m\u001b[38;5;250m \u001b[39m\u001b[38;5;21;01msys\u001b[39;00m\n\u001b[1;32m      2\u001b[0m sys\u001b[38;5;241m.\u001b[39mpath\u001b[38;5;241m.\u001b[39mappend(\u001b[38;5;124m\"\u001b[39m\u001b[38;5;124m/home/hltcoe/nbafna/projects/mitigating-accent-bias-in-lid/utils/dataloading\u001b[39m\u001b[38;5;124m\"\u001b[39m)\n\u001b[0;32m----> 3\u001b[0m \u001b[38;5;28;01mfrom\u001b[39;00m\u001b[38;5;250m \u001b[39m\u001b[38;5;21;01mdataset_loader\u001b[39;00m\u001b[38;5;250m \u001b[39m\u001b[38;5;28;01mimport\u001b[39;00m load_lid_dataset\n",
      "File \u001b[0;32m~/projects/mitigating-accent-bias-in-lid/utils/dataloading/dataset_loader.py:3\u001b[0m\n\u001b[1;32m      1\u001b[0m \u001b[38;5;28;01mimport\u001b[39;00m\u001b[38;5;250m \u001b[39m\u001b[38;5;21;01mos\u001b[39;00m\u001b[38;5;241m,\u001b[39m\u001b[38;5;250m \u001b[39m\u001b[38;5;21;01msys\u001b[39;00m\n\u001b[1;32m      2\u001b[0m sys\u001b[38;5;241m.\u001b[39mpath\u001b[38;5;241m.\u001b[39mappend(\u001b[38;5;124m\"\u001b[39m\u001b[38;5;124m/home/hltcoe/nbafna/projects/mitigating-accent-bias-in-lid/utils/dataloading\u001b[39m\u001b[38;5;124m\"\u001b[39m)\n\u001b[0;32m----> 3\u001b[0m \u001b[38;5;28;01mfrom\u001b[39;00m\u001b[38;5;250m \u001b[39m\u001b[38;5;21;01mvl107\u001b[39;00m\u001b[38;5;250m \u001b[39m\u001b[38;5;28;01mimport\u001b[39;00m load_vl107, load_vl107_lang\n\u001b[1;32m      4\u001b[0m \u001b[38;5;28;01mfrom\u001b[39;00m\u001b[38;5;250m \u001b[39m\u001b[38;5;21;01medacc\u001b[39;00m\u001b[38;5;250m \u001b[39m\u001b[38;5;28;01mimport\u001b[39;00m load_edacc\n\u001b[1;32m      5\u001b[0m \u001b[38;5;28;01mfrom\u001b[39;00m\u001b[38;5;250m \u001b[39m\u001b[38;5;21;01mfleurs\u001b[39;00m\u001b[38;5;250m \u001b[39m\u001b[38;5;28;01mimport\u001b[39;00m load_fleurs\n",
      "File \u001b[0;32m~/projects/mitigating-accent-bias-in-lid/utils/dataloading/vl107.py:14\u001b[0m\n\u001b[1;32m      1\u001b[0m \u001b[38;5;124;03m'''\u001b[39;00m\n\u001b[1;32m      2\u001b[0m \u001b[38;5;124;03mLoad vl107 dataset\u001b[39;00m\n\u001b[1;32m      3\u001b[0m \u001b[38;5;124;03mdataset = load_vl107(per_lang = per_lang)\u001b[39;00m\n\u001b[0;32m   (...)\u001b[0m\n\u001b[1;32m     10\u001b[0m \u001b[38;5;124;03m\"signal\" contains segments of length clip_length = 6.0s, sampled at 16kHz.\u001b[39;00m\n\u001b[1;32m     11\u001b[0m \u001b[38;5;124;03m'''\u001b[39;00m\n\u001b[1;32m     13\u001b[0m \u001b[38;5;28;01mimport\u001b[39;00m\u001b[38;5;250m \u001b[39m\u001b[38;5;21;01mtorch\u001b[39;00m\n\u001b[0;32m---> 14\u001b[0m \u001b[43mtorch\u001b[49m\u001b[38;5;241;43m.\u001b[39;49m\u001b[43mones\u001b[49m\u001b[43m(\u001b[49m\u001b[38;5;241;43m1\u001b[39;49m\u001b[43m)\u001b[49m\u001b[38;5;241;43m.\u001b[39;49m\u001b[43mto\u001b[49m\u001b[43m(\u001b[49m\u001b[38;5;124;43m\"\u001b[39;49m\u001b[38;5;124;43mcuda\u001b[39;49m\u001b[38;5;124;43m\"\u001b[39;49m\u001b[43m)\u001b[49m\n\u001b[1;32m     15\u001b[0m \u001b[38;5;28;01mimport\u001b[39;00m\u001b[38;5;250m \u001b[39m\u001b[38;5;21;01mtorchaudio\u001b[39;00m\n\u001b[1;32m     16\u001b[0m \u001b[38;5;28;01mimport\u001b[39;00m\u001b[38;5;250m \u001b[39m\u001b[38;5;21;01mos\u001b[39;00m\u001b[38;5;241m,\u001b[39m\u001b[38;5;250m \u001b[39m\u001b[38;5;21;01msys\u001b[39;00m\n",
      "File \u001b[0;32m~/.conda/envs/accent_bias/lib/python3.12/site-packages/torch/cuda/__init__.py:314\u001b[0m, in \u001b[0;36m_lazy_init\u001b[0;34m()\u001b[0m\n\u001b[1;32m    312\u001b[0m \u001b[38;5;28;01mif\u001b[39;00m \u001b[38;5;124m\"\u001b[39m\u001b[38;5;124mCUDA_MODULE_LOADING\u001b[39m\u001b[38;5;124m\"\u001b[39m \u001b[38;5;129;01mnot\u001b[39;00m \u001b[38;5;129;01min\u001b[39;00m os\u001b[38;5;241m.\u001b[39menviron:\n\u001b[1;32m    313\u001b[0m     os\u001b[38;5;241m.\u001b[39menviron[\u001b[38;5;124m\"\u001b[39m\u001b[38;5;124mCUDA_MODULE_LOADING\u001b[39m\u001b[38;5;124m\"\u001b[39m] \u001b[38;5;241m=\u001b[39m \u001b[38;5;124m\"\u001b[39m\u001b[38;5;124mLAZY\u001b[39m\u001b[38;5;124m\"\u001b[39m\n\u001b[0;32m--> 314\u001b[0m \u001b[43mtorch\u001b[49m\u001b[38;5;241;43m.\u001b[39;49m\u001b[43m_C\u001b[49m\u001b[38;5;241;43m.\u001b[39;49m\u001b[43m_cuda_init\u001b[49m\u001b[43m(\u001b[49m\u001b[43m)\u001b[49m\n\u001b[1;32m    315\u001b[0m \u001b[38;5;66;03m# Some of the queued calls may reentrantly call _lazy_init();\u001b[39;00m\n\u001b[1;32m    316\u001b[0m \u001b[38;5;66;03m# we need to just return without initializing in that case.\u001b[39;00m\n\u001b[1;32m    317\u001b[0m \u001b[38;5;66;03m# However, we must not let any *other* threads in!\u001b[39;00m\n\u001b[1;32m    318\u001b[0m _tls\u001b[38;5;241m.\u001b[39mis_initializing \u001b[38;5;241m=\u001b[39m \u001b[38;5;28;01mTrue\u001b[39;00m\n",
      "\u001b[0;31mRuntimeError\u001b[0m: No CUDA GPUs are available"
     ]
    }
   ],
   "source": [
    "import os, sys\n",
    "sys.path.append(\"/home/hltcoe/nbafna/projects/mitigating-accent-bias-in-lid/utils/dataloading\")\n",
    "from dataset_loader import load_lid_dataset\n",
    "\n",
    "\n"
   ]
  },
  {
   "cell_type": "code",
   "execution_count": null,
   "metadata": {},
   "outputs": [
    {
     "ename": "RuntimeError",
     "evalue": "No CUDA GPUs are available",
     "output_type": "error",
     "traceback": [
      "\u001b[0;31m---------------------------------------------------------------------------\u001b[0m",
      "\u001b[0;31mRuntimeError\u001b[0m                              Traceback (most recent call last)",
      "Cell \u001b[0;32mIn[1], line 3\u001b[0m\n\u001b[1;32m      1\u001b[0m \u001b[38;5;28;01mimport\u001b[39;00m\u001b[38;5;250m \u001b[39m\u001b[38;5;21;01mos\u001b[39;00m\u001b[38;5;241m,\u001b[39m\u001b[38;5;250m \u001b[39m\u001b[38;5;21;01msys\u001b[39;00m\n\u001b[1;32m      2\u001b[0m sys\u001b[38;5;241m.\u001b[39mpath\u001b[38;5;241m.\u001b[39mappend(\u001b[38;5;124m\"\u001b[39m\u001b[38;5;124m/home/hltcoe/nbafna/projects/mitigating-accent-bias-in-lid/utils/dataloading\u001b[39m\u001b[38;5;124m\"\u001b[39m)\n\u001b[0;32m----> 3\u001b[0m \u001b[38;5;28;01mfrom\u001b[39;00m\u001b[38;5;250m \u001b[39m\u001b[38;5;21;01mdataset_loader\u001b[39;00m\u001b[38;5;250m \u001b[39m\u001b[38;5;28;01mimport\u001b[39;00m load_lid_dataset\n",
      "File \u001b[0;32m~/projects/mitigating-accent-bias-in-lid/utils/dataloading/dataset_loader.py:3\u001b[0m\n\u001b[1;32m      1\u001b[0m \u001b[38;5;28;01mimport\u001b[39;00m\u001b[38;5;250m \u001b[39m\u001b[38;5;21;01mos\u001b[39;00m\u001b[38;5;241m,\u001b[39m\u001b[38;5;250m \u001b[39m\u001b[38;5;21;01msys\u001b[39;00m\n\u001b[1;32m      2\u001b[0m sys\u001b[38;5;241m.\u001b[39mpath\u001b[38;5;241m.\u001b[39mappend(\u001b[38;5;124m\"\u001b[39m\u001b[38;5;124m/home/hltcoe/nbafna/projects/mitigating-accent-bias-in-lid/utils/dataloading\u001b[39m\u001b[38;5;124m\"\u001b[39m)\n\u001b[0;32m----> 3\u001b[0m \u001b[38;5;28;01mfrom\u001b[39;00m\u001b[38;5;250m \u001b[39m\u001b[38;5;21;01mvl107\u001b[39;00m\u001b[38;5;250m \u001b[39m\u001b[38;5;28;01mimport\u001b[39;00m load_vl107, load_vl107_lang\n\u001b[1;32m      4\u001b[0m \u001b[38;5;28;01mfrom\u001b[39;00m\u001b[38;5;250m \u001b[39m\u001b[38;5;21;01medacc\u001b[39;00m\u001b[38;5;250m \u001b[39m\u001b[38;5;28;01mimport\u001b[39;00m load_edacc\n\u001b[1;32m      5\u001b[0m \u001b[38;5;28;01mfrom\u001b[39;00m\u001b[38;5;250m \u001b[39m\u001b[38;5;21;01mfleurs\u001b[39;00m\u001b[38;5;250m \u001b[39m\u001b[38;5;28;01mimport\u001b[39;00m load_fleurs\n",
      "File \u001b[0;32m~/projects/mitigating-accent-bias-in-lid/utils/dataloading/vl107.py:14\u001b[0m\n\u001b[1;32m      1\u001b[0m \u001b[38;5;124;03m'''\u001b[39;00m\n\u001b[1;32m      2\u001b[0m \u001b[38;5;124;03mLoad vl107 dataset\u001b[39;00m\n\u001b[1;32m      3\u001b[0m \u001b[38;5;124;03mdataset = load_vl107(per_lang = per_lang)\u001b[39;00m\n\u001b[0;32m   (...)\u001b[0m\n\u001b[1;32m     10\u001b[0m \u001b[38;5;124;03m\"signal\" contains segments of length clip_length = 6.0s, sampled at 16kHz.\u001b[39;00m\n\u001b[1;32m     11\u001b[0m \u001b[38;5;124;03m'''\u001b[39;00m\n\u001b[1;32m     13\u001b[0m \u001b[38;5;28;01mimport\u001b[39;00m\u001b[38;5;250m \u001b[39m\u001b[38;5;21;01mtorch\u001b[39;00m\n\u001b[0;32m---> 14\u001b[0m \u001b[43mtorch\u001b[49m\u001b[38;5;241;43m.\u001b[39;49m\u001b[43mones\u001b[49m\u001b[43m(\u001b[49m\u001b[38;5;241;43m1\u001b[39;49m\u001b[43m)\u001b[49m\u001b[38;5;241;43m.\u001b[39;49m\u001b[43mto\u001b[49m\u001b[43m(\u001b[49m\u001b[38;5;124;43m\"\u001b[39;49m\u001b[38;5;124;43mcuda\u001b[39;49m\u001b[38;5;124;43m\"\u001b[39;49m\u001b[43m)\u001b[49m\n\u001b[1;32m     15\u001b[0m \u001b[38;5;28;01mimport\u001b[39;00m\u001b[38;5;250m \u001b[39m\u001b[38;5;21;01mtorchaudio\u001b[39;00m\n\u001b[1;32m     16\u001b[0m \u001b[38;5;28;01mimport\u001b[39;00m\u001b[38;5;250m \u001b[39m\u001b[38;5;21;01mos\u001b[39;00m\u001b[38;5;241m,\u001b[39m\u001b[38;5;250m \u001b[39m\u001b[38;5;21;01msys\u001b[39;00m\n",
      "File \u001b[0;32m~/.conda/envs/accent_bias/lib/python3.12/site-packages/torch/cuda/__init__.py:314\u001b[0m, in \u001b[0;36m_lazy_init\u001b[0;34m()\u001b[0m\n\u001b[1;32m    312\u001b[0m \u001b[38;5;28;01mif\u001b[39;00m \u001b[38;5;124m\"\u001b[39m\u001b[38;5;124mCUDA_MODULE_LOADING\u001b[39m\u001b[38;5;124m\"\u001b[39m \u001b[38;5;129;01mnot\u001b[39;00m \u001b[38;5;129;01min\u001b[39;00m os\u001b[38;5;241m.\u001b[39menviron:\n\u001b[1;32m    313\u001b[0m     os\u001b[38;5;241m.\u001b[39menviron[\u001b[38;5;124m\"\u001b[39m\u001b[38;5;124mCUDA_MODULE_LOADING\u001b[39m\u001b[38;5;124m\"\u001b[39m] \u001b[38;5;241m=\u001b[39m \u001b[38;5;124m\"\u001b[39m\u001b[38;5;124mLAZY\u001b[39m\u001b[38;5;124m\"\u001b[39m\n\u001b[0;32m--> 314\u001b[0m \u001b[43mtorch\u001b[49m\u001b[38;5;241;43m.\u001b[39;49m\u001b[43m_C\u001b[49m\u001b[38;5;241;43m.\u001b[39;49m\u001b[43m_cuda_init\u001b[49m\u001b[43m(\u001b[49m\u001b[43m)\u001b[49m\n\u001b[1;32m    315\u001b[0m \u001b[38;5;66;03m# Some of the queued calls may reentrantly call _lazy_init();\u001b[39;00m\n\u001b[1;32m    316\u001b[0m \u001b[38;5;66;03m# we need to just return without initializing in that case.\u001b[39;00m\n\u001b[1;32m    317\u001b[0m \u001b[38;5;66;03m# However, we must not let any *other* threads in!\u001b[39;00m\n\u001b[1;32m    318\u001b[0m _tls\u001b[38;5;241m.\u001b[39mis_initializing \u001b[38;5;241m=\u001b[39m \u001b[38;5;28;01mTrue\u001b[39;00m\n",
      "\u001b[0;31mRuntimeError\u001b[0m: No CUDA GPUs are available"
     ]
    }
   ],
   "source": []
  },
  {
   "cell_type": "code",
   "execution_count": 1,
   "metadata": {},
   "outputs": [],
   "source": [
    "import os, sys\n",
    "sys.path.append(\"/home/hltcoe/nbafna/projects/mitigating-accent-bias-in-lid/utils/dataloading\")\n",
    "from dataset_loader import load_lid_dataset\n",
    "\n",
    "\n"
   ]
  },
  {
   "cell_type": "code",
   "execution_count": 11,
   "metadata": {},
   "outputs": [
    {
     "name": "stdout",
     "output_type": "stream",
     "text": [
      "Loading all languages from /export/common/data/corpora/fleurs/\n",
      "Loading audio files for af_za from /export/common/data/corpora/fleurs/af_za/train\n"
     ]
    },
    {
     "data": {
      "application/vnd.jupyter.widget-view+json": {
       "model_id": "79f15ec432554fc5987a5f3fb4df8054",
       "version_major": 2,
       "version_minor": 0
      },
      "text/plain": [
       "Map:   0%|          | 0/1 [00:00<?, ? examples/s]"
      ]
     },
     "metadata": {},
     "output_type": "display_data"
    },
    {
     "name": "stdout",
     "output_type": "stream",
     "text": [
      "Time taken to load af_za: 0.23550105094909668\n",
      "Time taken to concatenate af_za: 4.76837158203125e-07\n",
      "Loading audio files for am_et from /export/common/data/corpora/fleurs/am_et/train\n"
     ]
    },
    {
     "data": {
      "application/vnd.jupyter.widget-view+json": {
       "model_id": "b2d32fa9cb96495d88d7b85dc60a125d",
       "version_major": 2,
       "version_minor": 0
      },
      "text/plain": [
       "Map:   0%|          | 0/1 [00:00<?, ? examples/s]"
      ]
     },
     "metadata": {},
     "output_type": "display_data"
    },
    {
     "name": "stdout",
     "output_type": "stream",
     "text": [
      "Time taken to load am_et: 0.29296398162841797\n",
      "Time taken to concatenate am_et: 4.76837158203125e-07\n",
      "Loading audio files for ar_eg from /export/common/data/corpora/fleurs/ar_eg/train\n"
     ]
    },
    {
     "data": {
      "application/vnd.jupyter.widget-view+json": {
       "model_id": "b6e598d4e06a4f2c9f1b98c9127b8c63",
       "version_major": 2,
       "version_minor": 0
      },
      "text/plain": [
       "Map:   0%|          | 0/1 [00:00<?, ? examples/s]"
      ]
     },
     "metadata": {},
     "output_type": "display_data"
    },
    {
     "name": "stdout",
     "output_type": "stream",
     "text": [
      "Time taken to load ar_eg: 0.17426252365112305\n",
      "Time taken to concatenate ar_eg: 4.76837158203125e-07\n",
      "Loading audio files for as_in from /export/common/data/corpora/fleurs/as_in/train\n"
     ]
    },
    {
     "data": {
      "application/vnd.jupyter.widget-view+json": {
       "model_id": "c8f9087e7d834ddfba9d5636dc8837bd",
       "version_major": 2,
       "version_minor": 0
      },
      "text/plain": [
       "Map:   0%|          | 0/1 [00:00<?, ? examples/s]"
      ]
     },
     "metadata": {},
     "output_type": "display_data"
    },
    {
     "name": "stdout",
     "output_type": "stream",
     "text": [
      "Time taken to load as_in: 0.25161194801330566\n",
      "Time taken to concatenate as_in: 2.384185791015625e-07\n",
      "Loading audio files for ast_es from /export/common/data/corpora/fleurs/ast_es/train\n"
     ]
    },
    {
     "data": {
      "application/vnd.jupyter.widget-view+json": {
       "model_id": "b236df9271e345fe850ff66ed93f9e2a",
       "version_major": 2,
       "version_minor": 0
      },
      "text/plain": [
       "Map:   0%|          | 0/1 [00:00<?, ? examples/s]"
      ]
     },
     "metadata": {},
     "output_type": "display_data"
    },
    {
     "name": "stdout",
     "output_type": "stream",
     "text": [
      "Time taken to load ast_es: 0.16572904586791992\n",
      "Time taken to concatenate ast_es: 7.152557373046875e-07\n",
      "Loading audio files for az_az from /export/common/data/corpora/fleurs/az_az/train\n"
     ]
    },
    {
     "data": {
      "application/vnd.jupyter.widget-view+json": {
       "model_id": "942f27e4d44644458cd14e10e2213e55",
       "version_major": 2,
       "version_minor": 0
      },
      "text/plain": [
       "Map:   0%|          | 0/1 [00:00<?, ? examples/s]"
      ]
     },
     "metadata": {},
     "output_type": "display_data"
    },
    {
     "name": "stdout",
     "output_type": "stream",
     "text": [
      "Time taken to load az_az: 0.2764322757720947\n",
      "Time taken to concatenate az_az: 2.384185791015625e-07\n",
      "Loading audio files for be_by from /export/common/data/corpora/fleurs/be_by/train\n"
     ]
    },
    {
     "data": {
      "application/vnd.jupyter.widget-view+json": {
       "model_id": "aa09dc6ea1f24d78aef61d53ab5f7b48",
       "version_major": 2,
       "version_minor": 0
      },
      "text/plain": [
       "Map:   0%|          | 0/1 [00:00<?, ? examples/s]"
      ]
     },
     "metadata": {},
     "output_type": "display_data"
    },
    {
     "name": "stdout",
     "output_type": "stream",
     "text": [
      "Time taken to load be_by: 0.26937365531921387\n",
      "Time taken to concatenate be_by: 7.152557373046875e-07\n",
      "Loading audio files for bg_bg from /export/common/data/corpora/fleurs/bg_bg/train\n"
     ]
    },
    {
     "data": {
      "application/vnd.jupyter.widget-view+json": {
       "model_id": "4efa163a820d4282a1c95f4cd3f564c8",
       "version_major": 2,
       "version_minor": 0
      },
      "text/plain": [
       "Map:   0%|          | 0/1 [00:00<?, ? examples/s]"
      ]
     },
     "metadata": {},
     "output_type": "display_data"
    },
    {
     "name": "stdout",
     "output_type": "stream",
     "text": [
      "Time taken to load bg_bg: 0.1899571418762207\n",
      "Time taken to concatenate bg_bg: 4.76837158203125e-07\n",
      "Loading audio files for bn_in from /export/common/data/corpora/fleurs/bn_in/train\n"
     ]
    },
    {
     "data": {
      "application/vnd.jupyter.widget-view+json": {
       "model_id": "315e14bd141c49679f37187646d90e22",
       "version_major": 2,
       "version_minor": 0
      },
      "text/plain": [
       "Map:   0%|          | 0/1 [00:00<?, ? examples/s]"
      ]
     },
     "metadata": {},
     "output_type": "display_data"
    },
    {
     "name": "stdout",
     "output_type": "stream",
     "text": [
      "Time taken to load bn_in: 0.19719171524047852\n",
      "Time taken to concatenate bn_in: 7.152557373046875e-07\n",
      "Loading audio files for bs_ba from /export/common/data/corpora/fleurs/bs_ba/train\n"
     ]
    },
    {
     "data": {
      "application/vnd.jupyter.widget-view+json": {
       "model_id": "6dc9e10cded544c692f8e1387672f69b",
       "version_major": 2,
       "version_minor": 0
      },
      "text/plain": [
       "Map:   0%|          | 0/1 [00:00<?, ? examples/s]"
      ]
     },
     "metadata": {},
     "output_type": "display_data"
    },
    {
     "name": "stdout",
     "output_type": "stream",
     "text": [
      "Time taken to load bs_ba: 0.1507585048675537\n",
      "Time taken to concatenate bs_ba: 2.384185791015625e-07\n",
      "Loading audio files for ca_es from /export/common/data/corpora/fleurs/ca_es/train\n"
     ]
    },
    {
     "data": {
      "application/vnd.jupyter.widget-view+json": {
       "model_id": "d1801cb6bf9e4774868be7ca468dc8a6",
       "version_major": 2,
       "version_minor": 0
      },
      "text/plain": [
       "Map:   0%|          | 0/1 [00:00<?, ? examples/s]"
      ]
     },
     "metadata": {},
     "output_type": "display_data"
    },
    {
     "name": "stdout",
     "output_type": "stream",
     "text": [
      "Time taken to load ca_es: 0.22175931930541992\n",
      "Time taken to concatenate ca_es: 4.76837158203125e-07\n",
      "Loading audio files for ceb_ph from /export/common/data/corpora/fleurs/ceb_ph/train\n"
     ]
    },
    {
     "data": {
      "application/vnd.jupyter.widget-view+json": {
       "model_id": "3f8456f68044464993d21213634b9f05",
       "version_major": 2,
       "version_minor": 0
      },
      "text/plain": [
       "Map:   0%|          | 0/1 [00:00<?, ? examples/s]"
      ]
     },
     "metadata": {},
     "output_type": "display_data"
    },
    {
     "name": "stdout",
     "output_type": "stream",
     "text": [
      "Time taken to load ceb_ph: 0.20818877220153809\n",
      "Time taken to concatenate ceb_ph: 4.76837158203125e-07\n",
      "Loading audio files for ckb_iq from /export/common/data/corpora/fleurs/ckb_iq/train\n"
     ]
    },
    {
     "data": {
      "application/vnd.jupyter.widget-view+json": {
       "model_id": "f1bc0a8edc954a25b2bdf1b965d215b9",
       "version_major": 2,
       "version_minor": 0
      },
      "text/plain": [
       "Map:   0%|          | 0/1 [00:00<?, ? examples/s]"
      ]
     },
     "metadata": {},
     "output_type": "display_data"
    },
    {
     "name": "stdout",
     "output_type": "stream",
     "text": [
      "Time taken to load ckb_iq: 0.2395191192626953\n",
      "Time taken to concatenate ckb_iq: 1.430511474609375e-06\n",
      "Loading audio files for cmn_hans_cn from /export/common/data/corpora/fleurs/cmn_hans_cn/train\n"
     ]
    },
    {
     "data": {
      "application/vnd.jupyter.widget-view+json": {
       "model_id": "1b9415cecd224714af42fb4d4742c406",
       "version_major": 2,
       "version_minor": 0
      },
      "text/plain": [
       "Map:   0%|          | 0/1 [00:00<?, ? examples/s]"
      ]
     },
     "metadata": {},
     "output_type": "display_data"
    },
    {
     "name": "stdout",
     "output_type": "stream",
     "text": [
      "Time taken to load cmn_hans_cn: 0.16764283180236816\n",
      "Time taken to concatenate cmn_hans_cn: 2.384185791015625e-07\n",
      "Loading audio files for cs_cz from /export/common/data/corpora/fleurs/cs_cz/train\n"
     ]
    },
    {
     "data": {
      "application/vnd.jupyter.widget-view+json": {
       "model_id": "0ce0c5d59fbf4c79a878fe9de0840537",
       "version_major": 2,
       "version_minor": 0
      },
      "text/plain": [
       "Map:   0%|          | 0/1 [00:00<?, ? examples/s]"
      ]
     },
     "metadata": {},
     "output_type": "display_data"
    },
    {
     "name": "stdout",
     "output_type": "stream",
     "text": [
      "Time taken to load cs_cz: 0.16276764869689941\n",
      "Time taken to concatenate cs_cz: 4.76837158203125e-07\n",
      "Loading audio files for cy_gb from /export/common/data/corpora/fleurs/cy_gb/train\n"
     ]
    },
    {
     "data": {
      "application/vnd.jupyter.widget-view+json": {
       "model_id": "9af0ef10bada4b02833120101873797e",
       "version_major": 2,
       "version_minor": 0
      },
      "text/plain": [
       "Map:   0%|          | 0/1 [00:00<?, ? examples/s]"
      ]
     },
     "metadata": {},
     "output_type": "display_data"
    },
    {
     "name": "stdout",
     "output_type": "stream",
     "text": [
      "Time taken to load cy_gb: 0.1588306427001953\n",
      "Time taken to concatenate cy_gb: 4.76837158203125e-07\n",
      "Loading audio files for da_dk from /export/common/data/corpora/fleurs/da_dk/train\n"
     ]
    },
    {
     "data": {
      "application/vnd.jupyter.widget-view+json": {
       "model_id": "6e318773faab4a77900d5f72925c2f5f",
       "version_major": 2,
       "version_minor": 0
      },
      "text/plain": [
       "Map:   0%|          | 0/1 [00:00<?, ? examples/s]"
      ]
     },
     "metadata": {},
     "output_type": "display_data"
    },
    {
     "name": "stdout",
     "output_type": "stream",
     "text": [
      "Time taken to load da_dk: 0.17497467994689941\n",
      "Time taken to concatenate da_dk: 9.5367431640625e-07\n",
      "Loading audio files for de_de from /export/common/data/corpora/fleurs/de_de/train\n"
     ]
    },
    {
     "data": {
      "application/vnd.jupyter.widget-view+json": {
       "model_id": "3f35f29854784a0c92243e40d06060c0",
       "version_major": 2,
       "version_minor": 0
      },
      "text/plain": [
       "Map:   0%|          | 0/1 [00:00<?, ? examples/s]"
      ]
     },
     "metadata": {},
     "output_type": "display_data"
    },
    {
     "name": "stdout",
     "output_type": "stream",
     "text": [
      "Time taken to load de_de: 0.21733784675598145\n",
      "Time taken to concatenate de_de: 4.76837158203125e-07\n",
      "Loading audio files for el_gr from /export/common/data/corpora/fleurs/el_gr/train\n"
     ]
    },
    {
     "data": {
      "application/vnd.jupyter.widget-view+json": {
       "model_id": "dd03d06860c6453dabbfe8928175098e",
       "version_major": 2,
       "version_minor": 0
      },
      "text/plain": [
       "Map:   0%|          | 0/1 [00:00<?, ? examples/s]"
      ]
     },
     "metadata": {},
     "output_type": "display_data"
    },
    {
     "name": "stdout",
     "output_type": "stream",
     "text": [
      "Time taken to load el_gr: 0.17254853248596191\n",
      "Time taken to concatenate el_gr: 4.76837158203125e-07\n",
      "Loading audio files for en_us from /export/common/data/corpora/fleurs/en_us/train\n"
     ]
    },
    {
     "data": {
      "application/vnd.jupyter.widget-view+json": {
       "model_id": "159200de25704db2b6a5e965a8d66d8e",
       "version_major": 2,
       "version_minor": 0
      },
      "text/plain": [
       "Map:   0%|          | 0/1 [00:00<?, ? examples/s]"
      ]
     },
     "metadata": {},
     "output_type": "display_data"
    },
    {
     "name": "stdout",
     "output_type": "stream",
     "text": [
      "Time taken to load en_us: 0.09241294860839844\n",
      "Time taken to concatenate en_us: 4.76837158203125e-07\n",
      "Loading audio files for es_419 from /export/common/data/corpora/fleurs/es_419/train\n"
     ]
    },
    {
     "data": {
      "application/vnd.jupyter.widget-view+json": {
       "model_id": "d092a90d283943c1a6c3891ac595e1a7",
       "version_major": 2,
       "version_minor": 0
      },
      "text/plain": [
       "Map:   0%|          | 0/1 [00:00<?, ? examples/s]"
      ]
     },
     "metadata": {},
     "output_type": "display_data"
    },
    {
     "name": "stdout",
     "output_type": "stream",
     "text": [
      "Time taken to load es_419: 0.1337440013885498\n",
      "Time taken to concatenate es_419: 2.384185791015625e-07\n",
      "Loading audio files for et_ee from /export/common/data/corpora/fleurs/et_ee/train\n"
     ]
    },
    {
     "data": {
      "application/vnd.jupyter.widget-view+json": {
       "model_id": "5f308b78951444f69cce8520b568a2f8",
       "version_major": 2,
       "version_minor": 0
      },
      "text/plain": [
       "Map:   0%|          | 0/1 [00:00<?, ? examples/s]"
      ]
     },
     "metadata": {},
     "output_type": "display_data"
    },
    {
     "name": "stdout",
     "output_type": "stream",
     "text": [
      "Time taken to load et_ee: 0.17624115943908691\n",
      "Time taken to concatenate et_ee: 7.152557373046875e-07\n",
      "Loading audio files for fa_ir from /export/common/data/corpora/fleurs/fa_ir/train\n"
     ]
    },
    {
     "data": {
      "application/vnd.jupyter.widget-view+json": {
       "model_id": "e5cd33482100487bacf2edf3a7d2d8f0",
       "version_major": 2,
       "version_minor": 0
      },
      "text/plain": [
       "Map:   0%|          | 0/1 [00:00<?, ? examples/s]"
      ]
     },
     "metadata": {},
     "output_type": "display_data"
    },
    {
     "name": "stdout",
     "output_type": "stream",
     "text": [
      "Time taken to load fa_ir: 0.19436407089233398\n",
      "Time taken to concatenate fa_ir: 7.152557373046875e-07\n",
      "Loading audio files for ff_sn from /export/common/data/corpora/fleurs/ff_sn/train\n"
     ]
    },
    {
     "data": {
      "application/vnd.jupyter.widget-view+json": {
       "model_id": "a2b2cad4c8b74600a905d72293d929b8",
       "version_major": 2,
       "version_minor": 0
      },
      "text/plain": [
       "Map:   0%|          | 0/1 [00:00<?, ? examples/s]"
      ]
     },
     "metadata": {},
     "output_type": "display_data"
    },
    {
     "name": "stdout",
     "output_type": "stream",
     "text": [
      "Time taken to load ff_sn: 0.14899134635925293\n",
      "Time taken to concatenate ff_sn: 4.76837158203125e-07\n",
      "Loading audio files for fi_fi from /export/common/data/corpora/fleurs/fi_fi/train\n"
     ]
    },
    {
     "data": {
      "application/vnd.jupyter.widget-view+json": {
       "model_id": "b77a875b52ec4be29c07a69e80c5b935",
       "version_major": 2,
       "version_minor": 0
      },
      "text/plain": [
       "Map:   0%|          | 0/1 [00:00<?, ? examples/s]"
      ]
     },
     "metadata": {},
     "output_type": "display_data"
    },
    {
     "name": "stdout",
     "output_type": "stream",
     "text": [
      "Time taken to load fi_fi: 0.15268969535827637\n",
      "Time taken to concatenate fi_fi: 7.152557373046875e-07\n",
      "Loading audio files for fil_ph from /export/common/data/corpora/fleurs/fil_ph/train\n"
     ]
    },
    {
     "data": {
      "application/vnd.jupyter.widget-view+json": {
       "model_id": "80c791053a8e48b281fa670deff68cbd",
       "version_major": 2,
       "version_minor": 0
      },
      "text/plain": [
       "Map:   0%|          | 0/1 [00:00<?, ? examples/s]"
      ]
     },
     "metadata": {},
     "output_type": "display_data"
    },
    {
     "name": "stdout",
     "output_type": "stream",
     "text": [
      "Time taken to load fil_ph: 0.17801380157470703\n",
      "Time taken to concatenate fil_ph: 4.76837158203125e-07\n",
      "Loading audio files for fr_fr from /export/common/data/corpora/fleurs/fr_fr/train\n"
     ]
    },
    {
     "data": {
      "application/vnd.jupyter.widget-view+json": {
       "model_id": "c93b6102b88e45049b8403951bbb9ca4",
       "version_major": 2,
       "version_minor": 0
      },
      "text/plain": [
       "Map:   0%|          | 0/1 [00:00<?, ? examples/s]"
      ]
     },
     "metadata": {},
     "output_type": "display_data"
    },
    {
     "name": "stdout",
     "output_type": "stream",
     "text": [
      "Time taken to load fr_fr: 0.255251407623291\n",
      "Time taken to concatenate fr_fr: 4.76837158203125e-07\n",
      "Loading audio files for ga_ie from /export/common/data/corpora/fleurs/ga_ie/train\n"
     ]
    },
    {
     "data": {
      "application/vnd.jupyter.widget-view+json": {
       "model_id": "90803ed9b4a04ac3a30253b499cc0ba7",
       "version_major": 2,
       "version_minor": 0
      },
      "text/plain": [
       "Map:   0%|          | 0/1 [00:00<?, ? examples/s]"
      ]
     },
     "metadata": {},
     "output_type": "display_data"
    },
    {
     "name": "stdout",
     "output_type": "stream",
     "text": [
      "Time taken to load ga_ie: 0.1500377655029297\n",
      "Time taken to concatenate ga_ie: 4.76837158203125e-07\n",
      "Loading audio files for gl_es from /export/common/data/corpora/fleurs/gl_es/train\n"
     ]
    },
    {
     "data": {
      "application/vnd.jupyter.widget-view+json": {
       "model_id": "a3649ec0016f475a89f4da8916b998f9",
       "version_major": 2,
       "version_minor": 0
      },
      "text/plain": [
       "Map:   0%|          | 0/1 [00:00<?, ? examples/s]"
      ]
     },
     "metadata": {},
     "output_type": "display_data"
    },
    {
     "name": "stdout",
     "output_type": "stream",
     "text": [
      "Time taken to load gl_es: 0.1945657730102539\n",
      "Time taken to concatenate gl_es: 4.76837158203125e-07\n",
      "Loading audio files for gu_in from /export/common/data/corpora/fleurs/gu_in/train\n"
     ]
    },
    {
     "data": {
      "application/vnd.jupyter.widget-view+json": {
       "model_id": "1f8a2c4fd80a44faa66afb4506414ad6",
       "version_major": 2,
       "version_minor": 0
      },
      "text/plain": [
       "Map:   0%|          | 0/1 [00:00<?, ? examples/s]"
      ]
     },
     "metadata": {},
     "output_type": "display_data"
    },
    {
     "name": "stdout",
     "output_type": "stream",
     "text": [
      "Time taken to load gu_in: 0.1812577247619629\n",
      "Time taken to concatenate gu_in: 4.76837158203125e-07\n",
      "Loading audio files for ha_ng from /export/common/data/corpora/fleurs/ha_ng/train\n"
     ]
    },
    {
     "data": {
      "application/vnd.jupyter.widget-view+json": {
       "model_id": "1d132b18402b4d559625d9fec67d95f0",
       "version_major": 2,
       "version_minor": 0
      },
      "text/plain": [
       "Map:   0%|          | 0/1 [00:00<?, ? examples/s]"
      ]
     },
     "metadata": {},
     "output_type": "display_data"
    },
    {
     "name": "stdout",
     "output_type": "stream",
     "text": [
      "Time taken to load ha_ng: 0.22706317901611328\n",
      "Time taken to concatenate ha_ng: 7.152557373046875e-07\n",
      "Loading audio files for he_il from /export/common/data/corpora/fleurs/he_il/train\n"
     ]
    },
    {
     "data": {
      "application/vnd.jupyter.widget-view+json": {
       "model_id": "98e230c600254bbb993160f63691f167",
       "version_major": 2,
       "version_minor": 0
      },
      "text/plain": [
       "Map:   0%|          | 0/1 [00:00<?, ? examples/s]"
      ]
     },
     "metadata": {},
     "output_type": "display_data"
    },
    {
     "name": "stdout",
     "output_type": "stream",
     "text": [
      "Time taken to load he_il: 0.14502167701721191\n",
      "Time taken to concatenate he_il: 4.76837158203125e-07\n",
      "Loading audio files for hi_in from /export/common/data/corpora/fleurs/hi_in/train\n"
     ]
    },
    {
     "data": {
      "application/vnd.jupyter.widget-view+json": {
       "model_id": "66dff8ef32e841cab2a0dd315d53436e",
       "version_major": 2,
       "version_minor": 0
      },
      "text/plain": [
       "Map:   0%|          | 0/1 [00:00<?, ? examples/s]"
      ]
     },
     "metadata": {},
     "output_type": "display_data"
    },
    {
     "name": "stdout",
     "output_type": "stream",
     "text": [
      "Time taken to load hi_in: 0.2041151523590088\n",
      "Time taken to concatenate hi_in: 9.5367431640625e-07\n",
      "Loading audio files for hr_hr from /export/common/data/corpora/fleurs/hr_hr/train\n"
     ]
    },
    {
     "data": {
      "application/vnd.jupyter.widget-view+json": {
       "model_id": "cd08b080d5224a5e9e4873a36184b0c7",
       "version_major": 2,
       "version_minor": 0
      },
      "text/plain": [
       "Map:   0%|          | 0/1 [00:00<?, ? examples/s]"
      ]
     },
     "metadata": {},
     "output_type": "display_data"
    },
    {
     "name": "stdout",
     "output_type": "stream",
     "text": [
      "Time taken to load hr_hr: 0.17323732376098633\n",
      "Time taken to concatenate hr_hr: 4.76837158203125e-07\n",
      "Loading audio files for hu_hu from /export/common/data/corpora/fleurs/hu_hu/train\n"
     ]
    },
    {
     "data": {
      "application/vnd.jupyter.widget-view+json": {
       "model_id": "bd54ba2e93f14bfabc5a65b1417efbf4",
       "version_major": 2,
       "version_minor": 0
      },
      "text/plain": [
       "Map:   0%|          | 0/1 [00:00<?, ? examples/s]"
      ]
     },
     "metadata": {},
     "output_type": "display_data"
    },
    {
     "name": "stdout",
     "output_type": "stream",
     "text": [
      "Time taken to load hu_hu: 0.15450191497802734\n",
      "Time taken to concatenate hu_hu: 4.76837158203125e-07\n",
      "Loading audio files for hy_am from /export/common/data/corpora/fleurs/hy_am/train\n"
     ]
    },
    {
     "data": {
      "application/vnd.jupyter.widget-view+json": {
       "model_id": "8ce78642d50a4f11a1a23e28a027c929",
       "version_major": 2,
       "version_minor": 0
      },
      "text/plain": [
       "Map:   0%|          | 0/1 [00:00<?, ? examples/s]"
      ]
     },
     "metadata": {},
     "output_type": "display_data"
    },
    {
     "name": "stdout",
     "output_type": "stream",
     "text": [
      "Time taken to load hy_am: 0.21085023880004883\n",
      "Time taken to concatenate hy_am: 2.384185791015625e-07\n",
      "Loading audio files for id_id from /export/common/data/corpora/fleurs/id_id/train\n"
     ]
    },
    {
     "data": {
      "application/vnd.jupyter.widget-view+json": {
       "model_id": "96bbc3d39522407c8ede1bf42ed9131b",
       "version_major": 2,
       "version_minor": 0
      },
      "text/plain": [
       "Map:   0%|          | 0/1 [00:00<?, ? examples/s]"
      ]
     },
     "metadata": {},
     "output_type": "display_data"
    },
    {
     "name": "stdout",
     "output_type": "stream",
     "text": [
      "Time taken to load id_id: 0.1333153247833252\n",
      "Time taken to concatenate id_id: 4.76837158203125e-07\n",
      "Loading audio files for ig_ng from /export/common/data/corpora/fleurs/ig_ng/train\n"
     ]
    },
    {
     "data": {
      "application/vnd.jupyter.widget-view+json": {
       "model_id": "02db182e84c24913b2c157e29b1c02b0",
       "version_major": 2,
       "version_minor": 0
      },
      "text/plain": [
       "Map:   0%|          | 0/1 [00:00<?, ? examples/s]"
      ]
     },
     "metadata": {},
     "output_type": "display_data"
    },
    {
     "name": "stdout",
     "output_type": "stream",
     "text": [
      "Time taken to load ig_ng: 0.21086597442626953\n",
      "Time taken to concatenate ig_ng: 4.76837158203125e-07\n",
      "Loading audio files for is_is from /export/common/data/corpora/fleurs/is_is/train\n"
     ]
    },
    {
     "data": {
      "application/vnd.jupyter.widget-view+json": {
       "model_id": "b92dfc3fc36347619f7d54f78f6af44c",
       "version_major": 2,
       "version_minor": 0
      },
      "text/plain": [
       "Map:   0%|          | 0/1 [00:00<?, ? examples/s]"
      ]
     },
     "metadata": {},
     "output_type": "display_data"
    },
    {
     "name": "stdout",
     "output_type": "stream",
     "text": [
      "Time taken to load is_is: 0.1527554988861084\n",
      "Time taken to concatenate is_is: 2.384185791015625e-07\n",
      "Loading audio files for it_it from /export/common/data/corpora/fleurs/it_it/train\n"
     ]
    },
    {
     "data": {
      "application/vnd.jupyter.widget-view+json": {
       "model_id": "5130f47d62574cc0bb48d310a762938f",
       "version_major": 2,
       "version_minor": 0
      },
      "text/plain": [
       "Map:   0%|          | 0/1 [00:00<?, ? examples/s]"
      ]
     },
     "metadata": {},
     "output_type": "display_data"
    },
    {
     "name": "stdout",
     "output_type": "stream",
     "text": [
      "Time taken to load it_it: 0.11700177192687988\n",
      "Time taken to concatenate it_it: 4.76837158203125e-07\n",
      "Loading audio files for ja_jp from /export/common/data/corpora/fleurs/ja_jp/train\n"
     ]
    },
    {
     "data": {
      "application/vnd.jupyter.widget-view+json": {
       "model_id": "02fa0981304c4066bc8481ae42f7f629",
       "version_major": 2,
       "version_minor": 0
      },
      "text/plain": [
       "Map:   0%|          | 0/1 [00:00<?, ? examples/s]"
      ]
     },
     "metadata": {},
     "output_type": "display_data"
    },
    {
     "name": "stdout",
     "output_type": "stream",
     "text": [
      "Time taken to load ja_jp: 0.14104032516479492\n",
      "Time taken to concatenate ja_jp: 4.76837158203125e-07\n",
      "Loading audio files for jv_id from /export/common/data/corpora/fleurs/jv_id/train\n"
     ]
    },
    {
     "data": {
      "application/vnd.jupyter.widget-view+json": {
       "model_id": "5f5d4e896a9345cd8a9020ccb1494d4e",
       "version_major": 2,
       "version_minor": 0
      },
      "text/plain": [
       "Map:   0%|          | 0/1 [00:00<?, ? examples/s]"
      ]
     },
     "metadata": {},
     "output_type": "display_data"
    },
    {
     "name": "stdout",
     "output_type": "stream",
     "text": [
      "Time taken to load jv_id: 0.22665715217590332\n",
      "Time taken to concatenate jv_id: 4.76837158203125e-07\n",
      "Loading audio files for ka_ge from /export/common/data/corpora/fleurs/ka_ge/train\n"
     ]
    },
    {
     "data": {
      "application/vnd.jupyter.widget-view+json": {
       "model_id": "6acabea86f194ccbb1eebeb5a7b63d0d",
       "version_major": 2,
       "version_minor": 0
      },
      "text/plain": [
       "Map:   0%|          | 0/1 [00:00<?, ? examples/s]"
      ]
     },
     "metadata": {},
     "output_type": "display_data"
    },
    {
     "name": "stdout",
     "output_type": "stream",
     "text": [
      "Time taken to load ka_ge: 0.16145634651184082\n",
      "Time taken to concatenate ka_ge: 4.76837158203125e-07\n",
      "Loading audio files for kam_ke from /export/common/data/corpora/fleurs/kam_ke/train\n"
     ]
    },
    {
     "data": {
      "application/vnd.jupyter.widget-view+json": {
       "model_id": "a07000089644405e878d1a10616a0e5a",
       "version_major": 2,
       "version_minor": 0
      },
      "text/plain": [
       "Map:   0%|          | 0/1 [00:00<?, ? examples/s]"
      ]
     },
     "metadata": {},
     "output_type": "display_data"
    },
    {
     "name": "stdout",
     "output_type": "stream",
     "text": [
      "Time taken to load kam_ke: 0.1662454605102539\n",
      "Time taken to concatenate kam_ke: 4.76837158203125e-07\n",
      "Loading audio files for kea_cv from /export/common/data/corpora/fleurs/kea_cv/train\n"
     ]
    },
    {
     "data": {
      "application/vnd.jupyter.widget-view+json": {
       "model_id": "b59a4ca7aa184497b7f60d37e2460653",
       "version_major": 2,
       "version_minor": 0
      },
      "text/plain": [
       "Map:   0%|          | 0/1 [00:00<?, ? examples/s]"
      ]
     },
     "metadata": {},
     "output_type": "display_data"
    },
    {
     "name": "stdout",
     "output_type": "stream",
     "text": [
      "Time taken to load kea_cv: 0.17636466026306152\n",
      "Time taken to concatenate kea_cv: 2.384185791015625e-07\n",
      "Loading audio files for kk_kz from /export/common/data/corpora/fleurs/kk_kz/train\n"
     ]
    },
    {
     "data": {
      "application/vnd.jupyter.widget-view+json": {
       "model_id": "b21fb43f8f754c358e7737caee9ae99b",
       "version_major": 2,
       "version_minor": 0
      },
      "text/plain": [
       "Map:   0%|          | 0/1 [00:00<?, ? examples/s]"
      ]
     },
     "metadata": {},
     "output_type": "display_data"
    },
    {
     "name": "stdout",
     "output_type": "stream",
     "text": [
      "Time taken to load kk_kz: 0.23909902572631836\n",
      "Time taken to concatenate kk_kz: 1.1920928955078125e-06\n",
      "Loading audio files for km_kh from /export/common/data/corpora/fleurs/km_kh/train\n"
     ]
    },
    {
     "data": {
      "application/vnd.jupyter.widget-view+json": {
       "model_id": "3450e01451bd48a9ac03140ff3d482ee",
       "version_major": 2,
       "version_minor": 0
      },
      "text/plain": [
       "Map:   0%|          | 0/1 [00:00<?, ? examples/s]"
      ]
     },
     "metadata": {},
     "output_type": "display_data"
    },
    {
     "name": "stdout",
     "output_type": "stream",
     "text": [
      "Time taken to load km_kh: 0.16267752647399902\n",
      "Time taken to concatenate km_kh: 7.152557373046875e-07\n",
      "Loading audio files for kn_in from /export/common/data/corpora/fleurs/kn_in/train\n"
     ]
    },
    {
     "data": {
      "application/vnd.jupyter.widget-view+json": {
       "model_id": "b05d9ec079f24b1c94ada6a724d11eb0",
       "version_major": 2,
       "version_minor": 0
      },
      "text/plain": [
       "Map:   0%|          | 0/1 [00:00<?, ? examples/s]"
      ]
     },
     "metadata": {},
     "output_type": "display_data"
    },
    {
     "name": "stdout",
     "output_type": "stream",
     "text": [
      "Time taken to load kn_in: 0.22140240669250488\n",
      "Time taken to concatenate kn_in: 4.76837158203125e-07\n",
      "Loading audio files for ko_kr from /export/common/data/corpora/fleurs/ko_kr/train\n"
     ]
    },
    {
     "data": {
      "application/vnd.jupyter.widget-view+json": {
       "model_id": "7b6dbbe86e82463a93b467916cf92501",
       "version_major": 2,
       "version_minor": 0
      },
      "text/plain": [
       "Map:   0%|          | 0/1 [00:00<?, ? examples/s]"
      ]
     },
     "metadata": {},
     "output_type": "display_data"
    },
    {
     "name": "stdout",
     "output_type": "stream",
     "text": [
      "Time taken to load ko_kr: 0.2054915428161621\n",
      "Time taken to concatenate ko_kr: 7.152557373046875e-07\n",
      "Loading audio files for ky_kg from /export/common/data/corpora/fleurs/ky_kg/train\n"
     ]
    },
    {
     "data": {
      "application/vnd.jupyter.widget-view+json": {
       "model_id": "e8720bdb53504d8eada6caef40e3fbd7",
       "version_major": 2,
       "version_minor": 0
      },
      "text/plain": [
       "Map:   0%|          | 0/1 [00:00<?, ? examples/s]"
      ]
     },
     "metadata": {},
     "output_type": "display_data"
    },
    {
     "name": "stdout",
     "output_type": "stream",
     "text": [
      "Time taken to load ky_kg: 0.1560075283050537\n",
      "Time taken to concatenate ky_kg: 4.76837158203125e-07\n",
      "Loading audio files for lb_lu from /export/common/data/corpora/fleurs/lb_lu/train\n"
     ]
    },
    {
     "data": {
      "application/vnd.jupyter.widget-view+json": {
       "model_id": "6fe83ab07e8043ef85246c9651b26489",
       "version_major": 2,
       "version_minor": 0
      },
      "text/plain": [
       "Map:   0%|          | 0/1 [00:00<?, ? examples/s]"
      ]
     },
     "metadata": {},
     "output_type": "display_data"
    },
    {
     "name": "stdout",
     "output_type": "stream",
     "text": [
      "Time taken to load lb_lu: 0.16021132469177246\n",
      "Time taken to concatenate lb_lu: 2.384185791015625e-07\n",
      "Loading audio files for lg_ug from /export/common/data/corpora/fleurs/lg_ug/train\n"
     ]
    },
    {
     "data": {
      "application/vnd.jupyter.widget-view+json": {
       "model_id": "a2d4e94e78bc489494dcbafd1c2b42a4",
       "version_major": 2,
       "version_minor": 0
      },
      "text/plain": [
       "Map:   0%|          | 0/1 [00:00<?, ? examples/s]"
      ]
     },
     "metadata": {},
     "output_type": "display_data"
    },
    {
     "name": "stdout",
     "output_type": "stream",
     "text": [
      "Time taken to load lg_ug: 0.19646334648132324\n",
      "Time taken to concatenate lg_ug: 2.384185791015625e-07\n",
      "Loading audio files for ln_cd from /export/common/data/corpora/fleurs/ln_cd/train\n"
     ]
    },
    {
     "data": {
      "application/vnd.jupyter.widget-view+json": {
       "model_id": "47007476f8404061905e04fa58f44d64",
       "version_major": 2,
       "version_minor": 0
      },
      "text/plain": [
       "Map:   0%|          | 0/1 [00:00<?, ? examples/s]"
      ]
     },
     "metadata": {},
     "output_type": "display_data"
    },
    {
     "name": "stdout",
     "output_type": "stream",
     "text": [
      "Time taken to load ln_cd: 0.2595181465148926\n",
      "Time taken to concatenate ln_cd: 7.152557373046875e-07\n",
      "Loading audio files for lo_la from /export/common/data/corpora/fleurs/lo_la/train\n"
     ]
    },
    {
     "data": {
      "application/vnd.jupyter.widget-view+json": {
       "model_id": "c20ed657d06844088f161e4dbf9aa35b",
       "version_major": 2,
       "version_minor": 0
      },
      "text/plain": [
       "Map:   0%|          | 0/1 [00:00<?, ? examples/s]"
      ]
     },
     "metadata": {},
     "output_type": "display_data"
    },
    {
     "name": "stdout",
     "output_type": "stream",
     "text": [
      "Time taken to load lo_la: 0.17546510696411133\n",
      "Time taken to concatenate lo_la: 4.76837158203125e-07\n",
      "Loading audio files for lt_lt from /export/common/data/corpora/fleurs/lt_lt/train\n"
     ]
    },
    {
     "data": {
      "application/vnd.jupyter.widget-view+json": {
       "model_id": "f2191e6924f549b1b5a96c3e5682a388",
       "version_major": 2,
       "version_minor": 0
      },
      "text/plain": [
       "Map:   0%|          | 0/1 [00:00<?, ? examples/s]"
      ]
     },
     "metadata": {},
     "output_type": "display_data"
    },
    {
     "name": "stdout",
     "output_type": "stream",
     "text": [
      "Time taken to load lt_lt: 0.18993020057678223\n",
      "Time taken to concatenate lt_lt: 4.76837158203125e-07\n",
      "Loading audio files for luo_ke from /export/common/data/corpora/fleurs/luo_ke/train\n"
     ]
    },
    {
     "data": {
      "application/vnd.jupyter.widget-view+json": {
       "model_id": "675237bd355e4c089a241697514c107a",
       "version_major": 2,
       "version_minor": 0
      },
      "text/plain": [
       "Map:   0%|          | 0/1 [00:00<?, ? examples/s]"
      ]
     },
     "metadata": {},
     "output_type": "display_data"
    },
    {
     "name": "stdout",
     "output_type": "stream",
     "text": [
      "Time taken to load luo_ke: 0.18111705780029297\n",
      "Time taken to concatenate luo_ke: 7.152557373046875e-07\n",
      "Loading audio files for lv_lv from /export/common/data/corpora/fleurs/lv_lv/train\n"
     ]
    },
    {
     "data": {
      "application/vnd.jupyter.widget-view+json": {
       "model_id": "c10dea368f1c45a7ac57731d3a23a7d2",
       "version_major": 2,
       "version_minor": 0
      },
      "text/plain": [
       "Map:   0%|          | 0/1 [00:00<?, ? examples/s]"
      ]
     },
     "metadata": {},
     "output_type": "display_data"
    },
    {
     "name": "stdout",
     "output_type": "stream",
     "text": [
      "Time taken to load lv_lv: 0.17921113967895508\n",
      "Time taken to concatenate lv_lv: 4.76837158203125e-07\n",
      "Loading audio files for mi_nz from /export/common/data/corpora/fleurs/mi_nz/train\n"
     ]
    },
    {
     "data": {
      "application/vnd.jupyter.widget-view+json": {
       "model_id": "fd6a6049ba45459e9f370876c507a28f",
       "version_major": 2,
       "version_minor": 0
      },
      "text/plain": [
       "Map:   0%|          | 0/1 [00:00<?, ? examples/s]"
      ]
     },
     "metadata": {},
     "output_type": "display_data"
    },
    {
     "name": "stdout",
     "output_type": "stream",
     "text": [
      "Time taken to load mi_nz: 0.215986967086792\n",
      "Time taken to concatenate mi_nz: 4.76837158203125e-07\n",
      "Loading audio files for mk_mk from /export/common/data/corpora/fleurs/mk_mk/train\n"
     ]
    },
    {
     "data": {
      "application/vnd.jupyter.widget-view+json": {
       "model_id": "bc2a831867344b78b459276227d65a08",
       "version_major": 2,
       "version_minor": 0
      },
      "text/plain": [
       "Map:   0%|          | 0/1 [00:00<?, ? examples/s]"
      ]
     },
     "metadata": {},
     "output_type": "display_data"
    },
    {
     "name": "stdout",
     "output_type": "stream",
     "text": [
      "Time taken to load mk_mk: 0.2222609519958496\n",
      "Time taken to concatenate mk_mk: 2.384185791015625e-07\n",
      "Loading audio files for ml_in from /export/common/data/corpora/fleurs/ml_in/train\n"
     ]
    },
    {
     "data": {
      "application/vnd.jupyter.widget-view+json": {
       "model_id": "a9acd99ba50a4f009082348a60cadbb5",
       "version_major": 2,
       "version_minor": 0
      },
      "text/plain": [
       "Map:   0%|          | 0/1 [00:00<?, ? examples/s]"
      ]
     },
     "metadata": {},
     "output_type": "display_data"
    },
    {
     "name": "stdout",
     "output_type": "stream",
     "text": [
      "Time taken to load ml_in: 0.22492122650146484\n",
      "Time taken to concatenate ml_in: 2.384185791015625e-07\n",
      "Loading audio files for mn_mn from /export/common/data/corpora/fleurs/mn_mn/train\n"
     ]
    },
    {
     "data": {
      "application/vnd.jupyter.widget-view+json": {
       "model_id": "4857e7bd4b314569a6955019d01fe808",
       "version_major": 2,
       "version_minor": 0
      },
      "text/plain": [
       "Map:   0%|          | 0/1 [00:00<?, ? examples/s]"
      ]
     },
     "metadata": {},
     "output_type": "display_data"
    },
    {
     "name": "stdout",
     "output_type": "stream",
     "text": [
      "Time taken to load mn_mn: 0.29268431663513184\n",
      "Time taken to concatenate mn_mn: 7.152557373046875e-07\n",
      "Loading audio files for mr_in from /export/common/data/corpora/fleurs/mr_in/train\n"
     ]
    },
    {
     "data": {
      "application/vnd.jupyter.widget-view+json": {
       "model_id": "a2148f9572ef4d44bfc84c069b9f56e1",
       "version_major": 2,
       "version_minor": 0
      },
      "text/plain": [
       "Map:   0%|          | 0/1 [00:00<?, ? examples/s]"
      ]
     },
     "metadata": {},
     "output_type": "display_data"
    },
    {
     "name": "stdout",
     "output_type": "stream",
     "text": [
      "Time taken to load mr_in: 0.2164623737335205\n",
      "Time taken to concatenate mr_in: 4.76837158203125e-07\n",
      "Loading audio files for ms_my from /export/common/data/corpora/fleurs/ms_my/train\n"
     ]
    },
    {
     "data": {
      "application/vnd.jupyter.widget-view+json": {
       "model_id": "023dc9e9905f4d8aad5d9d5c82726026",
       "version_major": 2,
       "version_minor": 0
      },
      "text/plain": [
       "Map:   0%|          | 0/1 [00:00<?, ? examples/s]"
      ]
     },
     "metadata": {},
     "output_type": "display_data"
    },
    {
     "name": "stdout",
     "output_type": "stream",
     "text": [
      "Time taken to load ms_my: 0.1817796230316162\n",
      "Time taken to concatenate ms_my: 4.76837158203125e-07\n",
      "Loading audio files for mt_mt from /export/common/data/corpora/fleurs/mt_mt/train\n"
     ]
    },
    {
     "data": {
      "application/vnd.jupyter.widget-view+json": {
       "model_id": "5c9a184d95ab40c986b2e62c627c949d",
       "version_major": 2,
       "version_minor": 0
      },
      "text/plain": [
       "Map:   0%|          | 0/1 [00:00<?, ? examples/s]"
      ]
     },
     "metadata": {},
     "output_type": "display_data"
    },
    {
     "name": "stdout",
     "output_type": "stream",
     "text": [
      "Time taken to load mt_mt: 0.20775699615478516\n",
      "Time taken to concatenate mt_mt: 2.384185791015625e-07\n",
      "Loading audio files for my_mm from /export/common/data/corpora/fleurs/my_mm/train\n"
     ]
    },
    {
     "data": {
      "application/vnd.jupyter.widget-view+json": {
       "model_id": "363d8c71866a4d338ff3d424708b7a39",
       "version_major": 2,
       "version_minor": 0
      },
      "text/plain": [
       "Map:   0%|          | 0/1 [00:00<?, ? examples/s]"
      ]
     },
     "metadata": {},
     "output_type": "display_data"
    },
    {
     "name": "stdout",
     "output_type": "stream",
     "text": [
      "Time taken to load my_mm: 0.5715146064758301\n",
      "Time taken to concatenate my_mm: 7.152557373046875e-07\n",
      "Loading audio files for nb_no from /export/common/data/corpora/fleurs/nb_no/train\n"
     ]
    },
    {
     "data": {
      "application/vnd.jupyter.widget-view+json": {
       "model_id": "e19c0150486d4e57b3745c5d790f789a",
       "version_major": 2,
       "version_minor": 0
      },
      "text/plain": [
       "Map:   0%|          | 0/1 [00:00<?, ? examples/s]"
      ]
     },
     "metadata": {},
     "output_type": "display_data"
    },
    {
     "name": "stdout",
     "output_type": "stream",
     "text": [
      "Time taken to load nb_no: 0.26477503776550293\n",
      "Time taken to concatenate nb_no: 7.152557373046875e-07\n",
      "Loading audio files for ne_np from /export/common/data/corpora/fleurs/ne_np/train\n"
     ]
    },
    {
     "data": {
      "application/vnd.jupyter.widget-view+json": {
       "model_id": "87716d6b8a89490d9beaabb4b9339bc8",
       "version_major": 2,
       "version_minor": 0
      },
      "text/plain": [
       "Map:   0%|          | 0/1 [00:00<?, ? examples/s]"
      ]
     },
     "metadata": {},
     "output_type": "display_data"
    },
    {
     "name": "stdout",
     "output_type": "stream",
     "text": [
      "Time taken to load ne_np: 0.22550487518310547\n",
      "Time taken to concatenate ne_np: 4.76837158203125e-07\n",
      "Loading audio files for nl_nl from /export/common/data/corpora/fleurs/nl_nl/train\n"
     ]
    },
    {
     "data": {
      "application/vnd.jupyter.widget-view+json": {
       "model_id": "674bcba6c1e543ea92878d48bf054407",
       "version_major": 2,
       "version_minor": 0
      },
      "text/plain": [
       "Map:   0%|          | 0/1 [00:00<?, ? examples/s]"
      ]
     },
     "metadata": {},
     "output_type": "display_data"
    },
    {
     "name": "stdout",
     "output_type": "stream",
     "text": [
      "Time taken to load nl_nl: 0.26967930793762207\n",
      "Time taken to concatenate nl_nl: 2.384185791015625e-07\n",
      "Loading audio files for nso_za from /export/common/data/corpora/fleurs/nso_za/train\n"
     ]
    },
    {
     "data": {
      "application/vnd.jupyter.widget-view+json": {
       "model_id": "8550fa72b8af425dbc5da1fc1d187889",
       "version_major": 2,
       "version_minor": 0
      },
      "text/plain": [
       "Map:   0%|          | 0/1 [00:00<?, ? examples/s]"
      ]
     },
     "metadata": {},
     "output_type": "display_data"
    },
    {
     "name": "stdout",
     "output_type": "stream",
     "text": [
      "Time taken to load nso_za: 0.17156624794006348\n",
      "Time taken to concatenate nso_za: 2.384185791015625e-07\n",
      "Loading audio files for ny_mw from /export/common/data/corpora/fleurs/ny_mw/train\n"
     ]
    },
    {
     "data": {
      "application/vnd.jupyter.widget-view+json": {
       "model_id": "908ca6cf1a334839ad3036693ad62ff7",
       "version_major": 2,
       "version_minor": 0
      },
      "text/plain": [
       "Map:   0%|          | 0/1 [00:00<?, ? examples/s]"
      ]
     },
     "metadata": {},
     "output_type": "display_data"
    },
    {
     "name": "stdout",
     "output_type": "stream",
     "text": [
      "Time taken to load ny_mw: 0.23284578323364258\n",
      "Time taken to concatenate ny_mw: 2.384185791015625e-07\n",
      "Loading audio files for oc_fr from /export/common/data/corpora/fleurs/oc_fr/train\n"
     ]
    },
    {
     "data": {
      "application/vnd.jupyter.widget-view+json": {
       "model_id": "850150f662894942944401fc73b66b40",
       "version_major": 2,
       "version_minor": 0
      },
      "text/plain": [
       "Map:   0%|          | 0/1 [00:00<?, ? examples/s]"
      ]
     },
     "metadata": {},
     "output_type": "display_data"
    },
    {
     "name": "stdout",
     "output_type": "stream",
     "text": [
      "Time taken to load oc_fr: 0.3538975715637207\n",
      "Time taken to concatenate oc_fr: 4.76837158203125e-07\n",
      "Loading audio files for om_et from /export/common/data/corpora/fleurs/om_et/train\n"
     ]
    },
    {
     "data": {
      "application/vnd.jupyter.widget-view+json": {
       "model_id": "e1fd9c5287644b849fa347956bb60da7",
       "version_major": 2,
       "version_minor": 0
      },
      "text/plain": [
       "Map:   0%|          | 0/1 [00:00<?, ? examples/s]"
      ]
     },
     "metadata": {},
     "output_type": "display_data"
    },
    {
     "name": "stdout",
     "output_type": "stream",
     "text": [
      "Time taken to load om_et: 0.23408079147338867\n",
      "Time taken to concatenate om_et: 7.152557373046875e-07\n",
      "Loading audio files for or_in from /export/common/data/corpora/fleurs/or_in/train\n"
     ]
    },
    {
     "data": {
      "application/vnd.jupyter.widget-view+json": {
       "model_id": "b475eef0df584ab58fd1be676c8af593",
       "version_major": 2,
       "version_minor": 0
      },
      "text/plain": [
       "Map:   0%|          | 0/1 [00:00<?, ? examples/s]"
      ]
     },
     "metadata": {},
     "output_type": "display_data"
    },
    {
     "name": "stdout",
     "output_type": "stream",
     "text": [
      "Time taken to load or_in: 0.14771223068237305\n",
      "Time taken to concatenate or_in: 4.76837158203125e-07\n",
      "Loading audio files for pa_in from /export/common/data/corpora/fleurs/pa_in/train\n"
     ]
    },
    {
     "data": {
      "application/vnd.jupyter.widget-view+json": {
       "model_id": "db0190ff6c784deb9223d1d5c5c82ee2",
       "version_major": 2,
       "version_minor": 0
      },
      "text/plain": [
       "Map:   0%|          | 0/1 [00:00<?, ? examples/s]"
      ]
     },
     "metadata": {},
     "output_type": "display_data"
    },
    {
     "name": "stdout",
     "output_type": "stream",
     "text": [
      "Time taken to load pa_in: 0.22282052040100098\n",
      "Time taken to concatenate pa_in: 2.384185791015625e-07\n",
      "Loading audio files for pl_pl from /export/common/data/corpora/fleurs/pl_pl/train\n"
     ]
    },
    {
     "data": {
      "application/vnd.jupyter.widget-view+json": {
       "model_id": "6a7e3d43b7f64309a3a29fd8fc281ae4",
       "version_major": 2,
       "version_minor": 0
      },
      "text/plain": [
       "Map:   0%|          | 0/1 [00:00<?, ? examples/s]"
      ]
     },
     "metadata": {},
     "output_type": "display_data"
    },
    {
     "name": "stdout",
     "output_type": "stream",
     "text": [
      "Time taken to load pl_pl: 0.18207812309265137\n",
      "Time taken to concatenate pl_pl: 2.384185791015625e-07\n",
      "Loading audio files for ps_af from /export/common/data/corpora/fleurs/ps_af/train\n"
     ]
    },
    {
     "data": {
      "application/vnd.jupyter.widget-view+json": {
       "model_id": "0f207f6a00164531a22f1f704b80012d",
       "version_major": 2,
       "version_minor": 0
      },
      "text/plain": [
       "Map:   0%|          | 0/1 [00:00<?, ? examples/s]"
      ]
     },
     "metadata": {},
     "output_type": "display_data"
    },
    {
     "name": "stdout",
     "output_type": "stream",
     "text": [
      "Time taken to load ps_af: 0.23044276237487793\n",
      "Time taken to concatenate ps_af: 4.76837158203125e-07\n",
      "Loading audio files for pt_br from /export/common/data/corpora/fleurs/pt_br/train\n"
     ]
    },
    {
     "data": {
      "application/vnd.jupyter.widget-view+json": {
       "model_id": "3c158dccec274476a2e1a6c5e9130748",
       "version_major": 2,
       "version_minor": 0
      },
      "text/plain": [
       "Map:   0%|          | 0/1 [00:00<?, ? examples/s]"
      ]
     },
     "metadata": {},
     "output_type": "display_data"
    },
    {
     "name": "stdout",
     "output_type": "stream",
     "text": [
      "Time taken to load pt_br: 0.1780714988708496\n",
      "Time taken to concatenate pt_br: 1.1920928955078125e-06\n",
      "Loading audio files for ro_ro from /export/common/data/corpora/fleurs/ro_ro/train\n"
     ]
    },
    {
     "data": {
      "application/vnd.jupyter.widget-view+json": {
       "model_id": "eb1e0cb896be4bf5b6536646a56cad55",
       "version_major": 2,
       "version_minor": 0
      },
      "text/plain": [
       "Map:   0%|          | 0/1 [00:00<?, ? examples/s]"
      ]
     },
     "metadata": {},
     "output_type": "display_data"
    },
    {
     "name": "stdout",
     "output_type": "stream",
     "text": [
      "Time taken to load ro_ro: 0.18749284744262695\n",
      "Time taken to concatenate ro_ro: 2.384185791015625e-07\n",
      "Loading audio files for ru_ru from /export/common/data/corpora/fleurs/ru_ru/train\n"
     ]
    },
    {
     "data": {
      "application/vnd.jupyter.widget-view+json": {
       "model_id": "e31ad0da8adf4e4e8ea2f20c1c127305",
       "version_major": 2,
       "version_minor": 0
      },
      "text/plain": [
       "Map:   0%|          | 0/1 [00:00<?, ? examples/s]"
      ]
     },
     "metadata": {},
     "output_type": "display_data"
    },
    {
     "name": "stdout",
     "output_type": "stream",
     "text": [
      "Time taken to load ru_ru: 0.2258908748626709\n",
      "Time taken to concatenate ru_ru: 2.384185791015625e-07\n",
      "Loading audio files for sd_in from /export/common/data/corpora/fleurs/sd_in/train\n"
     ]
    },
    {
     "data": {
      "application/vnd.jupyter.widget-view+json": {
       "model_id": "7bb1754473ff4977ba6ecfb163be4392",
       "version_major": 2,
       "version_minor": 0
      },
      "text/plain": [
       "Map:   0%|          | 0/1 [00:00<?, ? examples/s]"
      ]
     },
     "metadata": {},
     "output_type": "display_data"
    },
    {
     "name": "stdout",
     "output_type": "stream",
     "text": [
      "Time taken to load sd_in: 0.27345919609069824\n",
      "Time taken to concatenate sd_in: 4.76837158203125e-07\n",
      "Loading audio files for sk_sk from /export/common/data/corpora/fleurs/sk_sk/train\n"
     ]
    },
    {
     "data": {
      "application/vnd.jupyter.widget-view+json": {
       "model_id": "9e5b7647e15c488ea72bff1b4ee9cf5b",
       "version_major": 2,
       "version_minor": 0
      },
      "text/plain": [
       "Map:   0%|          | 0/1 [00:00<?, ? examples/s]"
      ]
     },
     "metadata": {},
     "output_type": "display_data"
    },
    {
     "name": "stdout",
     "output_type": "stream",
     "text": [
      "Time taken to load sk_sk: 0.1880326271057129\n",
      "Time taken to concatenate sk_sk: 2.384185791015625e-07\n",
      "Loading audio files for sl_si from /export/common/data/corpora/fleurs/sl_si/train\n"
     ]
    },
    {
     "data": {
      "application/vnd.jupyter.widget-view+json": {
       "model_id": "68d346c0be2c4a7697972e39e716cb10",
       "version_major": 2,
       "version_minor": 0
      },
      "text/plain": [
       "Map:   0%|          | 0/1 [00:00<?, ? examples/s]"
      ]
     },
     "metadata": {},
     "output_type": "display_data"
    },
    {
     "name": "stdout",
     "output_type": "stream",
     "text": [
      "Time taken to load sl_si: 0.13648509979248047\n",
      "Time taken to concatenate sl_si: 2.384185791015625e-07\n",
      "Loading audio files for sn_zw from /export/common/data/corpora/fleurs/sn_zw/train\n"
     ]
    },
    {
     "data": {
      "application/vnd.jupyter.widget-view+json": {
       "model_id": "3ea6699429bd457b9b6e73923be27762",
       "version_major": 2,
       "version_minor": 0
      },
      "text/plain": [
       "Map:   0%|          | 0/1 [00:00<?, ? examples/s]"
      ]
     },
     "metadata": {},
     "output_type": "display_data"
    },
    {
     "name": "stdout",
     "output_type": "stream",
     "text": [
      "Time taken to load sn_zw: 0.16701197624206543\n",
      "Time taken to concatenate sn_zw: 4.76837158203125e-07\n",
      "Loading audio files for so_so from /export/common/data/corpora/fleurs/so_so/train\n"
     ]
    },
    {
     "data": {
      "application/vnd.jupyter.widget-view+json": {
       "model_id": "4257ca7fc8c9441d88952347bc89b27d",
       "version_major": 2,
       "version_minor": 0
      },
      "text/plain": [
       "Map:   0%|          | 0/1 [00:00<?, ? examples/s]"
      ]
     },
     "metadata": {},
     "output_type": "display_data"
    },
    {
     "name": "stdout",
     "output_type": "stream",
     "text": [
      "Time taken to load so_so: 0.2234940528869629\n",
      "Time taken to concatenate so_so: 4.76837158203125e-07\n",
      "Loading audio files for sr_rs from /export/common/data/corpora/fleurs/sr_rs/train\n"
     ]
    },
    {
     "data": {
      "application/vnd.jupyter.widget-view+json": {
       "model_id": "848d094745fb4967bc052f6bddb7177d",
       "version_major": 2,
       "version_minor": 0
      },
      "text/plain": [
       "Map:   0%|          | 0/1 [00:00<?, ? examples/s]"
      ]
     },
     "metadata": {},
     "output_type": "display_data"
    },
    {
     "name": "stdout",
     "output_type": "stream",
     "text": [
      "Time taken to load sr_rs: 0.17185091972351074\n",
      "Time taken to concatenate sr_rs: 1.430511474609375e-06\n",
      "Loading audio files for sv_se from /export/common/data/corpora/fleurs/sv_se/train\n"
     ]
    },
    {
     "data": {
      "application/vnd.jupyter.widget-view+json": {
       "model_id": "6fe224d8fe1d49beae756e724625aec0",
       "version_major": 2,
       "version_minor": 0
      },
      "text/plain": [
       "Map:   0%|          | 0/1 [00:00<?, ? examples/s]"
      ]
     },
     "metadata": {},
     "output_type": "display_data"
    },
    {
     "name": "stdout",
     "output_type": "stream",
     "text": [
      "Time taken to load sv_se: 0.17674589157104492\n",
      "Time taken to concatenate sv_se: 9.5367431640625e-07\n",
      "Loading audio files for sw_ke from /export/common/data/corpora/fleurs/sw_ke/train\n"
     ]
    },
    {
     "data": {
      "application/vnd.jupyter.widget-view+json": {
       "model_id": "4d7d4a25e0f54961ac55f51ccd673394",
       "version_major": 2,
       "version_minor": 0
      },
      "text/plain": [
       "Map:   0%|          | 0/1 [00:00<?, ? examples/s]"
      ]
     },
     "metadata": {},
     "output_type": "display_data"
    },
    {
     "name": "stdout",
     "output_type": "stream",
     "text": [
      "Time taken to load sw_ke: 0.21678996086120605\n",
      "Time taken to concatenate sw_ke: 7.152557373046875e-07\n",
      "Loading audio files for ta_in from /export/common/data/corpora/fleurs/ta_in/train\n"
     ]
    },
    {
     "data": {
      "application/vnd.jupyter.widget-view+json": {
       "model_id": "53899335138e473491f2d6e62627a1e4",
       "version_major": 2,
       "version_minor": 0
      },
      "text/plain": [
       "Map:   0%|          | 0/1 [00:00<?, ? examples/s]"
      ]
     },
     "metadata": {},
     "output_type": "display_data"
    },
    {
     "name": "stdout",
     "output_type": "stream",
     "text": [
      "Time taken to load ta_in: 0.23692107200622559\n",
      "Time taken to concatenate ta_in: 4.76837158203125e-07\n",
      "Loading audio files for te_in from /export/common/data/corpora/fleurs/te_in/train\n"
     ]
    },
    {
     "data": {
      "application/vnd.jupyter.widget-view+json": {
       "model_id": "ab94d8044a8048c78fef7b9993a1ce01",
       "version_major": 2,
       "version_minor": 0
      },
      "text/plain": [
       "Map:   0%|          | 0/1 [00:00<?, ? examples/s]"
      ]
     },
     "metadata": {},
     "output_type": "display_data"
    },
    {
     "name": "stdout",
     "output_type": "stream",
     "text": [
      "Time taken to load te_in: 0.13163018226623535\n",
      "Time taken to concatenate te_in: 7.152557373046875e-07\n",
      "Loading audio files for tg_tj from /export/common/data/corpora/fleurs/tg_tj/train\n"
     ]
    },
    {
     "data": {
      "application/vnd.jupyter.widget-view+json": {
       "model_id": "17da11f8ac8b46e6bb4c75018aef63be",
       "version_major": 2,
       "version_minor": 0
      },
      "text/plain": [
       "Map:   0%|          | 0/1 [00:00<?, ? examples/s]"
      ]
     },
     "metadata": {},
     "output_type": "display_data"
    },
    {
     "name": "stdout",
     "output_type": "stream",
     "text": [
      "Time taken to load tg_tj: 0.18014931678771973\n",
      "Time taken to concatenate tg_tj: 9.5367431640625e-07\n",
      "Loading audio files for th_th from /export/common/data/corpora/fleurs/th_th/train\n"
     ]
    },
    {
     "data": {
      "application/vnd.jupyter.widget-view+json": {
       "model_id": "0a86574969a74485924f83bf22fada0d",
       "version_major": 2,
       "version_minor": 0
      },
      "text/plain": [
       "Map:   0%|          | 0/1 [00:00<?, ? examples/s]"
      ]
     },
     "metadata": {},
     "output_type": "display_data"
    },
    {
     "name": "stdout",
     "output_type": "stream",
     "text": [
      "Time taken to load th_th: 0.16491127014160156\n",
      "Time taken to concatenate th_th: 7.152557373046875e-07\n",
      "Loading audio files for tr_tr from /export/common/data/corpora/fleurs/tr_tr/train\n"
     ]
    },
    {
     "data": {
      "application/vnd.jupyter.widget-view+json": {
       "model_id": "5d56633e7e6f4db0aa2ea07e0e107f1f",
       "version_major": 2,
       "version_minor": 0
      },
      "text/plain": [
       "Map:   0%|          | 0/1 [00:00<?, ? examples/s]"
      ]
     },
     "metadata": {},
     "output_type": "display_data"
    },
    {
     "name": "stdout",
     "output_type": "stream",
     "text": [
      "Time taken to load tr_tr: 0.22400808334350586\n",
      "Time taken to concatenate tr_tr: 4.76837158203125e-07\n",
      "Loading audio files for uk_ua from /export/common/data/corpora/fleurs/uk_ua/train\n"
     ]
    },
    {
     "data": {
      "application/vnd.jupyter.widget-view+json": {
       "model_id": "462b50b75233456db3eede014536d557",
       "version_major": 2,
       "version_minor": 0
      },
      "text/plain": [
       "Map:   0%|          | 0/1 [00:00<?, ? examples/s]"
      ]
     },
     "metadata": {},
     "output_type": "display_data"
    },
    {
     "name": "stdout",
     "output_type": "stream",
     "text": [
      "Time taken to load uk_ua: 0.2090132236480713\n",
      "Time taken to concatenate uk_ua: 2.86102294921875e-06\n",
      "Loading audio files for umb_ao from /export/common/data/corpora/fleurs/umb_ao/train\n"
     ]
    },
    {
     "data": {
      "application/vnd.jupyter.widget-view+json": {
       "model_id": "70725677bb3c4db692cffb4e94c2fcdd",
       "version_major": 2,
       "version_minor": 0
      },
      "text/plain": [
       "Map:   0%|          | 0/1 [00:00<?, ? examples/s]"
      ]
     },
     "metadata": {},
     "output_type": "display_data"
    },
    {
     "name": "stdout",
     "output_type": "stream",
     "text": [
      "Time taken to load umb_ao: 0.22568225860595703\n",
      "Time taken to concatenate umb_ao: 7.152557373046875e-07\n",
      "Loading audio files for ur_pk from /export/common/data/corpora/fleurs/ur_pk/train\n"
     ]
    },
    {
     "data": {
      "application/vnd.jupyter.widget-view+json": {
       "model_id": "5c8e79e211874789a898cb512265ebd2",
       "version_major": 2,
       "version_minor": 0
      },
      "text/plain": [
       "Map:   0%|          | 0/1 [00:00<?, ? examples/s]"
      ]
     },
     "metadata": {},
     "output_type": "display_data"
    },
    {
     "name": "stdout",
     "output_type": "stream",
     "text": [
      "Time taken to load ur_pk: 0.2173295021057129\n",
      "Time taken to concatenate ur_pk: 2.1457672119140625e-06\n",
      "Loading audio files for uz_uz from /export/common/data/corpora/fleurs/uz_uz/train\n"
     ]
    },
    {
     "data": {
      "application/vnd.jupyter.widget-view+json": {
       "model_id": "ca20d97c9f3749a9a312b3dd2a770292",
       "version_major": 2,
       "version_minor": 0
      },
      "text/plain": [
       "Map:   0%|          | 0/1 [00:00<?, ? examples/s]"
      ]
     },
     "metadata": {},
     "output_type": "display_data"
    },
    {
     "name": "stdout",
     "output_type": "stream",
     "text": [
      "Time taken to load uz_uz: 0.2525179386138916\n",
      "Time taken to concatenate uz_uz: 4.76837158203125e-07\n",
      "Loading audio files for vi_vn from /export/common/data/corpora/fleurs/vi_vn/train\n"
     ]
    },
    {
     "data": {
      "application/vnd.jupyter.widget-view+json": {
       "model_id": "e05cb0468d014617b11168ca56b89842",
       "version_major": 2,
       "version_minor": 0
      },
      "text/plain": [
       "Map:   0%|          | 0/1 [00:00<?, ? examples/s]"
      ]
     },
     "metadata": {},
     "output_type": "display_data"
    },
    {
     "name": "stdout",
     "output_type": "stream",
     "text": [
      "Time taken to load vi_vn: 0.16056036949157715\n",
      "Time taken to concatenate vi_vn: 4.76837158203125e-07\n",
      "Loading audio files for wo_sn from /export/common/data/corpora/fleurs/wo_sn/train\n"
     ]
    },
    {
     "data": {
      "application/vnd.jupyter.widget-view+json": {
       "model_id": "428c9e3da9624bbda9048a47952742c0",
       "version_major": 2,
       "version_minor": 0
      },
      "text/plain": [
       "Map:   0%|          | 0/1 [00:00<?, ? examples/s]"
      ]
     },
     "metadata": {},
     "output_type": "display_data"
    },
    {
     "name": "stdout",
     "output_type": "stream",
     "text": [
      "Time taken to load wo_sn: 0.16271328926086426\n",
      "Time taken to concatenate wo_sn: 7.152557373046875e-07\n",
      "Loading audio files for xh_za from /export/common/data/corpora/fleurs/xh_za/train\n"
     ]
    },
    {
     "data": {
      "application/vnd.jupyter.widget-view+json": {
       "model_id": "11a69587271e46a8900d1aa61789a701",
       "version_major": 2,
       "version_minor": 0
      },
      "text/plain": [
       "Map:   0%|          | 0/1 [00:00<?, ? examples/s]"
      ]
     },
     "metadata": {},
     "output_type": "display_data"
    },
    {
     "name": "stdout",
     "output_type": "stream",
     "text": [
      "Time taken to load xh_za: 0.16379213333129883\n",
      "Time taken to concatenate xh_za: 2.384185791015625e-07\n",
      "Loading audio files for yo_ng from /export/common/data/corpora/fleurs/yo_ng/train\n"
     ]
    },
    {
     "data": {
      "application/vnd.jupyter.widget-view+json": {
       "model_id": "a34ae5c33270485b9ff2c6771491ae0d",
       "version_major": 2,
       "version_minor": 0
      },
      "text/plain": [
       "Map:   0%|          | 0/1 [00:00<?, ? examples/s]"
      ]
     },
     "metadata": {},
     "output_type": "display_data"
    },
    {
     "name": "stdout",
     "output_type": "stream",
     "text": [
      "Time taken to load yo_ng: 0.2629885673522949\n",
      "Time taken to concatenate yo_ng: 2.384185791015625e-07\n",
      "Loading audio files for yue_hant_hk from /export/common/data/corpora/fleurs/yue_hant_hk/train\n"
     ]
    },
    {
     "data": {
      "application/vnd.jupyter.widget-view+json": {
       "model_id": "4240c4da751e415f85719335c887c961",
       "version_major": 2,
       "version_minor": 0
      },
      "text/plain": [
       "Map:   0%|          | 0/1 [00:00<?, ? examples/s]"
      ]
     },
     "metadata": {},
     "output_type": "display_data"
    },
    {
     "name": "stdout",
     "output_type": "stream",
     "text": [
      "Time taken to load yue_hant_hk: 0.1944437026977539\n",
      "Time taken to concatenate yue_hant_hk: 2.384185791015625e-07\n",
      "Loading audio files for zu_za from /export/common/data/corpora/fleurs/zu_za/train\n"
     ]
    },
    {
     "data": {
      "application/vnd.jupyter.widget-view+json": {
       "model_id": "33f7c71d597b4a9f8281f4048dd4b298",
       "version_major": 2,
       "version_minor": 0
      },
      "text/plain": [
       "Map:   0%|          | 0/1 [00:00<?, ? examples/s]"
      ]
     },
     "metadata": {},
     "output_type": "display_data"
    },
    {
     "name": "stdout",
     "output_type": "stream",
     "text": [
      "Time taken to load zu_za: 0.18124794960021973\n",
      "Time taken to concatenate zu_za: 7.152557373046875e-07\n"
     ]
    }
   ],
   "source": [
    "fleurs = load_lid_dataset(\"fleurs\", split = \"train\", per_lang=1)"
   ]
  },
  {
   "cell_type": "code",
   "execution_count": 13,
   "metadata": {},
   "outputs": [
    {
     "data": {
      "text/plain": [
       "96000"
      ]
     },
     "execution_count": 13,
     "metadata": {},
     "output_type": "execute_result"
    }
   ],
   "source": [
    "len(fleurs[4][\"signal\"])\n"
   ]
  },
  {
   "cell_type": "code",
   "execution_count": 7,
   "metadata": {},
   "outputs": [
    {
     "name": "stdout",
     "output_type": "stream",
     "text": [
      "Loading all languages from /exp/jvillalba/corpora/voxlingua107\n",
      "Loading audio files for am from /exp/jvillalba/corpora/voxlingua107/am\n"
     ]
    },
    {
     "data": {
      "application/vnd.jupyter.widget-view+json": {
       "model_id": "933286726baa460a89783e1df8ae6081",
       "version_major": 2,
       "version_minor": 0
      },
      "text/plain": [
       "Map:   0%|          | 0/1 [00:00<?, ? examples/s]"
      ]
     },
     "metadata": {},
     "output_type": "display_data"
    },
    {
     "name": "stdout",
     "output_type": "stream",
     "text": [
      "Time taken to load am: 0.10573768615722656\n",
      "Time taken to concatenate am: 0.001840829849243164\n",
      "Loading audio files for ba from /exp/jvillalba/corpora/voxlingua107/ba\n"
     ]
    },
    {
     "data": {
      "application/vnd.jupyter.widget-view+json": {
       "model_id": "b92d84394ca747a6aac11fff0595eda1",
       "version_major": 2,
       "version_minor": 0
      },
      "text/plain": [
       "Map:   0%|          | 0/1 [00:00<?, ? examples/s]"
      ]
     },
     "metadata": {},
     "output_type": "display_data"
    },
    {
     "name": "stdout",
     "output_type": "stream",
     "text": [
      "Time taken to load ba: 0.053957223892211914\n",
      "Time taken to concatenate ba: 0.0016112327575683594\n",
      "Loading audio files for as from /exp/jvillalba/corpora/voxlingua107/as\n"
     ]
    },
    {
     "data": {
      "application/vnd.jupyter.widget-view+json": {
       "model_id": "ba6e64baec7049329cf8c27632dfaa7e",
       "version_major": 2,
       "version_minor": 0
      },
      "text/plain": [
       "Map:   0%|          | 0/1 [00:00<?, ? examples/s]"
      ]
     },
     "metadata": {},
     "output_type": "display_data"
    },
    {
     "name": "stdout",
     "output_type": "stream",
     "text": [
      "Time taken to load as: 0.19161248207092285\n",
      "Time taken to concatenate as: 0.0021669864654541016\n",
      "Loading audio files for ar from /exp/jvillalba/corpora/voxlingua107/ar\n"
     ]
    },
    {
     "data": {
      "application/vnd.jupyter.widget-view+json": {
       "model_id": "c39c646ac8dd4112838b8913a21857dc",
       "version_major": 2,
       "version_minor": 0
      },
      "text/plain": [
       "Map:   0%|          | 0/1 [00:00<?, ? examples/s]"
      ]
     },
     "metadata": {},
     "output_type": "display_data"
    },
    {
     "name": "stdout",
     "output_type": "stream",
     "text": [
      "Time taken to load ar: 0.1139383316040039\n",
      "Time taken to concatenate ar: 0.002193450927734375\n",
      "Loading audio files for be from /exp/jvillalba/corpora/voxlingua107/be\n"
     ]
    },
    {
     "data": {
      "application/vnd.jupyter.widget-view+json": {
       "model_id": "656aaca79c6b4fb9b3f494b8ae479623",
       "version_major": 2,
       "version_minor": 0
      },
      "text/plain": [
       "Map:   0%|          | 0/1 [00:00<?, ? examples/s]"
      ]
     },
     "metadata": {},
     "output_type": "display_data"
    },
    {
     "name": "stdout",
     "output_type": "stream",
     "text": [
      "Time taken to load be: 0.09174728393554688\n",
      "Time taken to concatenate be: 0.0017211437225341797\n",
      "Loading audio files for az from /exp/jvillalba/corpora/voxlingua107/az\n"
     ]
    },
    {
     "data": {
      "application/vnd.jupyter.widget-view+json": {
       "model_id": "2cdcd1bc52bd4e3d822a15b22b542041",
       "version_major": 2,
       "version_minor": 0
      },
      "text/plain": [
       "Map:   0%|          | 0/1 [00:00<?, ? examples/s]"
      ]
     },
     "metadata": {},
     "output_type": "display_data"
    },
    {
     "name": "stdout",
     "output_type": "stream",
     "text": [
      "Time taken to load az: 0.10629892349243164\n",
      "Time taken to concatenate az: 0.002213716506958008\n",
      "Loading audio files for bg from /exp/jvillalba/corpora/voxlingua107/bg\n"
     ]
    },
    {
     "data": {
      "application/vnd.jupyter.widget-view+json": {
       "model_id": "ab21871a17184c97914f66cd5e105e0f",
       "version_major": 2,
       "version_minor": 0
      },
      "text/plain": [
       "Map:   0%|          | 0/1 [00:00<?, ? examples/s]"
      ]
     },
     "metadata": {},
     "output_type": "display_data"
    },
    {
     "name": "stdout",
     "output_type": "stream",
     "text": [
      "Time taken to load bg: 0.08133912086486816\n",
      "Time taken to concatenate bg: 0.002431154251098633\n",
      "Loading audio files for ab from /exp/jvillalba/corpora/voxlingua107/ab\n"
     ]
    },
    {
     "data": {
      "application/vnd.jupyter.widget-view+json": {
       "model_id": "f5920f230135446da1cae7eda607ad83",
       "version_major": 2,
       "version_minor": 0
      },
      "text/plain": [
       "Map:   0%|          | 0/1 [00:00<?, ? examples/s]"
      ]
     },
     "metadata": {},
     "output_type": "display_data"
    },
    {
     "name": "stdout",
     "output_type": "stream",
     "text": [
      "Time taken to load ab: 0.05981588363647461\n",
      "Time taken to concatenate ab: 0.002368927001953125\n",
      "Loading audio files for bo from /exp/jvillalba/corpora/voxlingua107/bo\n"
     ]
    },
    {
     "data": {
      "application/vnd.jupyter.widget-view+json": {
       "model_id": "7ad53264dcc44412b7430896886c26e9",
       "version_major": 2,
       "version_minor": 0
      },
      "text/plain": [
       "Map:   0%|          | 0/1 [00:00<?, ? examples/s]"
      ]
     },
     "metadata": {},
     "output_type": "display_data"
    },
    {
     "name": "stdout",
     "output_type": "stream",
     "text": [
      "Time taken to load bo: 0.12724757194519043\n",
      "Time taken to concatenate bo: 0.002399921417236328\n",
      "Loading audio files for af from /exp/jvillalba/corpora/voxlingua107/af\n"
     ]
    },
    {
     "data": {
      "application/vnd.jupyter.widget-view+json": {
       "model_id": "f9a90f0f59324597a12bccc134629742",
       "version_major": 2,
       "version_minor": 0
      },
      "text/plain": [
       "Map:   0%|          | 0/1 [00:00<?, ? examples/s]"
      ]
     },
     "metadata": {},
     "output_type": "display_data"
    },
    {
     "name": "stdout",
     "output_type": "stream",
     "text": [
      "Time taken to load af: 0.12031388282775879\n",
      "Time taken to concatenate af: 0.0023965835571289062\n",
      "Loading audio files for bn from /exp/jvillalba/corpora/voxlingua107/bn\n"
     ]
    },
    {
     "data": {
      "application/vnd.jupyter.widget-view+json": {
       "model_id": "185b8be784e546beaea08924531a998f",
       "version_major": 2,
       "version_minor": 0
      },
      "text/plain": [
       "Map:   0%|          | 0/1 [00:00<?, ? examples/s]"
      ]
     },
     "metadata": {},
     "output_type": "display_data"
    },
    {
     "name": "stdout",
     "output_type": "stream",
     "text": [
      "Time taken to load bn: 0.04834794998168945\n",
      "Time taken to concatenate bn: 0.0018074512481689453\n",
      "Loading audio files for en from /exp/jvillalba/corpora/voxlingua107/en\n"
     ]
    },
    {
     "data": {
      "application/vnd.jupyter.widget-view+json": {
       "model_id": "3fb19e247a8c4292a76d2dcde8221f15",
       "version_major": 2,
       "version_minor": 0
      },
      "text/plain": [
       "Map:   0%|          | 0/1 [00:00<?, ? examples/s]"
      ]
     },
     "metadata": {},
     "output_type": "display_data"
    },
    {
     "name": "stdout",
     "output_type": "stream",
     "text": [
      "Time taken to load en: 0.08490157127380371\n",
      "Time taken to concatenate en: 0.002412557601928711\n",
      "Loading audio files for es from /exp/jvillalba/corpora/voxlingua107/es\n"
     ]
    },
    {
     "data": {
      "application/vnd.jupyter.widget-view+json": {
       "model_id": "f4815d35f52a4a9b901c15264b18b602",
       "version_major": 2,
       "version_minor": 0
      },
      "text/plain": [
       "Map:   0%|          | 0/1 [00:00<?, ? examples/s]"
      ]
     },
     "metadata": {},
     "output_type": "display_data"
    },
    {
     "name": "stdout",
     "output_type": "stream",
     "text": [
      "Time taken to load es: 0.044412851333618164\n",
      "Time taken to concatenate es: 0.0019648075103759766\n",
      "Loading audio files for eu from /exp/jvillalba/corpora/voxlingua107/eu\n"
     ]
    },
    {
     "data": {
      "application/vnd.jupyter.widget-view+json": {
       "model_id": "f5384a4903b744ecb93e4593b2d8edd0",
       "version_major": 2,
       "version_minor": 0
      },
      "text/plain": [
       "Map:   0%|          | 0/1 [00:00<?, ? examples/s]"
      ]
     },
     "metadata": {},
     "output_type": "display_data"
    },
    {
     "name": "stdout",
     "output_type": "stream",
     "text": [
      "Time taken to load eu: 0.07103848457336426\n",
      "Time taken to concatenate eu: 0.002371072769165039\n",
      "Loading audio files for el from /exp/jvillalba/corpora/voxlingua107/el\n"
     ]
    },
    {
     "data": {
      "application/vnd.jupyter.widget-view+json": {
       "model_id": "2dab2c8cf41841bf9f5bed52d45a83c6",
       "version_major": 2,
       "version_minor": 0
      },
      "text/plain": [
       "Map:   0%|          | 0/1 [00:00<?, ? examples/s]"
      ]
     },
     "metadata": {},
     "output_type": "display_data"
    },
    {
     "name": "stdout",
     "output_type": "stream",
     "text": [
      "Time taken to load el: 0.09393835067749023\n",
      "Time taken to concatenate el: 0.0023186206817626953\n",
      "Loading audio files for et from /exp/jvillalba/corpora/voxlingua107/et\n"
     ]
    },
    {
     "data": {
      "application/vnd.jupyter.widget-view+json": {
       "model_id": "6076918aadae4bfb8428c0f2be76c563",
       "version_major": 2,
       "version_minor": 0
      },
      "text/plain": [
       "Map:   0%|          | 0/1 [00:00<?, ? examples/s]"
      ]
     },
     "metadata": {},
     "output_type": "display_data"
    },
    {
     "name": "stdout",
     "output_type": "stream",
     "text": [
      "Time taken to load et: 0.09961366653442383\n",
      "Time taken to concatenate et: 0.0024216175079345703\n",
      "Loading audio files for da from /exp/jvillalba/corpora/voxlingua107/da\n"
     ]
    },
    {
     "data": {
      "application/vnd.jupyter.widget-view+json": {
       "model_id": "111b01cd073a40a993007255638f0a46",
       "version_major": 2,
       "version_minor": 0
      },
      "text/plain": [
       "Map:   0%|          | 0/1 [00:00<?, ? examples/s]"
      ]
     },
     "metadata": {},
     "output_type": "display_data"
    },
    {
     "name": "stdout",
     "output_type": "stream",
     "text": [
      "Time taken to load da: 0.09039640426635742\n",
      "Time taken to concatenate da: 0.0023386478424072266\n",
      "Loading audio files for cs from /exp/jvillalba/corpora/voxlingua107/cs\n"
     ]
    },
    {
     "data": {
      "application/vnd.jupyter.widget-view+json": {
       "model_id": "1d7a6487ef8c404fb9d351b15ee08dd0",
       "version_major": 2,
       "version_minor": 0
      },
      "text/plain": [
       "Map:   0%|          | 0/1 [00:00<?, ? examples/s]"
      ]
     },
     "metadata": {},
     "output_type": "display_data"
    },
    {
     "name": "stdout",
     "output_type": "stream",
     "text": [
      "Time taken to load cs: 0.12258505821228027\n",
      "Time taken to concatenate cs: 0.0019414424896240234\n",
      "Loading audio files for cy from /exp/jvillalba/corpora/voxlingua107/cy\n"
     ]
    },
    {
     "data": {
      "application/vnd.jupyter.widget-view+json": {
       "model_id": "b8f71ae24274487b91b60daad3540873",
       "version_major": 2,
       "version_minor": 0
      },
      "text/plain": [
       "Map:   0%|          | 0/1 [00:00<?, ? examples/s]"
      ]
     },
     "metadata": {},
     "output_type": "display_data"
    },
    {
     "name": "stdout",
     "output_type": "stream",
     "text": [
      "Time taken to load cy: 0.05488753318786621\n",
      "Time taken to concatenate cy: 0.0019593238830566406\n",
      "Loading audio files for de from /exp/jvillalba/corpora/voxlingua107/de\n"
     ]
    },
    {
     "data": {
      "application/vnd.jupyter.widget-view+json": {
       "model_id": "1845034e51324189b514532bc5f6ed94",
       "version_major": 2,
       "version_minor": 0
      },
      "text/plain": [
       "Map:   0%|          | 0/1 [00:00<?, ? examples/s]"
      ]
     },
     "metadata": {},
     "output_type": "display_data"
    },
    {
     "name": "stdout",
     "output_type": "stream",
     "text": [
      "Time taken to load de: 0.1055295467376709\n",
      "Time taken to concatenate de: 0.002515077590942383\n",
      "Loading audio files for eo from /exp/jvillalba/corpora/voxlingua107/eo\n"
     ]
    },
    {
     "data": {
      "application/vnd.jupyter.widget-view+json": {
       "model_id": "07dd7c32f74745ea9cd9a940b895ff65",
       "version_major": 2,
       "version_minor": 0
      },
      "text/plain": [
       "Map:   0%|          | 0/1 [00:00<?, ? examples/s]"
      ]
     },
     "metadata": {},
     "output_type": "display_data"
    },
    {
     "name": "stdout",
     "output_type": "stream",
     "text": [
      "Time taken to load eo: 0.059465646743774414\n",
      "Time taken to concatenate eo: 0.0019578933715820312\n",
      "Loading audio files for ca from /exp/jvillalba/corpora/voxlingua107/ca\n"
     ]
    },
    {
     "data": {
      "application/vnd.jupyter.widget-view+json": {
       "model_id": "70a2b15fd4ef4b7686b43cc1dca4d44f",
       "version_major": 2,
       "version_minor": 0
      },
      "text/plain": [
       "Map:   0%|          | 0/1 [00:00<?, ? examples/s]"
      ]
     },
     "metadata": {},
     "output_type": "display_data"
    },
    {
     "name": "stdout",
     "output_type": "stream",
     "text": [
      "Time taken to load ca: 0.11866950988769531\n",
      "Time taken to concatenate ca: 0.0025453567504882812\n",
      "Loading audio files for ceb from /exp/jvillalba/corpora/voxlingua107/ceb\n"
     ]
    },
    {
     "data": {
      "application/vnd.jupyter.widget-view+json": {
       "model_id": "acbea906740042cb89f83be069c99eb4",
       "version_major": 2,
       "version_minor": 0
      },
      "text/plain": [
       "Map:   0%|          | 0/1 [00:00<?, ? examples/s]"
      ]
     },
     "metadata": {},
     "output_type": "display_data"
    },
    {
     "name": "stdout",
     "output_type": "stream",
     "text": [
      "Time taken to load ceb: 0.10145306587219238\n",
      "Time taken to concatenate ceb: 0.0024843215942382812\n",
      "Loading audio files for br from /exp/jvillalba/corpora/voxlingua107/br\n"
     ]
    },
    {
     "data": {
      "application/vnd.jupyter.widget-view+json": {
       "model_id": "57ebabd50ffb48cebbe682e40233855b",
       "version_major": 2,
       "version_minor": 0
      },
      "text/plain": [
       "Map:   0%|          | 0/1 [00:00<?, ? examples/s]"
      ]
     },
     "metadata": {},
     "output_type": "display_data"
    },
    {
     "name": "stdout",
     "output_type": "stream",
     "text": [
      "Time taken to load br: 0.1420905590057373\n",
      "Time taken to concatenate br: 0.0022652149200439453\n",
      "Loading audio files for bs from /exp/jvillalba/corpora/voxlingua107/bs\n"
     ]
    },
    {
     "data": {
      "application/vnd.jupyter.widget-view+json": {
       "model_id": "a4d1639b18b54bdca281c28374c17c37",
       "version_major": 2,
       "version_minor": 0
      },
      "text/plain": [
       "Map:   0%|          | 0/1 [00:00<?, ? examples/s]"
      ]
     },
     "metadata": {},
     "output_type": "display_data"
    },
    {
     "name": "stdout",
     "output_type": "stream",
     "text": [
      "Time taken to load bs: 0.10539984703063965\n",
      "Time taken to concatenate bs: 0.002421855926513672\n",
      "Loading audio files for gu from /exp/jvillalba/corpora/voxlingua107/gu\n"
     ]
    },
    {
     "data": {
      "application/vnd.jupyter.widget-view+json": {
       "model_id": "6ef9b5e6de694c779a962640449cfc70",
       "version_major": 2,
       "version_minor": 0
      },
      "text/plain": [
       "Map:   0%|          | 0/1 [00:00<?, ? examples/s]"
      ]
     },
     "metadata": {},
     "output_type": "display_data"
    },
    {
     "name": "stdout",
     "output_type": "stream",
     "text": [
      "Time taken to load gu: 0.04415488243103027\n",
      "Time taken to concatenate gu: 0.002040386199951172\n",
      "Loading audio files for gv from /exp/jvillalba/corpora/voxlingua107/gv\n"
     ]
    },
    {
     "data": {
      "application/vnd.jupyter.widget-view+json": {
       "model_id": "e3102c7788084d59b8d1ad3c9093b03c",
       "version_major": 2,
       "version_minor": 0
      },
      "text/plain": [
       "Map:   0%|          | 0/1 [00:00<?, ? examples/s]"
      ]
     },
     "metadata": {},
     "output_type": "display_data"
    },
    {
     "name": "stdout",
     "output_type": "stream",
     "text": [
      "Time taken to load gv: 0.028223276138305664\n",
      "Time taken to concatenate gv: 0.0020775794982910156\n",
      "Loading audio files for fi from /exp/jvillalba/corpora/voxlingua107/fi\n"
     ]
    },
    {
     "data": {
      "application/vnd.jupyter.widget-view+json": {
       "model_id": "604f68d7abc546bf8a353fb4c3a7e07d",
       "version_major": 2,
       "version_minor": 0
      },
      "text/plain": [
       "Map:   0%|          | 0/1 [00:00<?, ? examples/s]"
      ]
     },
     "metadata": {},
     "output_type": "display_data"
    },
    {
     "name": "stdout",
     "output_type": "stream",
     "text": [
      "Time taken to load fi: 0.055791616439819336\n",
      "Time taken to concatenate fi: 0.0020241737365722656\n",
      "Loading audio files for fr from /exp/jvillalba/corpora/voxlingua107/fr\n"
     ]
    },
    {
     "data": {
      "application/vnd.jupyter.widget-view+json": {
       "model_id": "40641b4ff48f41c4ab684f1bf0649213",
       "version_major": 2,
       "version_minor": 0
      },
      "text/plain": [
       "Map:   0%|          | 0/1 [00:00<?, ? examples/s]"
      ]
     },
     "metadata": {},
     "output_type": "display_data"
    },
    {
     "name": "stdout",
     "output_type": "stream",
     "text": [
      "Time taken to load fr: 0.10164093971252441\n",
      "Time taken to concatenate fr: 0.00243377685546875\n",
      "Loading audio files for gl from /exp/jvillalba/corpora/voxlingua107/gl\n"
     ]
    },
    {
     "data": {
      "application/vnd.jupyter.widget-view+json": {
       "model_id": "158274dd255d4dbf8f6b6d50b8bfb1b0",
       "version_major": 2,
       "version_minor": 0
      },
      "text/plain": [
       "Map:   0%|          | 0/1 [00:00<?, ? examples/s]"
      ]
     },
     "metadata": {},
     "output_type": "display_data"
    },
    {
     "name": "stdout",
     "output_type": "stream",
     "text": [
      "Time taken to load gl: 0.08878540992736816\n",
      "Time taken to concatenate gl: 0.0025501251220703125\n",
      "Loading audio files for gn from /exp/jvillalba/corpora/voxlingua107/gn\n"
     ]
    },
    {
     "data": {
      "application/vnd.jupyter.widget-view+json": {
       "model_id": "ea33e09016434ca6b168d4a823372e1a",
       "version_major": 2,
       "version_minor": 0
      },
      "text/plain": [
       "Map:   0%|          | 0/1 [00:00<?, ? examples/s]"
      ]
     },
     "metadata": {},
     "output_type": "display_data"
    },
    {
     "name": "stdout",
     "output_type": "stream",
     "text": [
      "Time taken to load gn: 0.09023451805114746\n",
      "Time taken to concatenate gn: 0.0024051666259765625\n",
      "Loading audio files for fa from /exp/jvillalba/corpora/voxlingua107/fa\n"
     ]
    },
    {
     "data": {
      "application/vnd.jupyter.widget-view+json": {
       "model_id": "d972dfea64c34cf58fb718d6914da5a8",
       "version_major": 2,
       "version_minor": 0
      },
      "text/plain": [
       "Map:   0%|          | 0/1 [00:00<?, ? examples/s]"
      ]
     },
     "metadata": {},
     "output_type": "display_data"
    },
    {
     "name": "stdout",
     "output_type": "stream",
     "text": [
      "Time taken to load fa: 0.12188506126403809\n",
      "Time taken to concatenate fa: 0.0024077892303466797\n",
      "Loading audio files for hu from /exp/jvillalba/corpora/voxlingua107/hu\n"
     ]
    },
    {
     "data": {
      "application/vnd.jupyter.widget-view+json": {
       "model_id": "529beb71a4274a4ab3a95962171b2335",
       "version_major": 2,
       "version_minor": 0
      },
      "text/plain": [
       "Map:   0%|          | 0/1 [00:00<?, ? examples/s]"
      ]
     },
     "metadata": {},
     "output_type": "display_data"
    },
    {
     "name": "stdout",
     "output_type": "stream",
     "text": [
      "Time taken to load hu: 0.09511208534240723\n",
      "Time taken to concatenate hu: 0.0019578933715820312\n",
      "Loading audio files for ht from /exp/jvillalba/corpora/voxlingua107/ht\n"
     ]
    },
    {
     "data": {
      "application/vnd.jupyter.widget-view+json": {
       "model_id": "c9bf6f113cce4835ba2d129e1a683871",
       "version_major": 2,
       "version_minor": 0
      },
      "text/plain": [
       "Map:   0%|          | 0/1 [00:00<?, ? examples/s]"
      ]
     },
     "metadata": {},
     "output_type": "display_data"
    },
    {
     "name": "stdout",
     "output_type": "stream",
     "text": [
      "Time taken to load ht: 0.11543798446655273\n",
      "Time taken to concatenate ht: 0.002454519271850586\n",
      "Loading audio files for hi from /exp/jvillalba/corpora/voxlingua107/hi\n"
     ]
    },
    {
     "data": {
      "application/vnd.jupyter.widget-view+json": {
       "model_id": "3da5f1f1b9494f6391d6b9bc9d49977c",
       "version_major": 2,
       "version_minor": 0
      },
      "text/plain": [
       "Map:   0%|          | 0/1 [00:00<?, ? examples/s]"
      ]
     },
     "metadata": {},
     "output_type": "display_data"
    },
    {
     "name": "stdout",
     "output_type": "stream",
     "text": [
      "Time taken to load hi: 0.06114697456359863\n",
      "Time taken to concatenate hi: 0.0019288063049316406\n",
      "Loading audio files for haw from /exp/jvillalba/corpora/voxlingua107/haw\n"
     ]
    },
    {
     "data": {
      "application/vnd.jupyter.widget-view+json": {
       "model_id": "76a6b942dfa040aaaf6efec318ad4fc6",
       "version_major": 2,
       "version_minor": 0
      },
      "text/plain": [
       "Map:   0%|          | 0/1 [00:00<?, ? examples/s]"
      ]
     },
     "metadata": {},
     "output_type": "display_data"
    },
    {
     "name": "stdout",
     "output_type": "stream",
     "text": [
      "Time taken to load haw: 0.04487347602844238\n",
      "Time taken to concatenate haw: 0.0019283294677734375\n",
      "Loading audio files for hr from /exp/jvillalba/corpora/voxlingua107/hr\n"
     ]
    },
    {
     "data": {
      "application/vnd.jupyter.widget-view+json": {
       "model_id": "42bc2e8cd5044dd59ba5f6f9f4fbfb00",
       "version_major": 2,
       "version_minor": 0
      },
      "text/plain": [
       "Map:   0%|          | 0/1 [00:00<?, ? examples/s]"
      ]
     },
     "metadata": {},
     "output_type": "display_data"
    },
    {
     "name": "stdout",
     "output_type": "stream",
     "text": [
      "Time taken to load hr: 0.07497501373291016\n",
      "Time taken to concatenate hr: 0.0019998550415039062\n",
      "Loading audio files for ha from /exp/jvillalba/corpora/voxlingua107/ha\n"
     ]
    },
    {
     "data": {
      "application/vnd.jupyter.widget-view+json": {
       "model_id": "fd9eeb1d0ea04a59a3999d611c749e10",
       "version_major": 2,
       "version_minor": 0
      },
      "text/plain": [
       "Map:   0%|          | 0/1 [00:00<?, ? examples/s]"
      ]
     },
     "metadata": {},
     "output_type": "display_data"
    },
    {
     "name": "stdout",
     "output_type": "stream",
     "text": [
      "Time taken to load ha: 0.09911394119262695\n",
      "Time taken to concatenate ha: 0.0024521350860595703\n",
      "Loading audio files for fo from /exp/jvillalba/corpora/voxlingua107/fo\n"
     ]
    },
    {
     "data": {
      "application/vnd.jupyter.widget-view+json": {
       "model_id": "5978959e69dc4a8c84a0e36e275ac02b",
       "version_major": 2,
       "version_minor": 0
      },
      "text/plain": [
       "Map:   0%|          | 0/1 [00:00<?, ? examples/s]"
      ]
     },
     "metadata": {},
     "output_type": "display_data"
    },
    {
     "name": "stdout",
     "output_type": "stream",
     "text": [
      "Time taken to load fo: 0.06412506103515625\n",
      "Time taken to concatenate fo: 0.0019431114196777344\n",
      "Loading audio files for hy from /exp/jvillalba/corpora/voxlingua107/hy\n"
     ]
    },
    {
     "data": {
      "application/vnd.jupyter.widget-view+json": {
       "model_id": "1e7bb3bb6a904d7098acac59e565e4b5",
       "version_major": 2,
       "version_minor": 0
      },
      "text/plain": [
       "Map:   0%|          | 0/1 [00:00<?, ? examples/s]"
      ]
     },
     "metadata": {},
     "output_type": "display_data"
    },
    {
     "name": "stdout",
     "output_type": "stream",
     "text": [
      "Time taken to load hy: 0.08369731903076172\n",
      "Time taken to concatenate hy: 0.002407550811767578\n",
      "Loading audio files for iw from /exp/jvillalba/corpora/voxlingua107/iw\n"
     ]
    },
    {
     "data": {
      "application/vnd.jupyter.widget-view+json": {
       "model_id": "100cebd0a39e4b4d8145ba94ae757f90",
       "version_major": 2,
       "version_minor": 0
      },
      "text/plain": [
       "Map:   0%|          | 0/1 [00:00<?, ? examples/s]"
      ]
     },
     "metadata": {},
     "output_type": "display_data"
    },
    {
     "name": "stdout",
     "output_type": "stream",
     "text": [
      "Time taken to load iw: 0.0747990608215332\n",
      "Time taken to concatenate iw: 0.0019278526306152344\n",
      "Loading audio files for km from /exp/jvillalba/corpora/voxlingua107/km\n"
     ]
    },
    {
     "data": {
      "application/vnd.jupyter.widget-view+json": {
       "model_id": "317443cd1f3a4b1e994f4d57f99ac9e2",
       "version_major": 2,
       "version_minor": 0
      },
      "text/plain": [
       "Map:   0%|          | 0/1 [00:00<?, ? examples/s]"
      ]
     },
     "metadata": {},
     "output_type": "display_data"
    },
    {
     "name": "stdout",
     "output_type": "stream",
     "text": [
      "Time taken to load km: 0.05532097816467285\n",
      "Time taken to concatenate km: 0.0019757747650146484\n",
      "Loading audio files for kk from /exp/jvillalba/corpora/voxlingua107/kk\n"
     ]
    },
    {
     "data": {
      "application/vnd.jupyter.widget-view+json": {
       "model_id": "f96ed9b2d57f40c1a3842c68c127fa26",
       "version_major": 2,
       "version_minor": 0
      },
      "text/plain": [
       "Map:   0%|          | 0/1 [00:00<?, ? examples/s]"
      ]
     },
     "metadata": {},
     "output_type": "display_data"
    },
    {
     "name": "stdout",
     "output_type": "stream",
     "text": [
      "Time taken to load kk: 0.11132311820983887\n",
      "Time taken to concatenate kk: 0.0029134750366210938\n",
      "Loading audio files for ka from /exp/jvillalba/corpora/voxlingua107/ka\n"
     ]
    },
    {
     "data": {
      "application/vnd.jupyter.widget-view+json": {
       "model_id": "b2c382ed3d7e4489b3a8a0d759401c05",
       "version_major": 2,
       "version_minor": 0
      },
      "text/plain": [
       "Map:   0%|          | 0/1 [00:00<?, ? examples/s]"
      ]
     },
     "metadata": {},
     "output_type": "display_data"
    },
    {
     "name": "stdout",
     "output_type": "stream",
     "text": [
      "Time taken to load ka: 0.13501238822937012\n",
      "Time taken to concatenate ka: 0.0027213096618652344\n",
      "Loading audio files for ja from /exp/jvillalba/corpora/voxlingua107/ja\n"
     ]
    },
    {
     "data": {
      "application/vnd.jupyter.widget-view+json": {
       "model_id": "9d8939297d3d4f3e99fb6096647ddbc2",
       "version_major": 2,
       "version_minor": 0
      },
      "text/plain": [
       "Map:   0%|          | 0/1 [00:00<?, ? examples/s]"
      ]
     },
     "metadata": {},
     "output_type": "display_data"
    },
    {
     "name": "stdout",
     "output_type": "stream",
     "text": [
      "Time taken to load ja: 0.09048962593078613\n",
      "Time taken to concatenate ja: 0.0028243064880371094\n",
      "Loading audio files for id from /exp/jvillalba/corpora/voxlingua107/id\n"
     ]
    },
    {
     "data": {
      "application/vnd.jupyter.widget-view+json": {
       "model_id": "e13cc4a4e18149fb83398fd4772cded0",
       "version_major": 2,
       "version_minor": 0
      },
      "text/plain": [
       "Map:   0%|          | 0/1 [00:00<?, ? examples/s]"
      ]
     },
     "metadata": {},
     "output_type": "display_data"
    },
    {
     "name": "stdout",
     "output_type": "stream",
     "text": [
      "Time taken to load id: 0.0878753662109375\n",
      "Time taken to concatenate id: 0.0029611587524414062\n",
      "Loading audio files for kn from /exp/jvillalba/corpora/voxlingua107/kn\n"
     ]
    },
    {
     "data": {
      "application/vnd.jupyter.widget-view+json": {
       "model_id": "3008016428f84a4cbb900279ab049623",
       "version_major": 2,
       "version_minor": 0
      },
      "text/plain": [
       "Map:   0%|          | 0/1 [00:00<?, ? examples/s]"
      ]
     },
     "metadata": {},
     "output_type": "display_data"
    },
    {
     "name": "stdout",
     "output_type": "stream",
     "text": [
      "Time taken to load kn: 0.08608293533325195\n",
      "Time taken to concatenate kn: 0.002858877182006836\n",
      "Loading audio files for it from /exp/jvillalba/corpora/voxlingua107/it\n"
     ]
    },
    {
     "data": {
      "application/vnd.jupyter.widget-view+json": {
       "model_id": "71f7fbbbadf649109768b6b04c0e9c7b",
       "version_major": 2,
       "version_minor": 0
      },
      "text/plain": [
       "Map:   0%|          | 0/1 [00:00<?, ? examples/s]"
      ]
     },
     "metadata": {},
     "output_type": "display_data"
    },
    {
     "name": "stdout",
     "output_type": "stream",
     "text": [
      "Time taken to load it: 0.10595917701721191\n",
      "Time taken to concatenate it: 0.002794027328491211\n",
      "Loading audio files for ia from /exp/jvillalba/corpora/voxlingua107/ia\n"
     ]
    },
    {
     "data": {
      "application/vnd.jupyter.widget-view+json": {
       "model_id": "4a62cb03666245b7aefcbed2dd0f9ee3",
       "version_major": 2,
       "version_minor": 0
      },
      "text/plain": [
       "Map:   0%|          | 0/1 [00:00<?, ? examples/s]"
      ]
     },
     "metadata": {},
     "output_type": "display_data"
    },
    {
     "name": "stdout",
     "output_type": "stream",
     "text": [
      "Time taken to load ia: 0.07450699806213379\n",
      "Time taken to concatenate ia: 0.003156423568725586\n",
      "Loading audio files for jw from /exp/jvillalba/corpora/voxlingua107/jw\n"
     ]
    },
    {
     "data": {
      "application/vnd.jupyter.widget-view+json": {
       "model_id": "19404c1cc7d1472e9401f9a24ae62871",
       "version_major": 2,
       "version_minor": 0
      },
      "text/plain": [
       "Map:   0%|          | 0/1 [00:00<?, ? examples/s]"
      ]
     },
     "metadata": {},
     "output_type": "display_data"
    },
    {
     "name": "stdout",
     "output_type": "stream",
     "text": [
      "Time taken to load jw: 0.06811070442199707\n",
      "Time taken to concatenate jw: 0.002910614013671875\n",
      "Loading audio files for la from /exp/jvillalba/corpora/voxlingua107/la\n"
     ]
    },
    {
     "data": {
      "application/vnd.jupyter.widget-view+json": {
       "model_id": "772306b46c5b42b097d64adb316727e5",
       "version_major": 2,
       "version_minor": 0
      },
      "text/plain": [
       "Map:   0%|          | 0/1 [00:00<?, ? examples/s]"
      ]
     },
     "metadata": {},
     "output_type": "display_data"
    },
    {
     "name": "stdout",
     "output_type": "stream",
     "text": [
      "Time taken to load la: 0.053203582763671875\n",
      "Time taken to concatenate la: 0.0022268295288085938\n",
      "Loading audio files for is from /exp/jvillalba/corpora/voxlingua107/is\n"
     ]
    },
    {
     "data": {
      "application/vnd.jupyter.widget-view+json": {
       "model_id": "f0626e14c3634d3684bf0ac3bd39894e",
       "version_major": 2,
       "version_minor": 0
      },
      "text/plain": [
       "Map:   0%|          | 0/1 [00:00<?, ? examples/s]"
      ]
     },
     "metadata": {},
     "output_type": "display_data"
    },
    {
     "name": "stdout",
     "output_type": "stream",
     "text": [
      "Time taken to load is: 0.09101748466491699\n",
      "Time taken to concatenate is: 0.0027778148651123047\n",
      "Loading audio files for ko from /exp/jvillalba/corpora/voxlingua107/ko\n"
     ]
    },
    {
     "data": {
      "application/vnd.jupyter.widget-view+json": {
       "model_id": "e3d9b2dc90e04eb3a3f1c11f0ded5ba5",
       "version_major": 2,
       "version_minor": 0
      },
      "text/plain": [
       "Map:   0%|          | 0/1 [00:00<?, ? examples/s]"
      ]
     },
     "metadata": {},
     "output_type": "display_data"
    },
    {
     "name": "stdout",
     "output_type": "stream",
     "text": [
      "Time taken to load ko: 0.09932613372802734\n",
      "Time taken to concatenate ko: 0.002841949462890625\n",
      "Loading audio files for mi from /exp/jvillalba/corpora/voxlingua107/mi\n"
     ]
    },
    {
     "data": {
      "application/vnd.jupyter.widget-view+json": {
       "model_id": "beeee3c74c384f1b93cfa7ff429555d0",
       "version_major": 2,
       "version_minor": 0
      },
      "text/plain": [
       "Map:   0%|          | 0/1 [00:00<?, ? examples/s]"
      ]
     },
     "metadata": {},
     "output_type": "display_data"
    },
    {
     "name": "stdout",
     "output_type": "stream",
     "text": [
      "Time taken to load mi: 0.05962562561035156\n",
      "Time taken to concatenate mi: 0.002351045608520508\n",
      "Loading audio files for my from /exp/jvillalba/corpora/voxlingua107/my\n"
     ]
    },
    {
     "data": {
      "application/vnd.jupyter.widget-view+json": {
       "model_id": "cbe734c03f934f55b66a938e87ee35da",
       "version_major": 2,
       "version_minor": 0
      },
      "text/plain": [
       "Map:   0%|          | 0/1 [00:00<?, ? examples/s]"
      ]
     },
     "metadata": {},
     "output_type": "display_data"
    },
    {
     "name": "stdout",
     "output_type": "stream",
     "text": [
      "Time taken to load my: 0.12580084800720215\n",
      "Time taken to concatenate my: 0.0025806427001953125\n",
      "Loading audio files for mg from /exp/jvillalba/corpora/voxlingua107/mg\n"
     ]
    },
    {
     "data": {
      "application/vnd.jupyter.widget-view+json": {
       "model_id": "e221df66402942f28e938a730ff9a1a6",
       "version_major": 2,
       "version_minor": 0
      },
      "text/plain": [
       "Map:   0%|          | 0/1 [00:00<?, ? examples/s]"
      ]
     },
     "metadata": {},
     "output_type": "display_data"
    },
    {
     "name": "stdout",
     "output_type": "stream",
     "text": [
      "Time taken to load mg: 0.13313913345336914\n",
      "Time taken to concatenate mg: 0.0028259754180908203\n",
      "Loading audio files for lv from /exp/jvillalba/corpora/voxlingua107/lv\n"
     ]
    },
    {
     "data": {
      "application/vnd.jupyter.widget-view+json": {
       "model_id": "5a592f5752534e18bd3f6474d97d6d74",
       "version_major": 2,
       "version_minor": 0
      },
      "text/plain": [
       "Map:   0%|          | 0/1 [00:00<?, ? examples/s]"
      ]
     },
     "metadata": {},
     "output_type": "display_data"
    },
    {
     "name": "stdout",
     "output_type": "stream",
     "text": [
      "Time taken to load lv: 0.25512218475341797\n",
      "Time taken to concatenate lv: 0.0031795501708984375\n",
      "Loading audio files for mt from /exp/jvillalba/corpora/voxlingua107/mt\n"
     ]
    },
    {
     "data": {
      "application/vnd.jupyter.widget-view+json": {
       "model_id": "ac40685cda8c404487c6c47ff1cce4be",
       "version_major": 2,
       "version_minor": 0
      },
      "text/plain": [
       "Map:   0%|          | 0/1 [00:00<?, ? examples/s]"
      ]
     },
     "metadata": {},
     "output_type": "display_data"
    },
    {
     "name": "stdout",
     "output_type": "stream",
     "text": [
      "Time taken to load mt: 0.14826011657714844\n",
      "Time taken to concatenate mt: 0.0029985904693603516\n",
      "Loading audio files for mk from /exp/jvillalba/corpora/voxlingua107/mk\n"
     ]
    },
    {
     "data": {
      "application/vnd.jupyter.widget-view+json": {
       "model_id": "3db66506dc214e018dfb8d175dbfdc78",
       "version_major": 2,
       "version_minor": 0
      },
      "text/plain": [
       "Map:   0%|          | 0/1 [00:00<?, ? examples/s]"
      ]
     },
     "metadata": {},
     "output_type": "display_data"
    },
    {
     "name": "stdout",
     "output_type": "stream",
     "text": [
      "Time taken to load mk: 0.1032872200012207\n",
      "Time taken to concatenate mk: 0.0028238296508789062\n",
      "Loading audio files for lt from /exp/jvillalba/corpora/voxlingua107/lt\n"
     ]
    },
    {
     "data": {
      "application/vnd.jupyter.widget-view+json": {
       "model_id": "7d57ac008a0649198d3f4fc8337b1c1d",
       "version_major": 2,
       "version_minor": 0
      },
      "text/plain": [
       "Map:   0%|          | 0/1 [00:00<?, ? examples/s]"
      ]
     },
     "metadata": {},
     "output_type": "display_data"
    },
    {
     "name": "stdout",
     "output_type": "stream",
     "text": [
      "Time taken to load lt: 0.08684277534484863\n",
      "Time taken to concatenate lt: 0.0028352737426757812\n",
      "Loading audio files for lb from /exp/jvillalba/corpora/voxlingua107/lb\n"
     ]
    },
    {
     "data": {
      "application/vnd.jupyter.widget-view+json": {
       "model_id": "2be1177dcb124260aafa7aa43266536a",
       "version_major": 2,
       "version_minor": 0
      },
      "text/plain": [
       "Map:   0%|          | 0/1 [00:00<?, ? examples/s]"
      ]
     },
     "metadata": {},
     "output_type": "display_data"
    },
    {
     "name": "stdout",
     "output_type": "stream",
     "text": [
      "Time taken to load lb: 0.05893754959106445\n",
      "Time taken to concatenate lb: 0.0023522377014160156\n",
      "Loading audio files for ms from /exp/jvillalba/corpora/voxlingua107/ms\n"
     ]
    },
    {
     "data": {
      "application/vnd.jupyter.widget-view+json": {
       "model_id": "3030476ae83142bcaa7662817af41024",
       "version_major": 2,
       "version_minor": 0
      },
      "text/plain": [
       "Map:   0%|          | 0/1 [00:00<?, ? examples/s]"
      ]
     },
     "metadata": {},
     "output_type": "display_data"
    },
    {
     "name": "stdout",
     "output_type": "stream",
     "text": [
      "Time taken to load ms: 0.0953974723815918\n",
      "Time taken to concatenate ms: 0.0031583309173583984\n",
      "Loading audio files for mr from /exp/jvillalba/corpora/voxlingua107/mr\n"
     ]
    },
    {
     "data": {
      "application/vnd.jupyter.widget-view+json": {
       "model_id": "c6b8b3a5f4ef4472859d9e1b3200a228",
       "version_major": 2,
       "version_minor": 0
      },
      "text/plain": [
       "Map:   0%|          | 0/1 [00:00<?, ? examples/s]"
      ]
     },
     "metadata": {},
     "output_type": "display_data"
    },
    {
     "name": "stdout",
     "output_type": "stream",
     "text": [
      "Time taken to load mr: 0.14496707916259766\n",
      "Time taken to concatenate mr: 0.002551555633544922\n",
      "Loading audio files for lo from /exp/jvillalba/corpora/voxlingua107/lo\n"
     ]
    },
    {
     "data": {
      "application/vnd.jupyter.widget-view+json": {
       "model_id": "3c3e84af608d42df910ac500c98d5570",
       "version_major": 2,
       "version_minor": 0
      },
      "text/plain": [
       "Map:   0%|          | 0/1 [00:00<?, ? examples/s]"
      ]
     },
     "metadata": {},
     "output_type": "display_data"
    },
    {
     "name": "stdout",
     "output_type": "stream",
     "text": [
      "Time taken to load lo: 0.12581515312194824\n",
      "Time taken to concatenate lo: 0.0026514530181884766\n",
      "Loading audio files for mn from /exp/jvillalba/corpora/voxlingua107/mn\n"
     ]
    },
    {
     "data": {
      "application/vnd.jupyter.widget-view+json": {
       "model_id": "046dd32b5b4b4ae19ebb5ac170a1d596",
       "version_major": 2,
       "version_minor": 0
      },
      "text/plain": [
       "Map:   0%|          | 0/1 [00:00<?, ? examples/s]"
      ]
     },
     "metadata": {},
     "output_type": "display_data"
    },
    {
     "name": "stdout",
     "output_type": "stream",
     "text": [
      "Time taken to load mn: 0.10392332077026367\n",
      "Time taken to concatenate mn: 0.002789020538330078\n",
      "Loading audio files for ln from /exp/jvillalba/corpora/voxlingua107/ln\n"
     ]
    },
    {
     "data": {
      "application/vnd.jupyter.widget-view+json": {
       "model_id": "2f38004563e54b43b2790f9ec3fde7f1",
       "version_major": 2,
       "version_minor": 0
      },
      "text/plain": [
       "Map:   0%|          | 0/1 [00:00<?, ? examples/s]"
      ]
     },
     "metadata": {},
     "output_type": "display_data"
    },
    {
     "name": "stdout",
     "output_type": "stream",
     "text": [
      "Time taken to load ln: 0.10609889030456543\n",
      "Time taken to concatenate ln: 0.00279998779296875\n",
      "Loading audio files for ml from /exp/jvillalba/corpora/voxlingua107/ml\n"
     ]
    },
    {
     "data": {
      "application/vnd.jupyter.widget-view+json": {
       "model_id": "50ddb0ed04514c0c8709ab21defb5d8d",
       "version_major": 2,
       "version_minor": 0
      },
      "text/plain": [
       "Map:   0%|          | 0/1 [00:00<?, ? examples/s]"
      ]
     },
     "metadata": {},
     "output_type": "display_data"
    },
    {
     "name": "stdout",
     "output_type": "stream",
     "text": [
      "Time taken to load ml: 0.12647366523742676\n",
      "Time taken to concatenate ml: 0.00435638427734375\n",
      "Loading audio files for ne from /exp/jvillalba/corpora/voxlingua107/ne\n"
     ]
    },
    {
     "data": {
      "application/vnd.jupyter.widget-view+json": {
       "model_id": "d7892807636e4bbba29a0c673e44ad96",
       "version_major": 2,
       "version_minor": 0
      },
      "text/plain": [
       "Map:   0%|          | 0/1 [00:00<?, ? examples/s]"
      ]
     },
     "metadata": {},
     "output_type": "display_data"
    },
    {
     "name": "stdout",
     "output_type": "stream",
     "text": [
      "Time taken to load ne: 0.07823538780212402\n",
      "Time taken to concatenate ne: 0.0023996829986572266\n",
      "Loading audio files for pa from /exp/jvillalba/corpora/voxlingua107/pa\n"
     ]
    },
    {
     "data": {
      "application/vnd.jupyter.widget-view+json": {
       "model_id": "3bf74cef09a74850a3b09002a80db496",
       "version_major": 2,
       "version_minor": 0
      },
      "text/plain": [
       "Map:   0%|          | 0/1 [00:00<?, ? examples/s]"
      ]
     },
     "metadata": {},
     "output_type": "display_data"
    },
    {
     "name": "stdout",
     "output_type": "stream",
     "text": [
      "Time taken to load pa: 0.06006169319152832\n",
      "Time taken to concatenate pa: 0.002439737319946289\n",
      "Loading audio files for oc from /exp/jvillalba/corpora/voxlingua107/oc\n"
     ]
    },
    {
     "data": {
      "application/vnd.jupyter.widget-view+json": {
       "model_id": "bdaaba2cf07447649c0b5be98c5bfb19",
       "version_major": 2,
       "version_minor": 0
      },
      "text/plain": [
       "Map:   0%|          | 0/1 [00:00<?, ? examples/s]"
      ]
     },
     "metadata": {},
     "output_type": "display_data"
    },
    {
     "name": "stdout",
     "output_type": "stream",
     "text": [
      "Time taken to load oc: 0.0316624641418457\n",
      "Time taken to concatenate oc: 0.002262115478515625\n",
      "Loading audio files for sco from /exp/jvillalba/corpora/voxlingua107/sco\n"
     ]
    },
    {
     "data": {
      "application/vnd.jupyter.widget-view+json": {
       "model_id": "8e0226c0c9dd47268de230034158c899",
       "version_major": 2,
       "version_minor": 0
      },
      "text/plain": [
       "Map:   0%|          | 0/1 [00:00<?, ? examples/s]"
      ]
     },
     "metadata": {},
     "output_type": "display_data"
    },
    {
     "name": "stdout",
     "output_type": "stream",
     "text": [
      "Time taken to load sco: 0.021652698516845703\n",
      "Time taken to concatenate sco: 0.0022149085998535156\n",
      "Loading audio files for ps from /exp/jvillalba/corpora/voxlingua107/ps\n"
     ]
    },
    {
     "data": {
      "application/vnd.jupyter.widget-view+json": {
       "model_id": "e2f8b84cfdeb4cc7bb743841270c473f",
       "version_major": 2,
       "version_minor": 0
      },
      "text/plain": [
       "Map:   0%|          | 0/1 [00:00<?, ? examples/s]"
      ]
     },
     "metadata": {},
     "output_type": "display_data"
    },
    {
     "name": "stdout",
     "output_type": "stream",
     "text": [
      "Time taken to load ps: 0.09529948234558105\n",
      "Time taken to concatenate ps: 0.0029442310333251953\n",
      "Loading audio files for sd from /exp/jvillalba/corpora/voxlingua107/sd\n"
     ]
    },
    {
     "data": {
      "application/vnd.jupyter.widget-view+json": {
       "model_id": "fe847d1ffdae48c6bf019121a6a067ca",
       "version_major": 2,
       "version_minor": 0
      },
      "text/plain": [
       "Map:   0%|          | 0/1 [00:00<?, ? examples/s]"
      ]
     },
     "metadata": {},
     "output_type": "display_data"
    },
    {
     "name": "stdout",
     "output_type": "stream",
     "text": [
      "Time taken to load sd: 0.08616280555725098\n",
      "Time taken to concatenate sd: 0.002928495407104492\n",
      "Loading audio files for ro from /exp/jvillalba/corpora/voxlingua107/ro\n"
     ]
    },
    {
     "data": {
      "application/vnd.jupyter.widget-view+json": {
       "model_id": "4d5548b2ec3046ec8eb249398936763a",
       "version_major": 2,
       "version_minor": 0
      },
      "text/plain": [
       "Map:   0%|          | 0/1 [00:00<?, ? examples/s]"
      ]
     },
     "metadata": {},
     "output_type": "display_data"
    },
    {
     "name": "stdout",
     "output_type": "stream",
     "text": [
      "Time taken to load ro: 0.09550857543945312\n",
      "Time taken to concatenate ro: 0.002988576889038086\n",
      "Loading audio files for pl from /exp/jvillalba/corpora/voxlingua107/pl\n"
     ]
    },
    {
     "data": {
      "application/vnd.jupyter.widget-view+json": {
       "model_id": "dbc67f169755427292d95c105ebbc700",
       "version_major": 2,
       "version_minor": 0
      },
      "text/plain": [
       "Map:   0%|          | 0/1 [00:00<?, ? examples/s]"
      ]
     },
     "metadata": {},
     "output_type": "display_data"
    },
    {
     "name": "stdout",
     "output_type": "stream",
     "text": [
      "Time taken to load pl: 0.13895821571350098\n",
      "Time taken to concatenate pl: 0.0029387474060058594\n",
      "Loading audio files for no from /exp/jvillalba/corpora/voxlingua107/no\n"
     ]
    },
    {
     "data": {
      "application/vnd.jupyter.widget-view+json": {
       "model_id": "8215c064de8d4ffd8b8f18d663b5f7a7",
       "version_major": 2,
       "version_minor": 0
      },
      "text/plain": [
       "Map:   0%|          | 0/1 [00:00<?, ? examples/s]"
      ]
     },
     "metadata": {},
     "output_type": "display_data"
    },
    {
     "name": "stdout",
     "output_type": "stream",
     "text": [
      "Time taken to load no: 0.12344479560852051\n",
      "Time taken to concatenate no: 0.003313779830932617\n",
      "Loading audio files for ru from /exp/jvillalba/corpora/voxlingua107/ru\n"
     ]
    },
    {
     "data": {
      "application/vnd.jupyter.widget-view+json": {
       "model_id": "aab54daf3f5a45c08b734b11023a899b",
       "version_major": 2,
       "version_minor": 0
      },
      "text/plain": [
       "Map:   0%|          | 0/1 [00:00<?, ? examples/s]"
      ]
     },
     "metadata": {},
     "output_type": "display_data"
    },
    {
     "name": "stdout",
     "output_type": "stream",
     "text": [
      "Time taken to load ru: 0.11006307601928711\n",
      "Time taken to concatenate ru: 0.003033876419067383\n",
      "Loading audio files for sa from /exp/jvillalba/corpora/voxlingua107/sa\n"
     ]
    },
    {
     "data": {
      "application/vnd.jupyter.widget-view+json": {
       "model_id": "0bb4ff3b8a1f4149bdee8813237dd298",
       "version_major": 2,
       "version_minor": 0
      },
      "text/plain": [
       "Map:   0%|          | 0/1 [00:00<?, ? examples/s]"
      ]
     },
     "metadata": {},
     "output_type": "display_data"
    },
    {
     "name": "stdout",
     "output_type": "stream",
     "text": [
      "Time taken to load sa: 0.057247161865234375\n",
      "Time taken to concatenate sa: 0.0022592544555664062\n",
      "Loading audio files for nn from /exp/jvillalba/corpora/voxlingua107/nn\n"
     ]
    },
    {
     "data": {
      "application/vnd.jupyter.widget-view+json": {
       "model_id": "f76ef04b37ff44319f3a39fcc2c788fe",
       "version_major": 2,
       "version_minor": 0
      },
      "text/plain": [
       "Map:   0%|          | 0/1 [00:00<?, ? examples/s]"
      ]
     },
     "metadata": {},
     "output_type": "display_data"
    },
    {
     "name": "stdout",
     "output_type": "stream",
     "text": [
      "Time taken to load nn: 0.07756686210632324\n",
      "Time taken to concatenate nn: 0.0024261474609375\n",
      "Loading audio files for nl from /exp/jvillalba/corpora/voxlingua107/nl\n"
     ]
    },
    {
     "data": {
      "application/vnd.jupyter.widget-view+json": {
       "model_id": "3ddf582d968a48cf967fe6f3fed234b5",
       "version_major": 2,
       "version_minor": 0
      },
      "text/plain": [
       "Map:   0%|          | 0/1 [00:00<?, ? examples/s]"
      ]
     },
     "metadata": {},
     "output_type": "display_data"
    },
    {
     "name": "stdout",
     "output_type": "stream",
     "text": [
      "Time taken to load nl: 0.05634260177612305\n",
      "Time taken to concatenate nl: 0.002740144729614258\n",
      "Loading audio files for pt from /exp/jvillalba/corpora/voxlingua107/pt\n"
     ]
    },
    {
     "data": {
      "application/vnd.jupyter.widget-view+json": {
       "model_id": "a84b33acf66a4ad09b0b46af761c07a6",
       "version_major": 2,
       "version_minor": 0
      },
      "text/plain": [
       "Map:   0%|          | 0/1 [00:00<?, ? examples/s]"
      ]
     },
     "metadata": {},
     "output_type": "display_data"
    },
    {
     "name": "stdout",
     "output_type": "stream",
     "text": [
      "Time taken to load pt: 0.10520744323730469\n",
      "Time taken to concatenate pt: 0.003185272216796875\n",
      "Loading audio files for so from /exp/jvillalba/corpora/voxlingua107/so\n"
     ]
    },
    {
     "data": {
      "application/vnd.jupyter.widget-view+json": {
       "model_id": "a32421887c764753933a70a8a9e0c6dd",
       "version_major": 2,
       "version_minor": 0
      },
      "text/plain": [
       "Map:   0%|          | 0/1 [00:00<?, ? examples/s]"
      ]
     },
     "metadata": {},
     "output_type": "display_data"
    },
    {
     "name": "stdout",
     "output_type": "stream",
     "text": [
      "Time taken to load so: 0.10120749473571777\n",
      "Time taken to concatenate so: 0.002972841262817383\n",
      "Loading audio files for sq from /exp/jvillalba/corpora/voxlingua107/sq\n"
     ]
    },
    {
     "data": {
      "application/vnd.jupyter.widget-view+json": {
       "model_id": "cd1d241dac9a4c998eaf556de17f0db1",
       "version_major": 2,
       "version_minor": 0
      },
      "text/plain": [
       "Map:   0%|          | 0/1 [00:00<?, ? examples/s]"
      ]
     },
     "metadata": {},
     "output_type": "display_data"
    },
    {
     "name": "stdout",
     "output_type": "stream",
     "text": [
      "Time taken to load sq: 0.10158705711364746\n",
      "Time taken to concatenate sq: 0.0031011104583740234\n",
      "Loading audio files for th from /exp/jvillalba/corpora/voxlingua107/th\n"
     ]
    },
    {
     "data": {
      "application/vnd.jupyter.widget-view+json": {
       "model_id": "85ce8b73bf694f239ca29d13976905de",
       "version_major": 2,
       "version_minor": 0
      },
      "text/plain": [
       "Map:   0%|          | 0/1 [00:00<?, ? examples/s]"
      ]
     },
     "metadata": {},
     "output_type": "display_data"
    },
    {
     "name": "stdout",
     "output_type": "stream",
     "text": [
      "Time taken to load th: 4.463515281677246\n",
      "Time taken to concatenate th: 0.002990245819091797\n",
      "Loading audio files for sw from /exp/jvillalba/corpora/voxlingua107/sw\n"
     ]
    },
    {
     "data": {
      "application/vnd.jupyter.widget-view+json": {
       "model_id": "7bb8442188d34a13ab11939103519112",
       "version_major": 2,
       "version_minor": 0
      },
      "text/plain": [
       "Map:   0%|          | 0/1 [00:00<?, ? examples/s]"
      ]
     },
     "metadata": {},
     "output_type": "display_data"
    },
    {
     "name": "stdout",
     "output_type": "stream",
     "text": [
      "Time taken to load sw: 10.22182011604309\n",
      "Time taken to concatenate sw: 0.00802302360534668\n",
      "Loading audio files for su from /exp/jvillalba/corpora/voxlingua107/su\n"
     ]
    },
    {
     "data": {
      "application/vnd.jupyter.widget-view+json": {
       "model_id": "2fef014781fe42c6b37fe5e547bba751",
       "version_major": 2,
       "version_minor": 0
      },
      "text/plain": [
       "Map:   0%|          | 0/1 [00:00<?, ? examples/s]"
      ]
     },
     "metadata": {},
     "output_type": "display_data"
    },
    {
     "name": "stdout",
     "output_type": "stream",
     "text": [
      "Time taken to load su: 0.08931899070739746\n",
      "Time taken to concatenate su: 0.0028705596923828125\n",
      "Loading audio files for sr from /exp/jvillalba/corpora/voxlingua107/sr\n"
     ]
    },
    {
     "data": {
      "application/vnd.jupyter.widget-view+json": {
       "model_id": "ca0e6c2f22ec4973a1fc9d91e8a1dba6",
       "version_major": 2,
       "version_minor": 0
      },
      "text/plain": [
       "Map:   0%|          | 0/1 [00:00<?, ? examples/s]"
      ]
     },
     "metadata": {},
     "output_type": "display_data"
    },
    {
     "name": "stdout",
     "output_type": "stream",
     "text": [
      "Time taken to load sr: 0.09474945068359375\n",
      "Time taken to concatenate sr: 0.0028061866760253906\n",
      "Loading audio files for tg from /exp/jvillalba/corpora/voxlingua107/tg\n"
     ]
    },
    {
     "data": {
      "application/vnd.jupyter.widget-view+json": {
       "model_id": "dd21e33d046645c19eaf2799b23ff8f6",
       "version_major": 2,
       "version_minor": 0
      },
      "text/plain": [
       "Map:   0%|          | 0/1 [00:00<?, ? examples/s]"
      ]
     },
     "metadata": {},
     "output_type": "display_data"
    },
    {
     "name": "stdout",
     "output_type": "stream",
     "text": [
      "Time taken to load tg: 4.514108896255493\n",
      "Time taken to concatenate tg: 0.002659320831298828\n",
      "Loading audio files for ta from /exp/jvillalba/corpora/voxlingua107/ta\n"
     ]
    },
    {
     "data": {
      "application/vnd.jupyter.widget-view+json": {
       "model_id": "894658d05e814a5697a2721bfc14d800",
       "version_major": 2,
       "version_minor": 0
      },
      "text/plain": [
       "Map:   0%|          | 0/1 [00:00<?, ? examples/s]"
      ]
     },
     "metadata": {},
     "output_type": "display_data"
    },
    {
     "name": "stdout",
     "output_type": "stream",
     "text": [
      "Time taken to load ta: 20.220632314682007\n",
      "Time taken to concatenate ta: 0.0028839111328125\n",
      "Loading audio files for sk from /exp/jvillalba/corpora/voxlingua107/sk\n"
     ]
    },
    {
     "data": {
      "application/vnd.jupyter.widget-view+json": {
       "model_id": "d30f35b92984405ab432a8c2f17430e7",
       "version_major": 2,
       "version_minor": 0
      },
      "text/plain": [
       "Map:   0%|          | 0/1 [00:00<?, ? examples/s]"
      ]
     },
     "metadata": {},
     "output_type": "display_data"
    },
    {
     "name": "stdout",
     "output_type": "stream",
     "text": [
      "Time taken to load sk: 0.05607461929321289\n",
      "Time taken to concatenate sk: 0.002035856246948242\n",
      "Loading audio files for si from /exp/jvillalba/corpora/voxlingua107/si\n"
     ]
    },
    {
     "data": {
      "application/vnd.jupyter.widget-view+json": {
       "model_id": "ac8f60785f1847398b7232af06298c40",
       "version_major": 2,
       "version_minor": 0
      },
      "text/plain": [
       "Map:   0%|          | 0/1 [00:00<?, ? examples/s]"
      ]
     },
     "metadata": {},
     "output_type": "display_data"
    },
    {
     "name": "stdout",
     "output_type": "stream",
     "text": [
      "Time taken to load si: 0.06652998924255371\n",
      "Time taken to concatenate si: 0.0022203922271728516\n",
      "Loading audio files for te from /exp/jvillalba/corpora/voxlingua107/te\n"
     ]
    },
    {
     "data": {
      "application/vnd.jupyter.widget-view+json": {
       "model_id": "211f73a08927476fbd7fcbaa4c9198e9",
       "version_major": 2,
       "version_minor": 0
      },
      "text/plain": [
       "Map:   0%|          | 0/1 [00:00<?, ? examples/s]"
      ]
     },
     "metadata": {},
     "output_type": "display_data"
    },
    {
     "name": "stdout",
     "output_type": "stream",
     "text": [
      "Time taken to load te: 4.256736516952515\n",
      "Time taken to concatenate te: 0.002563953399658203\n",
      "Loading audio files for sn from /exp/jvillalba/corpora/voxlingua107/sn\n"
     ]
    },
    {
     "data": {
      "application/vnd.jupyter.widget-view+json": {
       "model_id": "9e3e016b645849fcb9c2a0aa512335c2",
       "version_major": 2,
       "version_minor": 0
      },
      "text/plain": [
       "Map:   0%|          | 0/1 [00:00<?, ? examples/s]"
      ]
     },
     "metadata": {},
     "output_type": "display_data"
    },
    {
     "name": "stdout",
     "output_type": "stream",
     "text": [
      "Time taken to load sn: 0.0977170467376709\n",
      "Time taken to concatenate sn: 0.004004478454589844\n",
      "Loading audio files for sl from /exp/jvillalba/corpora/voxlingua107/sl\n"
     ]
    },
    {
     "data": {
      "application/vnd.jupyter.widget-view+json": {
       "model_id": "cc622de4243b48f69c3e0114dfe83142",
       "version_major": 2,
       "version_minor": 0
      },
      "text/plain": [
       "Map:   0%|          | 0/1 [00:00<?, ? examples/s]"
      ]
     },
     "metadata": {},
     "output_type": "display_data"
    },
    {
     "name": "stdout",
     "output_type": "stream",
     "text": [
      "Time taken to load sl: 0.13110065460205078\n",
      "Time taken to concatenate sl: 0.002713918685913086\n",
      "Loading audio files for sv from /exp/jvillalba/corpora/voxlingua107/sv\n"
     ]
    },
    {
     "data": {
      "application/vnd.jupyter.widget-view+json": {
       "model_id": "72beebb137714947b2f7ddc3ecd50d56",
       "version_major": 2,
       "version_minor": 0
      },
      "text/plain": [
       "Map:   0%|          | 0/1 [00:00<?, ? examples/s]"
      ]
     },
     "metadata": {},
     "output_type": "display_data"
    },
    {
     "name": "stdout",
     "output_type": "stream",
     "text": [
      "Time taken to load sv: 0.17207956314086914\n",
      "Time taken to concatenate sv: 0.0027534961700439453\n",
      "Loading audio files for zh from /exp/jvillalba/corpora/voxlingua107/zh\n"
     ]
    },
    {
     "data": {
      "application/vnd.jupyter.widget-view+json": {
       "model_id": "a17d47c4b85c45589aeb95d1636bf14f",
       "version_major": 2,
       "version_minor": 0
      },
      "text/plain": [
       "Map:   0%|          | 0/1 [00:00<?, ? examples/s]"
      ]
     },
     "metadata": {},
     "output_type": "display_data"
    },
    {
     "name": "stdout",
     "output_type": "stream",
     "text": [
      "Time taken to load zh: 2.748318910598755\n",
      "Time taken to concatenate zh: 0.002617359161376953\n",
      "Loading audio files for tt from /exp/jvillalba/corpora/voxlingua107/tt\n"
     ]
    },
    {
     "data": {
      "application/vnd.jupyter.widget-view+json": {
       "model_id": "c6a44c2e45b64379b3245c541d6ef738",
       "version_major": 2,
       "version_minor": 0
      },
      "text/plain": [
       "Map:   0%|          | 0/1 [00:00<?, ? examples/s]"
      ]
     },
     "metadata": {},
     "output_type": "display_data"
    },
    {
     "name": "stdout",
     "output_type": "stream",
     "text": [
      "Time taken to load tt: 3.3715412616729736\n",
      "Time taken to concatenate tt: 0.002735137939453125\n",
      "Loading audio files for tl from /exp/jvillalba/corpora/voxlingua107/tl\n"
     ]
    },
    {
     "data": {
      "application/vnd.jupyter.widget-view+json": {
       "model_id": "b5d810b568374a0c917a5d17008ed46e",
       "version_major": 2,
       "version_minor": 0
      },
      "text/plain": [
       "Map:   0%|          | 0/1 [00:00<?, ? examples/s]"
      ]
     },
     "metadata": {},
     "output_type": "display_data"
    },
    {
     "name": "stdout",
     "output_type": "stream",
     "text": [
      "Time taken to load tl: 3.5426366329193115\n",
      "Time taken to concatenate tl: 0.005649089813232422\n",
      "Loading audio files for ur from /exp/jvillalba/corpora/voxlingua107/ur\n"
     ]
    },
    {
     "data": {
      "application/vnd.jupyter.widget-view+json": {
       "model_id": "8419a3fcb1cc408785a6957941c87cf3",
       "version_major": 2,
       "version_minor": 0
      },
      "text/plain": [
       "Map:   0%|          | 0/1 [00:00<?, ? examples/s]"
      ]
     },
     "metadata": {},
     "output_type": "display_data"
    },
    {
     "name": "stdout",
     "output_type": "stream",
     "text": [
      "Time taken to load ur: 2.9208269119262695\n",
      "Time taken to concatenate ur: 0.002722024917602539\n",
      "Loading audio files for tk from /exp/jvillalba/corpora/voxlingua107/tk\n"
     ]
    },
    {
     "data": {
      "application/vnd.jupyter.widget-view+json": {
       "model_id": "40d2d08aa00e428fbb88b40af703f166",
       "version_major": 2,
       "version_minor": 0
      },
      "text/plain": [
       "Map:   0%|          | 0/1 [00:00<?, ? examples/s]"
      ]
     },
     "metadata": {},
     "output_type": "display_data"
    },
    {
     "name": "stdout",
     "output_type": "stream",
     "text": [
      "Time taken to load tk: 3.418290138244629\n",
      "Time taken to concatenate tk: 0.002786874771118164\n",
      "Loading audio files for uk from /exp/jvillalba/corpora/voxlingua107/uk\n"
     ]
    },
    {
     "data": {
      "application/vnd.jupyter.widget-view+json": {
       "model_id": "47bbb13dfe6b4c86afa258541f48f0a5",
       "version_major": 2,
       "version_minor": 0
      },
      "text/plain": [
       "Map:   0%|          | 0/1 [00:00<?, ? examples/s]"
      ]
     },
     "metadata": {},
     "output_type": "display_data"
    },
    {
     "name": "stdout",
     "output_type": "stream",
     "text": [
      "Time taken to load uk: 2.9022393226623535\n",
      "Time taken to concatenate uk: 0.0027523040771484375\n",
      "Loading audio files for yo from /exp/jvillalba/corpora/voxlingua107/yo\n"
     ]
    },
    {
     "data": {
      "application/vnd.jupyter.widget-view+json": {
       "model_id": "2369146898a6450199fe633d3b098f62",
       "version_major": 2,
       "version_minor": 0
      },
      "text/plain": [
       "Map:   0%|          | 0/1 [00:00<?, ? examples/s]"
      ]
     },
     "metadata": {},
     "output_type": "display_data"
    },
    {
     "name": "stdout",
     "output_type": "stream",
     "text": [
      "Time taken to load yo: 3.158139944076538\n",
      "Time taken to concatenate yo: 0.002877950668334961\n",
      "Loading audio files for vi from /exp/jvillalba/corpora/voxlingua107/vi\n"
     ]
    },
    {
     "data": {
      "application/vnd.jupyter.widget-view+json": {
       "model_id": "786aca1c1eb54cc49d55ab9d4a68bb90",
       "version_major": 2,
       "version_minor": 0
      },
      "text/plain": [
       "Map:   0%|          | 0/1 [00:00<?, ? examples/s]"
      ]
     },
     "metadata": {},
     "output_type": "display_data"
    },
    {
     "name": "stdout",
     "output_type": "stream",
     "text": [
      "Time taken to load vi: 3.254606246948242\n",
      "Time taken to concatenate vi: 0.0027136802673339844\n",
      "Loading audio files for yi from /exp/jvillalba/corpora/voxlingua107/yi\n"
     ]
    },
    {
     "data": {
      "application/vnd.jupyter.widget-view+json": {
       "model_id": "5731f6175162445e8a8c10171b650cb0",
       "version_major": 2,
       "version_minor": 0
      },
      "text/plain": [
       "Map:   0%|          | 0/1 [00:00<?, ? examples/s]"
      ]
     },
     "metadata": {},
     "output_type": "display_data"
    },
    {
     "name": "stdout",
     "output_type": "stream",
     "text": [
      "Time taken to load yi: 2.7979369163513184\n",
      "Time taken to concatenate yi: 0.0028738975524902344\n",
      "Loading audio files for tr from /exp/jvillalba/corpora/voxlingua107/tr\n"
     ]
    },
    {
     "data": {
      "application/vnd.jupyter.widget-view+json": {
       "model_id": "464f2ee9a46d4a3ab0870ad42e6eb9aa",
       "version_major": 2,
       "version_minor": 0
      },
      "text/plain": [
       "Map:   0%|          | 0/1 [00:00<?, ? examples/s]"
      ]
     },
     "metadata": {},
     "output_type": "display_data"
    },
    {
     "name": "stdout",
     "output_type": "stream",
     "text": [
      "Time taken to load tr: 3.6995744705200195\n",
      "Time taken to concatenate tr: 0.0029654502868652344\n",
      "Loading audio files for uz from /exp/jvillalba/corpora/voxlingua107/uz\n"
     ]
    },
    {
     "data": {
      "application/vnd.jupyter.widget-view+json": {
       "model_id": "afddd5e092074f709ece110c85ae56c9",
       "version_major": 2,
       "version_minor": 0
      },
      "text/plain": [
       "Map:   0%|          | 0/1 [00:00<?, ? examples/s]"
      ]
     },
     "metadata": {},
     "output_type": "display_data"
    },
    {
     "name": "stdout",
     "output_type": "stream",
     "text": [
      "Time taken to load uz: 3.330169916152954\n",
      "Time taken to concatenate uz: 0.002645254135131836\n",
      "Loading audio files for war from /exp/jvillalba/corpora/voxlingua107/war\n"
     ]
    },
    {
     "data": {
      "application/vnd.jupyter.widget-view+json": {
       "model_id": "6d66036a7e3c4f149b9528fb92b9a7a0",
       "version_major": 2,
       "version_minor": 0
      },
      "text/plain": [
       "Map:   0%|          | 0/1 [00:00<?, ? examples/s]"
      ]
     },
     "metadata": {},
     "output_type": "display_data"
    },
    {
     "name": "stdout",
     "output_type": "stream",
     "text": [
      "Time taken to load war: 1.0696296691894531\n",
      "Time taken to concatenate war: 0.003052234649658203\n"
     ]
    }
   ],
   "source": [
    "vl = load_lid_dataset(\"vl107\", per_lang=1)"
   ]
  },
  {
   "cell_type": "code",
   "execution_count": 9,
   "metadata": {},
   "outputs": [
    {
     "data": {
      "text/plain": [
       "110"
      ]
     },
     "execution_count": 9,
     "metadata": {},
     "output_type": "execute_result"
    }
   ],
   "source": [
    "len(vl)"
   ]
  },
  {
   "cell_type": "code",
   "execution_count": 10,
   "metadata": {},
   "outputs": [
    {
     "data": {
      "text/plain": [
       "{'signal': [0.008392333984375,\n",
       "  0.008392333984375,\n",
       "  0.0086669921875,\n",
       "  0.0107421875,\n",
       "  0.011932373046875,\n",
       "  0.008270263671875,\n",
       "  0.00579833984375,\n",
       "  0.002105712890625,\n",
       "  3.0517578125e-05,\n",
       "  -0.00335693359375,\n",
       "  -0.002960205078125,\n",
       "  -0.000335693359375,\n",
       "  -6.103515625e-05,\n",
       "  0.003173828125,\n",
       "  0.005706787109375,\n",
       "  0.007476806640625,\n",
       "  0.009429931640625,\n",
       "  0.011077880859375,\n",
       "  0.01068115234375,\n",
       "  0.011566162109375,\n",
       "  0.013153076171875,\n",
       "  0.011688232421875,\n",
       "  0.012481689453125,\n",
       "  0.013519287109375,\n",
       "  0.012542724609375,\n",
       "  0.0101318359375,\n",
       "  0.00872802734375,\n",
       "  0.00616455078125,\n",
       "  0.0045166015625,\n",
       "  0.00238037109375,\n",
       "  9.1552734375e-05,\n",
       "  0.00213623046875,\n",
       "  0.0015869140625,\n",
       "  0.001617431640625,\n",
       "  0.00213623046875,\n",
       "  0.002410888671875,\n",
       "  0.002532958984375,\n",
       "  -0.001220703125,\n",
       "  -0.0003662109375,\n",
       "  -9.1552734375e-05,\n",
       "  -0.001983642578125,\n",
       "  -0.00152587890625,\n",
       "  -0.00030517578125,\n",
       "  3.0517578125e-05,\n",
       "  -0.001068115234375,\n",
       "  -0.002410888671875,\n",
       "  -0.00238037109375,\n",
       "  -0.00018310546875,\n",
       "  -0.002410888671875,\n",
       "  -0.0067138671875,\n",
       "  -0.00885009765625,\n",
       "  -0.008880615234375,\n",
       "  -0.010284423828125,\n",
       "  -0.0098876953125,\n",
       "  -0.011444091796875,\n",
       "  -0.01190185546875,\n",
       "  -0.010986328125,\n",
       "  -0.0120849609375,\n",
       "  -0.0120849609375,\n",
       "  -0.013702392578125,\n",
       "  -0.01092529296875,\n",
       "  -0.010284423828125,\n",
       "  -0.00860595703125,\n",
       "  -0.0084228515625,\n",
       "  -0.008514404296875,\n",
       "  -0.008087158203125,\n",
       "  -0.009765625,\n",
       "  -0.008392333984375,\n",
       "  -0.00799560546875,\n",
       "  -0.007110595703125,\n",
       "  -0.0057373046875,\n",
       "  -0.0048828125,\n",
       "  -0.0074462890625,\n",
       "  -0.0064697265625,\n",
       "  -0.00750732421875,\n",
       "  -0.007965087890625,\n",
       "  -0.00628662109375,\n",
       "  -0.005615234375,\n",
       "  -0.00311279296875,\n",
       "  -0.0020751953125,\n",
       "  -0.000152587890625,\n",
       "  0.002044677734375,\n",
       "  0.004119873046875,\n",
       "  0.00787353515625,\n",
       "  0.010406494140625,\n",
       "  0.010955810546875,\n",
       "  0.011993408203125,\n",
       "  0.008880615234375,\n",
       "  0.011016845703125,\n",
       "  0.010345458984375,\n",
       "  0.009368896484375,\n",
       "  0.00933837890625,\n",
       "  0.010162353515625,\n",
       "  0.0125732421875,\n",
       "  0.0150146484375,\n",
       "  0.0155029296875,\n",
       "  0.011627197265625,\n",
       "  0.010223388671875,\n",
       "  0.00567626953125,\n",
       "  0.00567626953125,\n",
       "  0.007080078125,\n",
       "  0.00640869140625,\n",
       "  0.007049560546875,\n",
       "  0.010101318359375,\n",
       "  0.0091552734375,\n",
       "  0.009124755859375,\n",
       "  0.01116943359375,\n",
       "  0.009857177734375,\n",
       "  0.008697509765625,\n",
       "  0.00457763671875,\n",
       "  0.0,\n",
       "  0.00018310546875,\n",
       "  -0.00201416015625,\n",
       "  -0.0030517578125,\n",
       "  -0.0018310546875,\n",
       "  -0.000762939453125,\n",
       "  0.0,\n",
       "  -0.001800537109375,\n",
       "  -0.001556396484375,\n",
       "  -0.003814697265625,\n",
       "  -0.005615234375,\n",
       "  -0.007659912109375,\n",
       "  -0.0072021484375,\n",
       "  -0.00323486328125,\n",
       "  -0.00189208984375,\n",
       "  0.000946044921875,\n",
       "  0.00286865234375,\n",
       "  0.00579833984375,\n",
       "  0.00762939453125,\n",
       "  0.0078125,\n",
       "  0.009674072265625,\n",
       "  0.007171630859375,\n",
       "  0.00628662109375,\n",
       "  0.00274658203125,\n",
       "  0.000457763671875,\n",
       "  0.00225830078125,\n",
       "  0.001983642578125,\n",
       "  0.003448486328125,\n",
       "  0.00433349609375,\n",
       "  0.000762939453125,\n",
       "  -0.001373291015625,\n",
       "  0.00146484375,\n",
       "  0.003509521484375,\n",
       "  0.00457763671875,\n",
       "  0.00103759765625,\n",
       "  0.002655029296875,\n",
       "  0.005706787109375,\n",
       "  0.00408935546875,\n",
       "  0.008575439453125,\n",
       "  0.01190185546875,\n",
       "  0.0140380859375,\n",
       "  0.01324462890625,\n",
       "  0.01190185546875,\n",
       "  0.01300048828125,\n",
       "  0.01153564453125,\n",
       "  0.011077880859375,\n",
       "  0.011505126953125,\n",
       "  0.00946044921875,\n",
       "  0.011077880859375,\n",
       "  0.0125732421875,\n",
       "  0.010894775390625,\n",
       "  0.0096435546875,\n",
       "  0.005401611328125,\n",
       "  0.003662109375,\n",
       "  0.0029296875,\n",
       "  0.003326416015625,\n",
       "  0.003204345703125,\n",
       "  0.0052490234375,\n",
       "  0.00469970703125,\n",
       "  0.00518798828125,\n",
       "  0.004302978515625,\n",
       "  0.001129150390625,\n",
       "  -0.00421142578125,\n",
       "  -0.008270263671875,\n",
       "  -0.009002685546875,\n",
       "  -0.013824462890625,\n",
       "  -0.013153076171875,\n",
       "  -0.01385498046875,\n",
       "  -0.011260986328125,\n",
       "  -0.01116943359375,\n",
       "  -0.012115478515625,\n",
       "  -0.012359619140625,\n",
       "  -0.010833740234375,\n",
       "  -0.0089111328125,\n",
       "  -0.009979248046875,\n",
       "  -0.008453369140625,\n",
       "  -0.007476806640625,\n",
       "  -0.00732421875,\n",
       "  -0.005950927734375,\n",
       "  -0.00347900390625,\n",
       "  -0.001434326171875,\n",
       "  0.00164794921875,\n",
       "  0.00128173828125,\n",
       "  0.0023193359375,\n",
       "  0.000640869140625,\n",
       "  -0.001708984375,\n",
       "  -0.004486083984375,\n",
       "  -0.008331298828125,\n",
       "  -0.00665283203125,\n",
       "  -0.006927490234375,\n",
       "  -0.009521484375,\n",
       "  -0.011871337890625,\n",
       "  -0.011260986328125,\n",
       "  -0.013031005859375,\n",
       "  -0.013763427734375,\n",
       "  -0.009857177734375,\n",
       "  -0.010986328125,\n",
       "  -0.009063720703125,\n",
       "  -0.011566162109375,\n",
       "  -0.011993408203125,\n",
       "  -0.00787353515625,\n",
       "  -0.009246826171875,\n",
       "  -0.0091552734375,\n",
       "  -0.00592041015625,\n",
       "  -0.004913330078125,\n",
       "  -0.00579833984375,\n",
       "  -0.008880615234375,\n",
       "  -0.013092041015625,\n",
       "  -0.013885498046875,\n",
       "  -0.01361083984375,\n",
       "  -0.011199951171875,\n",
       "  -0.0135498046875,\n",
       "  -0.012359619140625,\n",
       "  -0.01055908203125,\n",
       "  -0.008819580078125,\n",
       "  -0.008270263671875,\n",
       "  -0.00732421875,\n",
       "  -0.00506591796875,\n",
       "  -0.00531005859375,\n",
       "  -0.00140380859375,\n",
       "  -0.000213623046875,\n",
       "  0.0001220703125,\n",
       "  0.0015869140625,\n",
       "  0.00408935546875,\n",
       "  0.006103515625,\n",
       "  0.00738525390625,\n",
       "  0.00848388671875,\n",
       "  0.00750732421875,\n",
       "  0.006011962890625,\n",
       "  0.002685546875,\n",
       "  -0.0013427734375,\n",
       "  -0.0030517578125,\n",
       "  -0.0045166015625,\n",
       "  -0.004730224609375,\n",
       "  -0.00555419921875,\n",
       "  -0.007659912109375,\n",
       "  -0.007659912109375,\n",
       "  -0.006683349609375,\n",
       "  -0.005279541015625,\n",
       "  -0.004302978515625,\n",
       "  -0.003326416015625,\n",
       "  -0.004913330078125,\n",
       "  -0.006927490234375,\n",
       "  -0.006561279296875,\n",
       "  -0.00396728515625,\n",
       "  -0.00079345703125,\n",
       "  0.001708984375,\n",
       "  0.004425048828125,\n",
       "  0.00762939453125,\n",
       "  0.009674072265625,\n",
       "  0.00909423828125,\n",
       "  0.009063720703125,\n",
       "  0.009552001953125,\n",
       "  0.010528564453125,\n",
       "  0.00921630859375,\n",
       "  0.00775146484375,\n",
       "  0.00592041015625,\n",
       "  0.005035400390625,\n",
       "  0.000823974609375,\n",
       "  -0.002197265625,\n",
       "  -0.003631591796875,\n",
       "  -0.00457763671875,\n",
       "  -0.00677490234375,\n",
       "  -0.01092529296875,\n",
       "  -0.009979248046875,\n",
       "  -0.010833740234375,\n",
       "  -0.0067138671875,\n",
       "  -0.005401611328125,\n",
       "  -0.004425048828125,\n",
       "  -0.005035400390625,\n",
       "  -0.0025634765625,\n",
       "  -0.003662109375,\n",
       "  -0.0054931640625,\n",
       "  -0.00177001953125,\n",
       "  0.002166748046875,\n",
       "  0.00927734375,\n",
       "  0.007110595703125,\n",
       "  0.010986328125,\n",
       "  0.011962890625,\n",
       "  0.011505126953125,\n",
       "  0.010986328125,\n",
       "  0.0048828125,\n",
       "  0.0018310546875,\n",
       "  -0.00042724609375,\n",
       "  -0.002716064453125,\n",
       "  -0.00262451171875,\n",
       "  0.001220703125,\n",
       "  -0.000457763671875,\n",
       "  -0.003662109375,\n",
       "  -0.0052490234375,\n",
       "  -0.00689697265625,\n",
       "  -0.005889892578125,\n",
       "  -0.004364013671875,\n",
       "  -0.006500244140625,\n",
       "  -0.00750732421875,\n",
       "  -0.009765625,\n",
       "  -0.009857177734375,\n",
       "  -0.00823974609375,\n",
       "  -0.00677490234375,\n",
       "  -0.00439453125,\n",
       "  -0.000457763671875,\n",
       "  0.00701904296875,\n",
       "  0.010772705078125,\n",
       "  0.01177978515625,\n",
       "  0.0093994140625,\n",
       "  0.009368896484375,\n",
       "  0.005859375,\n",
       "  0.006988525390625,\n",
       "  0.00634765625,\n",
       "  0.0035400390625,\n",
       "  0.0084228515625,\n",
       "  0.008697509765625,\n",
       "  0.009185791015625,\n",
       "  0.00982666015625,\n",
       "  0.01104736328125,\n",
       "  0.015045166015625,\n",
       "  0.014373779296875,\n",
       "  0.011566162109375,\n",
       "  0.006805419921875,\n",
       "  0.003936767578125,\n",
       "  0.005340576171875,\n",
       "  0.005615234375,\n",
       "  0.007171630859375,\n",
       "  0.005767822265625,\n",
       "  0.005767822265625,\n",
       "  0.00347900390625,\n",
       "  0.004852294921875,\n",
       "  0.004852294921875,\n",
       "  0.004608154296875,\n",
       "  0.004608154296875,\n",
       "  0.00341796875,\n",
       "  0.006439208984375,\n",
       "  0.006195068359375,\n",
       "  0.00482177734375,\n",
       "  0.00347900390625,\n",
       "  0.00408935546875,\n",
       "  0.002044677734375,\n",
       "  -0.000213623046875,\n",
       "  -0.0025634765625,\n",
       "  -0.002044677734375,\n",
       "  0.000457763671875,\n",
       "  0.00030517578125,\n",
       "  0.000518798828125,\n",
       "  0.0,\n",
       "  0.00128173828125,\n",
       "  0.003021240234375,\n",
       "  0.0013427734375,\n",
       "  0.001007080078125,\n",
       "  -0.00054931640625,\n",
       "  0.001800537109375,\n",
       "  0.0018310546875,\n",
       "  0.00408935546875,\n",
       "  0.00921630859375,\n",
       "  0.01171875,\n",
       "  0.01483154296875,\n",
       "  0.012969970703125,\n",
       "  0.012481689453125,\n",
       "  0.011688232421875,\n",
       "  0.009521484375,\n",
       "  0.008392333984375,\n",
       "  0.004730224609375,\n",
       "  0.0025634765625,\n",
       "  0.001220703125,\n",
       "  0.00030517578125,\n",
       "  0.003204345703125,\n",
       "  0.001922607421875,\n",
       "  0.000732421875,\n",
       "  -0.001190185546875,\n",
       "  -0.00189208984375,\n",
       "  -0.0045166015625,\n",
       "  -0.006988525390625,\n",
       "  -0.008636474609375,\n",
       "  -0.007171630859375,\n",
       "  -0.0052490234375,\n",
       "  -0.002593994140625,\n",
       "  0.0,\n",
       "  0.000152587890625,\n",
       "  0.002685546875,\n",
       "  0.003387451171875,\n",
       "  0.003173828125,\n",
       "  0.00250244140625,\n",
       "  0.004486083984375,\n",
       "  0.004791259765625,\n",
       "  0.0059814453125,\n",
       "  0.007476806640625,\n",
       "  0.008056640625,\n",
       "  0.006927490234375,\n",
       "  0.003021240234375,\n",
       "  0.000244140625,\n",
       "  -0.000518798828125,\n",
       "  -0.005035400390625,\n",
       "  -0.005645751953125,\n",
       "  -0.005615234375,\n",
       "  -0.005279541015625,\n",
       "  -0.005859375,\n",
       "  -0.007598876953125,\n",
       "  -0.00799560546875,\n",
       "  -0.011627197265625,\n",
       "  -0.011260986328125,\n",
       "  -0.00927734375,\n",
       "  -0.00775146484375,\n",
       "  -0.00897216796875,\n",
       "  -0.010162353515625,\n",
       "  -0.00909423828125,\n",
       "  -0.008270263671875,\n",
       "  -0.0062255859375,\n",
       "  -0.00433349609375,\n",
       "  -0.002655029296875,\n",
       "  -0.00115966796875,\n",
       "  -0.0040283203125,\n",
       "  -0.00958251953125,\n",
       "  -0.010528564453125,\n",
       "  -0.010772705078125,\n",
       "  -0.01226806640625,\n",
       "  -0.01226806640625,\n",
       "  -0.0118408203125,\n",
       "  -0.009124755859375,\n",
       "  -0.008056640625,\n",
       "  -0.0069580078125,\n",
       "  -0.007232666015625,\n",
       "  -0.005645751953125,\n",
       "  -0.006439208984375,\n",
       "  -0.00482177734375,\n",
       "  -0.003662109375,\n",
       "  -0.002288818359375,\n",
       "  -0.002655029296875,\n",
       "  -0.001617431640625,\n",
       "  0.0023193359375,\n",
       "  0.003173828125,\n",
       "  0.006317138671875,\n",
       "  0.004364013671875,\n",
       "  0.005218505859375,\n",
       "  0.0057373046875,\n",
       "  0.00555419921875,\n",
       "  0.00341796875,\n",
       "  0.00543212890625,\n",
       "  0.007598876953125,\n",
       "  0.007293701171875,\n",
       "  0.00714111328125,\n",
       "  0.00567626953125,\n",
       "  0.0086669921875,\n",
       "  0.01434326171875,\n",
       "  0.01214599609375,\n",
       "  0.01092529296875,\n",
       "  0.01239013671875,\n",
       "  0.011444091796875,\n",
       "  0.012115478515625,\n",
       "  0.013275146484375,\n",
       "  0.01470947265625,\n",
       "  0.0147705078125,\n",
       "  0.01690673828125,\n",
       "  0.014129638671875,\n",
       "  0.01409912109375,\n",
       "  0.0147705078125,\n",
       "  0.011016845703125,\n",
       "  0.00958251953125,\n",
       "  0.009063720703125,\n",
       "  0.010040283203125,\n",
       "  0.008544921875,\n",
       "  0.0079345703125,\n",
       "  0.009674072265625,\n",
       "  0.00628662109375,\n",
       "  0.005340576171875,\n",
       "  0.005157470703125,\n",
       "  0.003753662109375,\n",
       "  0.002777099609375,\n",
       "  0.0020751953125,\n",
       "  -0.002716064453125,\n",
       "  -0.00433349609375,\n",
       "  -0.004425048828125,\n",
       "  -0.008209228515625,\n",
       "  -0.007843017578125,\n",
       "  -0.00726318359375,\n",
       "  -0.004791259765625,\n",
       "  -0.005889892578125,\n",
       "  -0.004302978515625,\n",
       "  -0.004547119140625,\n",
       "  -0.007904052734375,\n",
       "  -0.005157470703125,\n",
       "  -0.0050048828125,\n",
       "  -0.00469970703125,\n",
       "  -0.00555419921875,\n",
       "  -0.007904052734375,\n",
       "  -0.00616455078125,\n",
       "  -0.00555419921875,\n",
       "  -0.0052490234375,\n",
       "  -0.00616455078125,\n",
       "  -0.0050048828125,\n",
       "  -0.0047607421875,\n",
       "  -0.00714111328125,\n",
       "  -0.00897216796875,\n",
       "  -0.0125732421875,\n",
       "  -0.01617431640625,\n",
       "  -0.019500732421875,\n",
       "  -0.019927978515625,\n",
       "  -0.021484375,\n",
       "  -0.0218505859375,\n",
       "  -0.0218505859375,\n",
       "  -0.0218505859375,\n",
       "  -0.01934814453125,\n",
       "  -0.017730712890625,\n",
       "  -0.015167236328125,\n",
       "  -0.014739990234375,\n",
       "  -0.014129638671875,\n",
       "  -0.01385498046875,\n",
       "  -0.01129150390625,\n",
       "  -0.009307861328125,\n",
       "  -0.00927734375,\n",
       "  -0.00885009765625,\n",
       "  -0.00909423828125,\n",
       "  -0.004241943359375,\n",
       "  -0.002532958984375,\n",
       "  -0.000885009765625,\n",
       "  0.00146484375,\n",
       "  0.001190185546875,\n",
       "  -0.00091552734375,\n",
       "  -3.0517578125e-05,\n",
       "  0.002838134765625,\n",
       "  0.001220703125,\n",
       "  0.003631591796875,\n",
       "  0.004180908203125,\n",
       "  0.001739501953125,\n",
       "  0.0042724609375,\n",
       "  0.00518798828125,\n",
       "  0.0050048828125,\n",
       "  0.0040283203125,\n",
       "  0.00494384765625,\n",
       "  0.00616455078125,\n",
       "  0.00439453125,\n",
       "  0.006561279296875,\n",
       "  0.00537109375,\n",
       "  0.00341796875,\n",
       "  0.0062255859375,\n",
       "  0.00701904296875,\n",
       "  0.0086669921875,\n",
       "  0.010833740234375,\n",
       "  0.009033203125,\n",
       "  0.00897216796875,\n",
       "  0.008087158203125,\n",
       "  0.0089111328125,\n",
       "  0.008270263671875,\n",
       "  0.005126953125,\n",
       "  0.004547119140625,\n",
       "  0.005218505859375,\n",
       "  0.00347900390625,\n",
       "  0.00262451171875,\n",
       "  0.001220703125,\n",
       "  0.0001220703125,\n",
       "  0.002227783203125,\n",
       "  -0.000274658203125,\n",
       "  -0.00048828125,\n",
       "  -0.0018310546875,\n",
       "  -0.00201416015625,\n",
       "  -0.001495361328125,\n",
       "  -0.0015869140625,\n",
       "  -0.00396728515625,\n",
       "  -0.00653076171875,\n",
       "  -0.005340576171875,\n",
       "  -0.005950927734375,\n",
       "  -0.00372314453125,\n",
       "  -0.002166748046875,\n",
       "  -0.0023193359375,\n",
       "  0.000457763671875,\n",
       "  0.0025634765625,\n",
       "  0.00067138671875,\n",
       "  0.001739501953125,\n",
       "  0.0054931640625,\n",
       "  0.0037841796875,\n",
       "  0.000579833984375,\n",
       "  -0.00079345703125,\n",
       "  0.00115966796875,\n",
       "  0.0028076171875,\n",
       "  0.007354736328125,\n",
       "  0.0068359375,\n",
       "  0.0045166015625,\n",
       "  0.00469970703125,\n",
       "  0.001312255859375,\n",
       "  0.00177001953125,\n",
       "  0.000274658203125,\n",
       "  6.103515625e-05,\n",
       "  -0.00262451171875,\n",
       "  -0.002532958984375,\n",
       "  -0.001220703125,\n",
       "  -0.000885009765625,\n",
       "  -0.000396728515625,\n",
       "  -9.1552734375e-05,\n",
       "  0.00177001953125,\n",
       "  0.00079345703125,\n",
       "  -0.001983642578125,\n",
       "  -0.00506591796875,\n",
       "  -0.004425048828125,\n",
       "  -0.002716064453125,\n",
       "  -0.002532958984375,\n",
       "  -0.002166748046875,\n",
       "  -9.1552734375e-05,\n",
       "  0.000579833984375,\n",
       "  0.002593994140625,\n",
       "  0.00390625,\n",
       "  0.00506591796875,\n",
       "  0.0089111328125,\n",
       "  0.0103759765625,\n",
       "  0.009307861328125,\n",
       "  0.010040283203125,\n",
       "  0.01019287109375,\n",
       "  0.012115478515625,\n",
       "  0.012725830078125,\n",
       "  0.011474609375,\n",
       "  0.009552001953125,\n",
       "  0.009063720703125,\n",
       "  0.01031494140625,\n",
       "  0.009918212890625,\n",
       "  0.01025390625,\n",
       "  0.009735107421875,\n",
       "  0.008575439453125,\n",
       "  0.00738525390625,\n",
       "  0.0042724609375,\n",
       "  0.004486083984375,\n",
       "  0.005950927734375,\n",
       "  0.0020751953125,\n",
       "  0.000885009765625,\n",
       "  0.0009765625,\n",
       "  0.002105712890625,\n",
       "  0.001434326171875,\n",
       "  0.000335693359375,\n",
       "  0.002899169921875,\n",
       "  0.006256103515625,\n",
       "  0.00421142578125,\n",
       "  0.0035400390625,\n",
       "  0.003662109375,\n",
       "  0.002899169921875,\n",
       "  0.004730224609375,\n",
       "  0.00445556640625,\n",
       "  0.003753662109375,\n",
       "  0.006011962890625,\n",
       "  0.004669189453125,\n",
       "  0.001434326171875,\n",
       "  0.003570556640625,\n",
       "  0.0013427734375,\n",
       "  0.00164794921875,\n",
       "  -0.000518798828125,\n",
       "  -0.001983642578125,\n",
       "  -0.0020751953125,\n",
       "  -0.0029296875,\n",
       "  -0.001953125,\n",
       "  -0.002777099609375,\n",
       "  -0.001190185546875,\n",
       "  -0.004180908203125,\n",
       "  -0.007354736328125,\n",
       "  -0.00579833984375,\n",
       "  -0.00628662109375,\n",
       "  -0.007476806640625,\n",
       "  -0.007781982421875,\n",
       "  -0.009674072265625,\n",
       "  -0.0091552734375,\n",
       "  -0.0086669921875,\n",
       "  -0.007659912109375,\n",
       "  -0.0079345703125,\n",
       "  -0.007232666015625,\n",
       "  -0.0068359375,\n",
       "  -0.006988525390625,\n",
       "  -0.006195068359375,\n",
       "  -0.007415771484375,\n",
       "  -0.00494384765625,\n",
       "  -0.003570556640625,\n",
       "  -0.000274658203125,\n",
       "  0.000732421875,\n",
       "  -0.000762939453125,\n",
       "  0.00042724609375,\n",
       "  0.00079345703125,\n",
       "  0.00225830078125,\n",
       "  0.00299072265625,\n",
       "  0.003387451171875,\n",
       "  0.000396728515625,\n",
       "  -0.002105712890625,\n",
       "  -0.0030517578125,\n",
       "  -0.004180908203125,\n",
       "  -0.002471923828125,\n",
       "  -0.004302978515625,\n",
       "  -0.0050048828125,\n",
       "  -0.006744384765625,\n",
       "  -0.008331298828125,\n",
       "  -0.007598876953125,\n",
       "  -0.01007080078125,\n",
       "  -0.007080078125,\n",
       "  -0.007965087890625,\n",
       "  -0.00579833984375,\n",
       "  -0.001556396484375,\n",
       "  -0.003692626953125,\n",
       "  -0.001708984375,\n",
       "  -0.001220703125,\n",
       "  -0.001678466796875,\n",
       "  -0.00238037109375,\n",
       "  -0.000396728515625,\n",
       "  -0.001068115234375,\n",
       "  -0.000762939453125,\n",
       "  0.00048828125,\n",
       "  0.00244140625,\n",
       "  0.004608154296875,\n",
       "  0.00439453125,\n",
       "  0.0059814453125,\n",
       "  0.00164794921875,\n",
       "  0.00177001953125,\n",
       "  0.001678466796875,\n",
       "  0.0006103515625,\n",
       "  -0.000701904296875,\n",
       "  -0.0018310546875,\n",
       "  -0.000701904296875,\n",
       "  0.0013427734375,\n",
       "  -0.00030517578125,\n",
       "  -0.000457763671875,\n",
       "  -0.000640869140625,\n",
       "  -0.002227783203125,\n",
       "  -0.003265380859375,\n",
       "  -0.0076904296875,\n",
       "  -0.00848388671875,\n",
       "  -0.0108642578125,\n",
       "  -0.00994873046875,\n",
       "  -0.00921630859375,\n",
       "  -0.008514404296875,\n",
       "  -0.006072998046875,\n",
       "  -0.004852294921875,\n",
       "  -0.004241943359375,\n",
       "  -0.004852294921875,\n",
       "  -0.008087158203125,\n",
       "  -0.0081787109375,\n",
       "  -0.00970458984375,\n",
       "  -0.0079345703125,\n",
       "  -0.0076904296875,\n",
       "  -0.00604248046875,\n",
       "  -0.003082275390625,\n",
       "  -0.002410888671875,\n",
       "  -0.00054931640625,\n",
       "  -0.002899169921875,\n",
       "  -0.004852294921875,\n",
       "  -0.00592041015625,\n",
       "  -0.003082275390625,\n",
       "  -0.003326416015625,\n",
       "  -0.003631591796875,\n",
       "  -0.005645751953125,\n",
       "  -0.004302978515625,\n",
       "  -0.004730224609375,\n",
       "  -0.00482177734375,\n",
       "  -0.003814697265625,\n",
       "  -0.003692626953125,\n",
       "  -0.004547119140625,\n",
       "  -0.004150390625,\n",
       "  0.00048828125,\n",
       "  0.001373291015625,\n",
       "  0.003173828125,\n",
       "  0.004364013671875,\n",
       "  0.006591796875,\n",
       "  0.006805419921875,\n",
       "  0.00604248046875,\n",
       "  0.003936767578125,\n",
       "  0.0030517578125,\n",
       "  0.002593994140625,\n",
       "  0.00177001953125,\n",
       "  0.00244140625,\n",
       "  0.002532958984375,\n",
       "  0.0035400390625,\n",
       "  0.003173828125,\n",
       "  0.005035400390625,\n",
       "  0.0068359375,\n",
       "  0.005645751953125,\n",
       "  0.005645751953125,\n",
       "  0.002716064453125,\n",
       "  0.0047607421875,\n",
       "  0.008056640625,\n",
       "  0.00909423828125,\n",
       "  0.01202392578125,\n",
       "  0.011016845703125,\n",
       "  0.01495361328125,\n",
       "  0.012939453125,\n",
       "  0.012176513671875,\n",
       "  0.01324462890625,\n",
       "  0.01019287109375,\n",
       "  0.01141357421875,\n",
       "  0.0093994140625,\n",
       "  0.008209228515625,\n",
       "  0.008209228515625,\n",
       "  0.009033203125,\n",
       "  0.00726318359375,\n",
       "  0.005615234375,\n",
       "  0.004913330078125,\n",
       "  0.00360107421875,\n",
       "  0.005096435546875,\n",
       "  0.004608154296875,\n",
       "  0.00189208984375,\n",
       "  0.001251220703125,\n",
       "  0.002166748046875,\n",
       "  0.002899169921875,\n",
       "  0.003143310546875,\n",
       "  0.003387451171875,\n",
       "  0.004638671875,\n",
       "  0.00604248046875,\n",
       "  0.00286865234375,\n",
       "  0.000579833984375,\n",
       "  -0.00048828125,\n",
       "  -0.001007080078125,\n",
       "  0.00067138671875,\n",
       "  -0.000457763671875,\n",
       "  -0.000457763671875,\n",
       "  0.001068115234375,\n",
       "  0.000396728515625,\n",
       "  0.001007080078125,\n",
       "  -0.0009765625,\n",
       "  -0.002471923828125,\n",
       "  -0.002532958984375,\n",
       "  -0.00482177734375,\n",
       "  -0.0072021484375,\n",
       "  -0.008758544921875,\n",
       "  -0.007843017578125,\n",
       "  -0.00665283203125,\n",
       "  -0.003936767578125,\n",
       "  -0.0035400390625,\n",
       "  -0.002838134765625,\n",
       "  -0.0045166015625,\n",
       "  -0.004791259765625,\n",
       "  -0.00457763671875,\n",
       "  -0.005096435546875,\n",
       "  -0.005218505859375,\n",
       "  -0.00579833984375,\n",
       "  -0.00537109375,\n",
       "  -0.005615234375,\n",
       "  -0.00433349609375,\n",
       "  -0.002685546875,\n",
       "  -0.00189208984375,\n",
       "  -0.001434326171875,\n",
       "  0.00030517578125,\n",
       "  -0.000762939453125,\n",
       "  -0.000457763671875,\n",
       "  -0.00177001953125,\n",
       "  -0.004241943359375,\n",
       "  -0.006683349609375,\n",
       "  -0.0067138671875,\n",
       "  -0.005462646484375,\n",
       "  -0.004364013671875,\n",
       "  -0.003448486328125,\n",
       "  -0.0047607421875,\n",
       "  -0.004486083984375,\n",
       "  -0.004730224609375,\n",
       "  -0.003021240234375,\n",
       "  -0.001251220703125,\n",
       "  -0.000152587890625,\n",
       "  0.00079345703125,\n",
       "  -0.000396728515625,\n",
       "  -0.000762939453125,\n",
       "  -0.000518798828125,\n",
       "  -0.000823974609375,\n",
       "  -0.00103759765625,\n",
       "  -9.1552734375e-05,\n",
       "  0.0006103515625,\n",
       "  0.000640869140625,\n",
       "  0.003204345703125,\n",
       "  0.00225830078125,\n",
       "  0.00286865234375,\n",
       "  0.0023193359375,\n",
       "  0.001708984375,\n",
       "  0.003204345703125,\n",
       "  0.000946044921875,\n",
       "  -0.000244140625,\n",
       "  -0.000762939453125,\n",
       "  0.0003662109375,\n",
       "  -0.001312255859375,\n",
       "  0.00054931640625,\n",
       "  0.003082275390625,\n",
       "  0.003509521484375,\n",
       "  0.00225830078125,\n",
       "  0.004150390625,\n",
       "  0.007171630859375,\n",
       "  0.006805419921875,\n",
       "  0.005859375,\n",
       "  0.0048828125,\n",
       "  0.00494384765625,\n",
       "  0.0052490234375,\n",
       "  0.007537841796875,\n",
       "  0.00640869140625,\n",
       "  0.007476806640625,\n",
       "  0.008819580078125,\n",
       "  0.011474609375,\n",
       "  0.01116943359375,\n",
       "  0.010894775390625,\n",
       "  0.011474609375,\n",
       "  0.010467529296875,\n",
       "  0.0074462890625,\n",
       "  0.001617431640625,\n",
       "  -0.00201416015625,\n",
       "  -0.0023193359375,\n",
       "  -0.002410888671875,\n",
       "  -0.00079345703125,\n",
       "  0.001922607421875,\n",
       "  0.0020751953125,\n",
       "  0.001800537109375,\n",
       "  -0.000457763671875,\n",
       "  -0.000640869140625,\n",
       "  -0.00177001953125,\n",
       "  -0.0018310546875,\n",
       "  -0.0010986328125,\n",
       "  0.002227783203125,\n",
       "  0.004119873046875,\n",
       "  0.00579833984375,\n",
       "  0.0030517578125,\n",
       "  0.0040283203125,\n",
       "  0.006805419921875,\n",
       "  0.004730224609375,\n",
       "  0.005035400390625,\n",
       "  0.005828857421875,\n",
       "  0.006378173828125,\n",
       "  0.00482177734375,\n",
       "  0.006317138671875,\n",
       "  0.00677490234375,\n",
       "  0.00640869140625,\n",
       "  0.004547119140625,\n",
       "  0.002471923828125,\n",
       "  3.0517578125e-05,\n",
       "  -0.00067138671875,\n",
       "  -0.00054931640625,\n",
       "  -0.001007080078125,\n",
       "  -0.002838134765625,\n",
       "  -0.004058837890625,\n",
       "  -0.00360107421875,\n",
       "  -0.004608154296875,\n",
       "  -0.003448486328125,\n",
       "  -0.00225830078125,\n",
       "  -0.00531005859375,\n",
       "  -0.00341796875,\n",
       "  -0.001708984375,\n",
       "  -0.001617431640625,\n",
       "  0.001678466796875,\n",
       "  0.00128173828125,\n",
       "  0.00335693359375,\n",
       "  0.005401611328125,\n",
       "  0.00653076171875,\n",
       "  0.00872802734375,\n",
       "  0.009674072265625,\n",
       "  0.010711669921875,\n",
       "  0.006744384765625,\n",
       "  0.004302978515625,\n",
       "  0.00653076171875,\n",
       "  0.00469970703125,\n",
       "  0.003570556640625,\n",
       "  0.001953125,\n",
       "  -0.0001220703125,\n",
       "  0.003692626953125,\n",
       "  0.002349853515625,\n",
       "  -0.000335693359375,\n",
       "  0.000396728515625,\n",
       "  -0.00146484375,\n",
       "  -0.003387451171875,\n",
       "  -0.004791259765625,\n",
       "  -0.00531005859375,\n",
       "  -0.006683349609375,\n",
       "  -0.0079345703125,\n",
       "  -0.007110595703125,\n",
       "  -0.005859375,\n",
       "  -0.005096435546875,\n",
       "  -0.0062255859375,\n",
       "  -0.009307861328125,\n",
       "  -0.006561279296875,\n",
       "  -0.0067138671875,\n",
       "  -0.006683349609375,\n",
       "  -0.004791259765625,\n",
       "  -0.0048828125,\n",
       "  -0.005157470703125,\n",
       "  -0.005523681640625,\n",
       "  -0.004791259765625,\n",
       "  -0.006500244140625,\n",
       "  -0.00457763671875,\n",
       "  -0.001708984375,\n",
       "  -0.002044677734375,\n",
       "  -0.00274658203125,\n",
       "  -0.00262451171875,\n",
       "  -0.001739501953125,\n",
       "  -0.00146484375,\n",
       "  -0.003082275390625,\n",
       "  -0.0042724609375,\n",
       "  -0.007659912109375,\n",
       "  -0.006927490234375,\n",
       "  -0.006622314453125,\n",
       "  -0.00897216796875,\n",
       "  -0.009521484375,\n",
       "  -0.008087158203125,\n",
       "  -0.006683349609375,\n",
       "  -0.008087158203125,\n",
       "  -0.010009765625,\n",
       "  -0.012542724609375,\n",
       "  -0.0128173828125,\n",
       "  -0.014312744140625,\n",
       "  -0.015594482421875,\n",
       "  -0.016815185546875,\n",
       "  ...],\n",
       " 'lang': 'hy',\n",
       " 'accent': '-',\n",
       " 'audio_file': '/exp/jvillalba/corpora/voxlingua107/hy/HcazgXW2uHI__U__S122---0767.480-0774.890.wav'}"
      ]
     },
     "execution_count": 10,
     "metadata": {},
     "output_type": "execute_result"
    }
   ],
   "source": [
    "vl[4]"
   ]
  },
  {
   "cell_type": "code",
   "execution_count": 1,
   "metadata": {},
   "outputs": [],
   "source": [
    "import os, sys\n",
    "sys.path.append(\"/home/hltcoe/nbafna/projects/mitigating-accent-bias-in-lid/utils/phoneseq_dataloading\")\n",
    "from phoneseq_dataset import load_phoneseq_dataset"
   ]
  },
  {
   "cell_type": "code",
   "execution_count": 3,
   "metadata": {},
   "outputs": [
    {
     "data": {
      "application/vnd.jupyter.widget-view+json": {
       "model_id": "6952ca518299477796d30549a7d5f1e1",
       "version_major": 2,
       "version_minor": 0
      },
      "text/plain": [
       "Generating train split: 0 examples [00:00, ? examples/s]"
      ]
     },
     "metadata": {},
     "output_type": "display_data"
    },
    {
     "data": {
      "application/vnd.jupyter.widget-view+json": {
       "model_id": "b062f4d3c67945e9b5666909746bbac0",
       "version_major": 2,
       "version_minor": 0
      },
      "text/plain": [
       "Filter:   0%|          | 0/13213 [00:00<?, ? examples/s]"
      ]
     },
     "metadata": {},
     "output_type": "display_data"
    },
    {
     "name": "stdout",
     "output_type": "stream",
     "text": [
      "Filtered out 8 samples with None phone sequences\n"
     ]
    },
    {
     "data": {
      "application/vnd.jupyter.widget-view+json": {
       "model_id": "c6e4e6d0912e495984fa75f0d98a97cd",
       "version_major": 2,
       "version_minor": 0
      },
      "text/plain": [
       "Map:   0%|          | 0/13205 [00:00<?, ? examples/s]"
      ]
     },
     "metadata": {},
     "output_type": "display_data"
    }
   ],
   "source": [
    "lid_dataset = load_phoneseq_dataset(\"edacc\")"
   ]
  },
  {
   "cell_type": "code",
   "execution_count": 6,
   "metadata": {},
   "outputs": [],
   "source": [
    "lang_dataset = load_phoneseq_fleurs(lang=\"my_mm\")"
   ]
  },
  {
   "cell_type": "code",
   "execution_count": 7,
   "metadata": {},
   "outputs": [
    {
     "data": {
      "text/plain": [
       "5763"
      ]
     },
     "execution_count": 7,
     "metadata": {},
     "output_type": "execute_result"
    }
   ],
   "source": [
    "len(lang_dataset)"
   ]
  },
  {
   "cell_type": "code",
   "execution_count": 11,
   "metadata": {},
   "outputs": [],
   "source": [
    "with open(\"/exp/nbafna/projects/mitigating-accent-bias-in-lid/transcriptions/fleurs/wav2vec2-xlsr-53-espeak-cv-ft/my_mm.csv\", \"r\") as f:\n",
    "    lines = f.readlines()\n",
    "\n",
    "len(lines)\n",
    "lines = [l.split(\",\") for l in lines if l.split(\",\")[3] != \"\"]"
   ]
  },
  {
   "cell_type": "code",
   "execution_count": 12,
   "metadata": {},
   "outputs": [
    {
     "data": {
      "text/plain": [
       "5766"
      ]
     },
     "execution_count": 12,
     "metadata": {},
     "output_type": "execute_result"
    }
   ],
   "source": [
    "len(lines)"
   ]
  },
  {
   "cell_type": "code",
   "execution_count": 13,
   "metadata": {},
   "outputs": [],
   "source": [
    "from datasets import Dataset"
   ]
  },
  {
   "cell_type": "code",
   "execution_count": 14,
   "metadata": {},
   "outputs": [],
   "source": [
    "filepath=\"/exp/nbafna/projects/mitigating-accent-bias-in-lid/transcriptions/fleurs/wav2vec2-xlsr-53-espeak-cv-ft/my_mm.csv\"\n",
    "dataset = Dataset.from_csv(filepath, column_names = [\"audio_file\", \"lang\", \"accent\", \"phone_sequence\"])"
   ]
  },
  {
   "cell_type": "code",
   "execution_count": 15,
   "metadata": {},
   "outputs": [
    {
     "data": {
      "text/plain": [
       "5766"
      ]
     },
     "execution_count": 15,
     "metadata": {},
     "output_type": "execute_result"
    }
   ],
   "source": [
    "len(dataset)"
   ]
  },
  {
   "cell_type": "code",
   "execution_count": 16,
   "metadata": {},
   "outputs": [],
   "source": [
    "ps = dataset[0][\"phone_sequence\"]"
   ]
  },
  {
   "cell_type": "code",
   "execution_count": 17,
   "metadata": {},
   "outputs": [
    {
     "data": {
      "text/plain": [
       "'n a t aʊ s a ŋ aː ɡ uː n eː n aː m b aɪ n d i n t o k i n a'"
      ]
     },
     "execution_count": 17,
     "metadata": {},
     "output_type": "execute_result"
    }
   ],
   "source": [
    "ps"
   ]
  },
  {
   "cell_type": "code",
   "execution_count": 18,
   "metadata": {},
   "outputs": [],
   "source": [
    "ps = [item[\"phone_sequence\"] for item in dataset]"
   ]
  },
  {
   "cell_type": "code",
   "execution_count": 22,
   "metadata": {},
   "outputs": [
    {
     "name": "stdout",
     "output_type": "stream",
     "text": [
      "{'audio_file': '/export/common/data/corpora/fleurs/my_mm/train/10611495147215245145.wav', 'lang': 'my_mm', 'accent': '-', 'phone_sequence': None}\n",
      "{'audio_file': '/export/common/data/corpora/fleurs/my_mm/train/2962247913582112154.wav', 'lang': 'my_mm', 'accent': '-', 'phone_sequence': None}\n",
      "{'audio_file': '/export/common/data/corpora/fleurs/my_mm/train/4313189603454770455.wav', 'lang': 'my_mm', 'accent': '-', 'phone_sequence': None}\n"
     ]
    }
   ],
   "source": [
    "for item in dataset:\n",
    "    if item[\"phone_sequence\"] is None:\n",
    "        print(item)"
   ]
  },
  {
   "cell_type": "code",
   "execution_count": 21,
   "metadata": {},
   "outputs": [
    {
     "data": {
      "text/plain": [
       "5763"
      ]
     },
     "execution_count": 21,
     "metadata": {},
     "output_type": "execute_result"
    }
   ],
   "source": [
    "len(ps_true)"
   ]
  },
  {
   "cell_type": "code",
   "execution_count": 1,
   "metadata": {},
   "outputs": [],
   "source": [
    "import os, sys\n",
    "sys.path.append(\"/home/hltcoe/nbafna/projects/mitigating-accent-bias-in-lid/utils/dataloading\")\n",
    "from dataset_loader import load_lid_dataset\n"
   ]
  },
  {
   "cell_type": "code",
   "execution_count": null,
   "metadata": {},
   "outputs": [
    {
     "name": "stdout",
     "output_type": "stream",
     "text": [
      "Loading audio files...\n",
      "Size of dataset for en: 23955\n"
     ]
    },
    {
     "data": {
      "application/vnd.jupyter.widget-view+json": {
       "model_id": "56c6a67453bb4848958d4813e8a5e1e8",
       "version_major": 2,
       "version_minor": 0
      },
      "text/plain": [
       "Map (num_proc=16):   0%|          | 0/23955 [00:00<?, ? examples/s]"
      ]
     },
     "metadata": {},
     "output_type": "display_data"
    },
    {
     "name": "stdout",
     "output_type": "stream",
     "text": [
      "Size of dataset for en: 7190\n"
     ]
    }
   ],
   "source": [
    "dataset = load_lid_dataset(\"cv\", per_accent=5000)"
   ]
  },
  {
   "cell_type": "code",
   "execution_count": 12,
   "metadata": {},
   "outputs": [
    {
     "data": {
      "text/plain": [
       "Dataset({\n",
       "    features: ['signal', 'lang', 'accent', 'audio_file'],\n",
       "    num_rows: 7190\n",
       "})"
      ]
     },
     "execution_count": 12,
     "metadata": {},
     "output_type": "execute_result"
    }
   ],
   "source": [
    "dataset"
   ]
  },
  {
   "cell_type": "code",
   "execution_count": 13,
   "metadata": {},
   "outputs": [],
   "source": [
    "from collections import Counter\n",
    "count = Counter(dataset[\"accent\"])"
   ]
  },
  {
   "cell_type": "code",
   "execution_count": 14,
   "metadata": {},
   "outputs": [
    {
     "data": {
      "text/plain": [
       "Counter({'indian': 1857,\n",
       "         'england': 1226,\n",
       "         'us': 1214,\n",
       "         'canada': 949,\n",
       "         'australia': 923,\n",
       "         'newzealand': 297,\n",
       "         'african': 192,\n",
       "         'scotland': 173,\n",
       "         'singapore': 117,\n",
       "         'philippines': 105,\n",
       "         'ireland': 96,\n",
       "         'malaysia': 33,\n",
       "         'hongkong': 7,\n",
       "         'wales': 1})"
      ]
     },
     "execution_count": 14,
     "metadata": {},
     "output_type": "execute_result"
    }
   ],
   "source": [
    "count"
   ]
  },
  {
   "cell_type": "code",
   "execution_count": 6,
   "metadata": {},
   "outputs": [
    {
     "data": {
      "text/plain": [
       "{'hongkong', 'wales'}"
      ]
     },
     "execution_count": 6,
     "metadata": {},
     "output_type": "execute_result"
    }
   ],
   "source": []
  },
  {
   "cell_type": "code",
   "execution_count": 2,
   "metadata": {},
   "outputs": [
    {
     "name": "stdout",
     "output_type": "stream",
     "text": [
      "Loading all languages from /export/common/data/corpora/fleurs/\n",
      "Loading audio files for af_za from /export/common/data/corpora/fleurs/af_za/test\n",
      "Size of dataset for af_za: 264\n"
     ]
    },
    {
     "data": {
      "application/vnd.jupyter.widget-view+json": {
       "model_id": "493349ca49a84fbca38c3bfe57922b72",
       "version_major": 2,
       "version_minor": 0
      },
      "text/plain": [
       "Map (num_proc=16):   0%|          | 0/264 [00:00<?, ? examples/s]"
      ]
     },
     "metadata": {},
     "output_type": "display_data"
    },
    {
     "name": "stdout",
     "output_type": "stream",
     "text": [
      "Size of dataset for af_za: 417\n",
      "Time taken to load af_za: 10.566818237304688\n",
      "Time taken to concatenate af_za: 7.152557373046875e-07\n",
      "Loading audio files for am_et from /export/common/data/corpora/fleurs/am_et/test\n",
      "Size of dataset for am_et: 516\n"
     ]
    },
    {
     "data": {
      "application/vnd.jupyter.widget-view+json": {
       "model_id": "5308514532964c9b8f29456fc4f7bd74",
       "version_major": 2,
       "version_minor": 0
      },
      "text/plain": [
       "Map (num_proc=16):   0%|          | 0/516 [00:00<?, ? examples/s]"
      ]
     },
     "metadata": {},
     "output_type": "display_data"
    },
    {
     "name": "stdout",
     "output_type": "stream",
     "text": [
      "Size of dataset for am_et: 710\n",
      "Time taken to load am_et: 11.868078470230103\n",
      "Time taken to concatenate am_et: 1.1920928955078125e-06\n",
      "Loading audio files for ar_eg from /export/common/data/corpora/fleurs/ar_eg/test\n",
      "Size of dataset for ar_eg: 428\n"
     ]
    },
    {
     "data": {
      "application/vnd.jupyter.widget-view+json": {
       "model_id": "31a9b45d4c29452696ae7de1eaa360d6",
       "version_major": 2,
       "version_minor": 0
      },
      "text/plain": [
       "Map (num_proc=16):   0%|          | 0/428 [00:00<?, ? examples/s]"
      ]
     },
     "metadata": {},
     "output_type": "display_data"
    },
    {
     "ename": "UnboundLocalError",
     "evalue": "cannot access local variable 'parent' where it is not associated with a value",
     "output_type": "error",
     "traceback": [
      "\u001b[0;31m---------------------------------------------------------------------------\u001b[0m",
      "\u001b[0;31mRemoteTraceback\u001b[0m                           Traceback (most recent call last)",
      "\u001b[0;31mRemoteTraceback\u001b[0m: \n\"\"\"\nTraceback (most recent call last):\n  File \"/home/hltcoe/nbafna/.conda/envs/accent_bias/lib/python3.12/site-packages/lazy_loader/__init__.py\", line 230, in load\n    parent = inspect.stack()[1]\n             ^^^^^^^^^^^^^^^\n  File \"/home/hltcoe/nbafna/.conda/envs/accent_bias/lib/python3.12/inspect.py\", line 1777, in stack\n    return getouterframes(sys._getframe(1), context)\n           ^^^^^^^^^^^^^^^^^^^^^^^^^^^^^^^^^^^^^^^^^\n  File \"/home/hltcoe/nbafna/.conda/envs/accent_bias/lib/python3.12/inspect.py\", line 1752, in getouterframes\n    traceback_info = getframeinfo(frame, context)\n                     ^^^^^^^^^^^^^^^^^^^^^^^^^^^^\n  File \"/home/hltcoe/nbafna/.conda/envs/accent_bias/lib/python3.12/inspect.py\", line 1714, in getframeinfo\n    lines, lnum = findsource(frame)\n                  ^^^^^^^^^^^^^^^^^\n  File \"/home/hltcoe/nbafna/.conda/envs/accent_bias/lib/python3.12/inspect.py\", line 1090, in findsource\n    module = getmodule(object, file)\n             ^^^^^^^^^^^^^^^^^^^^^^^\n  File \"/home/hltcoe/nbafna/.conda/envs/accent_bias/lib/python3.12/inspect.py\", line 1016, in getmodule\n    os.path.realpath(f)] = module.__name__\n    ^^^^^^^^^^^^^^^^^^^\n  File \"<frozen posixpath>\", line 427, in realpath\n  File \"<frozen posixpath>\", line 462, in _joinrealpath\nKeyboardInterrupt\n\nDuring handling of the above exception, another exception occurred:\n\nTraceback (most recent call last):\n  File \"/home/hltcoe/nbafna/.conda/envs/accent_bias/lib/python3.12/site-packages/multiprocess/pool.py\", line 125, in worker\n    result = (True, func(*args, **kwds))\n                    ^^^^^^^^^^^^^^^^^^^\n  File \"/home/hltcoe/nbafna/.conda/envs/accent_bias/lib/python3.12/site-packages/datasets/utils/py_utils.py\", line 678, in _write_generator_to_queue\n    for i, result in enumerate(func(**kwargs)):\n  File \"/home/hltcoe/nbafna/.conda/envs/accent_bias/lib/python3.12/site-packages/datasets/arrow_dataset.py\", line 3547, in _map_single\n    batch = apply_function_on_filtered_inputs(\n            ^^^^^^^^^^^^^^^^^^^^^^^^^^^^^^^^^^\n  File \"/home/hltcoe/nbafna/.conda/envs/accent_bias/lib/python3.12/site-packages/datasets/arrow_dataset.py\", line 3416, in apply_function_on_filtered_inputs\n    processed_inputs = function(*fn_args, *additional_args, **fn_kwargs)\n                       ^^^^^^^^^^^^^^^^^^^^^^^^^^^^^^^^^^^^^^^^^^^^^^^^^\n  File \"/home/hltcoe/nbafna/projects/mitigating-accent-bias-in-lid/utils/dataloading/fleurs.py\", line 29, in map_create_audio_chunks\n    signals = [f[\"array\"] for f in batch[\"signal\"]]\n                                   ~~~~~^^^^^^^^^^\n  File \"/home/hltcoe/nbafna/.conda/envs/accent_bias/lib/python3.12/site-packages/datasets/formatting/formatting.py\", line 273, in __getitem__\n    value = self.format(key)\n            ^^^^^^^^^^^^^^^^\n  File \"/home/hltcoe/nbafna/.conda/envs/accent_bias/lib/python3.12/site-packages/datasets/formatting/formatting.py\", line 376, in format\n    return self.formatter.format_column(self.pa_table.select([key]))\n           ^^^^^^^^^^^^^^^^^^^^^^^^^^^^^^^^^^^^^^^^^^^^^^^^^^^^^^^^^\n  File \"/home/hltcoe/nbafna/.conda/envs/accent_bias/lib/python3.12/site-packages/datasets/formatting/formatting.py\", line 443, in format_column\n    column = self.python_features_decoder.decode_column(column, pa_table.column_names[0])\n             ^^^^^^^^^^^^^^^^^^^^^^^^^^^^^^^^^^^^^^^^^^^^^^^^^^^^^^^^^^^^^^^^^^^^^^^^^^^^\n  File \"/home/hltcoe/nbafna/.conda/envs/accent_bias/lib/python3.12/site-packages/datasets/formatting/formatting.py\", line 219, in decode_column\n    return self.features.decode_column(column, column_name) if self.features else column\n           ^^^^^^^^^^^^^^^^^^^^^^^^^^^^^^^^^^^^^^^^^^^^^^^^\n  File \"/home/hltcoe/nbafna/.conda/envs/accent_bias/lib/python3.12/site-packages/datasets/features/features.py\", line 1996, in decode_column\n    [decode_nested_example(self[column_name], value) if value is not None else None for value in column]\n     ^^^^^^^^^^^^^^^^^^^^^^^^^^^^^^^^^^^^^^^^^^^^^^^\n  File \"/home/hltcoe/nbafna/.conda/envs/accent_bias/lib/python3.12/site-packages/datasets/features/features.py\", line 1340, in decode_nested_example\n    return schema.decode_example(obj, token_per_repo_id=token_per_repo_id)\n           ^^^^^^^^^^^^^^^^^^^^^^^^^^^^^^^^^^^^^^^^^^^^^^^^^^^^^^^^^^^^^^^\n  File \"/home/hltcoe/nbafna/.conda/envs/accent_bias/lib/python3.12/site-packages/datasets/features/audio.py\", line 191, in decode_example\n    array = librosa.to_mono(array)\n            ^^^^^^^^^^^^^^^\n  File \"/home/hltcoe/nbafna/.conda/envs/accent_bias/lib/python3.12/site-packages/lazy_loader/__init__.py\", line 83, in __getattr__\n    attr = getattr(submod, name)\n           ^^^^^^^^^^^^^^^^^^^^^\n  File \"/home/hltcoe/nbafna/.conda/envs/accent_bias/lib/python3.12/site-packages/lazy_loader/__init__.py\", line 82, in __getattr__\n    submod = importlib.import_module(submod_path)\n             ^^^^^^^^^^^^^^^^^^^^^^^^^^^^^^^^^^^^\n  File \"/home/hltcoe/nbafna/.conda/envs/accent_bias/lib/python3.12/importlib/__init__.py\", line 90, in import_module\n    return _bootstrap._gcd_import(name[level:], package, level)\n           ^^^^^^^^^^^^^^^^^^^^^^^^^^^^^^^^^^^^^^^^^^^^^^^^^^^^\n  File \"<frozen importlib._bootstrap>\", line 1387, in _gcd_import\n  File \"<frozen importlib._bootstrap>\", line 1360, in _find_and_load\n  File \"<frozen importlib._bootstrap>\", line 1331, in _find_and_load_unlocked\n  File \"<frozen importlib._bootstrap>\", line 935, in _load_unlocked\n  File \"<frozen importlib._bootstrap_external>\", line 995, in exec_module\n  File \"<frozen importlib._bootstrap>\", line 488, in _call_with_frames_removed\n  File \"/home/hltcoe/nbafna/.conda/envs/accent_bias/lib/python3.12/site-packages/librosa/core/audio.py\", line 32, in <module>\n    samplerate = lazy.load(\"samplerate\")\n                 ^^^^^^^^^^^^^^^^^^^^^^^\n  File \"/home/hltcoe/nbafna/.conda/envs/accent_bias/lib/python3.12/site-packages/lazy_loader/__init__.py\", line 243, in load\n    del parent\n        ^^^^^^\nUnboundLocalError: cannot access local variable 'parent' where it is not associated with a value\n\"\"\"",
      "\nThe above exception was the direct cause of the following exception:\n",
      "\u001b[0;31mUnboundLocalError\u001b[0m                         Traceback (most recent call last)",
      "Cell \u001b[0;32mIn[2], line 1\u001b[0m\n\u001b[0;32m----> 1\u001b[0m fleurs_test_dataset \u001b[38;5;241m=\u001b[39m \u001b[43mload_lid_dataset\u001b[49m\u001b[43m(\u001b[49m\u001b[38;5;124;43m\"\u001b[39;49m\u001b[38;5;124;43mfleurs_test\u001b[39;49m\u001b[38;5;124;43m\"\u001b[39;49m\u001b[43m)\u001b[49m\n",
      "File \u001b[0;32m~/projects/mitigating-accent-bias-in-lid/utils/dataloading/dataset_loader.py:29\u001b[0m, in \u001b[0;36mload_lid_dataset\u001b[0;34m(dataset_name, per_lang, lang, split)\u001b[0m\n\u001b[1;32m     27\u001b[0m     \u001b[38;5;28;01mreturn\u001b[39;00m DATASET_REGISTRY[dataset_name](per_lang \u001b[38;5;241m=\u001b[39m per_lang, lang \u001b[38;5;241m=\u001b[39m lang, split \u001b[38;5;241m=\u001b[39m \u001b[38;5;124m\"\u001b[39m\u001b[38;5;124mtrain\u001b[39m\u001b[38;5;124m\"\u001b[39m)\n\u001b[1;32m     28\u001b[0m \u001b[38;5;28;01melif\u001b[39;00m dataset_name \u001b[38;5;241m==\u001b[39m \u001b[38;5;124m\"\u001b[39m\u001b[38;5;124mfleurs_test\u001b[39m\u001b[38;5;124m\"\u001b[39m:\n\u001b[0;32m---> 29\u001b[0m     \u001b[38;5;28;01mreturn\u001b[39;00m \u001b[43mDATASET_REGISTRY\u001b[49m\u001b[43m[\u001b[49m\u001b[38;5;124;43m\"\u001b[39;49m\u001b[38;5;124;43mfleurs\u001b[39;49m\u001b[38;5;124;43m\"\u001b[39;49m\u001b[43m]\u001b[49m\u001b[43m(\u001b[49m\u001b[43mper_lang\u001b[49m\u001b[43m \u001b[49m\u001b[38;5;241;43m=\u001b[39;49m\u001b[43m \u001b[49m\u001b[43mper_lang\u001b[49m\u001b[43m,\u001b[49m\u001b[43m \u001b[49m\u001b[43mlang\u001b[49m\u001b[43m \u001b[49m\u001b[38;5;241;43m=\u001b[39;49m\u001b[43m \u001b[49m\u001b[43mlang\u001b[49m\u001b[43m,\u001b[49m\u001b[43m \u001b[49m\u001b[43msplit\u001b[49m\u001b[43m \u001b[49m\u001b[38;5;241;43m=\u001b[39;49m\u001b[43m \u001b[49m\u001b[38;5;124;43m\"\u001b[39;49m\u001b[38;5;124;43mtest\u001b[39;49m\u001b[38;5;124;43m\"\u001b[39;49m\u001b[43m)\u001b[49m\n\u001b[1;32m     30\u001b[0m \u001b[38;5;28;01melif\u001b[39;00m dataset_name \u001b[38;5;241m==\u001b[39m \u001b[38;5;124m\"\u001b[39m\u001b[38;5;124mcv\u001b[39m\u001b[38;5;124m\"\u001b[39m:\n\u001b[1;32m     31\u001b[0m     \u001b[38;5;28;01mif\u001b[39;00m lang \u001b[38;5;129;01mand\u001b[39;00m lang \u001b[38;5;129;01mnot\u001b[39;00m \u001b[38;5;129;01min\u001b[39;00m {\u001b[38;5;124m\"\u001b[39m\u001b[38;5;124men\u001b[39m\u001b[38;5;124m\"\u001b[39m, \u001b[38;5;124m\"\u001b[39m\u001b[38;5;124men_us\u001b[39m\u001b[38;5;124m\"\u001b[39m}:\n",
      "File \u001b[0;32m~/projects/mitigating-accent-bias-in-lid/utils/dataloading/fleurs.py:123\u001b[0m, in \u001b[0;36mload_fleurs\u001b[0;34m(per_lang, lang, split, dataset_dir)\u001b[0m\n\u001b[1;32m    121\u001b[0m \u001b[38;5;28mprint\u001b[39m(\u001b[38;5;124mf\u001b[39m\u001b[38;5;124m\"\u001b[39m\u001b[38;5;124mLoading audio files for \u001b[39m\u001b[38;5;132;01m{\u001b[39;00mlang\u001b[38;5;132;01m}\u001b[39;00m\u001b[38;5;124m from \u001b[39m\u001b[38;5;132;01m{\u001b[39;00mlang_dir\u001b[38;5;132;01m}\u001b[39;00m\u001b[38;5;124m\"\u001b[39m)\n\u001b[1;32m    122\u001b[0m start_time \u001b[38;5;241m=\u001b[39m time\u001b[38;5;241m.\u001b[39mtime()\n\u001b[0;32m--> 123\u001b[0m lang_dataset \u001b[38;5;241m=\u001b[39m \u001b[43mload_fleurs_lang\u001b[49m\u001b[43m(\u001b[49m\u001b[43mlang\u001b[49m\u001b[43m \u001b[49m\u001b[38;5;241;43m=\u001b[39;49m\u001b[43m \u001b[49m\u001b[43mlang\u001b[49m\u001b[43m,\u001b[49m\u001b[43m \u001b[49m\u001b[43mper_lang\u001b[49m\u001b[43m \u001b[49m\u001b[38;5;241;43m=\u001b[39;49m\u001b[43m \u001b[49m\u001b[43mper_lang\u001b[49m\u001b[43m,\u001b[49m\u001b[43m \u001b[49m\u001b[43msplit\u001b[49m\u001b[43m \u001b[49m\u001b[38;5;241;43m=\u001b[39;49m\u001b[43m \u001b[49m\u001b[43msplit\u001b[49m\u001b[43m,\u001b[49m\u001b[43m \u001b[49m\u001b[43mdataset_dir\u001b[49m\u001b[43m \u001b[49m\u001b[38;5;241;43m=\u001b[39;49m\u001b[43m \u001b[49m\u001b[43mlang_dir\u001b[49m\u001b[43m)\u001b[49m\n\u001b[1;32m    124\u001b[0m \u001b[38;5;28mprint\u001b[39m(\u001b[38;5;124mf\u001b[39m\u001b[38;5;124m\"\u001b[39m\u001b[38;5;124mTime taken to load \u001b[39m\u001b[38;5;132;01m{\u001b[39;00mlang\u001b[38;5;132;01m}\u001b[39;00m\u001b[38;5;124m: \u001b[39m\u001b[38;5;132;01m{\u001b[39;00mtime\u001b[38;5;241m.\u001b[39mtime()\u001b[38;5;241m-\u001b[39mstart_time\u001b[38;5;132;01m}\u001b[39;00m\u001b[38;5;124m\"\u001b[39m)\n\u001b[1;32m    125\u001b[0m load_time \u001b[38;5;241m=\u001b[39m time\u001b[38;5;241m.\u001b[39mtime()\n",
      "File \u001b[0;32m~/projects/mitigating-accent-bias-in-lid/utils/dataloading/fleurs.py:90\u001b[0m, in \u001b[0;36mload_fleurs_lang\u001b[0;34m(lang, per_lang, split, dataset_dir)\u001b[0m\n\u001b[1;32m     87\u001b[0m lang_dataset \u001b[38;5;241m=\u001b[39m Dataset\u001b[38;5;241m.\u001b[39mfrom_dict({\u001b[38;5;124m\"\u001b[39m\u001b[38;5;124msignal\u001b[39m\u001b[38;5;124m\"\u001b[39m: [\u001b[38;5;124mf\u001b[39m\u001b[38;5;124m\"\u001b[39m\u001b[38;5;132;01m{\u001b[39;00mdataset_dir\u001b[38;5;132;01m}\u001b[39;00m\u001b[38;5;124m/\u001b[39m\u001b[38;5;132;01m{\u001b[39;00maudio\u001b[38;5;132;01m}\u001b[39;00m\u001b[38;5;124m\"\u001b[39m \u001b[38;5;28;01mfor\u001b[39;00m audio \u001b[38;5;129;01min\u001b[39;00m files], \u001b[38;5;124m\"\u001b[39m\u001b[38;5;124mlang\u001b[39m\u001b[38;5;124m\"\u001b[39m: [lang]\u001b[38;5;241m*\u001b[39m\u001b[38;5;28mlen\u001b[39m(files), \u001b[38;5;124m\"\u001b[39m\u001b[38;5;124maccent\u001b[39m\u001b[38;5;124m\"\u001b[39m: [\u001b[38;5;124m\"\u001b[39m\u001b[38;5;124m-\u001b[39m\u001b[38;5;124m\"\u001b[39m]\u001b[38;5;241m*\u001b[39m\u001b[38;5;28mlen\u001b[39m(files)})\u001b[38;5;241m.\u001b[39mcast_column(\u001b[38;5;124m\"\u001b[39m\u001b[38;5;124msignal\u001b[39m\u001b[38;5;124m\"\u001b[39m, Audio(sampling_rate\u001b[38;5;241m=\u001b[39m\u001b[38;5;241m16_000\u001b[39m))\n\u001b[1;32m     89\u001b[0m \u001b[38;5;28mprint\u001b[39m(\u001b[38;5;124mf\u001b[39m\u001b[38;5;124m\"\u001b[39m\u001b[38;5;124mSize of dataset for \u001b[39m\u001b[38;5;132;01m{\u001b[39;00mlang\u001b[38;5;132;01m}\u001b[39;00m\u001b[38;5;124m: \u001b[39m\u001b[38;5;132;01m{\u001b[39;00m\u001b[38;5;28mlen\u001b[39m(lang_dataset)\u001b[38;5;132;01m}\u001b[39;00m\u001b[38;5;124m\"\u001b[39m)\n\u001b[0;32m---> 90\u001b[0m lang_dataset \u001b[38;5;241m=\u001b[39m \u001b[43mlang_dataset\u001b[49m\u001b[38;5;241;43m.\u001b[39;49m\u001b[43mmap\u001b[49m\u001b[43m(\u001b[49m\u001b[43mmap_create_audio_chunks\u001b[49m\u001b[43m,\u001b[49m\u001b[43m \u001b[49m\u001b[43mbatched\u001b[49m\u001b[38;5;241;43m=\u001b[39;49m\u001b[38;5;28;43;01mTrue\u001b[39;49;00m\u001b[43m,\u001b[49m\u001b[43m \u001b[49m\u001b[43mbatch_size\u001b[49m\u001b[43m \u001b[49m\u001b[38;5;241;43m=\u001b[39;49m\u001b[43m \u001b[49m\u001b[38;5;241;43m100\u001b[39;49m\u001b[43m,\u001b[49m\u001b[43m \u001b[49m\u001b[43m\\\u001b[49m\n\u001b[1;32m     91\u001b[0m \u001b[43m                                \u001b[49m\u001b[43mnum_proc\u001b[49m\u001b[43m \u001b[49m\u001b[38;5;241;43m=\u001b[39;49m\u001b[43m \u001b[49m\u001b[38;5;241;43m16\u001b[39;49m\u001b[43m,\u001b[49m\u001b[43m \u001b[49m\u001b[43mkeep_in_memory\u001b[49m\u001b[38;5;241;43m=\u001b[39;49m\u001b[38;5;28;43;01mFalse\u001b[39;49;00m\u001b[43m,\u001b[49m\u001b[43m \u001b[49m\u001b[43mwriter_batch_size\u001b[49m\u001b[38;5;241;43m=\u001b[39;49m\u001b[38;5;241;43m100\u001b[39;49m\u001b[43m)\u001b[49m\n\u001b[1;32m     92\u001b[0m \u001b[38;5;66;03m# lang_dataset = lang_dataset.map(map_create_audio_chunks, batched=True, batch_size = 100)\u001b[39;00m\n\u001b[1;32m     93\u001b[0m \n\u001b[1;32m     94\u001b[0m \n\u001b[0;32m   (...)\u001b[0m\n\u001b[1;32m     97\u001b[0m \u001b[38;5;66;03m#                                     \"audio_file\": [f[\"signal\"][\"path\"] for f in lang_dataset],\\\u001b[39;00m\n\u001b[1;32m     98\u001b[0m \u001b[38;5;66;03m#                                         \"accent\": [\"-\"]*len(lang_dataset)})\u001b[39;00m\n\u001b[1;32m    100\u001b[0m \u001b[38;5;28mprint\u001b[39m(\u001b[38;5;124mf\u001b[39m\u001b[38;5;124m\"\u001b[39m\u001b[38;5;124mSize of dataset for \u001b[39m\u001b[38;5;132;01m{\u001b[39;00mlang\u001b[38;5;132;01m}\u001b[39;00m\u001b[38;5;124m: \u001b[39m\u001b[38;5;132;01m{\u001b[39;00m\u001b[38;5;28mlen\u001b[39m(lang_dataset)\u001b[38;5;132;01m}\u001b[39;00m\u001b[38;5;124m\"\u001b[39m)\n",
      "File \u001b[0;32m~/.conda/envs/accent_bias/lib/python3.12/site-packages/datasets/arrow_dataset.py:602\u001b[0m, in \u001b[0;36mtransmit_tasks.<locals>.wrapper\u001b[0;34m(*args, **kwargs)\u001b[0m\n\u001b[1;32m    600\u001b[0m     \u001b[38;5;28mself\u001b[39m: \u001b[38;5;124m\"\u001b[39m\u001b[38;5;124mDataset\u001b[39m\u001b[38;5;124m\"\u001b[39m \u001b[38;5;241m=\u001b[39m kwargs\u001b[38;5;241m.\u001b[39mpop(\u001b[38;5;124m\"\u001b[39m\u001b[38;5;124mself\u001b[39m\u001b[38;5;124m\"\u001b[39m)\n\u001b[1;32m    601\u001b[0m \u001b[38;5;66;03m# apply actual function\u001b[39;00m\n\u001b[0;32m--> 602\u001b[0m out: Union[\u001b[38;5;124m\"\u001b[39m\u001b[38;5;124mDataset\u001b[39m\u001b[38;5;124m\"\u001b[39m, \u001b[38;5;124m\"\u001b[39m\u001b[38;5;124mDatasetDict\u001b[39m\u001b[38;5;124m\"\u001b[39m] \u001b[38;5;241m=\u001b[39m \u001b[43mfunc\u001b[49m\u001b[43m(\u001b[49m\u001b[38;5;28;43mself\u001b[39;49m\u001b[43m,\u001b[49m\u001b[43m \u001b[49m\u001b[38;5;241;43m*\u001b[39;49m\u001b[43margs\u001b[49m\u001b[43m,\u001b[49m\u001b[43m \u001b[49m\u001b[38;5;241;43m*\u001b[39;49m\u001b[38;5;241;43m*\u001b[39;49m\u001b[43mkwargs\u001b[49m\u001b[43m)\u001b[49m\n\u001b[1;32m    603\u001b[0m datasets: List[\u001b[38;5;124m\"\u001b[39m\u001b[38;5;124mDataset\u001b[39m\u001b[38;5;124m\"\u001b[39m] \u001b[38;5;241m=\u001b[39m \u001b[38;5;28mlist\u001b[39m(out\u001b[38;5;241m.\u001b[39mvalues()) \u001b[38;5;28;01mif\u001b[39;00m \u001b[38;5;28misinstance\u001b[39m(out, \u001b[38;5;28mdict\u001b[39m) \u001b[38;5;28;01melse\u001b[39;00m [out]\n\u001b[1;32m    604\u001b[0m \u001b[38;5;28;01mfor\u001b[39;00m dataset \u001b[38;5;129;01min\u001b[39;00m datasets:\n\u001b[1;32m    605\u001b[0m     \u001b[38;5;66;03m# Remove task templates if a column mapping of the template is no longer valid\u001b[39;00m\n",
      "File \u001b[0;32m~/.conda/envs/accent_bias/lib/python3.12/site-packages/datasets/arrow_dataset.py:567\u001b[0m, in \u001b[0;36mtransmit_format.<locals>.wrapper\u001b[0;34m(*args, **kwargs)\u001b[0m\n\u001b[1;32m    560\u001b[0m self_format \u001b[38;5;241m=\u001b[39m {\n\u001b[1;32m    561\u001b[0m     \u001b[38;5;124m\"\u001b[39m\u001b[38;5;124mtype\u001b[39m\u001b[38;5;124m\"\u001b[39m: \u001b[38;5;28mself\u001b[39m\u001b[38;5;241m.\u001b[39m_format_type,\n\u001b[1;32m    562\u001b[0m     \u001b[38;5;124m\"\u001b[39m\u001b[38;5;124mformat_kwargs\u001b[39m\u001b[38;5;124m\"\u001b[39m: \u001b[38;5;28mself\u001b[39m\u001b[38;5;241m.\u001b[39m_format_kwargs,\n\u001b[1;32m    563\u001b[0m     \u001b[38;5;124m\"\u001b[39m\u001b[38;5;124mcolumns\u001b[39m\u001b[38;5;124m\"\u001b[39m: \u001b[38;5;28mself\u001b[39m\u001b[38;5;241m.\u001b[39m_format_columns,\n\u001b[1;32m    564\u001b[0m     \u001b[38;5;124m\"\u001b[39m\u001b[38;5;124moutput_all_columns\u001b[39m\u001b[38;5;124m\"\u001b[39m: \u001b[38;5;28mself\u001b[39m\u001b[38;5;241m.\u001b[39m_output_all_columns,\n\u001b[1;32m    565\u001b[0m }\n\u001b[1;32m    566\u001b[0m \u001b[38;5;66;03m# apply actual function\u001b[39;00m\n\u001b[0;32m--> 567\u001b[0m out: Union[\u001b[38;5;124m\"\u001b[39m\u001b[38;5;124mDataset\u001b[39m\u001b[38;5;124m\"\u001b[39m, \u001b[38;5;124m\"\u001b[39m\u001b[38;5;124mDatasetDict\u001b[39m\u001b[38;5;124m\"\u001b[39m] \u001b[38;5;241m=\u001b[39m \u001b[43mfunc\u001b[49m\u001b[43m(\u001b[49m\u001b[38;5;28;43mself\u001b[39;49m\u001b[43m,\u001b[49m\u001b[43m \u001b[49m\u001b[38;5;241;43m*\u001b[39;49m\u001b[43margs\u001b[49m\u001b[43m,\u001b[49m\u001b[43m \u001b[49m\u001b[38;5;241;43m*\u001b[39;49m\u001b[38;5;241;43m*\u001b[39;49m\u001b[43mkwargs\u001b[49m\u001b[43m)\u001b[49m\n\u001b[1;32m    568\u001b[0m datasets: List[\u001b[38;5;124m\"\u001b[39m\u001b[38;5;124mDataset\u001b[39m\u001b[38;5;124m\"\u001b[39m] \u001b[38;5;241m=\u001b[39m \u001b[38;5;28mlist\u001b[39m(out\u001b[38;5;241m.\u001b[39mvalues()) \u001b[38;5;28;01mif\u001b[39;00m \u001b[38;5;28misinstance\u001b[39m(out, \u001b[38;5;28mdict\u001b[39m) \u001b[38;5;28;01melse\u001b[39;00m [out]\n\u001b[1;32m    569\u001b[0m \u001b[38;5;66;03m# re-apply format to the output\u001b[39;00m\n",
      "File \u001b[0;32m~/.conda/envs/accent_bias/lib/python3.12/site-packages/datasets/arrow_dataset.py:3248\u001b[0m, in \u001b[0;36mDataset.map\u001b[0;34m(self, function, with_indices, with_rank, input_columns, batched, batch_size, drop_last_batch, remove_columns, keep_in_memory, load_from_cache_file, cache_file_name, writer_batch_size, features, disable_nullable, fn_kwargs, num_proc, suffix_template, new_fingerprint, desc)\u001b[0m\n\u001b[1;32m   3242\u001b[0m logger\u001b[38;5;241m.\u001b[39minfo(\u001b[38;5;124mf\u001b[39m\u001b[38;5;124m\"\u001b[39m\u001b[38;5;124mSpawning \u001b[39m\u001b[38;5;132;01m{\u001b[39;00mnum_proc\u001b[38;5;132;01m}\u001b[39;00m\u001b[38;5;124m processes\u001b[39m\u001b[38;5;124m\"\u001b[39m)\n\u001b[1;32m   3243\u001b[0m \u001b[38;5;28;01mwith\u001b[39;00m hf_tqdm(\n\u001b[1;32m   3244\u001b[0m     unit\u001b[38;5;241m=\u001b[39m\u001b[38;5;124m\"\u001b[39m\u001b[38;5;124m examples\u001b[39m\u001b[38;5;124m\"\u001b[39m,\n\u001b[1;32m   3245\u001b[0m     total\u001b[38;5;241m=\u001b[39mpbar_total,\n\u001b[1;32m   3246\u001b[0m     desc\u001b[38;5;241m=\u001b[39m(desc \u001b[38;5;129;01mor\u001b[39;00m \u001b[38;5;124m\"\u001b[39m\u001b[38;5;124mMap\u001b[39m\u001b[38;5;124m\"\u001b[39m) \u001b[38;5;241m+\u001b[39m \u001b[38;5;124mf\u001b[39m\u001b[38;5;124m\"\u001b[39m\u001b[38;5;124m (num_proc=\u001b[39m\u001b[38;5;132;01m{\u001b[39;00mnum_proc\u001b[38;5;132;01m}\u001b[39;00m\u001b[38;5;124m)\u001b[39m\u001b[38;5;124m\"\u001b[39m,\n\u001b[1;32m   3247\u001b[0m ) \u001b[38;5;28;01mas\u001b[39;00m pbar:\n\u001b[0;32m-> 3248\u001b[0m \u001b[43m    \u001b[49m\u001b[38;5;28;43;01mfor\u001b[39;49;00m\u001b[43m \u001b[49m\u001b[43mrank\u001b[49m\u001b[43m,\u001b[49m\u001b[43m \u001b[49m\u001b[43mdone\u001b[49m\u001b[43m,\u001b[49m\u001b[43m \u001b[49m\u001b[43mcontent\u001b[49m\u001b[43m \u001b[49m\u001b[38;5;129;43;01min\u001b[39;49;00m\u001b[43m \u001b[49m\u001b[43miflatmap_unordered\u001b[49m\u001b[43m(\u001b[49m\n\u001b[1;32m   3249\u001b[0m \u001b[43m        \u001b[49m\u001b[43mpool\u001b[49m\u001b[43m,\u001b[49m\u001b[43m \u001b[49m\u001b[43mDataset\u001b[49m\u001b[38;5;241;43m.\u001b[39;49m\u001b[43m_map_single\u001b[49m\u001b[43m,\u001b[49m\u001b[43m \u001b[49m\u001b[43mkwargs_iterable\u001b[49m\u001b[38;5;241;43m=\u001b[39;49m\u001b[43mkwargs_per_job\u001b[49m\n\u001b[1;32m   3250\u001b[0m \u001b[43m    \u001b[49m\u001b[43m)\u001b[49m\u001b[43m:\u001b[49m\n\u001b[1;32m   3251\u001b[0m \u001b[43m        \u001b[49m\u001b[38;5;28;43;01mif\u001b[39;49;00m\u001b[43m \u001b[49m\u001b[43mdone\u001b[49m\u001b[43m:\u001b[49m\n\u001b[1;32m   3252\u001b[0m \u001b[43m            \u001b[49m\u001b[43mshards_done\u001b[49m\u001b[43m \u001b[49m\u001b[38;5;241;43m+\u001b[39;49m\u001b[38;5;241;43m=\u001b[39;49m\u001b[43m \u001b[49m\u001b[38;5;241;43m1\u001b[39;49m\n",
      "File \u001b[0;32m~/.conda/envs/accent_bias/lib/python3.12/site-packages/datasets/utils/py_utils.py:718\u001b[0m, in \u001b[0;36miflatmap_unordered\u001b[0;34m(pool, func, kwargs_iterable)\u001b[0m\n\u001b[1;32m    715\u001b[0m \u001b[38;5;28;01mfinally\u001b[39;00m:\n\u001b[1;32m    716\u001b[0m     \u001b[38;5;28;01mif\u001b[39;00m \u001b[38;5;129;01mnot\u001b[39;00m pool_changed:\n\u001b[1;32m    717\u001b[0m         \u001b[38;5;66;03m# we get the result in case there's an error to raise\u001b[39;00m\n\u001b[0;32m--> 718\u001b[0m         [\u001b[43masync_result\u001b[49m\u001b[38;5;241;43m.\u001b[39;49m\u001b[43mget\u001b[49m\u001b[43m(\u001b[49m\u001b[43mtimeout\u001b[49m\u001b[38;5;241;43m=\u001b[39;49m\u001b[38;5;241;43m0.05\u001b[39;49m\u001b[43m)\u001b[49m \u001b[38;5;28;01mfor\u001b[39;00m async_result \u001b[38;5;129;01min\u001b[39;00m async_results]\n",
      "File \u001b[0;32m~/.conda/envs/accent_bias/lib/python3.12/site-packages/multiprocess/pool.py:774\u001b[0m, in \u001b[0;36mApplyResult.get\u001b[0;34m(self, timeout)\u001b[0m\n\u001b[1;32m    772\u001b[0m     \u001b[38;5;28;01mreturn\u001b[39;00m \u001b[38;5;28mself\u001b[39m\u001b[38;5;241m.\u001b[39m_value\n\u001b[1;32m    773\u001b[0m \u001b[38;5;28;01melse\u001b[39;00m:\n\u001b[0;32m--> 774\u001b[0m     \u001b[38;5;28;01mraise\u001b[39;00m \u001b[38;5;28mself\u001b[39m\u001b[38;5;241m.\u001b[39m_value\n",
      "\u001b[0;31mUnboundLocalError\u001b[0m: cannot access local variable 'parent' where it is not associated with a value"
     ]
    }
   ],
   "source": [
    "fleurs_test_dataset = load_lid_dataset(\"fleurs_test\")"
   ]
  },
  {
   "cell_type": "code",
   "execution_count": null,
   "metadata": {},
   "outputs": [],
   "source": []
  }
 ],
 "metadata": {
  "kernelspec": {
   "display_name": "accent_bias",
   "language": "python",
   "name": "python3"
  },
  "language_info": {
   "codemirror_mode": {
    "name": "ipython",
    "version": 3
   },
   "file_extension": ".py",
   "mimetype": "text/x-python",
   "name": "python",
   "nbconvert_exporter": "python",
   "pygments_lexer": "ipython3",
   "version": "3.12.7"
  }
 },
 "nbformat": 4,
 "nbformat_minor": 2
}
