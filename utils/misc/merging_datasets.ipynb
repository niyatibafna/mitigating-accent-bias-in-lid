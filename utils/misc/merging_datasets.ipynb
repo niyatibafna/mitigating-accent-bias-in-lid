{
 "cells": [
  {
   "cell_type": "code",
   "execution_count": 42,
   "metadata": {},
   "outputs": [],
   "source": [
    "import sys\n",
    "import datasets\n",
    "import json\n",
    "import pickle as pkl\n",
    "import os"
   ]
  },
  {
   "cell_type": "code",
   "execution_count": null,
   "metadata": {},
   "outputs": [
    {
     "name": "stdout",
     "output_type": "stream",
     "text": [
      "Processing am\n",
      "Length of datasets: 32368\n",
      "Length of merged dataset: 32368\n"
     ]
    },
    {
     "data": {
      "application/vnd.jupyter.widget-view+json": {
       "model_id": "ba413b71ed4747a5b059e21bfc51c55c",
       "version_major": 2,
       "version_minor": 0
      },
      "text/plain": [
       "Creating json from Arrow format:   0%|          | 0/33 [00:00<?, ?ba/s]"
      ]
     },
     "metadata": {},
     "output_type": "display_data"
    },
    {
     "name": "stdout",
     "output_type": "stream",
     "text": [
      "Processing as\n",
      "Length of datasets: 61797\n",
      "Length of merged dataset: 61797\n"
     ]
    },
    {
     "data": {
      "application/vnd.jupyter.widget-view+json": {
       "model_id": "e00d9518966f4c9292466e4732536714",
       "version_major": 2,
       "version_minor": 0
      },
      "text/plain": [
       "Creating json from Arrow format:   0%|          | 0/62 [00:00<?, ?ba/s]"
      ]
     },
     "metadata": {},
     "output_type": "display_data"
    },
    {
     "name": "stdout",
     "output_type": "stream",
     "text": [
      "Processing ar\n",
      "Length of datasets: 23947\n",
      "Length of merged dataset: 23947\n"
     ]
    },
    {
     "data": {
      "application/vnd.jupyter.widget-view+json": {
       "model_id": "255e050663bd47199a832487c898ba59",
       "version_major": 2,
       "version_minor": 0
      },
      "text/plain": [
       "Creating json from Arrow format:   0%|          | 0/24 [00:00<?, ?ba/s]"
      ]
     },
     "metadata": {},
     "output_type": "display_data"
    },
    {
     "name": "stdout",
     "output_type": "stream",
     "text": [
      "Processing af\n",
      "Length of datasets: 42892\n",
      "Length of merged dataset: 42892\n"
     ]
    },
    {
     "data": {
      "application/vnd.jupyter.widget-view+json": {
       "model_id": "e68b567e83174ac8822955c7453d8ca5",
       "version_major": 2,
       "version_minor": 0
      },
      "text/plain": [
       "Creating json from Arrow format:   0%|          | 0/43 [00:00<?, ?ba/s]"
      ]
     },
     "metadata": {},
     "output_type": "display_data"
    },
    {
     "name": "stdout",
     "output_type": "stream",
     "text": [
      "Processing ab\n",
      "Length of datasets: 4137\n",
      "Length of merged dataset: 4137\n"
     ]
    },
    {
     "data": {
      "application/vnd.jupyter.widget-view+json": {
       "model_id": "1484b8414ae64b5fab0208899f68c0ac",
       "version_major": 2,
       "version_minor": 0
      },
      "text/plain": [
       "Creating json from Arrow format:   0%|          | 0/5 [00:00<?, ?ba/s]"
      ]
     },
     "metadata": {},
     "output_type": "display_data"
    },
    {
     "name": "stdout",
     "output_type": "stream",
     "text": [
      "Processing az\n",
      "Length of datasets: 23200\n",
      "Length of merged dataset: 23200\n"
     ]
    },
    {
     "data": {
      "application/vnd.jupyter.widget-view+json": {
       "model_id": "27b672ab646247d09b79a31b596c0ccc",
       "version_major": 2,
       "version_minor": 0
      },
      "text/plain": [
       "Creating json from Arrow format:   0%|          | 0/24 [00:00<?, ?ba/s]"
      ]
     },
     "metadata": {},
     "output_type": "display_data"
    },
    {
     "name": "stdout",
     "output_type": "stream",
     "text": [
      "Processing bg\n",
      "Length of datasets: 20011\n",
      "Length of merged dataset: 20011\n"
     ]
    },
    {
     "data": {
      "application/vnd.jupyter.widget-view+json": {
       "model_id": "6afe0fd5cfca44c1b023f0e09e4279ed",
       "version_major": 2,
       "version_minor": 0
      },
      "text/plain": [
       "Creating json from Arrow format:   0%|          | 0/21 [00:00<?, ?ba/s]"
      ]
     },
     "metadata": {},
     "output_type": "display_data"
    },
    {
     "name": "stdout",
     "output_type": "stream",
     "text": [
      "Processing bn\n",
      "Length of datasets: 21623\n",
      "Length of merged dataset: 21623\n"
     ]
    },
    {
     "data": {
      "application/vnd.jupyter.widget-view+json": {
       "model_id": "11978499e6d948b3b9e4badb7df59487",
       "version_major": 2,
       "version_minor": 0
      },
      "text/plain": [
       "Creating json from Arrow format:   0%|          | 0/22 [00:00<?, ?ba/s]"
      ]
     },
     "metadata": {},
     "output_type": "display_data"
    },
    {
     "name": "stdout",
     "output_type": "stream",
     "text": [
      "Processing bo\n",
      "Length of datasets: 41135\n",
      "Length of merged dataset: 41135\n"
     ]
    },
    {
     "data": {
      "application/vnd.jupyter.widget-view+json": {
       "model_id": "d73f07ef2acc4c0b9f7c20d43f4fd593",
       "version_major": 2,
       "version_minor": 0
      },
      "text/plain": [
       "Creating json from Arrow format:   0%|          | 0/42 [00:00<?, ?ba/s]"
      ]
     },
     "metadata": {},
     "output_type": "display_data"
    },
    {
     "name": "stdout",
     "output_type": "stream",
     "text": [
      "Processing br\n",
      "Length of datasets: 16285\n",
      "Length of merged dataset: 16285\n"
     ]
    },
    {
     "data": {
      "application/vnd.jupyter.widget-view+json": {
       "model_id": "ffff4e8fdf0547cdbcd82ac8862e43a9",
       "version_major": 2,
       "version_minor": 0
      },
      "text/plain": [
       "Creating json from Arrow format:   0%|          | 0/17 [00:00<?, ?ba/s]"
      ]
     },
     "metadata": {},
     "output_type": "display_data"
    },
    {
     "name": "stdout",
     "output_type": "stream",
     "text": [
      "Processing bs\n",
      "Length of datasets: 42810\n",
      "Length of merged dataset: 42810\n"
     ]
    },
    {
     "data": {
      "application/vnd.jupyter.widget-view+json": {
       "model_id": "da4f9d347b6340408758b6f5ed3dae16",
       "version_major": 2,
       "version_minor": 0
      },
      "text/plain": [
       "Creating json from Arrow format:   0%|          | 0/43 [00:00<?, ?ba/s]"
      ]
     },
     "metadata": {},
     "output_type": "display_data"
    },
    {
     "name": "stdout",
     "output_type": "stream",
     "text": [
      "Processing ca\n",
      "Length of datasets: 35036\n",
      "Length of merged dataset: 35036\n"
     ]
    },
    {
     "data": {
      "application/vnd.jupyter.widget-view+json": {
       "model_id": "7cc7b1cbbc6c4fe58882831c4d8bb122",
       "version_major": 2,
       "version_minor": 0
      },
      "text/plain": [
       "Creating json from Arrow format:   0%|          | 0/36 [00:00<?, ?ba/s]"
      ]
     },
     "metadata": {},
     "output_type": "display_data"
    },
    {
     "name": "stdout",
     "output_type": "stream",
     "text": [
      "Processing ceb\n",
      "Length of datasets: 2288\n",
      "Length of merged dataset: 2288\n"
     ]
    },
    {
     "data": {
      "application/vnd.jupyter.widget-view+json": {
       "model_id": "a0ee3e62a6a14b18be4d1e8f11b6e1ac",
       "version_major": 2,
       "version_minor": 0
      },
      "text/plain": [
       "Creating json from Arrow format:   0%|          | 0/3 [00:00<?, ?ba/s]"
      ]
     },
     "metadata": {},
     "output_type": "display_data"
    },
    {
     "name": "stdout",
     "output_type": "stream",
     "text": [
      "Processing cs\n",
      "Length of datasets: 26321\n",
      "Length of merged dataset: 26321\n"
     ]
    },
    {
     "data": {
      "application/vnd.jupyter.widget-view+json": {
       "model_id": "e02fdce35e684bb083a8782c73ea688e",
       "version_major": 2,
       "version_minor": 0
      },
      "text/plain": [
       "Creating json from Arrow format:   0%|          | 0/27 [00:00<?, ?ba/s]"
      ]
     },
     "metadata": {},
     "output_type": "display_data"
    },
    {
     "name": "stdout",
     "output_type": "stream",
     "text": [
      "Processing cy\n",
      "Length of datasets: 30444\n",
      "Length of merged dataset: 30444\n"
     ]
    },
    {
     "data": {
      "application/vnd.jupyter.widget-view+json": {
       "model_id": "1681511ada324a8b9bb8c9da6ddd968b",
       "version_major": 2,
       "version_minor": 0
      },
      "text/plain": [
       "Creating json from Arrow format:   0%|          | 0/31 [00:00<?, ?ba/s]"
      ]
     },
     "metadata": {},
     "output_type": "display_data"
    },
    {
     "name": "stdout",
     "output_type": "stream",
     "text": [
      "Processing da\n",
      "Length of datasets: 10934\n",
      "Length of merged dataset: 10934\n"
     ]
    },
    {
     "data": {
      "application/vnd.jupyter.widget-view+json": {
       "model_id": "13b40a9438a9409cb37aeb871df05f62",
       "version_major": 2,
       "version_minor": 0
      },
      "text/plain": [
       "Creating json from Arrow format:   0%|          | 0/11 [00:00<?, ?ba/s]"
      ]
     },
     "metadata": {},
     "output_type": "display_data"
    },
    {
     "name": "stdout",
     "output_type": "stream",
     "text": [
      "Processing de\n",
      "Length of datasets: 17245\n",
      "Length of merged dataset: 17245\n"
     ]
    },
    {
     "data": {
      "application/vnd.jupyter.widget-view+json": {
       "model_id": "4c78342ad0f24171b686012d09c846f2",
       "version_major": 2,
       "version_minor": 0
      },
      "text/plain": [
       "Creating json from Arrow format:   0%|          | 0/18 [00:00<?, ?ba/s]"
      ]
     },
     "metadata": {},
     "output_type": "display_data"
    },
    {
     "name": "stdout",
     "output_type": "stream",
     "text": [
      "Processing el\n",
      "Length of datasets: 25732\n",
      "Length of merged dataset: 25732\n"
     ]
    },
    {
     "data": {
      "application/vnd.jupyter.widget-view+json": {
       "model_id": "a70128d52fc94aceb4811a1207692b1f",
       "version_major": 2,
       "version_minor": 0
      },
      "text/plain": [
       "Creating json from Arrow format:   0%|          | 0/26 [00:00<?, ?ba/s]"
      ]
     },
     "metadata": {},
     "output_type": "display_data"
    },
    {
     "name": "stdout",
     "output_type": "stream",
     "text": [
      "Processing en\n",
      "Length of datasets: 21401\n",
      "Length of merged dataset: 21401\n"
     ]
    },
    {
     "data": {
      "application/vnd.jupyter.widget-view+json": {
       "model_id": "d190a19845b04de8a5a20a87e2ef2bb4",
       "version_major": 2,
       "version_minor": 0
      },
      "text/plain": [
       "Creating json from Arrow format:   0%|          | 0/22 [00:00<?, ?ba/s]"
      ]
     },
     "metadata": {},
     "output_type": "display_data"
    },
    {
     "name": "stdout",
     "output_type": "stream",
     "text": [
      "Processing eo\n",
      "Length of datasets: 3801\n",
      "Length of merged dataset: 3801\n"
     ]
    },
    {
     "data": {
      "application/vnd.jupyter.widget-view+json": {
       "model_id": "ad2355c887fb49b68912c8a5e6cd0d42",
       "version_major": 2,
       "version_minor": 0
      },
      "text/plain": [
       "Creating json from Arrow format:   0%|          | 0/4 [00:00<?, ?ba/s]"
      ]
     },
     "metadata": {},
     "output_type": "display_data"
    },
    {
     "name": "stdout",
     "output_type": "stream",
     "text": [
      "Processing es\n",
      "Length of datasets: 16963\n",
      "Length of merged dataset: 16963\n"
     ]
    },
    {
     "data": {
      "application/vnd.jupyter.widget-view+json": {
       "model_id": "74d826562d064a6c874b8399a75efee5",
       "version_major": 2,
       "version_minor": 0
      },
      "text/plain": [
       "Creating json from Arrow format:   0%|          | 0/17 [00:00<?, ?ba/s]"
      ]
     },
     "metadata": {},
     "output_type": "display_data"
    },
    {
     "name": "stdout",
     "output_type": "stream",
     "text": [
      "Processing et\n",
      "Length of datasets: 16520\n",
      "Length of merged dataset: 16520\n"
     ]
    },
    {
     "data": {
      "application/vnd.jupyter.widget-view+json": {
       "model_id": "ce8f3d00b3fa4364b6c915de621ef3e9",
       "version_major": 2,
       "version_minor": 0
      },
      "text/plain": [
       "Creating json from Arrow format:   0%|          | 0/17 [00:00<?, ?ba/s]"
      ]
     },
     "metadata": {},
     "output_type": "display_data"
    },
    {
     "name": "stdout",
     "output_type": "stream",
     "text": [
      "Processing eu\n",
      "Length of datasets: 11422\n",
      "Length of merged dataset: 11422\n"
     ]
    },
    {
     "data": {
      "application/vnd.jupyter.widget-view+json": {
       "model_id": "da0eb00777d043549b71194f71a23880",
       "version_major": 2,
       "version_minor": 0
      },
      "text/plain": [
       "Creating json from Arrow format:   0%|          | 0/12 [00:00<?, ?ba/s]"
      ]
     },
     "metadata": {},
     "output_type": "display_data"
    },
    {
     "name": "stdout",
     "output_type": "stream",
     "text": [
      "Processing fa\n",
      "Length of datasets: 23112\n",
      "Length of merged dataset: 23112\n"
     ]
    },
    {
     "data": {
      "application/vnd.jupyter.widget-view+json": {
       "model_id": "78331e3b07be4b978558062308f93ad8",
       "version_major": 2,
       "version_minor": 0
      },
      "text/plain": [
       "Creating json from Arrow format:   0%|          | 0/24 [00:00<?, ?ba/s]"
      ]
     },
     "metadata": {},
     "output_type": "display_data"
    },
    {
     "name": "stdout",
     "output_type": "stream",
     "text": [
      "Processing fi\n",
      "Length of datasets: 14546\n",
      "Length of merged dataset: 14546\n"
     ]
    },
    {
     "data": {
      "application/vnd.jupyter.widget-view+json": {
       "model_id": "5cb37cbecbb3445c855d4323b3bf1051",
       "version_major": 2,
       "version_minor": 0
      },
      "text/plain": [
       "Creating json from Arrow format:   0%|          | 0/15 [00:00<?, ?ba/s]"
      ]
     },
     "metadata": {},
     "output_type": "display_data"
    },
    {
     "name": "stdout",
     "output_type": "stream",
     "text": [
      "Processing fo\n",
      "Length of datasets: 27147\n",
      "Length of merged dataset: 27147\n"
     ]
    },
    {
     "data": {
      "application/vnd.jupyter.widget-view+json": {
       "model_id": "39a4f1e0cf444265b4f040a1b8ff9656",
       "version_major": 2,
       "version_minor": 0
      },
      "text/plain": [
       "Creating json from Arrow format:   0%|          | 0/28 [00:00<?, ?ba/s]"
      ]
     },
     "metadata": {},
     "output_type": "display_data"
    },
    {
     "name": "stdout",
     "output_type": "stream",
     "text": [
      "Processing fr\n",
      "Length of datasets: 27549\n",
      "Length of merged dataset: 27549\n"
     ]
    },
    {
     "data": {
      "application/vnd.jupyter.widget-view+json": {
       "model_id": "4f3d1f7383d94a2cabd587a6e3b667ab",
       "version_major": 2,
       "version_minor": 0
      },
      "text/plain": [
       "Creating json from Arrow format:   0%|          | 0/28 [00:00<?, ?ba/s]"
      ]
     },
     "metadata": {},
     "output_type": "display_data"
    },
    {
     "name": "stdout",
     "output_type": "stream",
     "text": [
      "Processing gl\n",
      "Length of datasets: 28660\n",
      "Length of merged dataset: 28660\n"
     ]
    },
    {
     "data": {
      "application/vnd.jupyter.widget-view+json": {
       "model_id": "3e6d0be7008f419a964c5030a8b83714",
       "version_major": 2,
       "version_minor": 0
      },
      "text/plain": [
       "Creating json from Arrow format:   0%|          | 0/29 [00:00<?, ?ba/s]"
      ]
     },
     "metadata": {},
     "output_type": "display_data"
    },
    {
     "name": "stdout",
     "output_type": "stream",
     "text": [
      "Processing gn\n",
      "Length of datasets: 742\n",
      "Length of merged dataset: 742\n"
     ]
    },
    {
     "data": {
      "application/vnd.jupyter.widget-view+json": {
       "model_id": "b4075edf9e2f410bbc5b6755a0508bcc",
       "version_major": 2,
       "version_minor": 0
      },
      "text/plain": [
       "Creating json from Arrow format:   0%|          | 0/1 [00:00<?, ?ba/s]"
      ]
     },
     "metadata": {},
     "output_type": "display_data"
    },
    {
     "name": "stdout",
     "output_type": "stream",
     "text": [
      "Processing gv\n",
      "Length of datasets: 1621\n",
      "Length of merged dataset: 1621\n"
     ]
    },
    {
     "data": {
      "application/vnd.jupyter.widget-view+json": {
       "model_id": "0b2c0d654205434d8a7f956fa1215fc9",
       "version_major": 2,
       "version_minor": 0
      },
      "text/plain": [
       "Creating json from Arrow format:   0%|          | 0/2 [00:00<?, ?ba/s]"
      ]
     },
     "metadata": {},
     "output_type": "display_data"
    },
    {
     "name": "stdout",
     "output_type": "stream",
     "text": [
      "Processing gu\n",
      "Length of datasets: 18371\n",
      "Length of merged dataset: 18371\n"
     ]
    },
    {
     "data": {
      "application/vnd.jupyter.widget-view+json": {
       "model_id": "4c7bd5e60d1e451fa2f5d7b2b639e03a",
       "version_major": 2,
       "version_minor": 0
      },
      "text/plain": [
       "Creating json from Arrow format:   0%|          | 0/19 [00:00<?, ?ba/s]"
      ]
     },
     "metadata": {},
     "output_type": "display_data"
    },
    {
     "name": "stdout",
     "output_type": "stream",
     "text": [
      "Processing ha\n",
      "Length of datasets: 36465\n",
      "Length of merged dataset: 36465\n"
     ]
    },
    {
     "data": {
      "application/vnd.jupyter.widget-view+json": {
       "model_id": "f0657803dd6e4e90a3b1655068f44366",
       "version_major": 2,
       "version_minor": 0
      },
      "text/plain": [
       "Creating json from Arrow format:   0%|          | 0/37 [00:00<?, ?ba/s]"
      ]
     },
     "metadata": {},
     "output_type": "display_data"
    },
    {
     "name": "stdout",
     "output_type": "stream",
     "text": [
      "Processing haw\n",
      "Length of datasets: 4362\n",
      "Length of merged dataset: 4362\n"
     ]
    },
    {
     "data": {
      "application/vnd.jupyter.widget-view+json": {
       "model_id": "1877334c8f3c4dc3936359f5a5479f9e",
       "version_major": 2,
       "version_minor": 0
      },
      "text/plain": [
       "Creating json from Arrow format:   0%|          | 0/5 [00:00<?, ?ba/s]"
      ]
     },
     "metadata": {},
     "output_type": "display_data"
    },
    {
     "name": "stdout",
     "output_type": "stream",
     "text": [
      "Processing hi\n",
      "Length of datasets: 32808\n",
      "Length of merged dataset: 32808\n"
     ]
    },
    {
     "data": {
      "application/vnd.jupyter.widget-view+json": {
       "model_id": "cdcd2caa40444f49b50accb26b3d6498",
       "version_major": 2,
       "version_minor": 0
      },
      "text/plain": [
       "Creating json from Arrow format:   0%|          | 0/33 [00:00<?, ?ba/s]"
      ]
     },
     "metadata": {},
     "output_type": "display_data"
    },
    {
     "name": "stdout",
     "output_type": "stream",
     "text": [
      "Processing hr\n",
      "Length of datasets: 48060\n",
      "Length of merged dataset: 48060\n"
     ]
    },
    {
     "data": {
      "application/vnd.jupyter.widget-view+json": {
       "model_id": "5f36c882a358423dba784214e2fd50cb",
       "version_major": 2,
       "version_minor": 0
      },
      "text/plain": [
       "Creating json from Arrow format:   0%|          | 0/49 [00:00<?, ?ba/s]"
      ]
     },
     "metadata": {},
     "output_type": "display_data"
    },
    {
     "name": "stdout",
     "output_type": "stream",
     "text": [
      "Processing ht\n",
      "Length of datasets: 38273\n",
      "Length of merged dataset: 38273\n"
     ]
    },
    {
     "data": {
      "application/vnd.jupyter.widget-view+json": {
       "model_id": "5d8b4893fa1c4fc09cd99062ea948400",
       "version_major": 2,
       "version_minor": 0
      },
      "text/plain": [
       "Creating json from Arrow format:   0%|          | 0/39 [00:00<?, ?ba/s]"
      ]
     },
     "metadata": {},
     "output_type": "display_data"
    },
    {
     "name": "stdout",
     "output_type": "stream",
     "text": [
      "Processing hu\n",
      "Length of datasets: 29330\n",
      "Length of merged dataset: 29330\n"
     ]
    },
    {
     "data": {
      "application/vnd.jupyter.widget-view+json": {
       "model_id": "d7140a630b64428994f504b061a74f7d",
       "version_major": 2,
       "version_minor": 0
      },
      "text/plain": [
       "Creating json from Arrow format:   0%|          | 0/30 [00:00<?, ?ba/s]"
      ]
     },
     "metadata": {},
     "output_type": "display_data"
    },
    {
     "name": "stdout",
     "output_type": "stream",
     "text": [
      "Processing hy\n",
      "Length of datasets: 28474\n",
      "Length of merged dataset: 28474\n"
     ]
    },
    {
     "data": {
      "application/vnd.jupyter.widget-view+json": {
       "model_id": "a758cf39a0ab4c2ab779c61fd6206102",
       "version_major": 2,
       "version_minor": 0
      },
      "text/plain": [
       "Creating json from Arrow format:   0%|          | 0/29 [00:00<?, ?ba/s]"
      ]
     },
     "metadata": {},
     "output_type": "display_data"
    },
    {
     "name": "stdout",
     "output_type": "stream",
     "text": [
      "Processing ia\n",
      "Length of datasets: 975\n",
      "Length of merged dataset: 975\n"
     ]
    },
    {
     "data": {
      "application/vnd.jupyter.widget-view+json": {
       "model_id": "ebb25f04f251481499b07be6bafead84",
       "version_major": 2,
       "version_minor": 0
      },
      "text/plain": [
       "Creating json from Arrow format:   0%|          | 0/1 [00:00<?, ?ba/s]"
      ]
     },
     "metadata": {},
     "output_type": "display_data"
    },
    {
     "name": "stdout",
     "output_type": "stream",
     "text": [
      "Processing id\n",
      "Length of datasets: 15015\n",
      "Length of merged dataset: 15015\n"
     ]
    },
    {
     "data": {
      "application/vnd.jupyter.widget-view+json": {
       "model_id": "aae1d6e0912446df8b67ebc49d2fbefc",
       "version_major": 2,
       "version_minor": 0
      },
      "text/plain": [
       "Creating json from Arrow format:   0%|          | 0/16 [00:00<?, ?ba/s]"
      ]
     },
     "metadata": {},
     "output_type": "display_data"
    },
    {
     "name": "stdout",
     "output_type": "stream",
     "text": [
      "Processing is\n",
      "Length of datasets: 36025\n",
      "Length of merged dataset: 36025\n"
     ]
    },
    {
     "data": {
      "application/vnd.jupyter.widget-view+json": {
       "model_id": "58e64f0b5cf94e1db3510c8819333b5e",
       "version_major": 2,
       "version_minor": 0
      },
      "text/plain": [
       "Creating json from Arrow format:   0%|          | 0/37 [00:00<?, ?ba/s]"
      ]
     },
     "metadata": {},
     "output_type": "display_data"
    },
    {
     "name": "stdout",
     "output_type": "stream",
     "text": [
      "Processing it\n",
      "Length of datasets: 20755\n",
      "Length of merged dataset: 20755\n"
     ]
    },
    {
     "data": {
      "application/vnd.jupyter.widget-view+json": {
       "model_id": "f06cc73337e7435583df964d1dfa67bc",
       "version_major": 2,
       "version_minor": 0
      },
      "text/plain": [
       "Creating json from Arrow format:   0%|          | 0/21 [00:00<?, ?ba/s]"
      ]
     },
     "metadata": {},
     "output_type": "display_data"
    },
    {
     "name": "stdout",
     "output_type": "stream",
     "text": [
      "Processing iw\n",
      "Length of datasets: 38562\n",
      "Length of merged dataset: 38562\n"
     ]
    },
    {
     "data": {
      "application/vnd.jupyter.widget-view+json": {
       "model_id": "2979666b03f34ab386ce743bf925d8be",
       "version_major": 2,
       "version_minor": 0
      },
      "text/plain": [
       "Creating json from Arrow format:   0%|          | 0/39 [00:00<?, ?ba/s]"
      ]
     },
     "metadata": {},
     "output_type": "display_data"
    },
    {
     "name": "stdout",
     "output_type": "stream",
     "text": [
      "Processing ja\n",
      "Length of datasets: 21969\n",
      "Length of merged dataset: 21969\n"
     ]
    },
    {
     "data": {
      "application/vnd.jupyter.widget-view+json": {
       "model_id": "dde360ef9c64442b908c222ef9216202",
       "version_major": 2,
       "version_minor": 0
      },
      "text/plain": [
       "Creating json from Arrow format:   0%|          | 0/22 [00:00<?, ?ba/s]"
      ]
     },
     "metadata": {},
     "output_type": "display_data"
    },
    {
     "name": "stdout",
     "output_type": "stream",
     "text": [
      "Processing jw\n",
      "Length of datasets: 17887\n",
      "Length of merged dataset: 17887\n"
     ]
    },
    {
     "data": {
      "application/vnd.jupyter.widget-view+json": {
       "model_id": "6b992d9f0cb74bc2b48bfed25eee3e72",
       "version_major": 2,
       "version_minor": 0
      },
      "text/plain": [
       "Creating json from Arrow format:   0%|          | 0/18 [00:00<?, ?ba/s]"
      ]
     },
     "metadata": {},
     "output_type": "display_data"
    },
    {
     "name": "stdout",
     "output_type": "stream",
     "text": [
      "Processing ka\n",
      "Length of datasets: 40431\n",
      "Length of merged dataset: 40431\n"
     ]
    },
    {
     "data": {
      "application/vnd.jupyter.widget-view+json": {
       "model_id": "b0116e2cce79486db757defb3de0f25e",
       "version_major": 2,
       "version_minor": 0
      },
      "text/plain": [
       "Creating json from Arrow format:   0%|          | 0/41 [00:00<?, ?ba/s]"
      ]
     },
     "metadata": {},
     "output_type": "display_data"
    },
    {
     "name": "stdout",
     "output_type": "stream",
     "text": [
      "Processing kk\n",
      "Length of datasets: 31303\n",
      "Length of merged dataset: 31303\n"
     ]
    },
    {
     "data": {
      "application/vnd.jupyter.widget-view+json": {
       "model_id": "e0f8956e642b44139c1d55f2112e8044",
       "version_major": 2,
       "version_minor": 0
      },
      "text/plain": [
       "Creating json from Arrow format:   0%|          | 0/32 [00:00<?, ?ba/s]"
      ]
     },
     "metadata": {},
     "output_type": "display_data"
    },
    {
     "name": "stdout",
     "output_type": "stream",
     "text": [
      "Processing km\n",
      "Length of datasets: 14767\n",
      "Length of merged dataset: 14767\n"
     ]
    },
    {
     "data": {
      "application/vnd.jupyter.widget-view+json": {
       "model_id": "fd238c3a68574b848a7c9853ef2511f6",
       "version_major": 2,
       "version_minor": 0
      },
      "text/plain": [
       "Creating json from Arrow format:   0%|          | 0/15 [00:00<?, ?ba/s]"
      ]
     },
     "metadata": {},
     "output_type": "display_data"
    },
    {
     "name": "stdout",
     "output_type": "stream",
     "text": [
      "Processing kn\n",
      "Length of datasets: 18314\n",
      "Length of merged dataset: 18314\n"
     ]
    },
    {
     "data": {
      "application/vnd.jupyter.widget-view+json": {
       "model_id": "5a54c55c11f647b4a99a87c313586154",
       "version_major": 2,
       "version_minor": 0
      },
      "text/plain": [
       "Creating json from Arrow format:   0%|          | 0/19 [00:00<?, ?ba/s]"
      ]
     },
     "metadata": {},
     "output_type": "display_data"
    },
    {
     "name": "stdout",
     "output_type": "stream",
     "text": [
      "Processing ko\n",
      "Length of datasets: 30082\n",
      "Length of merged dataset: 30082\n"
     ]
    },
    {
     "data": {
      "application/vnd.jupyter.widget-view+json": {
       "model_id": "818e232f94f84d129f7838a2c602d86c",
       "version_major": 2,
       "version_minor": 0
      },
      "text/plain": [
       "Creating json from Arrow format:   0%|          | 0/31 [00:00<?, ?ba/s]"
      ]
     },
     "metadata": {},
     "output_type": "display_data"
    },
    {
     "name": "stdout",
     "output_type": "stream",
     "text": [
      "Processing la\n",
      "Length of datasets: 24760\n",
      "Length of merged dataset: 24760\n"
     ]
    },
    {
     "data": {
      "application/vnd.jupyter.widget-view+json": {
       "model_id": "7800e766a537477881f38a275d380a2a",
       "version_major": 2,
       "version_minor": 0
      },
      "text/plain": [
       "Creating json from Arrow format:   0%|          | 0/25 [00:00<?, ?ba/s]"
      ]
     },
     "metadata": {},
     "output_type": "display_data"
    },
    {
     "name": "stdout",
     "output_type": "stream",
     "text": [
      "Processing lb\n",
      "Length of datasets: 31129\n",
      "Length of merged dataset: 31129\n"
     ]
    },
    {
     "data": {
      "application/vnd.jupyter.widget-view+json": {
       "model_id": "10876735f3ac40949108a036961168ed",
       "version_major": 2,
       "version_minor": 0
      },
      "text/plain": [
       "Creating json from Arrow format:   0%|          | 0/32 [00:00<?, ?ba/s]"
      ]
     },
     "metadata": {},
     "output_type": "display_data"
    },
    {
     "name": "stdout",
     "output_type": "stream",
     "text": [
      "Processing ln\n",
      "Length of datasets: 35222\n",
      "Length of merged dataset: 35222\n"
     ]
    },
    {
     "data": {
      "application/vnd.jupyter.widget-view+json": {
       "model_id": "4178dd39da3c408fa097eab2e671b312",
       "version_major": 2,
       "version_minor": 0
      },
      "text/plain": [
       "Creating json from Arrow format:   0%|          | 0/36 [00:00<?, ?ba/s]"
      ]
     },
     "metadata": {},
     "output_type": "display_data"
    },
    {
     "name": "stdout",
     "output_type": "stream",
     "text": [
      "Processing lo\n",
      "Length of datasets: 16042\n",
      "Length of merged dataset: 16042\n"
     ]
    },
    {
     "data": {
      "application/vnd.jupyter.widget-view+json": {
       "model_id": "07c96484283640e892ef447054cd62e3",
       "version_major": 2,
       "version_minor": 0
      },
      "text/plain": [
       "Creating json from Arrow format:   0%|          | 0/17 [00:00<?, ?ba/s]"
      ]
     },
     "metadata": {},
     "output_type": "display_data"
    },
    {
     "name": "stdout",
     "output_type": "stream",
     "text": [
      "Processing lt\n",
      "Length of datasets: 33462\n",
      "Length of merged dataset: 33462\n"
     ]
    },
    {
     "data": {
      "application/vnd.jupyter.widget-view+json": {
       "model_id": "1f11f2ae21f34506a4ad881329bcafd4",
       "version_major": 2,
       "version_minor": 0
      },
      "text/plain": [
       "Creating json from Arrow format:   0%|          | 0/34 [00:00<?, ?ba/s]"
      ]
     },
     "metadata": {},
     "output_type": "display_data"
    },
    {
     "name": "stdout",
     "output_type": "stream",
     "text": [
      "Processing lv\n",
      "Length of datasets: 18213\n",
      "Length of merged dataset: 18213\n"
     ]
    },
    {
     "data": {
      "application/vnd.jupyter.widget-view+json": {
       "model_id": "9b9a3edd835441d88283914a747f9482",
       "version_major": 2,
       "version_minor": 0
      },
      "text/plain": [
       "Creating json from Arrow format:   0%|          | 0/19 [00:00<?, ?ba/s]"
      ]
     },
     "metadata": {},
     "output_type": "display_data"
    },
    {
     "name": "stdout",
     "output_type": "stream",
     "text": [
      "Processing mg\n",
      "Length of datasets: 42055\n",
      "Length of merged dataset: 42055\n"
     ]
    },
    {
     "data": {
      "application/vnd.jupyter.widget-view+json": {
       "model_id": "6734be6a05a14e5f836a58447108a181",
       "version_major": 2,
       "version_minor": 0
      },
      "text/plain": [
       "Creating json from Arrow format:   0%|          | 0/43 [00:00<?, ?ba/s]"
      ]
     },
     "metadata": {},
     "output_type": "display_data"
    },
    {
     "name": "stdout",
     "output_type": "stream",
     "text": [
      "Processing mi\n",
      "Length of datasets: 12320\n",
      "Length of merged dataset: 12320\n"
     ]
    },
    {
     "data": {
      "application/vnd.jupyter.widget-view+json": {
       "model_id": "df252bfd28404237b10e47757a8586e5",
       "version_major": 2,
       "version_minor": 0
      },
      "text/plain": [
       "Creating json from Arrow format:   0%|          | 0/13 [00:00<?, ?ba/s]"
      ]
     },
     "metadata": {},
     "output_type": "display_data"
    },
    {
     "name": "stdout",
     "output_type": "stream",
     "text": [
      "Processing mk\n",
      "Length of datasets: 45258\n",
      "Length of merged dataset: 45258\n"
     ]
    },
    {
     "data": {
      "application/vnd.jupyter.widget-view+json": {
       "model_id": "9717b0d7a8c44fa38afd7d5cd926ad48",
       "version_major": 2,
       "version_minor": 0
      },
      "text/plain": [
       "Creating json from Arrow format:   0%|          | 0/46 [00:00<?, ?ba/s]"
      ]
     },
     "metadata": {},
     "output_type": "display_data"
    },
    {
     "name": "stdout",
     "output_type": "stream",
     "text": [
      "Processing ml\n",
      "Length of datasets: 19282\n",
      "Length of merged dataset: 19282\n"
     ]
    },
    {
     "data": {
      "application/vnd.jupyter.widget-view+json": {
       "model_id": "089965ba6e6f4597b75982d4fd4f1fbe",
       "version_major": 2,
       "version_minor": 0
      },
      "text/plain": [
       "Creating json from Arrow format:   0%|          | 0/20 [00:00<?, ?ba/s]"
      ]
     },
     "metadata": {},
     "output_type": "display_data"
    },
    {
     "name": "stdout",
     "output_type": "stream",
     "text": [
      "Processing mn\n",
      "Length of datasets: 28493\n",
      "Length of merged dataset: 28493\n"
     ]
    },
    {
     "data": {
      "application/vnd.jupyter.widget-view+json": {
       "model_id": "5f1ed5ff69134d7eb76bbd679238eccc",
       "version_major": 2,
       "version_minor": 0
      },
      "text/plain": [
       "Creating json from Arrow format:   0%|          | 0/29 [00:00<?, ?ba/s]"
      ]
     },
     "metadata": {},
     "output_type": "display_data"
    },
    {
     "name": "stdout",
     "output_type": "stream",
     "text": [
      "Processing mr\n",
      "Length of datasets: 33008\n",
      "Length of merged dataset: 33008\n"
     ]
    },
    {
     "data": {
      "application/vnd.jupyter.widget-view+json": {
       "model_id": "d8283c96268f469781c96a09270c83fc",
       "version_major": 2,
       "version_minor": 0
      },
      "text/plain": [
       "Creating json from Arrow format:   0%|          | 0/34 [00:00<?, ?ba/s]"
      ]
     },
     "metadata": {},
     "output_type": "display_data"
    },
    {
     "name": "stdout",
     "output_type": "stream",
     "text": [
      "Processing ms\n",
      "Length of datasets: 31088\n",
      "Length of merged dataset: 31088\n"
     ]
    },
    {
     "data": {
      "application/vnd.jupyter.widget-view+json": {
       "model_id": "53d5e86a701546ca8161d8a6a2e1614b",
       "version_major": 2,
       "version_minor": 0
      },
      "text/plain": [
       "Creating json from Arrow format:   0%|          | 0/32 [00:00<?, ?ba/s]"
      ]
     },
     "metadata": {},
     "output_type": "display_data"
    },
    {
     "name": "stdout",
     "output_type": "stream",
     "text": [
      "Processing mt\n",
      "Length of datasets: 27042\n",
      "Length of merged dataset: 27042\n"
     ]
    },
    {
     "data": {
      "application/vnd.jupyter.widget-view+json": {
       "model_id": "c4701daea20140a5be077e7df4d90dbc",
       "version_major": 2,
       "version_minor": 0
      },
      "text/plain": [
       "Creating json from Arrow format:   0%|          | 0/28 [00:00<?, ?ba/s]"
      ]
     },
     "metadata": {},
     "output_type": "display_data"
    },
    {
     "name": "stdout",
     "output_type": "stream",
     "text": [
      "Processing my\n",
      "Length of datasets: 15868\n",
      "Length of merged dataset: 15868\n"
     ]
    },
    {
     "data": {
      "application/vnd.jupyter.widget-view+json": {
       "model_id": "e208c6d8944a492795c3909b80b68a0c",
       "version_major": 2,
       "version_minor": 0
      },
      "text/plain": [
       "Creating json from Arrow format:   0%|          | 0/16 [00:00<?, ?ba/s]"
      ]
     },
     "metadata": {},
     "output_type": "display_data"
    },
    {
     "name": "stdout",
     "output_type": "stream",
     "text": [
      "Processing ne\n",
      "Length of datasets: 28754\n",
      "Length of merged dataset: 28754\n"
     ]
    },
    {
     "data": {
      "application/vnd.jupyter.widget-view+json": {
       "model_id": "947f99167b4540669c0e742368e7df13",
       "version_major": 2,
       "version_minor": 0
      },
      "text/plain": [
       "Creating json from Arrow format:   0%|          | 0/29 [00:00<?, ?ba/s]"
      ]
     },
     "metadata": {},
     "output_type": "display_data"
    },
    {
     "name": "stdout",
     "output_type": "stream",
     "text": [
      "Processing nl\n",
      "Length of datasets: 15835\n",
      "Length of merged dataset: 15835\n"
     ]
    },
    {
     "data": {
      "application/vnd.jupyter.widget-view+json": {
       "model_id": "e55b2168d7644143b9420cf48347686b",
       "version_major": 2,
       "version_minor": 0
      },
      "text/plain": [
       "Creating json from Arrow format:   0%|          | 0/16 [00:00<?, ?ba/s]"
      ]
     },
     "metadata": {},
     "output_type": "display_data"
    },
    {
     "name": "stdout",
     "output_type": "stream",
     "text": [
      "Processing nn\n",
      "Length of datasets: 21992\n",
      "Length of merged dataset: 21992\n"
     ]
    },
    {
     "data": {
      "application/vnd.jupyter.widget-view+json": {
       "model_id": "5805ebf8278f462d9db37c371f775941",
       "version_major": 2,
       "version_minor": 0
      },
      "text/plain": [
       "Creating json from Arrow format:   0%|          | 0/22 [00:00<?, ?ba/s]"
      ]
     },
     "metadata": {},
     "output_type": "display_data"
    },
    {
     "name": "stdout",
     "output_type": "stream",
     "text": [
      "Processing no\n",
      "Length of datasets: 42204\n",
      "Length of merged dataset: 42204\n"
     ]
    },
    {
     "data": {
      "application/vnd.jupyter.widget-view+json": {
       "model_id": "d283eceaad034e7bb91e759d6c661ab5",
       "version_major": 2,
       "version_minor": 0
      },
      "text/plain": [
       "Creating json from Arrow format:   0%|          | 0/43 [00:00<?, ?ba/s]"
      ]
     },
     "metadata": {},
     "output_type": "display_data"
    },
    {
     "name": "stdout",
     "output_type": "stream",
     "text": [
      "Processing oc\n",
      "Length of datasets: 6228\n",
      "Length of merged dataset: 6228\n"
     ]
    },
    {
     "data": {
      "application/vnd.jupyter.widget-view+json": {
       "model_id": "5e282d117462400a90d6d736ae255327",
       "version_major": 2,
       "version_minor": 0
      },
      "text/plain": [
       "Creating json from Arrow format:   0%|          | 0/7 [00:00<?, ?ba/s]"
      ]
     },
     "metadata": {},
     "output_type": "display_data"
    },
    {
     "name": "stdout",
     "output_type": "stream",
     "text": [
      "Processing pa\n",
      "Length of datasets: 21066\n",
      "Length of merged dataset: 21066\n"
     ]
    },
    {
     "data": {
      "application/vnd.jupyter.widget-view+json": {
       "model_id": "cba44d0b856f466abbd81dc3f3fbcc54",
       "version_major": 2,
       "version_minor": 0
      },
      "text/plain": [
       "Creating json from Arrow format:   0%|          | 0/22 [00:00<?, ?ba/s]"
      ]
     },
     "metadata": {},
     "output_type": "display_data"
    },
    {
     "name": "stdout",
     "output_type": "stream",
     "text": [
      "Processing pl\n",
      "Length of datasets: 32836\n",
      "Length of merged dataset: 32836\n"
     ]
    },
    {
     "data": {
      "application/vnd.jupyter.widget-view+json": {
       "model_id": "e711dfc96a2147dfa96b5f1e5a250692",
       "version_major": 2,
       "version_minor": 0
      },
      "text/plain": [
       "Creating json from Arrow format:   0%|          | 0/33 [00:00<?, ?ba/s]"
      ]
     },
     "metadata": {},
     "output_type": "display_data"
    },
    {
     "name": "stdout",
     "output_type": "stream",
     "text": [
      "Processing ps\n",
      "Length of datasets: 19793\n",
      "Length of merged dataset: 19793\n"
     ]
    },
    {
     "data": {
      "application/vnd.jupyter.widget-view+json": {
       "model_id": "8e492fb0cfc640b8bc9cf332522863e1",
       "version_major": 2,
       "version_minor": 0
      },
      "text/plain": [
       "Creating json from Arrow format:   0%|          | 0/20 [00:00<?, ?ba/s]"
      ]
     },
     "metadata": {},
     "output_type": "display_data"
    },
    {
     "name": "stdout",
     "output_type": "stream",
     "text": [
      "Processing pt\n",
      "Length of datasets: 26070\n",
      "Length of merged dataset: 26070\n"
     ]
    },
    {
     "data": {
      "application/vnd.jupyter.widget-view+json": {
       "model_id": "1056173fb8a84d29ab68706a28bdc386",
       "version_major": 2,
       "version_minor": 0
      },
      "text/plain": [
       "Creating json from Arrow format:   0%|          | 0/27 [00:00<?, ?ba/s]"
      ]
     },
     "metadata": {},
     "output_type": "display_data"
    },
    {
     "name": "stdout",
     "output_type": "stream",
     "text": [
      "Processing ro\n",
      "Length of datasets: 25739\n",
      "Length of merged dataset: 25739\n"
     ]
    },
    {
     "data": {
      "application/vnd.jupyter.widget-view+json": {
       "model_id": "5d1cc142c2d547fb9e77d01b6c3daa71",
       "version_major": 2,
       "version_minor": 0
      },
      "text/plain": [
       "Creating json from Arrow format:   0%|          | 0/26 [00:00<?, ?ba/s]"
      ]
     },
     "metadata": {},
     "output_type": "display_data"
    },
    {
     "name": "stdout",
     "output_type": "stream",
     "text": [
      "Processing ru\n",
      "Length of datasets: 31816\n",
      "Length of merged dataset: 31816\n"
     ]
    },
    {
     "data": {
      "application/vnd.jupyter.widget-view+json": {
       "model_id": "3c0f39e1975a40d8934ff62646eabea0",
       "version_major": 2,
       "version_minor": 0
      },
      "text/plain": [
       "Creating json from Arrow format:   0%|          | 0/32 [00:00<?, ?ba/s]"
      ]
     },
     "metadata": {},
     "output_type": "display_data"
    },
    {
     "name": "stdout",
     "output_type": "stream",
     "text": [
      "Processing sa\n",
      "Length of datasets: 4787\n",
      "Length of merged dataset: 4787\n"
     ]
    },
    {
     "data": {
      "application/vnd.jupyter.widget-view+json": {
       "model_id": "28ccacf9612742d484b854820862c9b9",
       "version_major": 2,
       "version_minor": 0
      },
      "text/plain": [
       "Creating json from Arrow format:   0%|          | 0/5 [00:00<?, ?ba/s]"
      ]
     },
     "metadata": {},
     "output_type": "display_data"
    },
    {
     "name": "stdout",
     "output_type": "stream",
     "text": [
      "Processing sco\n",
      "Length of datasets: 967\n",
      "Length of merged dataset: 967\n"
     ]
    },
    {
     "data": {
      "application/vnd.jupyter.widget-view+json": {
       "model_id": "dfac21845afa46f3a5d46dd2bc488c2b",
       "version_major": 2,
       "version_minor": 0
      },
      "text/plain": [
       "Creating json from Arrow format:   0%|          | 0/1 [00:00<?, ?ba/s]"
      ]
     },
     "metadata": {},
     "output_type": "display_data"
    },
    {
     "name": "stdout",
     "output_type": "stream",
     "text": [
      "Processing sd\n",
      "Length of datasets: 31667\n",
      "Length of merged dataset: 31667\n"
     ]
    },
    {
     "data": {
      "application/vnd.jupyter.widget-view+json": {
       "model_id": "9659e4ceb6174797be04b1e16768acac",
       "version_major": 2,
       "version_minor": 0
      },
      "text/plain": [
       "Creating json from Arrow format:   0%|          | 0/32 [00:00<?, ?ba/s]"
      ]
     },
     "metadata": {},
     "output_type": "display_data"
    },
    {
     "name": "stdout",
     "output_type": "stream",
     "text": [
      "Processing si\n",
      "Length of datasets: 26930\n",
      "Length of merged dataset: 26930\n"
     ]
    },
    {
     "data": {
      "application/vnd.jupyter.widget-view+json": {
       "model_id": "f204f6ae107944529902835fb745ba87",
       "version_major": 2,
       "version_minor": 0
      },
      "text/plain": [
       "Creating json from Arrow format:   0%|          | 0/27 [00:00<?, ?ba/s]"
      ]
     },
     "metadata": {},
     "output_type": "display_data"
    },
    {
     "name": "stdout",
     "output_type": "stream",
     "text": [
      "Processing sk\n",
      "Length of datasets: 15790\n",
      "Length of merged dataset: 15790\n"
     ]
    },
    {
     "data": {
      "application/vnd.jupyter.widget-view+json": {
       "model_id": "176eb2601dbe45c2aef690357ec81234",
       "version_major": 2,
       "version_minor": 0
      },
      "text/plain": [
       "Creating json from Arrow format:   0%|          | 0/16 [00:00<?, ?ba/s]"
      ]
     },
     "metadata": {},
     "output_type": "display_data"
    },
    {
     "name": "stdout",
     "output_type": "stream",
     "text": [
      "Processing sl\n",
      "Length of datasets: 49662\n",
      "Length of merged dataset: 49662\n"
     ]
    },
    {
     "data": {
      "application/vnd.jupyter.widget-view+json": {
       "model_id": "4925b82c39aa4d779dd01900794aa71d",
       "version_major": 2,
       "version_minor": 0
      },
      "text/plain": [
       "Creating json from Arrow format:   0%|          | 0/50 [00:00<?, ?ba/s]"
      ]
     },
     "metadata": {},
     "output_type": "display_data"
    },
    {
     "name": "stdout",
     "output_type": "stream",
     "text": [
      "Processing sn\n",
      "Length of datasets: 11856\n",
      "Length of merged dataset: 11856\n"
     ]
    },
    {
     "data": {
      "application/vnd.jupyter.widget-view+json": {
       "model_id": "ebfbe87de9f24bad978d67bc56d1da9a",
       "version_major": 2,
       "version_minor": 0
      },
      "text/plain": [
       "Creating json from Arrow format:   0%|          | 0/12 [00:00<?, ?ba/s]"
      ]
     },
     "metadata": {},
     "output_type": "display_data"
    },
    {
     "name": "stdout",
     "output_type": "stream",
     "text": [
      "Processing so\n",
      "Length of datasets: 41300\n",
      "Length of merged dataset: 41300\n"
     ]
    },
    {
     "data": {
      "application/vnd.jupyter.widget-view+json": {
       "model_id": "94d8124ac90441d79771100963d2a4f3",
       "version_major": 2,
       "version_minor": 0
      },
      "text/plain": [
       "Creating json from Arrow format:   0%|          | 0/42 [00:00<?, ?ba/s]"
      ]
     },
     "metadata": {},
     "output_type": "display_data"
    },
    {
     "name": "stdout",
     "output_type": "stream",
     "text": [
      "Processing sq\n",
      "Length of datasets: 28068\n",
      "Length of merged dataset: 28068\n"
     ]
    },
    {
     "data": {
      "application/vnd.jupyter.widget-view+json": {
       "model_id": "3d3cad3f4f874347b83a0f2be977a0a4",
       "version_major": 2,
       "version_minor": 0
      },
      "text/plain": [
       "Creating json from Arrow format:   0%|          | 0/29 [00:00<?, ?ba/s]"
      ]
     },
     "metadata": {},
     "output_type": "display_data"
    },
    {
     "name": "stdout",
     "output_type": "stream",
     "text": [
      "Processing sr\n",
      "Length of datasets: 20583\n",
      "Length of merged dataset: 20583\n"
     ]
    },
    {
     "data": {
      "application/vnd.jupyter.widget-view+json": {
       "model_id": "d21330c74ed24affb45ce701f2c6099d",
       "version_major": 2,
       "version_minor": 0
      },
      "text/plain": [
       "Creating json from Arrow format:   0%|          | 0/21 [00:00<?, ?ba/s]"
      ]
     },
     "metadata": {},
     "output_type": "display_data"
    },
    {
     "name": "stdout",
     "output_type": "stream",
     "text": [
      "Processing su\n",
      "Length of datasets: 21823\n",
      "Length of merged dataset: 21823\n"
     ]
    },
    {
     "data": {
      "application/vnd.jupyter.widget-view+json": {
       "model_id": "15d4d8f431db4252bca644e81ebb68f6",
       "version_major": 2,
       "version_minor": 0
      },
      "text/plain": [
       "Creating json from Arrow format:   0%|          | 0/22 [00:00<?, ?ba/s]"
      ]
     },
     "metadata": {},
     "output_type": "display_data"
    },
    {
     "name": "stdout",
     "output_type": "stream",
     "text": [
      "Processing sv\n",
      "Length of datasets: 13798\n",
      "Length of merged dataset: 13798\n"
     ]
    },
    {
     "data": {
      "application/vnd.jupyter.widget-view+json": {
       "model_id": "b077f949c61042f4a293dcd2dca2f6c1",
       "version_major": 2,
       "version_minor": 0
      },
      "text/plain": [
       "Creating json from Arrow format:   0%|          | 0/14 [00:00<?, ?ba/s]"
      ]
     },
     "metadata": {},
     "output_type": "display_data"
    },
    {
     "name": "stdout",
     "output_type": "stream",
     "text": [
      "Processing sw\n",
      "Length of datasets: 25427\n",
      "Length of merged dataset: 25427\n"
     ]
    },
    {
     "data": {
      "application/vnd.jupyter.widget-view+json": {
       "model_id": "2ea8ccf462054e9e96f6f275f89108d0",
       "version_major": 2,
       "version_minor": 0
      },
      "text/plain": [
       "Creating json from Arrow format:   0%|          | 0/26 [00:00<?, ?ba/s]"
      ]
     },
     "metadata": {},
     "output_type": "display_data"
    },
    {
     "name": "stdout",
     "output_type": "stream",
     "text": [
      "Processing ta\n",
      "Length of datasets: 20504\n",
      "Length of merged dataset: 20504\n"
     ]
    },
    {
     "data": {
      "application/vnd.jupyter.widget-view+json": {
       "model_id": "6cbd3f8ce07344a9a4be1c83d0d362e2",
       "version_major": 2,
       "version_minor": 0
      },
      "text/plain": [
       "Creating json from Arrow format:   0%|          | 0/21 [00:00<?, ?ba/s]"
      ]
     },
     "metadata": {},
     "output_type": "display_data"
    },
    {
     "name": "stdout",
     "output_type": "stream",
     "text": [
      "Processing te\n",
      "Length of datasets: 30933\n",
      "Length of merged dataset: 30933\n"
     ]
    },
    {
     "data": {
      "application/vnd.jupyter.widget-view+json": {
       "model_id": "88814852dcf1432dbc86042e8614e105",
       "version_major": 2,
       "version_minor": 0
      },
      "text/plain": [
       "Creating json from Arrow format:   0%|          | 0/31 [00:00<?, ?ba/s]"
      ]
     },
     "metadata": {},
     "output_type": "display_data"
    },
    {
     "name": "stdout",
     "output_type": "stream",
     "text": [
      "Processing tg\n",
      "Length of datasets: 26387\n",
      "Length of merged dataset: 26387\n"
     ]
    },
    {
     "data": {
      "application/vnd.jupyter.widget-view+json": {
       "model_id": "9c29af441c0c4a418aa3d4d3d04b2e30",
       "version_major": 2,
       "version_minor": 0
      },
      "text/plain": [
       "Creating json from Arrow format:   0%|          | 0/27 [00:00<?, ?ba/s]"
      ]
     },
     "metadata": {},
     "output_type": "display_data"
    },
    {
     "name": "stdout",
     "output_type": "stream",
     "text": [
      "Processing th\n",
      "Length of datasets: 22732\n",
      "Length of merged dataset: 22732\n"
     ]
    },
    {
     "data": {
      "application/vnd.jupyter.widget-view+json": {
       "model_id": "8dcb727844f7474c8fca6cc631900bdb",
       "version_major": 2,
       "version_minor": 0
      },
      "text/plain": [
       "Creating json from Arrow format:   0%|          | 0/23 [00:00<?, ?ba/s]"
      ]
     },
     "metadata": {},
     "output_type": "display_data"
    },
    {
     "name": "stdout",
     "output_type": "stream",
     "text": [
      "Processing tk\n",
      "Length of datasets: 36146\n",
      "Length of merged dataset: 36146\n"
     ]
    },
    {
     "data": {
      "application/vnd.jupyter.widget-view+json": {
       "model_id": "db6b2b5ac1784e5bb5466aba848162f0",
       "version_major": 2,
       "version_minor": 0
      },
      "text/plain": [
       "Creating json from Arrow format:   0%|          | 0/37 [00:00<?, ?ba/s]"
      ]
     },
     "metadata": {},
     "output_type": "display_data"
    },
    {
     "name": "stdout",
     "output_type": "stream",
     "text": [
      "Processing tl\n",
      "Length of datasets: 35493\n",
      "Length of merged dataset: 35493\n"
     ]
    },
    {
     "data": {
      "application/vnd.jupyter.widget-view+json": {
       "model_id": "e47922c020db4afdae71a26fab174f65",
       "version_major": 2,
       "version_minor": 0
      },
      "text/plain": [
       "Creating json from Arrow format:   0%|          | 0/36 [00:00<?, ?ba/s]"
      ]
     },
     "metadata": {},
     "output_type": "display_data"
    },
    {
     "name": "stdout",
     "output_type": "stream",
     "text": [
      "Processing tr\n",
      "Length of datasets: 23760\n",
      "Length of merged dataset: 23760\n"
     ]
    },
    {
     "data": {
      "application/vnd.jupyter.widget-view+json": {
       "model_id": "3df4ab539cbf4727a4011f0c00a6e3a8",
       "version_major": 2,
       "version_minor": 0
      },
      "text/plain": [
       "Creating json from Arrow format:   0%|          | 0/24 [00:00<?, ?ba/s]"
      ]
     },
     "metadata": {},
     "output_type": "display_data"
    },
    {
     "name": "stdout",
     "output_type": "stream",
     "text": [
      "Processing tt\n",
      "Length of datasets: 40086\n",
      "Length of merged dataset: 40086\n"
     ]
    },
    {
     "data": {
      "application/vnd.jupyter.widget-view+json": {
       "model_id": "2b8d8064694d49f3becdf1d6288f997f",
       "version_major": 2,
       "version_minor": 0
      },
      "text/plain": [
       "Creating json from Arrow format:   0%|          | 0/41 [00:00<?, ?ba/s]"
      ]
     },
     "metadata": {},
     "output_type": "display_data"
    },
    {
     "name": "stdout",
     "output_type": "stream",
     "text": [
      "Processing uk\n",
      "Length of datasets: 21593\n",
      "Length of merged dataset: 21593\n"
     ]
    },
    {
     "data": {
      "application/vnd.jupyter.widget-view+json": {
       "model_id": "9a992ef1496d4ccd90ef6f63130eaccd",
       "version_major": 2,
       "version_minor": 0
      },
      "text/plain": [
       "Creating json from Arrow format:   0%|          | 0/22 [00:00<?, ?ba/s]"
      ]
     },
     "metadata": {},
     "output_type": "display_data"
    },
    {
     "name": "stdout",
     "output_type": "stream",
     "text": [
      "Processing ur\n",
      "Length of datasets: 18591\n",
      "Length of merged dataset: 18591\n"
     ]
    },
    {
     "data": {
      "application/vnd.jupyter.widget-view+json": {
       "model_id": "b78490aaa1d44b3a87a145d1442b262f",
       "version_major": 2,
       "version_minor": 0
      },
      "text/plain": [
       "Creating json from Arrow format:   0%|          | 0/19 [00:00<?, ?ba/s]"
      ]
     },
     "metadata": {},
     "output_type": "display_data"
    },
    {
     "name": "stdout",
     "output_type": "stream",
     "text": [
      "Processing uz\n",
      "Length of datasets: 18186\n",
      "Length of merged dataset: 18186\n"
     ]
    },
    {
     "data": {
      "application/vnd.jupyter.widget-view+json": {
       "model_id": "f93ce29b2f5f4c669f54a5d3c693630e",
       "version_major": 2,
       "version_minor": 0
      },
      "text/plain": [
       "Creating json from Arrow format:   0%|          | 0/19 [00:00<?, ?ba/s]"
      ]
     },
     "metadata": {},
     "output_type": "display_data"
    },
    {
     "name": "stdout",
     "output_type": "stream",
     "text": [
      "Processing vi\n",
      "Length of datasets: 23859\n",
      "Length of merged dataset: 23859\n"
     ]
    },
    {
     "data": {
      "application/vnd.jupyter.widget-view+json": {
       "model_id": "4c2e3ecfd22e4992afc8f18c8e12fdeb",
       "version_major": 2,
       "version_minor": 0
      },
      "text/plain": [
       "Creating json from Arrow format:   0%|          | 0/24 [00:00<?, ?ba/s]"
      ]
     },
     "metadata": {},
     "output_type": "display_data"
    },
    {
     "name": "stdout",
     "output_type": "stream",
     "text": [
      "Processing war\n",
      "Length of datasets: 3750\n",
      "Length of merged dataset: 3750\n"
     ]
    },
    {
     "data": {
      "application/vnd.jupyter.widget-view+json": {
       "model_id": "5ca6559c14c547e78382b90cff3e2ef5",
       "version_major": 2,
       "version_minor": 0
      },
      "text/plain": [
       "Creating json from Arrow format:   0%|          | 0/4 [00:00<?, ?ba/s]"
      ]
     },
     "metadata": {},
     "output_type": "display_data"
    },
    {
     "name": "stdout",
     "output_type": "stream",
     "text": [
      "Processing yi\n",
      "Length of datasets: 17672\n",
      "Length of merged dataset: 17672\n"
     ]
    },
    {
     "data": {
      "application/vnd.jupyter.widget-view+json": {
       "model_id": "7e6c7807ce1048ada0a3e8a647e9fb62",
       "version_major": 2,
       "version_minor": 0
      },
      "text/plain": [
       "Creating json from Arrow format:   0%|          | 0/18 [00:00<?, ?ba/s]"
      ]
     },
     "metadata": {},
     "output_type": "display_data"
    },
    {
     "name": "stdout",
     "output_type": "stream",
     "text": [
      "Processing yo\n",
      "Length of datasets: 36549\n",
      "Length of merged dataset: 36549\n"
     ]
    },
    {
     "data": {
      "application/vnd.jupyter.widget-view+json": {
       "model_id": "fa6f341b89414c188b529e2fd204edf8",
       "version_major": 2,
       "version_minor": 0
      },
      "text/plain": [
       "Creating json from Arrow format:   0%|          | 0/37 [00:00<?, ?ba/s]"
      ]
     },
     "metadata": {},
     "output_type": "display_data"
    },
    {
     "name": "stdout",
     "output_type": "stream",
     "text": [
      "Processing zh\n",
      "Length of datasets: 17805\n",
      "Length of merged dataset: 17805\n"
     ]
    },
    {
     "data": {
      "application/vnd.jupyter.widget-view+json": {
       "model_id": "a619cd74213b4a7aa82e86f52f50c648",
       "version_major": 2,
       "version_minor": 0
      },
      "text/plain": [
       "Creating json from Arrow format:   0%|          | 0/18 [00:00<?, ?ba/s]"
      ]
     },
     "metadata": {},
     "output_type": "display_data"
    }
   ],
   "source": [
    "# Merging VL107\n",
    "\n",
    "langs = os.listdir(\"/exp/nbafna/projects/mitigating-accent-bias-in-lid/wav2vec2_intermediate_outputs/vl107/wav2vec2-base-layer8-1000/training_units/\")\n",
    "assert len(langs) == 107\n",
    "\n",
    "for lang in langs[2:]:\n",
    "    print(f\"Processing {lang}\")\n",
    "\n",
    "    input_path_et_trans = f\"/exp/nbafna/projects/mitigating-accent-bias-in-lid/reps_and_phoneseqs/vl107/ecapa-tdnn_wav2vec2-xlsr-53-espeak-cv-ft/{lang}_transcriptions.jsonl\"\n",
    "    input_path_ssl_units = f\"/exp/nbafna/projects/mitigating-accent-bias-in-lid/wav2vec2_intermediate_outputs/vl107/wav2vec2-base-layer8-1000/training_units/{lang}/kmeans_data.pkl\"\n",
    "    outfile = f\"/exp/nbafna/projects/mitigating-accent-bias-in-lid/reps_phoneseqs_duseqs_exps/vl107/ecapa-tdnn_wav2vec2-xlsr-53-espeak-cv-ft_wav2vec2-base-layer8-kmeans1000/{lang}_data.jsonl\"\n",
    "\n",
    "    # Loading the SSL unit data as an HF dataset\n",
    "    with open(input_path_ssl_units, 'rb') as f:\n",
    "        ssl_units_data = pkl.load(f)\n",
    "\n",
    "    duseq_dataset = datasets.Dataset.from_dict(ssl_units_data)\n",
    "    et_phoneseq_datset = datasets.load_dataset('json', data_files=input_path_et_trans)[\"train\"]\n",
    "\n",
    "    # Check that length is the same\n",
    "    assert len(duseq_dataset) == len(et_phoneseq_datset)\n",
    "    print(f\"Length of datasets: {len(duseq_dataset)}\")\n",
    "\n",
    "    # Create tuples:\n",
    "    duseq_datase_tuples = [{\"audio_file\": x[\"all_audio_files\"], \"sequences\": x[\"sequences\"]} for x in duseq_dataset]\n",
    "    et_phoneseq_datset_tuples = [{k: v for k, v in x.items()} for x in et_phoneseq_datset]\n",
    "\n",
    "\n",
    "    # Sort the datasets by audio file name\n",
    "    duseq_datase_tuples_sorted = sorted(duseq_datase_tuples, key=lambda x: x[\"audio_file\"])\n",
    "    et_phoneseq_datset_tuples_sorted = sorted(et_phoneseq_datset_tuples, key=lambda x: x[\"audio_file\"])\n",
    "\n",
    "    # Merge the two datasets\n",
    "    for i in range(len(duseq_datase_tuples_sorted)):\n",
    "        assert duseq_datase_tuples_sorted[i][\"audio_file\"] == et_phoneseq_datset_tuples_sorted[i][\"audio_file\"]\n",
    "        duseq_datase_tuples_sorted[i].update(et_phoneseq_datset_tuples_sorted[i])\n",
    "\n",
    "    # Create HF dataset\n",
    "    merged_dataset = {}\n",
    "    for k in duseq_datase_tuples_sorted[0].keys():\n",
    "        merged_dataset[k] = [x[k] for x in duseq_datase_tuples_sorted]\n",
    "\n",
    "    merged_dataset = datasets.Dataset.from_dict(merged_dataset)\n",
    "    print(f\"Length of merged dataset: {len(merged_dataset)}\")\n",
    "\n",
    "    # Save the dataset\n",
    "    merged_dataset.to_json(outfile)\n"
   ]
  },
  {
   "cell_type": "code",
   "execution_count": 45,
   "metadata": {},
   "outputs": [
    {
     "name": "stdout",
     "output_type": "stream",
     "text": [
      "Processing af\n",
      "Length of datasets: 417\n",
      "Length of merged dataset: 417\n"
     ]
    },
    {
     "data": {
      "application/vnd.jupyter.widget-view+json": {
       "model_id": "e866b1db08af439db05619865692b4f6",
       "version_major": 2,
       "version_minor": 0
      },
      "text/plain": [
       "Creating json from Arrow format:   0%|          | 0/1 [00:00<?, ?ba/s]"
      ]
     },
     "metadata": {},
     "output_type": "display_data"
    },
    {
     "name": "stdout",
     "output_type": "stream",
     "text": [
      "Processing am\n",
      "Length of datasets: 710\n",
      "Length of merged dataset: 710\n"
     ]
    },
    {
     "data": {
      "application/vnd.jupyter.widget-view+json": {
       "model_id": "449ac66833c0439f9616e02feb99642c",
       "version_major": 2,
       "version_minor": 0
      },
      "text/plain": [
       "Creating json from Arrow format:   0%|          | 0/1 [00:00<?, ?ba/s]"
      ]
     },
     "metadata": {},
     "output_type": "display_data"
    },
    {
     "name": "stdout",
     "output_type": "stream",
     "text": [
      "Processing ar\n",
      "Length of datasets: 566\n",
      "Length of merged dataset: 566\n"
     ]
    },
    {
     "data": {
      "application/vnd.jupyter.widget-view+json": {
       "model_id": "903bfb7c14d344479adcc2e44827717b",
       "version_major": 2,
       "version_minor": 0
      },
      "text/plain": [
       "Creating json from Arrow format:   0%|          | 0/1 [00:00<?, ?ba/s]"
      ]
     },
     "metadata": {},
     "output_type": "display_data"
    },
    {
     "name": "stdout",
     "output_type": "stream",
     "text": [
      "Processing as\n",
      "Length of datasets: 1594\n",
      "Length of merged dataset: 1594\n"
     ]
    },
    {
     "data": {
      "application/vnd.jupyter.widget-view+json": {
       "model_id": "bda654a33cfa43fe832e73f0589b9da2",
       "version_major": 2,
       "version_minor": 0
      },
      "text/plain": [
       "Creating json from Arrow format:   0%|          | 0/2 [00:00<?, ?ba/s]"
      ]
     },
     "metadata": {},
     "output_type": "display_data"
    },
    {
     "name": "stdout",
     "output_type": "stream",
     "text": [
      "Processing az\n",
      "Length of datasets: 1491\n",
      "Length of merged dataset: 1491\n"
     ]
    },
    {
     "data": {
      "application/vnd.jupyter.widget-view+json": {
       "model_id": "f99de2b3574142e88bd466f8e3a55eea",
       "version_major": 2,
       "version_minor": 0
      },
      "text/plain": [
       "Creating json from Arrow format:   0%|          | 0/2 [00:00<?, ?ba/s]"
      ]
     },
     "metadata": {},
     "output_type": "display_data"
    },
    {
     "name": "stdout",
     "output_type": "stream",
     "text": [
      "Processing be\n",
      "Length of datasets: 1947\n",
      "Length of merged dataset: 1947\n"
     ]
    },
    {
     "data": {
      "application/vnd.jupyter.widget-view+json": {
       "model_id": "12756597e09244f98161c93947ef5287",
       "version_major": 2,
       "version_minor": 0
      },
      "text/plain": [
       "Creating json from Arrow format:   0%|          | 0/2 [00:00<?, ?ba/s]"
      ]
     },
     "metadata": {},
     "output_type": "display_data"
    },
    {
     "name": "stdout",
     "output_type": "stream",
     "text": [
      "Processing bg\n",
      "Length of datasets: 802\n",
      "Length of merged dataset: 802\n"
     ]
    },
    {
     "data": {
      "application/vnd.jupyter.widget-view+json": {
       "model_id": "ac3a346c3f064b49a454cd52320aeda6",
       "version_major": 2,
       "version_minor": 0
      },
      "text/plain": [
       "Creating json from Arrow format:   0%|          | 0/1 [00:00<?, ?ba/s]"
      ]
     },
     "metadata": {},
     "output_type": "display_data"
    },
    {
     "name": "stdout",
     "output_type": "stream",
     "text": [
      "Processing bn\n",
      "Length of datasets: 1609\n",
      "Length of merged dataset: 1609\n"
     ]
    },
    {
     "data": {
      "application/vnd.jupyter.widget-view+json": {
       "model_id": "2d47c1c2daf747579332d9248b20e9b4",
       "version_major": 2,
       "version_minor": 0
      },
      "text/plain": [
       "Creating json from Arrow format:   0%|          | 0/2 [00:00<?, ?ba/s]"
      ]
     },
     "metadata": {},
     "output_type": "display_data"
    },
    {
     "name": "stdout",
     "output_type": "stream",
     "text": [
      "Processing bs\n",
      "Length of datasets: 1431\n",
      "Length of merged dataset: 1431\n"
     ]
    },
    {
     "data": {
      "application/vnd.jupyter.widget-view+json": {
       "model_id": "d3436549c9244436a7cda1d74b68d6a0",
       "version_major": 2,
       "version_minor": 0
      },
      "text/plain": [
       "Creating json from Arrow format:   0%|          | 0/2 [00:00<?, ?ba/s]"
      ]
     },
     "metadata": {},
     "output_type": "display_data"
    },
    {
     "name": "stdout",
     "output_type": "stream",
     "text": [
      "Processing ca\n",
      "Length of datasets: 1410\n",
      "Length of merged dataset: 1410\n"
     ]
    },
    {
     "data": {
      "application/vnd.jupyter.widget-view+json": {
       "model_id": "9d7feed0762a4af9a6d350694c76d70a",
       "version_major": 2,
       "version_minor": 0
      },
      "text/plain": [
       "Creating json from Arrow format:   0%|          | 0/2 [00:00<?, ?ba/s]"
      ]
     },
     "metadata": {},
     "output_type": "display_data"
    },
    {
     "name": "stdout",
     "output_type": "stream",
     "text": [
      "Processing ceb\n",
      "Length of datasets: 1055\n",
      "Length of merged dataset: 1055\n"
     ]
    },
    {
     "data": {
      "application/vnd.jupyter.widget-view+json": {
       "model_id": "fbaa7fa1e225485b874d3e341511646a",
       "version_major": 2,
       "version_minor": 0
      },
      "text/plain": [
       "Creating json from Arrow format:   0%|          | 0/2 [00:00<?, ?ba/s]"
      ]
     },
     "metadata": {},
     "output_type": "display_data"
    },
    {
     "name": "stdout",
     "output_type": "stream",
     "text": [
      "Processing cs\n",
      "Length of datasets: 1120\n",
      "Length of merged dataset: 1120\n"
     ]
    },
    {
     "data": {
      "application/vnd.jupyter.widget-view+json": {
       "model_id": "97cd403d838f497f876e336cc18d7752",
       "version_major": 2,
       "version_minor": 0
      },
      "text/plain": [
       "Creating json from Arrow format:   0%|          | 0/2 [00:00<?, ?ba/s]"
      ]
     },
     "metadata": {},
     "output_type": "display_data"
    },
    {
     "name": "stdout",
     "output_type": "stream",
     "text": [
      "Processing cy\n",
      "Length of datasets: 2065\n",
      "Length of merged dataset: 2065\n"
     ]
    },
    {
     "data": {
      "application/vnd.jupyter.widget-view+json": {
       "model_id": "eae2abc0c3664b4d8ffe225687bae283",
       "version_major": 2,
       "version_minor": 0
      },
      "text/plain": [
       "Creating json from Arrow format:   0%|          | 0/3 [00:00<?, ?ba/s]"
      ]
     },
     "metadata": {},
     "output_type": "display_data"
    },
    {
     "name": "stdout",
     "output_type": "stream",
     "text": [
      "Processing da\n",
      "Length of datasets: 1323\n",
      "Length of merged dataset: 1323\n"
     ]
    },
    {
     "data": {
      "application/vnd.jupyter.widget-view+json": {
       "model_id": "b326f1bd1a5e4dcb9ef9deda2e38d249",
       "version_major": 2,
       "version_minor": 0
      },
      "text/plain": [
       "Creating json from Arrow format:   0%|          | 0/2 [00:00<?, ?ba/s]"
      ]
     },
     "metadata": {},
     "output_type": "display_data"
    },
    {
     "name": "stdout",
     "output_type": "stream",
     "text": [
      "Processing de\n",
      "Length of datasets: 1460\n",
      "Length of merged dataset: 1460\n"
     ]
    },
    {
     "data": {
      "application/vnd.jupyter.widget-view+json": {
       "model_id": "10e46b9accfe48eba559e683ade00725",
       "version_major": 2,
       "version_minor": 0
      },
      "text/plain": [
       "Creating json from Arrow format:   0%|          | 0/2 [00:00<?, ?ba/s]"
      ]
     },
     "metadata": {},
     "output_type": "display_data"
    },
    {
     "name": "stdout",
     "output_type": "stream",
     "text": [
      "Processing el\n",
      "Length of datasets: 823\n",
      "Length of merged dataset: 823\n"
     ]
    },
    {
     "data": {
      "application/vnd.jupyter.widget-view+json": {
       "model_id": "fdfd266a1b0c4e7faaf1dc0a25ab3159",
       "version_major": 2,
       "version_minor": 0
      },
      "text/plain": [
       "Creating json from Arrow format:   0%|          | 0/1 [00:00<?, ?ba/s]"
      ]
     },
     "metadata": {},
     "output_type": "display_data"
    },
    {
     "name": "stdout",
     "output_type": "stream",
     "text": [
      "Processing en\n",
      "Length of datasets: 747\n",
      "Length of merged dataset: 747\n"
     ]
    },
    {
     "data": {
      "application/vnd.jupyter.widget-view+json": {
       "model_id": "b19a40a083a54824984ec6f3f9e75fd9",
       "version_major": 2,
       "version_minor": 0
      },
      "text/plain": [
       "Creating json from Arrow format:   0%|          | 0/1 [00:00<?, ?ba/s]"
      ]
     },
     "metadata": {},
     "output_type": "display_data"
    },
    {
     "name": "stdout",
     "output_type": "stream",
     "text": [
      "Processing es\n",
      "Length of datasets: 1397\n",
      "Length of merged dataset: 1397\n"
     ]
    },
    {
     "data": {
      "application/vnd.jupyter.widget-view+json": {
       "model_id": "877a6937dce44fdaa4f09f30af1ec5e8",
       "version_major": 2,
       "version_minor": 0
      },
      "text/plain": [
       "Creating json from Arrow format:   0%|          | 0/2 [00:00<?, ?ba/s]"
      ]
     },
     "metadata": {},
     "output_type": "display_data"
    },
    {
     "name": "stdout",
     "output_type": "stream",
     "text": [
      "Processing et\n",
      "Length of datasets: 1335\n",
      "Length of merged dataset: 1335\n"
     ]
    },
    {
     "data": {
      "application/vnd.jupyter.widget-view+json": {
       "model_id": "4f74afaecbcd4a92b1bc4500c0628d15",
       "version_major": 2,
       "version_minor": 0
      },
      "text/plain": [
       "Creating json from Arrow format:   0%|          | 0/2 [00:00<?, ?ba/s]"
      ]
     },
     "metadata": {},
     "output_type": "display_data"
    },
    {
     "name": "stdout",
     "output_type": "stream",
     "text": [
      "Processing fa\n",
      "Length of datasets: 1770\n",
      "Length of merged dataset: 1770\n"
     ]
    },
    {
     "data": {
      "application/vnd.jupyter.widget-view+json": {
       "model_id": "93ee5474199340e68e74ada809cc6ebe",
       "version_major": 2,
       "version_minor": 0
      },
      "text/plain": [
       "Creating json from Arrow format:   0%|          | 0/2 [00:00<?, ?ba/s]"
      ]
     },
     "metadata": {},
     "output_type": "display_data"
    },
    {
     "name": "stdout",
     "output_type": "stream",
     "text": [
      "Processing fi\n",
      "Length of datasets: 1518\n",
      "Length of merged dataset: 1518\n"
     ]
    },
    {
     "data": {
      "application/vnd.jupyter.widget-view+json": {
       "model_id": "987a3737b0c4408b89205ac72a0627be",
       "version_major": 2,
       "version_minor": 0
      },
      "text/plain": [
       "Creating json from Arrow format:   0%|          | 0/2 [00:00<?, ?ba/s]"
      ]
     },
     "metadata": {},
     "output_type": "display_data"
    },
    {
     "name": "stdout",
     "output_type": "stream",
     "text": [
      "Processing fr\n",
      "Length of datasets: 825\n",
      "Length of merged dataset: 825\n"
     ]
    },
    {
     "data": {
      "application/vnd.jupyter.widget-view+json": {
       "model_id": "d95373f07ec8467680710025964a7ae9",
       "version_major": 2,
       "version_minor": 0
      },
      "text/plain": [
       "Creating json from Arrow format:   0%|          | 0/1 [00:00<?, ?ba/s]"
      ]
     },
     "metadata": {},
     "output_type": "display_data"
    },
    {
     "name": "stdout",
     "output_type": "stream",
     "text": [
      "Processing gl\n",
      "Length of datasets: 1119\n",
      "Length of merged dataset: 1119\n"
     ]
    },
    {
     "data": {
      "application/vnd.jupyter.widget-view+json": {
       "model_id": "0c4db04a0bcb4113abd68737012061a8",
       "version_major": 2,
       "version_minor": 0
      },
      "text/plain": [
       "Creating json from Arrow format:   0%|          | 0/2 [00:00<?, ?ba/s]"
      ]
     },
     "metadata": {},
     "output_type": "display_data"
    },
    {
     "name": "stdout",
     "output_type": "stream",
     "text": [
      "Processing gu\n",
      "Length of datasets: 1259\n",
      "Length of merged dataset: 1259\n"
     ]
    },
    {
     "data": {
      "application/vnd.jupyter.widget-view+json": {
       "model_id": "813b169554814e6a9a641e49bd5fcc91",
       "version_major": 2,
       "version_minor": 0
      },
      "text/plain": [
       "Creating json from Arrow format:   0%|          | 0/2 [00:00<?, ?ba/s]"
      ]
     },
     "metadata": {},
     "output_type": "display_data"
    },
    {
     "name": "stdout",
     "output_type": "stream",
     "text": [
      "Processing ha\n",
      "Length of datasets: 1700\n",
      "Length of merged dataset: 1700\n"
     ]
    },
    {
     "data": {
      "application/vnd.jupyter.widget-view+json": {
       "model_id": "dbd3b5250ea64c669ee3f87268ddc067",
       "version_major": 2,
       "version_minor": 0
      },
      "text/plain": [
       "Creating json from Arrow format:   0%|          | 0/2 [00:00<?, ?ba/s]"
      ]
     },
     "metadata": {},
     "output_type": "display_data"
    },
    {
     "name": "stdout",
     "output_type": "stream",
     "text": [
      "Processing hi\n",
      "Length of datasets: 621\n",
      "Length of merged dataset: 621\n"
     ]
    },
    {
     "data": {
      "application/vnd.jupyter.widget-view+json": {
       "model_id": "650de27d3ee04409a6ee9a781dfea393",
       "version_major": 2,
       "version_minor": 0
      },
      "text/plain": [
       "Creating json from Arrow format:   0%|          | 0/1 [00:00<?, ?ba/s]"
      ]
     },
     "metadata": {},
     "output_type": "display_data"
    },
    {
     "name": "stdout",
     "output_type": "stream",
     "text": [
      "Processing hr\n",
      "Length of datasets: 1092\n",
      "Length of merged dataset: 1092\n"
     ]
    },
    {
     "data": {
      "application/vnd.jupyter.widget-view+json": {
       "model_id": "3a3a229b97424b359942057bc751e901",
       "version_major": 2,
       "version_minor": 0
      },
      "text/plain": [
       "Creating json from Arrow format:   0%|          | 0/2 [00:00<?, ?ba/s]"
      ]
     },
     "metadata": {},
     "output_type": "display_data"
    },
    {
     "name": "stdout",
     "output_type": "stream",
     "text": [
      "Processing hu\n",
      "Length of datasets: 1412\n",
      "Length of merged dataset: 1412\n"
     ]
    },
    {
     "data": {
      "application/vnd.jupyter.widget-view+json": {
       "model_id": "7ab39967289a4dd5ace25f0591ab37d4",
       "version_major": 2,
       "version_minor": 0
      },
      "text/plain": [
       "Creating json from Arrow format:   0%|          | 0/2 [00:00<?, ?ba/s]"
      ]
     },
     "metadata": {},
     "output_type": "display_data"
    },
    {
     "name": "stdout",
     "output_type": "stream",
     "text": [
      "Processing hy\n",
      "Length of datasets: 1343\n",
      "Length of merged dataset: 1343\n"
     ]
    },
    {
     "data": {
      "application/vnd.jupyter.widget-view+json": {
       "model_id": "5a138b9854124fbd8a640171a07c9cba",
       "version_major": 2,
       "version_minor": 0
      },
      "text/plain": [
       "Creating json from Arrow format:   0%|          | 0/2 [00:00<?, ?ba/s]"
      ]
     },
     "metadata": {},
     "output_type": "display_data"
    },
    {
     "name": "stdout",
     "output_type": "stream",
     "text": [
      "Processing id\n",
      "Length of datasets: 1085\n",
      "Length of merged dataset: 1085\n"
     ]
    },
    {
     "data": {
      "application/vnd.jupyter.widget-view+json": {
       "model_id": "fea8aa88c6f64f0d85be9a60f708d43b",
       "version_major": 2,
       "version_minor": 0
      },
      "text/plain": [
       "Creating json from Arrow format:   0%|          | 0/2 [00:00<?, ?ba/s]"
      ]
     },
     "metadata": {},
     "output_type": "display_data"
    },
    {
     "name": "stdout",
     "output_type": "stream",
     "text": [
      "Processing is\n",
      "Length of datasets: 84\n",
      "Length of merged dataset: 84\n"
     ]
    },
    {
     "data": {
      "application/vnd.jupyter.widget-view+json": {
       "model_id": "8d64be9b38744570a5a7eb7c313e2365",
       "version_major": 2,
       "version_minor": 0
      },
      "text/plain": [
       "Creating json from Arrow format:   0%|          | 0/1 [00:00<?, ?ba/s]"
      ]
     },
     "metadata": {},
     "output_type": "display_data"
    },
    {
     "name": "stdout",
     "output_type": "stream",
     "text": [
      "Processing it\n",
      "Length of datasets: 1673\n",
      "Length of merged dataset: 1673\n"
     ]
    },
    {
     "data": {
      "application/vnd.jupyter.widget-view+json": {
       "model_id": "0c2cafd86fab4f94ba22d233fb3bf7a9",
       "version_major": 2,
       "version_minor": 0
      },
      "text/plain": [
       "Creating json from Arrow format:   0%|          | 0/2 [00:00<?, ?ba/s]"
      ]
     },
     "metadata": {},
     "output_type": "display_data"
    },
    {
     "name": "stdout",
     "output_type": "stream",
     "text": [
      "Processing ja\n",
      "Length of datasets: 1090\n",
      "Length of merged dataset: 1090\n"
     ]
    },
    {
     "data": {
      "application/vnd.jupyter.widget-view+json": {
       "model_id": "ece86c5b500c41448cf13d6caad91c9d",
       "version_major": 2,
       "version_minor": 0
      },
      "text/plain": [
       "Creating json from Arrow format:   0%|          | 0/2 [00:00<?, ?ba/s]"
      ]
     },
     "metadata": {},
     "output_type": "display_data"
    },
    {
     "name": "stdout",
     "output_type": "stream",
     "text": [
      "Processing ka\n",
      "Length of datasets: 1364\n",
      "Length of merged dataset: 1364\n"
     ]
    },
    {
     "data": {
      "application/vnd.jupyter.widget-view+json": {
       "model_id": "05a5ba5dcc8b405ab317a26eec963b62",
       "version_major": 2,
       "version_minor": 0
      },
      "text/plain": [
       "Creating json from Arrow format:   0%|          | 0/2 [00:00<?, ?ba/s]"
      ]
     },
     "metadata": {},
     "output_type": "display_data"
    },
    {
     "name": "stdout",
     "output_type": "stream",
     "text": [
      "Processing kk\n",
      "Length of datasets: 1876\n",
      "Length of merged dataset: 1876\n"
     ]
    },
    {
     "data": {
      "application/vnd.jupyter.widget-view+json": {
       "model_id": "5d0ffba9a0ca43a4a547599eb5e58897",
       "version_major": 2,
       "version_minor": 0
      },
      "text/plain": [
       "Creating json from Arrow format:   0%|          | 0/2 [00:00<?, ?ba/s]"
      ]
     },
     "metadata": {},
     "output_type": "display_data"
    },
    {
     "name": "stdout",
     "output_type": "stream",
     "text": [
      "Processing km\n",
      "Length of datasets: 1508\n",
      "Length of merged dataset: 1508\n"
     ]
    },
    {
     "data": {
      "application/vnd.jupyter.widget-view+json": {
       "model_id": "cc5d2815941a4624b5f355fe93ee4171",
       "version_major": 2,
       "version_minor": 0
      },
      "text/plain": [
       "Creating json from Arrow format:   0%|          | 0/2 [00:00<?, ?ba/s]"
      ]
     },
     "metadata": {},
     "output_type": "display_data"
    },
    {
     "name": "stdout",
     "output_type": "stream",
     "text": [
      "Processing kn\n",
      "Length of datasets: 1476\n",
      "Length of merged dataset: 1476\n"
     ]
    },
    {
     "data": {
      "application/vnd.jupyter.widget-view+json": {
       "model_id": "2960302d17e7462d8f4d1545cf65a093",
       "version_major": 2,
       "version_minor": 0
      },
      "text/plain": [
       "Creating json from Arrow format:   0%|          | 0/2 [00:00<?, ?ba/s]"
      ]
     },
     "metadata": {},
     "output_type": "display_data"
    },
    {
     "name": "stdout",
     "output_type": "stream",
     "text": [
      "Processing ko\n",
      "Length of datasets: 621\n",
      "Length of merged dataset: 621\n"
     ]
    },
    {
     "data": {
      "application/vnd.jupyter.widget-view+json": {
       "model_id": "efe685e7d7ab4b5ca620fa2fbf880dc6",
       "version_major": 2,
       "version_minor": 0
      },
      "text/plain": [
       "Creating json from Arrow format:   0%|          | 0/1 [00:00<?, ?ba/s]"
      ]
     },
     "metadata": {},
     "output_type": "display_data"
    },
    {
     "name": "stdout",
     "output_type": "stream",
     "text": [
      "Processing lb\n",
      "Length of datasets: 1185\n",
      "Length of merged dataset: 1185\n"
     ]
    },
    {
     "data": {
      "application/vnd.jupyter.widget-view+json": {
       "model_id": "e4aad2c203644abbb0c1bf365b42ad91",
       "version_major": 2,
       "version_minor": 0
      },
      "text/plain": [
       "Creating json from Arrow format:   0%|          | 0/2 [00:00<?, ?ba/s]"
      ]
     },
     "metadata": {},
     "output_type": "display_data"
    },
    {
     "name": "stdout",
     "output_type": "stream",
     "text": [
      "Processing ln\n",
      "Length of datasets: 1316\n",
      "Length of merged dataset: 1316\n"
     ]
    },
    {
     "data": {
      "application/vnd.jupyter.widget-view+json": {
       "model_id": "8542c850b46d49e2b37f7e8ae4015155",
       "version_major": 2,
       "version_minor": 0
      },
      "text/plain": [
       "Creating json from Arrow format:   0%|          | 0/2 [00:00<?, ?ba/s]"
      ]
     },
     "metadata": {},
     "output_type": "display_data"
    },
    {
     "name": "stdout",
     "output_type": "stream",
     "text": [
      "Processing lo\n",
      "Length of datasets: 643\n",
      "Length of merged dataset: 643\n"
     ]
    },
    {
     "data": {
      "application/vnd.jupyter.widget-view+json": {
       "model_id": "a3a0120c7a2b4f2c93f93148ce7dd87a",
       "version_major": 2,
       "version_minor": 0
      },
      "text/plain": [
       "Creating json from Arrow format:   0%|          | 0/1 [00:00<?, ?ba/s]"
      ]
     },
     "metadata": {},
     "output_type": "display_data"
    },
    {
     "name": "stdout",
     "output_type": "stream",
     "text": [
      "Processing lt\n",
      "Length of datasets: 1297\n",
      "Length of merged dataset: 1297\n"
     ]
    },
    {
     "data": {
      "application/vnd.jupyter.widget-view+json": {
       "model_id": "a3ad863093714682b1443f531767abbf",
       "version_major": 2,
       "version_minor": 0
      },
      "text/plain": [
       "Creating json from Arrow format:   0%|          | 0/2 [00:00<?, ?ba/s]"
      ]
     },
     "metadata": {},
     "output_type": "display_data"
    },
    {
     "name": "stdout",
     "output_type": "stream",
     "text": [
      "Processing lv\n",
      "Length of datasets: 1285\n",
      "Length of merged dataset: 1285\n"
     ]
    },
    {
     "data": {
      "application/vnd.jupyter.widget-view+json": {
       "model_id": "d9c61056dc8a42078e76bfad48fd6c32",
       "version_major": 2,
       "version_minor": 0
      },
      "text/plain": [
       "Creating json from Arrow format:   0%|          | 0/2 [00:00<?, ?ba/s]"
      ]
     },
     "metadata": {},
     "output_type": "display_data"
    },
    {
     "name": "stdout",
     "output_type": "stream",
     "text": [
      "Processing mi\n",
      "Length of datasets: 2991\n",
      "Length of merged dataset: 2991\n"
     ]
    },
    {
     "data": {
      "application/vnd.jupyter.widget-view+json": {
       "model_id": "4a738e2c09cd47be82abede329e9a995",
       "version_major": 2,
       "version_minor": 0
      },
      "text/plain": [
       "Creating json from Arrow format:   0%|          | 0/3 [00:00<?, ?ba/s]"
      ]
     },
     "metadata": {},
     "output_type": "display_data"
    },
    {
     "name": "stdout",
     "output_type": "stream",
     "text": [
      "Processing mk\n",
      "Length of datasets: 1460\n",
      "Length of merged dataset: 1460\n"
     ]
    },
    {
     "data": {
      "application/vnd.jupyter.widget-view+json": {
       "model_id": "ab3dd4d343094a6ca30377185fdd494e",
       "version_major": 2,
       "version_minor": 0
      },
      "text/plain": [
       "Creating json from Arrow format:   0%|          | 0/2 [00:00<?, ?ba/s]"
      ]
     },
     "metadata": {},
     "output_type": "display_data"
    },
    {
     "name": "stdout",
     "output_type": "stream",
     "text": [
      "Processing ml\n",
      "Length of datasets: 1870\n",
      "Length of merged dataset: 1870\n"
     ]
    },
    {
     "data": {
      "application/vnd.jupyter.widget-view+json": {
       "model_id": "f19d06f1d89647cc84a47683eb333d76",
       "version_major": 2,
       "version_minor": 0
      },
      "text/plain": [
       "Creating json from Arrow format:   0%|          | 0/2 [00:00<?, ?ba/s]"
      ]
     },
     "metadata": {},
     "output_type": "display_data"
    },
    {
     "name": "stdout",
     "output_type": "stream",
     "text": [
      "Processing mn\n",
      "Length of datasets: 1256\n",
      "Length of merged dataset: 1256\n"
     ]
    },
    {
     "data": {
      "application/vnd.jupyter.widget-view+json": {
       "model_id": "985f357b1a0e4dcabe8ea94893a10b6e",
       "version_major": 2,
       "version_minor": 0
      },
      "text/plain": [
       "Creating json from Arrow format:   0%|          | 0/2 [00:00<?, ?ba/s]"
      ]
     },
     "metadata": {},
     "output_type": "display_data"
    },
    {
     "name": "stdout",
     "output_type": "stream",
     "text": [
      "Processing mr\n",
      "Length of datasets: 1805\n",
      "Length of merged dataset: 1805\n"
     ]
    },
    {
     "data": {
      "application/vnd.jupyter.widget-view+json": {
       "model_id": "7e05c017484e49be903f9a8cd31384d0",
       "version_major": 2,
       "version_minor": 0
      },
      "text/plain": [
       "Creating json from Arrow format:   0%|          | 0/2 [00:00<?, ?ba/s]"
      ]
     },
     "metadata": {},
     "output_type": "display_data"
    },
    {
     "name": "stdout",
     "output_type": "stream",
     "text": [
      "Processing ms\n",
      "Length of datasets: 991\n",
      "Length of merged dataset: 991\n"
     ]
    },
    {
     "data": {
      "application/vnd.jupyter.widget-view+json": {
       "model_id": "c2dcc49e130f43ef8cae233c16a5117e",
       "version_major": 2,
       "version_minor": 0
      },
      "text/plain": [
       "Creating json from Arrow format:   0%|          | 0/1 [00:00<?, ?ba/s]"
      ]
     },
     "metadata": {},
     "output_type": "display_data"
    },
    {
     "name": "stdout",
     "output_type": "stream",
     "text": [
      "Processing mt\n",
      "Length of datasets: 1666\n",
      "Length of merged dataset: 1666\n"
     ]
    },
    {
     "data": {
      "application/vnd.jupyter.widget-view+json": {
       "model_id": "df21baac574e4b9c8431e838ca37152f",
       "version_major": 2,
       "version_minor": 0
      },
      "text/plain": [
       "Creating json from Arrow format:   0%|          | 0/2 [00:00<?, ?ba/s]"
      ]
     },
     "metadata": {},
     "output_type": "display_data"
    },
    {
     "name": "stdout",
     "output_type": "stream",
     "text": [
      "Processing my\n",
      "Length of datasets: 1867\n",
      "Length of merged dataset: 1867\n"
     ]
    },
    {
     "data": {
      "application/vnd.jupyter.widget-view+json": {
       "model_id": "59a383af6c894670850fbc377bd1b826",
       "version_major": 2,
       "version_minor": 0
      },
      "text/plain": [
       "Creating json from Arrow format:   0%|          | 0/2 [00:00<?, ?ba/s]"
      ]
     },
     "metadata": {},
     "output_type": "display_data"
    },
    {
     "name": "stdout",
     "output_type": "stream",
     "text": [
      "Processing ne\n",
      "Length of datasets: 1008\n",
      "Length of merged dataset: 1008\n"
     ]
    },
    {
     "data": {
      "application/vnd.jupyter.widget-view+json": {
       "model_id": "b2b5c4a804844878b127f21890fc3c00",
       "version_major": 2,
       "version_minor": 0
      },
      "text/plain": [
       "Creating json from Arrow format:   0%|          | 0/2 [00:00<?, ?ba/s]"
      ]
     },
     "metadata": {},
     "output_type": "display_data"
    },
    {
     "name": "stdout",
     "output_type": "stream",
     "text": [
      "Processing nl\n",
      "Length of datasets: 398\n",
      "Length of merged dataset: 398\n"
     ]
    },
    {
     "data": {
      "application/vnd.jupyter.widget-view+json": {
       "model_id": "97555872d9f7419c97a686fcb29d1eef",
       "version_major": 2,
       "version_minor": 0
      },
      "text/plain": [
       "Creating json from Arrow format:   0%|          | 0/1 [00:00<?, ?ba/s]"
      ]
     },
     "metadata": {},
     "output_type": "display_data"
    },
    {
     "name": "stdout",
     "output_type": "stream",
     "text": [
      "Processing oc\n",
      "Length of datasets: 2210\n",
      "Length of merged dataset: 2210\n"
     ]
    },
    {
     "data": {
      "application/vnd.jupyter.widget-view+json": {
       "model_id": "bce819f2e6a446508a54e862d122a235",
       "version_major": 2,
       "version_minor": 0
      },
      "text/plain": [
       "Creating json from Arrow format:   0%|          | 0/3 [00:00<?, ?ba/s]"
      ]
     },
     "metadata": {},
     "output_type": "display_data"
    },
    {
     "name": "stdout",
     "output_type": "stream",
     "text": [
      "Processing pa\n",
      "Length of datasets: 824\n",
      "Length of merged dataset: 824\n"
     ]
    },
    {
     "data": {
      "application/vnd.jupyter.widget-view+json": {
       "model_id": "4a2f849bbf65452681bc29763a1e6b50",
       "version_major": 2,
       "version_minor": 0
      },
      "text/plain": [
       "Creating json from Arrow format:   0%|          | 0/1 [00:00<?, ?ba/s]"
      ]
     },
     "metadata": {},
     "output_type": "display_data"
    },
    {
     "name": "stdout",
     "output_type": "stream",
     "text": [
      "Processing pl\n",
      "Length of datasets: 865\n",
      "Length of merged dataset: 865\n"
     ]
    },
    {
     "data": {
      "application/vnd.jupyter.widget-view+json": {
       "model_id": "1a98966e060547b8be487adb57f932ef",
       "version_major": 2,
       "version_minor": 0
      },
      "text/plain": [
       "Creating json from Arrow format:   0%|          | 0/1 [00:00<?, ?ba/s]"
      ]
     },
     "metadata": {},
     "output_type": "display_data"
    },
    {
     "name": "stdout",
     "output_type": "stream",
     "text": [
      "Processing ps\n",
      "Length of datasets: 813\n",
      "Length of merged dataset: 813\n"
     ]
    },
    {
     "data": {
      "application/vnd.jupyter.widget-view+json": {
       "model_id": "ad6e779d1d9249aba8377591371b5258",
       "version_major": 2,
       "version_minor": 0
      },
      "text/plain": [
       "Creating json from Arrow format:   0%|          | 0/1 [00:00<?, ?ba/s]"
      ]
     },
     "metadata": {},
     "output_type": "display_data"
    },
    {
     "name": "stdout",
     "output_type": "stream",
     "text": [
      "Processing pt\n",
      "Length of datasets: 1476\n",
      "Length of merged dataset: 1476\n"
     ]
    },
    {
     "data": {
      "application/vnd.jupyter.widget-view+json": {
       "model_id": "dcd1d1d223674bcfa940736d466e2b05",
       "version_major": 2,
       "version_minor": 0
      },
      "text/plain": [
       "Creating json from Arrow format:   0%|          | 0/2 [00:00<?, ?ba/s]"
      ]
     },
     "metadata": {},
     "output_type": "display_data"
    },
    {
     "name": "stdout",
     "output_type": "stream",
     "text": [
      "Processing ro\n",
      "Length of datasets: 1087\n",
      "Length of merged dataset: 1087\n"
     ]
    },
    {
     "data": {
      "application/vnd.jupyter.widget-view+json": {
       "model_id": "a964b65b027340be8770cba03a4ea11e",
       "version_major": 2,
       "version_minor": 0
      },
      "text/plain": [
       "Creating json from Arrow format:   0%|          | 0/2 [00:00<?, ?ba/s]"
      ]
     },
     "metadata": {},
     "output_type": "display_data"
    },
    {
     "name": "stdout",
     "output_type": "stream",
     "text": [
      "Processing ru\n",
      "Length of datasets: 1125\n",
      "Length of merged dataset: 1125\n"
     ]
    },
    {
     "data": {
      "application/vnd.jupyter.widget-view+json": {
       "model_id": "b185738b1d8b42de902dfe77681cd6d0",
       "version_major": 2,
       "version_minor": 0
      },
      "text/plain": [
       "Creating json from Arrow format:   0%|          | 0/2 [00:00<?, ?ba/s]"
      ]
     },
     "metadata": {},
     "output_type": "display_data"
    },
    {
     "name": "stdout",
     "output_type": "stream",
     "text": [
      "Processing sd\n",
      "Length of datasets: 1486\n",
      "Length of merged dataset: 1486\n"
     ]
    },
    {
     "data": {
      "application/vnd.jupyter.widget-view+json": {
       "model_id": "b08128c8ea5b4e2c97df4c8aa719d1fe",
       "version_major": 2,
       "version_minor": 0
      },
      "text/plain": [
       "Creating json from Arrow format:   0%|          | 0/2 [00:00<?, ?ba/s]"
      ]
     },
     "metadata": {},
     "output_type": "display_data"
    },
    {
     "name": "stdout",
     "output_type": "stream",
     "text": [
      "Processing sk\n",
      "Length of datasets: 1184\n",
      "Length of merged dataset: 1184\n"
     ]
    },
    {
     "data": {
      "application/vnd.jupyter.widget-view+json": {
       "model_id": "34db79d1dff844b9b57a4db8e07f4510",
       "version_major": 2,
       "version_minor": 0
      },
      "text/plain": [
       "Creating json from Arrow format:   0%|          | 0/2 [00:00<?, ?ba/s]"
      ]
     },
     "metadata": {},
     "output_type": "display_data"
    },
    {
     "name": "stdout",
     "output_type": "stream",
     "text": [
      "Processing sl\n",
      "Length of datasets: 973\n",
      "Length of merged dataset: 973\n"
     ]
    },
    {
     "data": {
      "application/vnd.jupyter.widget-view+json": {
       "model_id": "9b8c4c08d8ff464da58ea88a845a54d6",
       "version_major": 2,
       "version_minor": 0
      },
      "text/plain": [
       "Creating json from Arrow format:   0%|          | 0/1 [00:00<?, ?ba/s]"
      ]
     },
     "metadata": {},
     "output_type": "display_data"
    },
    {
     "name": "stdout",
     "output_type": "stream",
     "text": [
      "Processing sn\n",
      "Length of datasets: 1821\n",
      "Length of merged dataset: 1821\n"
     ]
    },
    {
     "data": {
      "application/vnd.jupyter.widget-view+json": {
       "model_id": "3d56376e31ae408a877806d6f7eb9c7b",
       "version_major": 2,
       "version_minor": 0
      },
      "text/plain": [
       "Creating json from Arrow format:   0%|          | 0/2 [00:00<?, ?ba/s]"
      ]
     },
     "metadata": {},
     "output_type": "display_data"
    },
    {
     "name": "stdout",
     "output_type": "stream",
     "text": [
      "Processing so\n",
      "Length of datasets: 1857\n",
      "Length of merged dataset: 1857\n"
     ]
    },
    {
     "data": {
      "application/vnd.jupyter.widget-view+json": {
       "model_id": "93331c4dd3dc4f698faf2d3ca3314d86",
       "version_major": 2,
       "version_minor": 0
      },
      "text/plain": [
       "Creating json from Arrow format:   0%|          | 0/2 [00:00<?, ?ba/s]"
      ]
     },
     "metadata": {},
     "output_type": "display_data"
    },
    {
     "name": "stdout",
     "output_type": "stream",
     "text": [
      "Processing sr\n",
      "Length of datasets: 925\n",
      "Length of merged dataset: 925\n"
     ]
    },
    {
     "data": {
      "application/vnd.jupyter.widget-view+json": {
       "model_id": "030da452d0374a888ad0e43a1b82fdc2",
       "version_major": 2,
       "version_minor": 0
      },
      "text/plain": [
       "Creating json from Arrow format:   0%|          | 0/1 [00:00<?, ?ba/s]"
      ]
     },
     "metadata": {},
     "output_type": "display_data"
    },
    {
     "name": "stdout",
     "output_type": "stream",
     "text": [
      "Processing sv\n",
      "Length of datasets: 1023\n",
      "Length of merged dataset: 1023\n"
     ]
    },
    {
     "data": {
      "application/vnd.jupyter.widget-view+json": {
       "model_id": "78649c3677894a068cb6721bb59d8ada",
       "version_major": 2,
       "version_minor": 0
      },
      "text/plain": [
       "Creating json from Arrow format:   0%|          | 0/2 [00:00<?, ?ba/s]"
      ]
     },
     "metadata": {},
     "output_type": "display_data"
    },
    {
     "name": "stdout",
     "output_type": "stream",
     "text": [
      "Processing sw\n",
      "Length of datasets: 913\n",
      "Length of merged dataset: 913\n"
     ]
    },
    {
     "data": {
      "application/vnd.jupyter.widget-view+json": {
       "model_id": "0a80c550495149f397de3db76ea3d93f",
       "version_major": 2,
       "version_minor": 0
      },
      "text/plain": [
       "Creating json from Arrow format:   0%|          | 0/1 [00:00<?, ?ba/s]"
      ]
     },
     "metadata": {},
     "output_type": "display_data"
    },
    {
     "name": "stdout",
     "output_type": "stream",
     "text": [
      "Processing ta\n",
      "Length of datasets: 987\n",
      "Length of merged dataset: 987\n"
     ]
    },
    {
     "data": {
      "application/vnd.jupyter.widget-view+json": {
       "model_id": "3700a57a009a4058b71f398c93db5c19",
       "version_major": 2,
       "version_minor": 0
      },
      "text/plain": [
       "Creating json from Arrow format:   0%|          | 0/1 [00:00<?, ?ba/s]"
      ]
     },
     "metadata": {},
     "output_type": "display_data"
    },
    {
     "name": "stdout",
     "output_type": "stream",
     "text": [
      "Processing te\n",
      "Length of datasets: 642\n",
      "Length of merged dataset: 642\n"
     ]
    },
    {
     "data": {
      "application/vnd.jupyter.widget-view+json": {
       "model_id": "a9bf183df0e049b6b62efca9fe087e0b",
       "version_major": 2,
       "version_minor": 0
      },
      "text/plain": [
       "Creating json from Arrow format:   0%|          | 0/1 [00:00<?, ?ba/s]"
      ]
     },
     "metadata": {},
     "output_type": "display_data"
    },
    {
     "name": "stdout",
     "output_type": "stream",
     "text": [
      "Processing tg\n",
      "Length of datasets: 1154\n",
      "Length of merged dataset: 1154\n"
     ]
    },
    {
     "data": {
      "application/vnd.jupyter.widget-view+json": {
       "model_id": "5a3fbb5a3db0417cae9c354ab99854ca",
       "version_major": 2,
       "version_minor": 0
      },
      "text/plain": [
       "Creating json from Arrow format:   0%|          | 0/2 [00:00<?, ?ba/s]"
      ]
     },
     "metadata": {},
     "output_type": "display_data"
    },
    {
     "name": "stdout",
     "output_type": "stream",
     "text": [
      "Processing th\n",
      "Length of datasets: 1533\n",
      "Length of merged dataset: 1533\n"
     ]
    },
    {
     "data": {
      "application/vnd.jupyter.widget-view+json": {
       "model_id": "b2bda88a06b14454afe416210ca9a829",
       "version_major": 2,
       "version_minor": 0
      },
      "text/plain": [
       "Creating json from Arrow format:   0%|          | 0/2 [00:00<?, ?ba/s]"
      ]
     },
     "metadata": {},
     "output_type": "display_data"
    },
    {
     "name": "stdout",
     "output_type": "stream",
     "text": [
      "Processing tr\n",
      "Length of datasets: 1196\n",
      "Length of merged dataset: 1196\n"
     ]
    },
    {
     "data": {
      "application/vnd.jupyter.widget-view+json": {
       "model_id": "2cf020ddcec546f6b23498ba91849470",
       "version_major": 2,
       "version_minor": 0
      },
      "text/plain": [
       "Creating json from Arrow format:   0%|          | 0/2 [00:00<?, ?ba/s]"
      ]
     },
     "metadata": {},
     "output_type": "display_data"
    },
    {
     "name": "stdout",
     "output_type": "stream",
     "text": [
      "Processing uk\n",
      "Length of datasets: 994\n",
      "Length of merged dataset: 994\n"
     ]
    },
    {
     "data": {
      "application/vnd.jupyter.widget-view+json": {
       "model_id": "b0c3800012df4c098840762594552142",
       "version_major": 2,
       "version_minor": 0
      },
      "text/plain": [
       "Creating json from Arrow format:   0%|          | 0/1 [00:00<?, ?ba/s]"
      ]
     },
     "metadata": {},
     "output_type": "display_data"
    },
    {
     "name": "stdout",
     "output_type": "stream",
     "text": [
      "Processing ur\n",
      "Length of datasets: 349\n",
      "Length of merged dataset: 349\n"
     ]
    },
    {
     "data": {
      "application/vnd.jupyter.widget-view+json": {
       "model_id": "9dcb45ca9fc0489d856e466bf7c92bda",
       "version_major": 2,
       "version_minor": 0
      },
      "text/plain": [
       "Creating json from Arrow format:   0%|          | 0/1 [00:00<?, ?ba/s]"
      ]
     },
     "metadata": {},
     "output_type": "display_data"
    },
    {
     "name": "stdout",
     "output_type": "stream",
     "text": [
      "Processing uz\n",
      "Length of datasets: 1296\n",
      "Length of merged dataset: 1296\n"
     ]
    },
    {
     "data": {
      "application/vnd.jupyter.widget-view+json": {
       "model_id": "9030be3869d54c69b35276f2680a7cea",
       "version_major": 2,
       "version_minor": 0
      },
      "text/plain": [
       "Creating json from Arrow format:   0%|          | 0/2 [00:00<?, ?ba/s]"
      ]
     },
     "metadata": {},
     "output_type": "display_data"
    },
    {
     "name": "stdout",
     "output_type": "stream",
     "text": [
      "Processing vi\n",
      "Length of datasets: 1370\n",
      "Length of merged dataset: 1370\n"
     ]
    },
    {
     "data": {
      "application/vnd.jupyter.widget-view+json": {
       "model_id": "9119875fe08944379506d07e35d2be47",
       "version_major": 2,
       "version_minor": 0
      },
      "text/plain": [
       "Creating json from Arrow format:   0%|          | 0/2 [00:00<?, ?ba/s]"
      ]
     },
     "metadata": {},
     "output_type": "display_data"
    },
    {
     "name": "stdout",
     "output_type": "stream",
     "text": [
      "Processing yo\n",
      "Length of datasets: 1848\n",
      "Length of merged dataset: 1848\n"
     ]
    },
    {
     "data": {
      "application/vnd.jupyter.widget-view+json": {
       "model_id": "6bb2585e3b63485ea00cf77a5463f181",
       "version_major": 2,
       "version_minor": 0
      },
      "text/plain": [
       "Creating json from Arrow format:   0%|          | 0/2 [00:00<?, ?ba/s]"
      ]
     },
     "metadata": {},
     "output_type": "display_data"
    }
   ],
   "source": [
    "# Merging fleurs_test\n",
    "\n",
    "langs = os.listdir(\"/exp/nbafna/projects/mitigating-accent-bias-in-lid/wav2vec2_intermediate_outputs/vl107/wav2vec2-base-layer8-1000/fleurs_test_eval_units\")\n",
    "assert len(langs) == 78\n",
    "\n",
    "for lang in langs:\n",
    "    print(f\"Processing {lang}\")\n",
    "\n",
    "    input_path_et_trans = f\"/exp/nbafna/projects/mitigating-accent-bias-in-lid/reps_and_phoneseqs/fleurs_test/ecapa-tdnn_wav2vec2-xlsr-53-espeak-cv-ft/{lang}_transcriptions.jsonl\"\n",
    "    input_path_ssl_units = f\"/exp/nbafna/projects/mitigating-accent-bias-in-lid/wav2vec2_intermediate_outputs/vl107/wav2vec2-base-layer8-1000/fleurs_test_eval_units/{lang}/kmeans_data.pkl\"\n",
    "    outdir = f\"/exp/nbafna/projects/mitigating-accent-bias-in-lid/reps_phoneseqs_duseqs_exps/vl107/ecapa-tdnn_wav2vec2-xlsr-53-espeak-cv-ft_wav2vec2-base-layer8-kmeans1000/fleurs_test_dataset/\"\n",
    "    outfile = os.path.join(outdir, f\"{lang}_data.jsonl\")\n",
    "    os.makedirs(outdir, exist_ok=True)\n",
    "    # Loading the SSL unit data as an HF dataset\n",
    "    with open(input_path_ssl_units, 'rb') as f:\n",
    "        ssl_units_data = pkl.load(f)\n",
    "\n",
    "    duseq_dataset = datasets.Dataset.from_dict(ssl_units_data)\n",
    "    et_phoneseq_datset = datasets.load_dataset('json', data_files=input_path_et_trans)[\"train\"]\n",
    "\n",
    "    # Check that length is the same\n",
    "    assert len(duseq_dataset) == len(et_phoneseq_datset)\n",
    "    print(f\"Length of datasets: {len(duseq_dataset)}\")\n",
    "\n",
    "    # Create tuples:\n",
    "    duseq_datase_tuples = [{\"audio_file\": x[\"all_audio_files\"], \"sequences\": x[\"sequences\"]} for x in duseq_dataset]\n",
    "    et_phoneseq_datset_tuples = [{k: v for k, v in x.items()} for x in et_phoneseq_datset]\n",
    "\n",
    "\n",
    "    # Sort the datasets by audio file name\n",
    "    duseq_datase_tuples_sorted = sorted(duseq_datase_tuples, key=lambda x: x[\"audio_file\"])\n",
    "    et_phoneseq_datset_tuples_sorted = sorted(et_phoneseq_datset_tuples, key=lambda x: x[\"audio_file\"])\n",
    "\n",
    "    # Merge the two datasets\n",
    "    for i in range(len(duseq_datase_tuples_sorted)):\n",
    "        assert duseq_datase_tuples_sorted[i][\"audio_file\"] == et_phoneseq_datset_tuples_sorted[i][\"audio_file\"]\n",
    "        duseq_datase_tuples_sorted[i].update(et_phoneseq_datset_tuples_sorted[i])\n",
    "\n",
    "    # Create HF dataset\n",
    "    merged_dataset = {}\n",
    "    for k in duseq_datase_tuples_sorted[0].keys():\n",
    "        merged_dataset[k] = [x[k] for x in duseq_datase_tuples_sorted]\n",
    "\n",
    "    merged_dataset = datasets.Dataset.from_dict(merged_dataset)\n",
    "    print(f\"Length of merged dataset: {len(merged_dataset)}\")\n",
    "\n",
    "    # Save the dataset\n",
    "    merged_dataset.to_json(outfile)\n"
   ]
  },
  {
   "cell_type": "code",
   "execution_count": 46,
   "metadata": {},
   "outputs": [
    {
     "name": "stdout",
     "output_type": "stream",
     "text": [
      "Processing en\n",
      "Length of datasets: 13213\n",
      "Length of merged dataset: 13213\n"
     ]
    },
    {
     "data": {
      "application/vnd.jupyter.widget-view+json": {
       "model_id": "4d2be9d5abc1453caf4905ae878916a6",
       "version_major": 2,
       "version_minor": 0
      },
      "text/plain": [
       "Creating json from Arrow format:   0%|          | 0/14 [00:00<?, ?ba/s]"
      ]
     },
     "metadata": {},
     "output_type": "display_data"
    }
   ],
   "source": [
    "# Merging EdAcc dataset\n",
    "\n",
    "langs = os.listdir(\"/exp/nbafna/projects/mitigating-accent-bias-in-lid/wav2vec2_intermediate_outputs/vl107/wav2vec2-base-layer8-1000/eval_units\")\n",
    "assert len(langs) == 1\n",
    "\n",
    "for lang in langs:\n",
    "    print(f\"Processing {lang}\")\n",
    "\n",
    "    input_path_et_trans = f\"/exp/nbafna/projects/mitigating-accent-bias-in-lid/reps_and_phoneseqs/edacc/ecapa-tdnn_wav2vec2-xlsr-53-espeak-cv-ft/{lang}_transcriptions.jsonl\"\n",
    "    input_path_ssl_units = f\"/exp/nbafna/projects/mitigating-accent-bias-in-lid/wav2vec2_intermediate_outputs/vl107/wav2vec2-base-layer8-1000/eval_units/{lang}/kmeans_data.pkl\"\n",
    "    outdir = f\"/exp/nbafna/projects/mitigating-accent-bias-in-lid/reps_phoneseqs_duseqs_exps/vl107/ecapa-tdnn_wav2vec2-xlsr-53-espeak-cv-ft_wav2vec2-base-layer8-kmeans1000/edacc_dataset/\"\n",
    "    outfile = os.path.join(outdir, f\"{lang}_data.jsonl\")\n",
    "    os.makedirs(outdir, exist_ok=True)\n",
    "    # Loading the SSL unit data as an HF dataset\n",
    "    with open(input_path_ssl_units, 'rb') as f:\n",
    "        ssl_units_data = pkl.load(f)\n",
    "\n",
    "    duseq_dataset = datasets.Dataset.from_dict(ssl_units_data)\n",
    "    et_phoneseq_datset = datasets.load_dataset('json', data_files=input_path_et_trans)[\"train\"]\n",
    "\n",
    "    # Check that length is the same\n",
    "    assert len(duseq_dataset) == len(et_phoneseq_datset)\n",
    "    print(f\"Length of datasets: {len(duseq_dataset)}\")\n",
    "\n",
    "    # Create tuples:\n",
    "    duseq_datase_tuples = [{\"audio_file\": x[\"all_audio_files\"], \"sequences\": x[\"sequences\"]} for x in duseq_dataset]\n",
    "    et_phoneseq_datset_tuples = [{k: v for k, v in x.items()} for x in et_phoneseq_datset]\n",
    "\n",
    "\n",
    "    # Sort the datasets by audio file name\n",
    "    duseq_datase_tuples_sorted = sorted(duseq_datase_tuples, key=lambda x: x[\"audio_file\"])\n",
    "    et_phoneseq_datset_tuples_sorted = sorted(et_phoneseq_datset_tuples, key=lambda x: x[\"audio_file\"])\n",
    "\n",
    "    # Merge the two datasets\n",
    "    for i in range(len(duseq_datase_tuples_sorted)):\n",
    "        assert duseq_datase_tuples_sorted[i][\"audio_file\"] == et_phoneseq_datset_tuples_sorted[i][\"audio_file\"]\n",
    "        duseq_datase_tuples_sorted[i].update(et_phoneseq_datset_tuples_sorted[i])\n",
    "\n",
    "    # Create HF dataset\n",
    "    merged_dataset = {}\n",
    "    for k in duseq_datase_tuples_sorted[0].keys():\n",
    "        merged_dataset[k] = [x[k] for x in duseq_datase_tuples_sorted]\n",
    "\n",
    "    merged_dataset = datasets.Dataset.from_dict(merged_dataset)\n",
    "    print(f\"Length of merged dataset: {len(merged_dataset)}\")\n",
    "\n",
    "    # Save the dataset\n",
    "    merged_dataset.to_json(outfile)\n"
   ]
  },
  {
   "cell_type": "code",
   "execution_count": 47,
   "metadata": {},
   "outputs": [
    {
     "name": "stdout",
     "output_type": "stream",
     "text": [
      "Processing en\n",
      "Length of datasets: 12012\n",
      "Length of merged dataset: 12012\n"
     ]
    },
    {
     "data": {
      "application/vnd.jupyter.widget-view+json": {
       "model_id": "549154501ff44393941ca1ca08b2c990",
       "version_major": 2,
       "version_minor": 0
      },
      "text/plain": [
       "Creating json from Arrow format:   0%|          | 0/13 [00:00<?, ?ba/s]"
      ]
     },
     "metadata": {},
     "output_type": "display_data"
    }
   ],
   "source": [
    "# Merging CV dataset\n",
    "\n",
    "langs = os.listdir(\"/exp/nbafna/projects/mitigating-accent-bias-in-lid/wav2vec2_intermediate_outputs/vl107/wav2vec2-base-layer8-1000/cv_eval_units\")\n",
    "assert len(langs) == 1\n",
    "\n",
    "for lang in langs:\n",
    "    print(f\"Processing {lang}\")\n",
    "\n",
    "    input_path_et_trans = f\"/exp/nbafna/projects/mitigating-accent-bias-in-lid/reps_and_phoneseqs/cv/ecapa-tdnn_wav2vec2-xlsr-53-espeak-cv-ft/{lang}_transcriptions.jsonl\"\n",
    "    input_path_ssl_units = f\"/exp/nbafna/projects/mitigating-accent-bias-in-lid/wav2vec2_intermediate_outputs/vl107/wav2vec2-base-layer8-1000/cv_eval_units/{lang}/kmeans_data.pkl\"\n",
    "    outdir = f\"/exp/nbafna/projects/mitigating-accent-bias-in-lid/reps_phoneseqs_duseqs_exps/vl107/ecapa-tdnn_wav2vec2-xlsr-53-espeak-cv-ft_wav2vec2-base-layer8-kmeans1000/cv_dataset/\"\n",
    "    outfile = os.path.join(outdir, f\"{lang}_data.jsonl\")\n",
    "    os.makedirs(outdir, exist_ok=True)\n",
    "    # Loading the SSL unit data as an HF dataset\n",
    "    with open(input_path_ssl_units, 'rb') as f:\n",
    "        ssl_units_data = pkl.load(f)\n",
    "\n",
    "    duseq_dataset = datasets.Dataset.from_dict(ssl_units_data)\n",
    "    et_phoneseq_datset = datasets.load_dataset('json', data_files=input_path_et_trans)[\"train\"]\n",
    "\n",
    "    # Check that length is the same\n",
    "    assert len(duseq_dataset) == len(et_phoneseq_datset)\n",
    "    print(f\"Length of datasets: {len(duseq_dataset)}\")\n",
    "\n",
    "    # Create tuples:\n",
    "    duseq_datase_tuples = [{\"audio_file\": x[\"all_audio_files\"], \"sequences\": x[\"sequences\"]} for x in duseq_dataset]\n",
    "    et_phoneseq_datset_tuples = [{k: v for k, v in x.items()} for x in et_phoneseq_datset]\n",
    "\n",
    "\n",
    "    # Sort the datasets by audio file name\n",
    "    duseq_datase_tuples_sorted = sorted(duseq_datase_tuples, key=lambda x: x[\"audio_file\"])\n",
    "    et_phoneseq_datset_tuples_sorted = sorted(et_phoneseq_datset_tuples, key=lambda x: x[\"audio_file\"])\n",
    "\n",
    "    # Merge the two datasets\n",
    "    for i in range(len(duseq_datase_tuples_sorted)):\n",
    "        assert duseq_datase_tuples_sorted[i][\"audio_file\"] == et_phoneseq_datset_tuples_sorted[i][\"audio_file\"]\n",
    "        duseq_datase_tuples_sorted[i].update(et_phoneseq_datset_tuples_sorted[i])\n",
    "\n",
    "    # Create HF dataset\n",
    "    merged_dataset = {}\n",
    "    for k in duseq_datase_tuples_sorted[0].keys():\n",
    "        merged_dataset[k] = [x[k] for x in duseq_datase_tuples_sorted]\n",
    "\n",
    "    merged_dataset = datasets.Dataset.from_dict(merged_dataset)\n",
    "    print(f\"Length of merged dataset: {len(merged_dataset)}\")\n",
    "\n",
    "    # Save the dataset\n",
    "    merged_dataset.to_json(outfile)\n"
   ]
  },
  {
   "cell_type": "code",
   "execution_count": 26,
   "metadata": {},
   "outputs": [
    {
     "data": {
      "text/plain": [
       "21401"
      ]
     },
     "execution_count": 26,
     "metadata": {},
     "output_type": "execute_result"
    }
   ],
   "source": [
    "len(duseq_dataset)"
   ]
  },
  {
   "cell_type": "code",
   "execution_count": 2,
   "metadata": {},
   "outputs": [
    {
     "name": "stdout",
     "output_type": "stream",
     "text": [
      "Processing es\n",
      "Length of datasets: 2002\n",
      "Length of merged dataset: 2002\n"
     ]
    },
    {
     "data": {
      "application/vnd.jupyter.widget-view+json": {
       "model_id": "01805a00b20f4765a0bafaf2d426c739",
       "version_major": 2,
       "version_minor": 0
      },
      "text/plain": [
       "Creating json from Arrow format:   0%|          | 0/3 [00:00<?, ?ba/s]"
      ]
     },
     "metadata": {},
     "output_type": "display_data"
    },
    {
     "name": "stdout",
     "output_type": "stream",
     "text": [
      "Processing fr\n",
      "Length of datasets: 1796\n",
      "Length of merged dataset: 1796\n"
     ]
    },
    {
     "data": {
      "application/vnd.jupyter.widget-view+json": {
       "model_id": "ad031b372abd4aefb8b32c1b5afb4078",
       "version_major": 2,
       "version_minor": 0
      },
      "text/plain": [
       "Creating json from Arrow format:   0%|          | 0/2 [00:00<?, ?ba/s]"
      ]
     },
     "metadata": {},
     "output_type": "display_data"
    },
    {
     "name": "stdout",
     "output_type": "stream",
     "text": [
      "Processing it\n",
      "Length of datasets: 1521\n",
      "Length of merged dataset: 1521\n"
     ]
    },
    {
     "data": {
      "application/vnd.jupyter.widget-view+json": {
       "model_id": "2e83d3e5b7ba4806b40e325726294847",
       "version_major": 2,
       "version_minor": 0
      },
      "text/plain": [
       "Creating json from Arrow format:   0%|          | 0/2 [00:00<?, ?ba/s]"
      ]
     },
     "metadata": {},
     "output_type": "display_data"
    },
    {
     "name": "stdout",
     "output_type": "stream",
     "text": [
      "Processing de\n",
      "Length of datasets: 2183\n",
      "Length of merged dataset: 2183\n"
     ]
    },
    {
     "data": {
      "application/vnd.jupyter.widget-view+json": {
       "model_id": "fc15d3fa8e3c49edb58aaedaac38572a",
       "version_major": 2,
       "version_minor": 0
      },
      "text/plain": [
       "Creating json from Arrow format:   0%|          | 0/3 [00:00<?, ?ba/s]"
      ]
     },
     "metadata": {},
     "output_type": "display_data"
    }
   ],
   "source": [
    "# Merging cv_from_hf dataset\n",
    "import os\n",
    "import pickle as pkl\n",
    "import datasets\n",
    "\n",
    "\n",
    "langs = [\"es\", \"fr\", \"it\", \"de\"]\n",
    "\n",
    "for lang in langs:\n",
    "    print(f\"Processing {lang}\")\n",
    "\n",
    "    input_path_et_trans = f\"/exp/nbafna/projects/mitigating-accent-bias-in-lid/reps_and_phoneseqs/cv_from_hf/ecapa-tdnn_wav2vec2-xlsr-53-espeak-cv-ft/{lang}_transcriptions.jsonl\"\n",
    "    input_path_ssl_units = f\"/exp/nbafna/projects/mitigating-accent-bias-in-lid/wav2vec2_intermediate_outputs/vl107/wav2vec2-base-layer8-1000/cv_from_hf_eval_units/{lang}/kmeans_data.pkl\"\n",
    "    outdir = f\"/exp/nbafna/projects/mitigating-accent-bias-in-lid/reps_phoneseqs_duseqs_exps/vl107/ecapa-tdnn_wav2vec2-xlsr-53-espeak-cv-ft_wav2vec2-base-layer8-1000/cv_from_hf_dataset/\"\n",
    "    outfile = os.path.join(outdir, f\"{lang}_data.jsonl\")\n",
    "    os.makedirs(outdir, exist_ok=True)\n",
    "    # Loading the SSL unit data as an HF dataset\n",
    "    with open(input_path_ssl_units, 'rb') as f:\n",
    "        ssl_units_data = pkl.load(f)\n",
    "\n",
    "    duseq_dataset = datasets.Dataset.from_dict(ssl_units_data)\n",
    "    et_phoneseq_datset = datasets.load_dataset('json', data_files=input_path_et_trans)[\"train\"]\n",
    "\n",
    "    # Check that length is the same\n",
    "    assert len(duseq_dataset) == len(et_phoneseq_datset)\n",
    "    print(f\"Length of datasets: {len(duseq_dataset)}\")\n",
    "\n",
    "    # Create tuples:\n",
    "    duseq_datase_tuples = [{\"audio_file\": x[\"all_audio_files\"], \"sequences\": x[\"sequences\"]} for x in duseq_dataset]\n",
    "    et_phoneseq_datset_tuples = [{k: v for k, v in x.items()} for x in et_phoneseq_datset]\n",
    "\n",
    "\n",
    "    # Sort the datasets by audio file name\n",
    "    duseq_datase_tuples_sorted = sorted(duseq_datase_tuples, key=lambda x: x[\"audio_file\"])\n",
    "    et_phoneseq_datset_tuples_sorted = sorted(et_phoneseq_datset_tuples, key=lambda x: x[\"audio_file\"])\n",
    "\n",
    "    # Merge the two datasets\n",
    "    for i in range(len(duseq_datase_tuples_sorted)):\n",
    "        assert duseq_datase_tuples_sorted[i][\"audio_file\"] == et_phoneseq_datset_tuples_sorted[i][\"audio_file\"]\n",
    "        duseq_datase_tuples_sorted[i].update(et_phoneseq_datset_tuples_sorted[i])\n",
    "\n",
    "    # Create HF dataset\n",
    "    merged_dataset = {}\n",
    "    for k in duseq_datase_tuples_sorted[0].keys():\n",
    "        merged_dataset[k] = [x[k] for x in duseq_datase_tuples_sorted]\n",
    "\n",
    "    merged_dataset = datasets.Dataset.from_dict(merged_dataset)\n",
    "    print(f\"Length of merged dataset: {len(merged_dataset)}\")\n",
    "\n",
    "    # Save the dataset\n",
    "    merged_dataset.to_json(outfile)\n",
    "\n",
    "\n"
   ]
  },
  {
   "cell_type": "code",
   "execution_count": 19,
   "metadata": {},
   "outputs": [
    {
     "data": {
      "text/plain": [
       "21401"
      ]
     },
     "execution_count": 19,
     "metadata": {},
     "output_type": "execute_result"
    }
   ],
   "source": [
    "len(et_phoneseq_datset)"
   ]
  },
  {
   "cell_type": "code",
   "execution_count": 27,
   "metadata": {},
   "outputs": [],
   "source": [
    "duseq_datase_tuples = [{\"audio_file\": x[\"all_audio_files\"], \"sequences\": x[\"sequences\"]} for x in duseq_dataset]\n",
    "\n",
    "et_phoneseq_datset_tuples = [{k: v for k, v in x.items()} for x in et_phoneseq_datset]"
   ]
  },
  {
   "cell_type": "code",
   "execution_count": 32,
   "metadata": {},
   "outputs": [],
   "source": [
    "# Sort the datasets by audio file name\n",
    "duseq_datase_tuples_sorted = sorted(duseq_datase_tuples, key=lambda x: x[\"audio_file\"])\n",
    "et_phoneseq_datset_tuples_sorted = sorted(et_phoneseq_datset_tuples, key=lambda x: x[\"audio_file\"])\n"
   ]
  },
  {
   "cell_type": "code",
   "execution_count": 35,
   "metadata": {},
   "outputs": [],
   "source": [
    "# Merge the two datasets\n",
    "for i in range(len(duseq_datase_tuples_sorted)):\n",
    "    assert duseq_datase_tuples_sorted[i][\"audio_file\"] == et_phoneseq_datset_tuples_sorted[i][\"audio_file\"]\n",
    "    duseq_datase_tuples_sorted[i].update(et_phoneseq_datset_tuples_sorted[i])"
   ]
  },
  {
   "cell_type": "code",
   "execution_count": 37,
   "metadata": {},
   "outputs": [
    {
     "data": {
      "text/plain": [
       "dict_keys(['audio_file', 'sequences', 'lang', 'accent', 'reps', 'phone_sequence'])"
      ]
     },
     "execution_count": 37,
     "metadata": {},
     "output_type": "execute_result"
    }
   ],
   "source": [
    "duseq_datase_tuples_sorted[0].keys()"
   ]
  },
  {
   "cell_type": "code",
   "execution_count": 40,
   "metadata": {},
   "outputs": [],
   "source": [
    "# Create HF dataset\n",
    "merged_dataset = {}\n",
    "for k in duseq_datase_tuples_sorted[0].keys():\n",
    "    merged_dataset[k] = [x[k] for x in duseq_datase_tuples_sorted]\n",
    "\n",
    "merged_dataset = datasets.Dataset.from_dict(merged_dataset)"
   ]
  },
  {
   "cell_type": "code",
   "execution_count": 41,
   "metadata": {},
   "outputs": [
    {
     "data": {
      "text/plain": [
       "{'audio_file': '/exp/jvillalba/corpora/voxlingua107/en/-BwrRlUdfEs__U__S0---0003.940-0020.570.wav',\n",
       " 'sequences': [543,\n",
       "  184,\n",
       "  834,\n",
       "  278,\n",
       "  646,\n",
       "  164,\n",
       "  3,\n",
       "  191,\n",
       "  333,\n",
       "  224,\n",
       "  663,\n",
       "  443,\n",
       "  707,\n",
       "  994,\n",
       "  134,\n",
       "  166,\n",
       "  857,\n",
       "  703,\n",
       "  113,\n",
       "  543,\n",
       "  158,\n",
       "  855,\n",
       "  42,\n",
       "  498,\n",
       "  198,\n",
       "  798,\n",
       "  754,\n",
       "  316,\n",
       "  687,\n",
       "  816,\n",
       "  675,\n",
       "  913,\n",
       "  221,\n",
       "  703,\n",
       "  563,\n",
       "  152,\n",
       "  175,\n",
       "  857,\n",
       "  478,\n",
       "  828,\n",
       "  828,\n",
       "  603,\n",
       "  599,\n",
       "  235,\n",
       "  40,\n",
       "  725,\n",
       "  284,\n",
       "  756,\n",
       "  244,\n",
       "  990,\n",
       "  883,\n",
       "  121,\n",
       "  55,\n",
       "  399,\n",
       "  300,\n",
       "  552,\n",
       "  401,\n",
       "  353,\n",
       "  391],\n",
       " 'lang': 'en',\n",
       " 'accent': '-',\n",
       " 'reps': [14.436662674,\n",
       "  33.307849884,\n",
       "  -8.6984453201,\n",
       "  29.9989471436,\n",
       "  13.7374649048,\n",
       "  43.9486465454,\n",
       "  47.6941871643,\n",
       "  23.8075466156,\n",
       "  28.8990192413,\n",
       "  -12.1511459351,\n",
       "  0.1968344599,\n",
       "  31.1025733948,\n",
       "  39.9544067383,\n",
       "  45.9391555786,\n",
       "  -24.8860301971,\n",
       "  48.2760543823,\n",
       "  3.2955844402,\n",
       "  11.74929142,\n",
       "  -27.6994476318,\n",
       "  -9.8814573288,\n",
       "  0.2955344319,\n",
       "  14.5435390472,\n",
       "  26.2771892548,\n",
       "  46.0649490356,\n",
       "  34.5133132935,\n",
       "  -25.7256126404,\n",
       "  15.5017433167,\n",
       "  21.3015060425,\n",
       "  33.9280776978,\n",
       "  26.311132431,\n",
       "  -22.9853305817,\n",
       "  25.8656291962,\n",
       "  -5.3168110847,\n",
       "  15.546541214,\n",
       "  4.0820841789,\n",
       "  13.1900892258,\n",
       "  18.0907459259,\n",
       "  45.0258674622,\n",
       "  14.2424278259,\n",
       "  7.2870101929,\n",
       "  17.4730434418,\n",
       "  22.1617450714,\n",
       "  30.3129291534,\n",
       "  42.6952285767,\n",
       "  32.0517730713,\n",
       "  39.1801528931,\n",
       "  -23.9639110565,\n",
       "  32.4026794434,\n",
       "  50.8263893127,\n",
       "  28.9262676239,\n",
       "  30.6062698364,\n",
       "  38.4693260193,\n",
       "  21.7674217224,\n",
       "  12.9738674164,\n",
       "  13.8148088455,\n",
       "  14.7814044952,\n",
       "  -41.9491462708,\n",
       "  35.2408981323,\n",
       "  -38.101108551,\n",
       "  13.440290451,\n",
       "  8.2185373306,\n",
       "  -10.4846115112,\n",
       "  -12.9169464111,\n",
       "  26.3609771729,\n",
       "  13.1317777634,\n",
       "  25.722442627,\n",
       "  5.8955416679,\n",
       "  21.8137798309,\n",
       "  6.8963527679,\n",
       "  -2.5789134502,\n",
       "  39.5470581055,\n",
       "  16.9546947479,\n",
       "  21.1620178223,\n",
       "  42.7359161377,\n",
       "  -10.7453765869,\n",
       "  40.5785255432,\n",
       "  35.7103462219,\n",
       "  -18.727596283,\n",
       "  40.2697792053,\n",
       "  -34.5416564941,\n",
       "  36.257900238,\n",
       "  9.3417205811,\n",
       "  -11.6704730988,\n",
       "  38.4693717957,\n",
       "  31.7749996185,\n",
       "  25.9231452942,\n",
       "  9.5232248306,\n",
       "  -1.1136969328,\n",
       "  19.1059246063,\n",
       "  -17.6813163757,\n",
       "  19.651008606,\n",
       "  28.1196537018,\n",
       "  39.9212684631,\n",
       "  33.048625946,\n",
       "  12.0933494568,\n",
       "  53.0687599182,\n",
       "  15.0085401535,\n",
       "  33.4509010315,\n",
       "  26.6568508148,\n",
       "  22.3885116577,\n",
       "  -10.6594400406,\n",
       "  73.5043563843,\n",
       "  10.0750646591,\n",
       "  29.1922740936,\n",
       "  37.8963661194,\n",
       "  36.9188995361,\n",
       "  34.9689941406,\n",
       "  -1.5796468258,\n",
       "  15.7461080551,\n",
       "  -13.8549022675,\n",
       "  20.3774032593,\n",
       "  -6.7139263153,\n",
       "  38.4306793213,\n",
       "  20.4598636627,\n",
       "  10.5042476654,\n",
       "  34.9840545654,\n",
       "  -16.6269683838,\n",
       "  34.8542823792,\n",
       "  38.7131347656,\n",
       "  -2.9235732555,\n",
       "  13.4726467133,\n",
       "  8.8222837448,\n",
       "  33.3321533203,\n",
       "  56.4416313171,\n",
       "  -42.4301872253,\n",
       "  1.3943170309,\n",
       "  17.3338241577,\n",
       "  10.8013191223,\n",
       "  -18.7429199219,\n",
       "  23.4898433685,\n",
       "  25.4173774719,\n",
       "  -18.1927566528,\n",
       "  28.2479381561,\n",
       "  7.1008381844,\n",
       "  -18.8467922211,\n",
       "  -5.5932593346,\n",
       "  10.1711654663,\n",
       "  6.5740938187,\n",
       "  3.5697882175,\n",
       "  16.1133403778,\n",
       "  20.7444152832,\n",
       "  21.5380649567,\n",
       "  43.0393104553,\n",
       "  36.9104766846,\n",
       "  56.8142738342,\n",
       "  7.551003933,\n",
       "  -23.8829097748,\n",
       "  27.2575149536,\n",
       "  -13.3251895905,\n",
       "  46.0556716919,\n",
       "  -8.8296489716,\n",
       "  32.0534477234,\n",
       "  38.7113990784,\n",
       "  4.4405245781,\n",
       "  16.4714622498,\n",
       "  32.4997329712,\n",
       "  5.7697887421,\n",
       "  31.2860584259,\n",
       "  21.0593395233,\n",
       "  -16.1890506744,\n",
       "  47.0971641541,\n",
       "  13.8370857239,\n",
       "  12.1399393082,\n",
       "  -28.8089542389,\n",
       "  40.2195129395,\n",
       "  5.2750349045,\n",
       "  12.9201879501,\n",
       "  29.0301017761,\n",
       "  13.5001993179,\n",
       "  18.2408409119,\n",
       "  -6.2586259842,\n",
       "  -4.8202896118,\n",
       "  -16.100692749,\n",
       "  -41.0125961304,\n",
       "  13.862701416,\n",
       "  10.0767583847,\n",
       "  -8.0628490448,\n",
       "  20.2818126678,\n",
       "  34.9021606445,\n",
       "  7.9166007042,\n",
       "  27.2079772949,\n",
       "  28.7732543945,\n",
       "  -7.3864545822,\n",
       "  19.9568195343,\n",
       "  34.7172737122,\n",
       "  -33.1720619202,\n",
       "  -19.110704422,\n",
       "  32.1723213196,\n",
       "  38.0287590027,\n",
       "  -9.8275957108,\n",
       "  13.1371974945,\n",
       "  30.5982379913,\n",
       "  8.1214580536,\n",
       "  -15.9168720245,\n",
       "  17.9910030365,\n",
       "  15.7938499451,\n",
       "  42.6491928101,\n",
       "  18.7714443207,\n",
       "  -5.5088639259,\n",
       "  29.6823158264,\n",
       "  19.4710140228,\n",
       "  2.9267947674,\n",
       "  20.6165065765,\n",
       "  -26.0660018921,\n",
       "  7.7828259468,\n",
       "  16.3920650482,\n",
       "  22.2106800079,\n",
       "  25.7287940979,\n",
       "  17.187046051,\n",
       "  25.5480670929,\n",
       "  10.925412178,\n",
       "  -22.3590145111,\n",
       "  37.0499801636,\n",
       "  30.0390167236,\n",
       "  -5.9459195137,\n",
       "  -15.2392053604,\n",
       "  39.6629104614,\n",
       "  2.4839038849,\n",
       "  8.5783634186,\n",
       "  -40.7138824463,\n",
       "  41.4962005615,\n",
       "  13.6202287674,\n",
       "  3.2846739292,\n",
       "  -28.4881954193,\n",
       "  -1.5595188141,\n",
       "  29.711774826,\n",
       "  15.7199211121,\n",
       "  36.8963165283,\n",
       "  18.6602401733,\n",
       "  -14.6652793884,\n",
       "  1.1472922564,\n",
       "  18.9490070343,\n",
       "  11.4550657272,\n",
       "  12.6966218948,\n",
       "  55.2285842896,\n",
       "  31.5875892639,\n",
       "  -17.2515792847,\n",
       "  -14.8074026108,\n",
       "  41.2518806458,\n",
       "  -4.8361740112,\n",
       "  18.3965034485,\n",
       "  38.8978271484,\n",
       "  20.6785907745,\n",
       "  23.4058418274,\n",
       "  16.1870727539,\n",
       "  19.8455600739,\n",
       "  12.867521286,\n",
       "  -10.9988327026,\n",
       "  -19.7917690277,\n",
       "  -23.1201076508,\n",
       "  17.4034404755,\n",
       "  -19.5324478149,\n",
       "  5.9872097969,\n",
       "  -11.3828697205,\n",
       "  -34.6640777588,\n",
       "  48.6684074402],\n",
       " 'phone_sequence': 'ð ɪ s ɪ z ð ə l æ m oː æ n m aɪ n eɪ m ɪ z ʃ ə m aɪ ə æ n ɐ p j uː ɛ z w ʌ n ʌ s t iː h aɪ w ɛ n t f ɹ ʌ m b eɪ'}"
      ]
     },
     "execution_count": 41,
     "metadata": {},
     "output_type": "execute_result"
    }
   ],
   "source": [
    "merged_dataset[0]"
   ]
  },
  {
   "cell_type": "code",
   "execution_count": null,
   "metadata": {},
   "outputs": [],
   "source": []
  }
 ],
 "metadata": {
  "kernelspec": {
   "display_name": "accent_bias",
   "language": "python",
   "name": "python3"
  },
  "language_info": {
   "codemirror_mode": {
    "name": "ipython",
    "version": 3
   },
   "file_extension": ".py",
   "mimetype": "text/x-python",
   "name": "python",
   "nbconvert_exporter": "python",
   "pygments_lexer": "ipython3",
   "version": "3.12.7"
  }
 },
 "nbformat": 4,
 "nbformat_minor": 2
}
