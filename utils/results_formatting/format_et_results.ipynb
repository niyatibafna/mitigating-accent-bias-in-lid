{
 "cells": [
  {
   "cell_type": "code",
   "execution_count": null,
   "metadata": {},
   "outputs": [],
   "source": [
    "path = \"/home/hltcoe/nbafna/projects/mitigating-accent-bias-in-lid/prelim_evals/preds/cv_from_hf_predictions/\""
   ]
  },
  {
   "cell_type": "code",
   "execution_count": 1,
   "metadata": {},
   "outputs": [
    {
     "name": "stdout",
     "output_type": "stream",
     "text": [
      "Processing fleurs_test\n",
      "Processing af_predictions.pkl\n",
      "Length of preds: 417\n",
      "Processing ar_predictions.pkl\n",
      "Length of preds: 566\n",
      "Processing am_predictions.pkl\n",
      "Length of preds: 710\n",
      "Processing bg_predictions.pkl\n",
      "Length of preds: 802\n",
      "Processing az_predictions.pkl\n",
      "Length of preds: 1491\n",
      "Processing as_predictions.pkl\n",
      "Length of preds: 1594\n",
      "Processing cs_predictions.pkl\n",
      "Length of preds: 1120\n",
      "Processing bn_predictions.pkl\n",
      "Length of preds: 1609\n",
      "Processing ceb_predictions.pkl\n",
      "Length of preds: 1055\n",
      "Processing be_predictions.pkl\n",
      "Length of preds: 1947\n",
      "Processing bs_predictions.pkl\n",
      "Length of preds: 1431\n",
      "Processing ca_predictions.pkl\n",
      "Length of preds: 1410\n",
      "Processing el_predictions.pkl\n",
      "Length of preds: 823\n",
      "Processing en_predictions.pkl\n",
      "Length of preds: 747\n",
      "Processing da_predictions.pkl\n",
      "Length of preds: 1323\n",
      "Processing de_predictions.pkl\n",
      "Length of preds: 1460\n",
      "Processing cy_predictions.pkl\n",
      "Length of preds: 2065\n",
      "Processing es_predictions.pkl\n",
      "Length of preds: 1397\n",
      "Processing et_predictions.pkl\n",
      "Length of preds: 1335\n",
      "Processing fr_predictions.pkl\n",
      "Length of preds: 825\n",
      "Processing fa_predictions.pkl\n",
      "Length of preds: 1770\n",
      "Processing fi_predictions.pkl\n",
      "Length of preds: 1518\n",
      "Processing gl_predictions.pkl\n",
      "Length of preds: 1119\n",
      "Processing hi_predictions.pkl\n",
      "Length of preds: 621\n",
      "Processing gu_predictions.pkl\n",
      "Length of preds: 1259\n",
      "Processing is_predictions.pkl\n",
      "Length of preds: 84\n",
      "Processing hr_predictions.pkl\n",
      "Length of preds: 1092\n",
      "Processing ha_predictions.pkl\n",
      "Length of preds: 1700\n",
      "Processing hy_predictions.pkl\n",
      "Length of preds: 1343\n",
      "Processing hu_predictions.pkl\n",
      "Length of preds: 1412\n",
      "Processing id_predictions.pkl\n",
      "Length of preds: 1085\n",
      "Processing ja_predictions.pkl\n",
      "Length of preds: 1090\n",
      "Processing it_predictions.pkl\n",
      "Length of preds: 1673\n",
      "Processing ko_predictions.pkl\n",
      "Length of preds: 621\n",
      "Processing ka_predictions.pkl\n",
      "Length of preds: 1364\n",
      "Processing kn_predictions.pkl\n",
      "Length of preds: 1476\n",
      "Processing kk_predictions.pkl\n",
      "Length of preds: 1876\n",
      "Processing lo_predictions.pkl\n",
      "Length of preds: 643\n",
      "Processing km_predictions.pkl\n",
      "Length of preds: 1508\n",
      "Processing lb_predictions.pkl\n",
      "Length of preds: 1185\n",
      "Processing lv_predictions.pkl\n",
      "Length of preds: 1285\n",
      "Processing ln_predictions.pkl\n",
      "Length of preds: 1316\n",
      "Processing lt_predictions.pkl\n",
      "Length of preds: 1297\n",
      "Processing mk_predictions.pkl\n",
      "Length of preds: 1460\n",
      "Processing ms_predictions.pkl\n",
      "Length of preds: 991\n",
      "Processing mn_predictions.pkl\n",
      "Length of preds: 1256\n",
      "Processing ml_predictions.pkl\n",
      "Length of preds: 1870\n",
      "Processing mr_predictions.pkl\n",
      "Length of preds: 1805\n",
      "Processing nl_predictions.pkl\n",
      "Length of preds: 398\n",
      "Processing mt_predictions.pkl\n",
      "Length of preds: 1666\n",
      "Processing ne_predictions.pkl\n",
      "Length of preds: 1008\n",
      "Processing mi_predictions.pkl\n",
      "Length of preds: 2991\n",
      "Processing my_predictions.pkl\n",
      "Length of preds: 1867\n",
      "Processing ps_predictions.pkl\n",
      "Length of preds: 813\n",
      "Processing pa_predictions.pkl\n",
      "Length of preds: 824\n",
      "Processing pl_predictions.pkl\n",
      "Length of preds: 865\n",
      "Processing ru_predictions.pkl\n",
      "Length of preds: 1125\n",
      "Processing ro_predictions.pkl\n",
      "Length of preds: 1087\n",
      "Processing pt_predictions.pkl\n",
      "Length of preds: 1476\n",
      "Processing sl_predictions.pkl\n",
      "Length of preds: 973\n",
      "Processing oc_predictions.pkl\n",
      "Length of preds: 2210\n",
      "Processing sk_predictions.pkl\n",
      "Length of preds: 1184\n",
      "Processing sd_predictions.pkl\n",
      "Length of preds: 1486\n",
      "Processing sn_predictions.pkl\n",
      "Length of preds: 1821\n",
      "Processing sr_predictions.pkl\n",
      "Length of preds: 925\n",
      "Processing te_predictions.pkl\n",
      "Length of preds: 642\n",
      "Processing sw_predictions.pkl\n",
      "Length of preds: 913\n",
      "Processing sv_predictions.pkl\n",
      "Length of preds: 1023\n",
      "Processing ta_predictions.pkl\n",
      "Length of preds: 987\n",
      "Processing so_predictions.pkl\n",
      "Length of preds: 1857\n",
      "Processing tg_predictions.pkl\n",
      "Length of preds: 1154\n",
      "Processing ur_predictions.pkl\n",
      "Length of preds: 349\n",
      "Processing th_predictions.pkl\n",
      "Length of preds: 1533\n",
      "Processing uk_predictions.pkl\n",
      "Length of preds: 994\n",
      "Processing tr_predictions.pkl\n",
      "Length of preds: 1196\n",
      "Processing uz_predictions.pkl\n",
      "Length of preds: 1296\n",
      "Processing vi_predictions.pkl\n",
      "Length of preds: 1370\n",
      "Processing yo_predictions.pkl\n",
      "Length of preds: 1848\n"
     ]
    }
   ],
   "source": [
    "import os, sys\n",
    "import pickle as pkl\n",
    "\n",
    "# eval_dirs = [\"cv_from_hf\", \"cv\", \"edacc\", \"nistlre\", \"fleurs_test\"]\n",
    "eval_dirs = [\"fleurs_test\"]\n",
    "\n",
    "for dataset_name in eval_dirs:\n",
    "    print(f\"Processing {dataset_name}\")\n",
    "\n",
    "    dataset_path = f\"/home/hltcoe/nbafna/projects/mitigating-accent-bias-in-lid/prelim_evals/pred_new/{dataset_name}_predictions/\"\n",
    "\n",
    "    preds = []\n",
    "    accents = []\n",
    "    labels = []\n",
    "    audio_files = []\n",
    "\n",
    "    for file in os.listdir(dataset_path):\n",
    "        # if \"it_\" in file and dataset_name == \"cv_from_hf\":\n",
    "        #     continue\n",
    "\n",
    "        with open(os.path.join(dataset_path, file), \"rb\") as f:\n",
    "            print(f\"Processing {file}\")\n",
    "            data = pkl.load(f)\n",
    "            print(f\"Length of preds: {len(data[\"preds\"])}\")\n",
    "            preds.extend(data[\"preds\"])\n",
    "            accents.extend(data[\"accents\"])\n",
    "            labels.extend(data[\"labels\"])\n",
    "            audio_files.extend(data[\"audio_files\"])\n",
    "\n",
    "    output_path = \"/home/hltcoe/nbafna/projects/mitigating-accent-bias-in-lid/prelim_evals/preds/formatted/\"\n",
    "    with open(os.path.join(output_path, f\"{dataset_name}_predictions.pkl\"), \"wb\") as f:\n",
    "        pkl.dump({\"preds\": preds, \"accents\": accents, \"labels\": labels, \"audio_files\": audio_files}, f)"
   ]
  },
  {
   "cell_type": "code",
   "execution_count": 14,
   "metadata": {},
   "outputs": [],
   "source": [
    "dataset_name = \"/home/hltcoe/nbafna/projects/mitigating-accent-bias-in-lid/prelim_evals/pred_new/cv_from_hf_predictions/es_predictions.pkl\"\n",
    "with open(dataset_name, \"rb\") as f:\n",
    "    data = pkl.load(f)\n"
   ]
  },
  {
   "cell_type": "code",
   "execution_count": 15,
   "metadata": {},
   "outputs": [
    {
     "data": {
      "text/plain": [
       "(2002, 2002, 2002, 2002)"
      ]
     },
     "execution_count": 15,
     "metadata": {},
     "output_type": "execute_result"
    }
   ],
   "source": [
    "len(data[\"preds\"]), len(data[\"accents\"]), len(data[\"labels\"]), len(data[\"audio_files\"])\n"
   ]
  },
  {
   "cell_type": "code",
   "execution_count": 9,
   "metadata": {},
   "outputs": [],
   "source": [
    "with open(os.path.join(\"/home/hltcoe/nbafna/projects/mitigating-accent-bias-in-lid/prelim_evals/preds/cv_from_hf_predictions/\", \"es_predictions.pkl\"), \"rb\") as f:\n",
    "    data = pkl.load(f)"
   ]
  },
  {
   "cell_type": "code",
   "execution_count": 32,
   "metadata": {},
   "outputs": [],
   "source": [
    "f = \"/home/hltcoe/nbafna/projects/mitigating-accent-bias-in-lid/prelim_evals/preds/formatted/edacc_predictions.pkl\"\n",
    "# f = \"/exp/nbafna/projects/mitigating-accent-bias-in-lid/reps-phoneseq_exps/vl107/ecapa-tdnn_wav2vec2-xlsr-53-espeak-cv-ft/attentions-linear-8/reps-phoneseq_lid_model_outputs/cv_predictions.pkl\"\n",
    "with open(f, \"rb\") as f:\n",
    "    data = pkl.load(f)\n",
    "\n",
    "\n"
   ]
  },
  {
   "cell_type": "code",
   "execution_count": 33,
   "metadata": {},
   "outputs": [
    {
     "data": {
      "text/plain": [
       "['EDACC-C08',\n",
       " 'EDACC-C08',\n",
       " 'EDACC-C08',\n",
       " 'EDACC-C08',\n",
       " 'EDACC-C08',\n",
       " 'EDACC-C08',\n",
       " 'EDACC-C08',\n",
       " 'EDACC-C08',\n",
       " 'EDACC-C08',\n",
       " 'EDACC-C08']"
      ]
     },
     "execution_count": 33,
     "metadata": {},
     "output_type": "execute_result"
    }
   ],
   "source": [
    "data[\"audio_files\"][:10]"
   ]
  },
  {
   "cell_type": "code",
   "execution_count": 12,
   "metadata": {},
   "outputs": [],
   "source": [
    "from datasets import load_from_disk\n",
    "dataset_file = \"/exp/nbafna/data/commonvoice/accented_data/it/it_accented_samples-5k\"\n",
    "lang_dataset = load_from_disk(dataset_file)"
   ]
  },
  {
   "cell_type": "code",
   "execution_count": null,
   "metadata": {},
   "outputs": [],
   "source": []
  }
 ],
 "metadata": {
  "kernelspec": {
   "display_name": "accent_bias",
   "language": "python",
   "name": "python3"
  },
  "language_info": {
   "codemirror_mode": {
    "name": "ipython",
    "version": 3
   },
   "file_extension": ".py",
   "mimetype": "text/x-python",
   "name": "python",
   "nbconvert_exporter": "python",
   "pygments_lexer": "ipython3",
   "version": "3.12.7"
  }
 },
 "nbformat": 4,
 "nbformat_minor": 2
}
